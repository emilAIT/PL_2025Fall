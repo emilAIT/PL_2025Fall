{
 "cells": [
  {
   "cell_type": "code",
   "execution_count": 1,
   "metadata": {},
   "outputs": [],
   "source": [
    "a = 10"
   ]
  },
  {
   "cell_type": "code",
   "execution_count": 3,
   "metadata": {},
   "outputs": [
    {
     "name": "stdout",
     "output_type": "stream",
     "text": [
      "a =  10\n"
     ]
    }
   ],
   "source": [
    "print('a = ', a)"
   ]
  },
  {
   "cell_type": "code",
   "execution_count": 4,
   "metadata": {},
   "outputs": [],
   "source": [
    "b = a"
   ]
  },
  {
   "cell_type": "code",
   "execution_count": 6,
   "metadata": {},
   "outputs": [
    {
     "name": "stdout",
     "output_type": "stream",
     "text": [
      "value of a is  10\n"
     ]
    }
   ],
   "source": [
    "a = 10\n",
    "b = a\n",
    "b = 20\n",
    "print('value of a is ', a)"
   ]
  },
  {
   "cell_type": "code",
   "execution_count": 7,
   "metadata": {},
   "outputs": [],
   "source": [
    "c = a + b"
   ]
  },
  {
   "cell_type": "code",
   "execution_count": 8,
   "metadata": {},
   "outputs": [
    {
     "name": "stdout",
     "output_type": "stream",
     "text": [
      "30\n"
     ]
    }
   ],
   "source": [
    "print(c)"
   ]
  },
  {
   "cell_type": "code",
   "execution_count": 9,
   "metadata": {},
   "outputs": [
    {
     "name": "stdout",
     "output_type": "stream",
     "text": [
      "30\n"
     ]
    }
   ],
   "source": [
    "c = 100\n",
    "print(a+b)"
   ]
  },
  {
   "cell_type": "code",
   "execution_count": 10,
   "metadata": {},
   "outputs": [
    {
     "data": {
      "text/plain": [
       "int"
      ]
     },
     "execution_count": 10,
     "metadata": {},
     "output_type": "execute_result"
    }
   ],
   "source": [
    "type(a)"
   ]
  },
  {
   "cell_type": "code",
   "execution_count": 11,
   "metadata": {},
   "outputs": [],
   "source": [
    "a = 'emil'"
   ]
  },
  {
   "cell_type": "code",
   "execution_count": 12,
   "metadata": {},
   "outputs": [
    {
     "name": "stdout",
     "output_type": "stream",
     "text": [
      "emil\n"
     ]
    }
   ],
   "source": [
    "print(a)"
   ]
  },
  {
   "cell_type": "code",
   "execution_count": 13,
   "metadata": {},
   "outputs": [
    {
     "data": {
      "text/plain": [
       "str"
      ]
     },
     "execution_count": 13,
     "metadata": {},
     "output_type": "execute_result"
    }
   ],
   "source": [
    "type(a)"
   ]
  },
  {
   "cell_type": "code",
   "execution_count": 14,
   "metadata": {},
   "outputs": [],
   "source": [
    "a = [10, 20]"
   ]
  },
  {
   "cell_type": "code",
   "execution_count": 15,
   "metadata": {},
   "outputs": [
    {
     "name": "stdout",
     "output_type": "stream",
     "text": [
      "[10, 20]\n"
     ]
    }
   ],
   "source": [
    "print(a)"
   ]
  },
  {
   "cell_type": "code",
   "execution_count": 19,
   "metadata": {},
   "outputs": [
    {
     "data": {
      "text/plain": [
       "30"
      ]
     },
     "execution_count": 19,
     "metadata": {},
     "output_type": "execute_result"
    }
   ],
   "source": [
    "a[1] + a[0]"
   ]
  },
  {
   "cell_type": "code",
   "execution_count": 20,
   "metadata": {},
   "outputs": [],
   "source": [
    "b = a"
   ]
  },
  {
   "cell_type": "code",
   "execution_count": 1,
   "metadata": {},
   "outputs": [
    {
     "ename": "TypeError",
     "evalue": "unsupported operand type(s) for +: 'int' and 'list'",
     "output_type": "error",
     "traceback": [
      "\u001b[1;31m---------------------------------------------------------------------------\u001b[0m",
      "\u001b[1;31mTypeError\u001b[0m                                 Traceback (most recent call last)",
      "Cell \u001b[1;32mIn[1], line 6\u001b[0m\n\u001b[0;32m      4\u001b[0m a \u001b[38;5;241m=\u001b[39m \u001b[38;5;241m50\u001b[39m\n\u001b[0;32m      5\u001b[0m c \u001b[38;5;241m=\u001b[39m b[\u001b[38;5;241m0\u001b[39m]\n\u001b[1;32m----> 6\u001b[0m \u001b[43mc\u001b[49m\u001b[43m \u001b[49m\u001b[38;5;241;43m+\u001b[39;49m\u001b[43m \u001b[49m\u001b[43mb\u001b[49m\n",
      "\u001b[1;31mTypeError\u001b[0m: unsupported operand type(s) for +: 'int' and 'list'"
     ]
    }
   ],
   "source": [
    "c = 100\n",
    "a = [10, 40, 70]\n",
    "b = a\n",
    "a = 50\n",
    "c = b[0]\n",
    "c + b"
   ]
  },
  {
   "cell_type": "code",
   "execution_count": null,
   "metadata": {},
   "outputs": [
    {
     "ename": "TypeError",
     "evalue": "'int' object is not iterable",
     "output_type": "error",
     "traceback": [
      "\u001b[1;31m---------------------------------------------------------------------------\u001b[0m",
      "\u001b[1;31mTypeError\u001b[0m                                 Traceback (most recent call last)",
      "Cell \u001b[1;32mIn[3], line 5\u001b[0m\n\u001b[0;32m      1\u001b[0m \u001b[38;5;28;01mdef\u001b[39;00m \u001b[38;5;21mmysum\u001b[39m(x, y):\n\u001b[0;32m      2\u001b[0m     \u001b[38;5;28;01mreturn\u001b[39;00m \u001b[38;5;28msum\u001b[39m([x] \u001b[38;5;241m+\u001b[39m y)\n\u001b[1;32m----> 5\u001b[0m \u001b[38;5;28;43msum\u001b[39;49m\u001b[43m(\u001b[49m\u001b[43mc\u001b[49m\u001b[43m,\u001b[49m\u001b[43m \u001b[49m\u001b[43mb\u001b[49m\u001b[43m)\u001b[49m\n",
      "\u001b[1;31mTypeError\u001b[0m: 'int' object is not iterable"
     ]
    }
   ],
   "source": [
    "def aitsum(x, y):\n",
    "    return sum([x] + y)\n",
    "\n",
    "\n",
    "aitsum(c, b)"
   ]
  },
  {
   "cell_type": "code",
   "execution_count": 5,
   "metadata": {},
   "outputs": [
    {
     "data": {
      "text/plain": [
       "[1, 2, 3, 5]"
      ]
     },
     "execution_count": 5,
     "metadata": {},
     "output_type": "execute_result"
    }
   ],
   "source": [
    "[1]+ [2, 3, 5]"
   ]
  },
  {
   "cell_type": "code",
   "execution_count": 6,
   "metadata": {},
   "outputs": [
    {
     "name": "stdout",
     "output_type": "stream",
     "text": [
      "9\n"
     ]
    }
   ],
   "source": [
    "a = [6, 7, 9, 8, 10]\n",
    "print(a[2])"
   ]
  },
  {
   "cell_type": "code",
   "execution_count": 7,
   "metadata": {},
   "outputs": [
    {
     "name": "stdout",
     "output_type": "stream",
     "text": [
      "[6, 7, 9, 100, 10]\n"
     ]
    }
   ],
   "source": [
    "a[3] = 100\n",
    "print(a)"
   ]
  },
  {
   "cell_type": "code",
   "execution_count": 10,
   "metadata": {},
   "outputs": [
    {
     "name": "stdout",
     "output_type": "stream",
     "text": [
      "[20] [1, 2, 3] [1, 2, 3]\n"
     ]
    }
   ],
   "source": [
    "a = [1, 2, 3]\n",
    "b = a\n",
    "c = b\n",
    "a = [20]\n",
    "print(a, b, c)"
   ]
  },
  {
   "cell_type": "code",
   "execution_count": 11,
   "metadata": {},
   "outputs": [
    {
     "data": {
      "text/plain": [
       "[20, 1, 2, 3, 1, 2, 3]"
      ]
     },
     "execution_count": 11,
     "metadata": {},
     "output_type": "execute_result"
    }
   ],
   "source": [
    "a + b + c"
   ]
  },
  {
   "cell_type": "code",
   "execution_count": 53,
   "metadata": {},
   "outputs": [
    {
     "data": {
      "text/plain": [
       "68"
      ]
     },
     "execution_count": 53,
     "metadata": {},
     "output_type": "execute_result"
    }
   ],
   "source": [
    "from random import shuffle\n",
    "\n",
    "s = '''Абдралиев Белек Маратович\n",
    "Абдуллаев Ийгилик Эльбурсович\n",
    "Айтматов Байэл Бактыбекович\n",
    "Асанбек уула Чынгыз\n",
    "Асанов Искендер Асанович\n",
    "Аскаров Арсен Анарбаевич\n",
    "Байтемиров Искендер Бекмуратович\n",
    "Баитиков Адел\n",
    "Бакытбеков Роман Талантович\n",
    "Бекбосунова Айша Болотовна\n",
    "Бекенова Аяна\n",
    "Бектемиров Ибрахимбек Максадбекович\n",
    "Бердибаева Нурай Нурбековна\n",
    "Болотбек уулу Эржан\n",
    "Волгин Даниэль Максимович\n",
    "Гулжигитов Дайырбек Мухаммедович\n",
    "Джутанкеева Мээрим Тамерлановна\n",
    "Душобаев Вилдан Гайратбекович\n",
    "Жавдедова Назик Рустамовна\n",
    "Жаныбекова Бегимай Жаныбековна\n",
    "Жолдубаев Эмил Аресович\n",
    "Жумаев Абдунур Нурбекович\n",
    "Жыргалбек уулу Эрбол\n",
    "Зиялиева Саадат Кадырбековна\n",
    "Исмаилова Алтынай Нурбековна\n",
    "Кадыракунова Аделя Эрнистовна\n",
    "Канатбеков Ажо Канатбекович\n",
    "Каримова Айбийке Азаматовна\n",
    "Керимов Акбар Айбекович\n",
    "Ким Жихён\n",
    "Краснов Ильхан Даниярович\n",
    "Кубанычбеков Эмир Арсланович\n",
    "Курманова Бегайым Курмановна\n",
    "Кусеинов Элдар Жээнбекович\n",
    "Куттугалиева Зарылкан Бекболотовна\n",
    "Кыдыкбекова Айпери Бахтияровна\n",
    "Кыдыралиев Жанболот Тойчуевич\n",
    "Маматалиев Нурболот \n",
    "Маматжанова Эленора Мирланбековна\n",
    "Маматзундуев Бекбол Назбекович\n",
    "Марсел\n",
    "Надирбеков Абдусамат\n",
    "Назарбаев Нурсултан Женишбекович\n",
    "Нуралиева Асель Акжоловна\n",
    "Омурбекова Мирана Азизбековна\n",
    "Ормушов Темирлан Арстанбекович\n",
    "Орунбаев Байжан Омурбекович\n",
    "Рахматылло уулу Касымбек Сухрабович\n",
    "Солтобеков Амин Бектурович\n",
    "Сыдгали уулу Жаныбек\n",
    "Таалайбеков Баястан Талайбекович\n",
    "Тагаева Рахат Арапшаевна\n",
    "Ташбай уулу Даниэл\n",
    "Торокулов Айман Талайбекович\n",
    "Хусанбаева Диляфруз Азимжоновна\n",
    "Шукуралиев Нурдан Даниярович\n",
    "Элчиев Ясир Жыргалбекович\n",
    "Эркибаев Нурбек Алмазович\n",
    "Калматов Азиз Кылычбекович\n",
    "Жапаров Шердос \n",
    "Аширалиев Аман\n",
    "Eldiyar\n",
    "Asylkan\n",
    "Kutman\n",
    "Diaz\n",
    "Shergazy\n",
    "Akylbek Zamirov\n",
    "'''\n",
    "s = s.split('\\n')\n",
    "len(s)"
   ]
  },
  {
   "cell_type": "code",
   "execution_count": 19,
   "metadata": {},
   "outputs": [
    {
     "name": "stdout",
     "output_type": "stream",
     "text": [
      "1 Жумаев Абдунур Нурбекович\n",
      "2 Надирбеков Абдусамат\n",
      "3 Нуралиева Асель Акжоловна\n",
      "4 Маматжанова Эленора Мирланбековна\n",
      "5 Тагаева Рахат Арапшаевна\n",
      "6 Жапаров Шердос \n",
      "7 Элчиев Ясир Жыргалбекович\n",
      "8 Кадыракунова Аделя Эрнистовна\n",
      "9 Марсел\n",
      "10 Байтемиров Искендер Бекмуратович\n",
      "11 Джутанкеева Мээрим Тамерлановна\n",
      "12 Душобаев Вилдан Гайратбекович\n",
      "13 Гулжигитов Дайырбек Мухаммедович\n",
      "14 Asylkan\n",
      "15 Омурбекова Мирана Азизбековна\n",
      "16 Бакытбеков Роман Талантович\n",
      "17 Akylbek Zamirov\n",
      "18 Маматалиев Нурболот \n",
      "19 Каримова Айбийке Азаматовна\n",
      "20 Жолдубаев Эмил Аресович\n",
      "21 Абдуллаев Ийгилик Эльбурсович\n",
      "22 Бектемиров Ибрахимбек Максадбекович\n",
      "23 Кыдыкбекова Айпери Бахтияровна\n",
      "24 Краснов Ильхан Даниярович\n",
      "25 Канатбеков Ажо Канатбекович\n",
      "26 Жыргалбек уулу Эрбол\n",
      "27 Аширалиев Аман\n",
      "28 Ормушов Темирлан Арстанбекович\n",
      "29 Kutman\n",
      "30 Исмаилова Алтынай Нурбековна\n",
      "31 Асанбек уула Чынгыз\n",
      "32 Куттугалиева Зарылкан Бекболотовна\n",
      "33 Shergazy\n",
      "34 Шукуралиев Нурдан Даниярович\n",
      "35 Маматзундуев Бекбол Назбекович\n",
      "36 Волгин Даниэль Максимович\n",
      "37 Сыдгали уулу Жаныбек\n",
      "38 Хусанбаева Диляфруз Азимжоновна\n",
      "39 Торокулов Айман Талайбекович\n",
      "40 Ташбай уулу Даниэл\n",
      "41 Бердибаева Нурай Нурбековна\n",
      "42 Diaz\n",
      "43 Жавдедова Назик Рустамовна\n",
      "44 Кыдыралиев Жанболот Тойчуевич\n",
      "45 Кубанычбеков Эмир Арсланович\n",
      "46 Орунбаев Байжан Омурбекович\n",
      "47 Таалайбеков Баястан Талайбекович\n",
      "48 Айтматов Байэл Бактыбекович\n",
      "49 Эркибаев Нурбек Алмазович\n",
      "50 Назарбаев Нурсултан Женишбекович\n",
      "51 Eldiyar\n",
      "52 Ким Жихён\n",
      "53 Баитиков Адел\n",
      "54 Керимов Акбар Айбекович\n",
      "55 Рахматылло уулу Касымбек Сухрабович\n",
      "56 Кусеинов Элдар Жээнбекович\n",
      "57 Калматов Азиз Кылычбекович\n",
      "58 Болотбек уулу Эржан\n",
      "59 Аскаров Арсен Анарбаевич\n",
      "60 Курманова Бегайым Курмановна\n",
      "61 Асанов Искендер Асанович\n",
      "62 Зиялиева Саадат Кадырбековна\n",
      "63 Бекенова Аяна\n",
      "64 Солтобеков Амин Бектурович\n",
      "65 Бекбосунова Айша Болотовна\n",
      "66 \n",
      "67 Жаныбекова Бегимай Жаныбековна\n",
      "68 Абдралиев Белек Маратович\n"
     ]
    }
   ],
   "source": [
    "shuffle(s)\n",
    "for i, name in enumerate(s):\n",
    "    print(i+1, name)"
   ]
  },
  {
   "cell_type": "code",
   "execution_count": null,
   "metadata": {},
   "outputs": [],
   "source": [
    "grade = 75\n",
    "\n",
    "if grade > 50:\n",
    "    print('you have passes this class')\n",
    "    print('congrats')\n",
    "    print('you dont need to take this class again')\n",
    "else:\n",
    "    "
   ]
  },
  {
   "cell_type": "code",
   "execution_count": 58,
   "metadata": {},
   "outputs": [
    {
     "name": "stdout",
     "output_type": "stream",
     "text": [
      "idem v park, stoimost = 250\n",
      "v kino ne idem\n",
      "v kafe ne idem\n",
      "kaldik =  250\n"
     ]
    }
   ],
   "source": [
    "pogoda = input('How is the weather outside: ')\n",
    "balance = 500\n",
    "\n",
    "if pogoda == 'rainy':\n",
    "    print('park ne idem')\n",
    "    print('idem v kino, sotimost = 500')\n",
    "    balance = balance - 500\n",
    "\n",
    "elif pogoda == 'sunny':\n",
    "    print('v kino ne idem')\n",
    "    print('v kafe idem, sotimost = 900')\n",
    "    balance = balance - 900\n",
    "\n",
    "elif pogoda == 'cloudy':\n",
    "    print('idem v park, stoimost = 250')\n",
    "    print('v kino ne idem')\n",
    "    print('v kafe ne idem')\n",
    "    balance = balance - 250\n",
    "\n",
    "else:\n",
    "    print('doma sidi dengi ne trat')\n",
    "\n",
    "print('kaldik = ', balance)"
   ]
  },
  {
   "cell_type": "code",
   "execution_count": 50,
   "metadata": {},
   "outputs": [
    {
     "name": "stdout",
     "output_type": "stream",
     "text": [
      "25 <class 'str'>\n"
     ]
    }
   ],
   "source": [
    "print(x, type(x))"
   ]
  },
  {
   "cell_type": "code",
   "execution_count": 51,
   "metadata": {},
   "outputs": [],
   "source": [
    "y = int(x)\n",
    "z = int(1.9999)"
   ]
  },
  {
   "cell_type": "code",
   "execution_count": 52,
   "metadata": {},
   "outputs": [
    {
     "data": {
      "text/plain": [
       "(int, str, 1, int)"
      ]
     },
     "execution_count": 52,
     "metadata": {},
     "output_type": "execute_result"
    }
   ],
   "source": [
    "type(y), type(x), z, type(z)"
   ]
  },
  {
   "cell_type": "code",
   "execution_count": 53,
   "metadata": {},
   "outputs": [],
   "source": [
    "from math import floor, ceil\n",
    "m = 1.99999\n",
    "m_priblijonniy = round(m)\n",
    "m_kichine = floor(m)\n",
    "m_chon = ceil(m)"
   ]
  },
  {
   "cell_type": "code",
   "execution_count": 54,
   "metadata": {},
   "outputs": [
    {
     "name": "stdout",
     "output_type": "stream",
     "text": [
      "1.99999 2 1 2\n"
     ]
    }
   ],
   "source": [
    "print(m, m_priblijonniy, m_kichine, m_chon)"
   ]
  },
  {
   "cell_type": "code",
   "execution_count": 55,
   "metadata": {},
   "outputs": [
    {
     "name": "stdout",
     "output_type": "stream",
     "text": [
      "tuura, x =  25\n"
     ]
    }
   ],
   "source": [
    "if int(x) == 25:\n",
    "    print(\"tuura, x = \", x)\n",
    "else:\n",
    "    print('tuura emes, x = ', x)"
   ]
  },
  {
   "cell_type": "code",
   "execution_count": 56,
   "metadata": {},
   "outputs": [
    {
     "ename": "ValueError",
     "evalue": "invalid literal for int() with base 10: 'k'",
     "output_type": "error",
     "traceback": [
      "\u001b[1;31m---------------------------------------------------------------------------\u001b[0m",
      "\u001b[1;31mValueError\u001b[0m                                Traceback (most recent call last)",
      "Cell \u001b[1;32mIn[56], line 1\u001b[0m\n\u001b[1;32m----> 1\u001b[0m x1 \u001b[38;5;241m=\u001b[39m \u001b[38;5;28;43mint\u001b[39;49m\u001b[43m(\u001b[49m\u001b[38;5;28;43minput\u001b[39;49m\u001b[43m(\u001b[49m\u001b[38;5;124;43m'\u001b[39;49m\u001b[38;5;124;43mznachenie\u001b[39;49m\u001b[38;5;124;43m'\u001b[39;49m\u001b[43m)\u001b[49m\u001b[43m)\u001b[49m\n\u001b[0;32m      2\u001b[0m \u001b[38;5;28mprint\u001b[39m(\u001b[38;5;28mtype\u001b[39m(x1), x1)\n",
      "\u001b[1;31mValueError\u001b[0m: invalid literal for int() with base 10: 'k'"
     ]
    }
   ],
   "source": [
    "x1 = int(input('znachenie'))\n",
    "print(type(x1), x1)"
   ]
  },
  {
   "cell_type": "code",
   "execution_count": 63,
   "metadata": {},
   "outputs": [
    {
     "name": "stdout",
     "output_type": "stream",
     "text": [
      "nurbolot = 800\n",
      "asel =  2000\n",
      "aibike =  1500\n",
      "mbank_kassa =  4300\n"
     ]
    }
   ],
   "source": [
    "nurbolot = 800\n",
    "aibike = 1500\n",
    "asel = 2000\n",
    "\n",
    "mbank_kassa = nurbolot + aibike + asel\n",
    "\n",
    "print('nurbolot =', nurbolot)\n",
    "print('asel = ', asel)\n",
    "print('aibike = ', aibike)\n",
    "print('mbank_kassa = ', mbank_kassa)"
   ]
  },
  {
   "cell_type": "code",
   "execution_count": 68,
   "metadata": {},
   "outputs": [
    {
     "ename": "ValueError",
     "evalue": "invalid literal for int() with base 10: 'emil'",
     "output_type": "error",
     "traceback": [
      "\u001b[1;31m---------------------------------------------------------------------------\u001b[0m",
      "\u001b[1;31mValueError\u001b[0m                                Traceback (most recent call last)",
      "Cell \u001b[1;32mIn[68], line 1\u001b[0m\n\u001b[1;32m----> 1\u001b[0m summa_perevod \u001b[38;5;241m=\u001b[39m \u001b[38;5;28;43mint\u001b[39;49m\u001b[43m(\u001b[49m\u001b[38;5;28;43minput\u001b[39;49m\u001b[43m(\u001b[49m\u001b[38;5;124;43m'\u001b[39;49m\u001b[38;5;124;43msumma perevoda:\u001b[39;49m\u001b[38;5;124;43m'\u001b[39;49m\u001b[43m)\u001b[49m\u001b[43m)\u001b[49m\n\u001b[0;32m      3\u001b[0m \u001b[38;5;28;01mif\u001b[39;00m \u001b[38;5;241m0\u001b[39m \u001b[38;5;241m<\u001b[39m\u001b[38;5;241m=\u001b[39m summa_perevod \u001b[38;5;241m<\u001b[39m\u001b[38;5;241m=\u001b[39m aibike:\n\u001b[0;32m      4\u001b[0m     aibike \u001b[38;5;241m=\u001b[39m aibike \u001b[38;5;241m-\u001b[39m summa_perevod\n",
      "\u001b[1;31mValueError\u001b[0m: invalid literal for int() with base 10: 'emil'"
     ]
    }
   ],
   "source": [
    "summa_perevod = int(input('summa perevoda:'))\n",
    "\n",
    "if 0 <= summa_perevod <= aibike:\n",
    "    aibike = aibike - summa_perevod\n",
    "    nurbolot = nurbolot + summa_perevod\n",
    "else:\n",
    "    print('ne dostachno sredstv')\n",
    "\n",
    "mbank_kassa = nurbolot + aibike + asel\n",
    "\n",
    "print('nurbolot =', nurbolot)\n",
    "print('asel = ', asel)\n",
    "print('aibike = ', aibike)\n",
    "print('mbank_kassa = ', mbank_kassa)"
   ]
  },
  {
   "cell_type": "code",
   "execution_count": 7,
   "metadata": {},
   "outputs": [
    {
     "name": "stdout",
     "output_type": "stream",
     "text": [
      "29\n",
      "58\n",
      "14\n",
      "61\n"
     ]
    }
   ],
   "source": [
    "from random import randint\n",
    "for i in range(4):\n",
    "    print(randint(1, 63))"
   ]
  },
  {
   "cell_type": "code",
   "execution_count": null,
   "metadata": {},
   "outputs": [
    {
     "data": {
      "text/plain": [
       "True"
      ]
     },
     "execution_count": 70,
     "metadata": {},
     "output_type": "execute_result"
    }
   ],
   "source": [
    "pogoda = 'sunny'\n",
    "pogoda == 'sunny' "
   ]
  },
  {
   "cell_type": "code",
   "execution_count": 75,
   "metadata": {},
   "outputs": [
    {
     "name": "stdout",
     "output_type": "stream",
     "text": [
      "incorrect\n"
     ]
    }
   ],
   "source": [
    "x = 10 \n",
    "y = 25\n",
    "\n",
    "if x*x - x*y + x*x*x/2 > y*y:\n",
    "    print('correct')\n",
    "else:\n",
    "    print('incorrect')"
   ]
  },
  {
   "cell_type": "code",
   "execution_count": 76,
   "metadata": {},
   "outputs": [
    {
     "data": {
      "text/plain": [
       "False"
      ]
     },
     "execution_count": 76,
     "metadata": {},
     "output_type": "execute_result"
    }
   ],
   "source": [
    "x*x - x*y + x*x*x/2 > y*y"
   ]
  },
  {
   "cell_type": "code",
   "execution_count": 77,
   "metadata": {},
   "outputs": [
    {
     "data": {
      "text/plain": [
       "True"
      ]
     },
     "execution_count": 77,
     "metadata": {},
     "output_type": "execute_result"
    }
   ],
   "source": [
    "True and True"
   ]
  },
  {
   "cell_type": "code",
   "execution_count": 78,
   "metadata": {},
   "outputs": [
    {
     "data": {
      "text/plain": [
       "False"
      ]
     },
     "execution_count": 78,
     "metadata": {},
     "output_type": "execute_result"
    }
   ],
   "source": [
    "True and False"
   ]
  },
  {
   "cell_type": "code",
   "execution_count": 79,
   "metadata": {},
   "outputs": [
    {
     "data": {
      "text/plain": [
       "False"
      ]
     },
     "execution_count": 79,
     "metadata": {},
     "output_type": "execute_result"
    }
   ],
   "source": [
    "False and True"
   ]
  },
  {
   "cell_type": "code",
   "execution_count": 80,
   "metadata": {},
   "outputs": [
    {
     "data": {
      "text/plain": [
       "False"
      ]
     },
     "execution_count": 80,
     "metadata": {},
     "output_type": "execute_result"
    }
   ],
   "source": [
    "False and False"
   ]
  },
  {
   "cell_type": "code",
   "execution_count": 81,
   "metadata": {},
   "outputs": [
    {
     "data": {
      "text/plain": [
       "True"
      ]
     },
     "execution_count": 81,
     "metadata": {},
     "output_type": "execute_result"
    }
   ],
   "source": [
    "True or True"
   ]
  },
  {
   "cell_type": "code",
   "execution_count": 82,
   "metadata": {},
   "outputs": [
    {
     "data": {
      "text/plain": [
       "True"
      ]
     },
     "execution_count": 82,
     "metadata": {},
     "output_type": "execute_result"
    }
   ],
   "source": [
    "True or False"
   ]
  },
  {
   "cell_type": "code",
   "execution_count": 83,
   "metadata": {},
   "outputs": [
    {
     "data": {
      "text/plain": [
       "True"
      ]
     },
     "execution_count": 83,
     "metadata": {},
     "output_type": "execute_result"
    }
   ],
   "source": [
    "False or True"
   ]
  },
  {
   "cell_type": "code",
   "execution_count": 84,
   "metadata": {},
   "outputs": [
    {
     "data": {
      "text/plain": [
       "False"
      ]
     },
     "execution_count": 84,
     "metadata": {},
     "output_type": "execute_result"
    }
   ],
   "source": [
    "False or False"
   ]
  },
  {
   "cell_type": "code",
   "execution_count": 88,
   "metadata": {},
   "outputs": [
    {
     "data": {
      "text/plain": [
       "True"
      ]
     },
     "execution_count": 88,
     "metadata": {},
     "output_type": "execute_result"
    }
   ],
   "source": [
    "((True and True) or False and True) and (False or True) and True"
   ]
  },
  {
   "cell_type": "code",
   "execution_count": 89,
   "metadata": {},
   "outputs": [
    {
     "name": "stdout",
     "output_type": "stream",
     "text": [
      "kino\n",
      "kino2\n",
      "pofig2\n"
     ]
    }
   ],
   "source": [
    "x = input('weather type')\n",
    "\n",
    "if x == 'sunny':\n",
    "    print('cafe')\n",
    "elif x == 'cloudy':\n",
    "    print('kino')\n",
    "elif x == 'rainy':\n",
    "    print('home')\n",
    "else:\n",
    "    print('pofig')\n",
    "\n",
    "\n",
    "if x == 'sunny':\n",
    "    print('cafe2')\n",
    "if x == 'cloudy':\n",
    "    print('kino2')\n",
    "if x == 'rainy':\n",
    "    print('home2')\n",
    "else:\n",
    "    print('pofig2')"
   ]
  },
  {
   "cell_type": "code",
   "execution_count": null,
   "metadata": {},
   "outputs": [
    {
     "name": "stdout",
     "output_type": "stream",
     "text": [
      "[54, 88, 69, 85, 98, 86, 100, 88, 71, 76, 53, 82, 64, 59]\n",
      "[53, 54, 59, 64, 69, 71, 76, 82, 85, 86, 88, 88, 98, 100]\n",
      "[59, 64, 69, 71, 76, 82, 85, 86, 88, 88, 98, 100]\n",
      "966\n",
      "12\n",
      "\n"
     ]
    }
   ],
   "source": [
    "from random import randint\n",
    "grades = [randint(50, 100) for i in range(14)]\n",
    "print(grades)\n",
    "s = sorted(grades)\n",
    "print(s)\n",
    "top_12 = s[-12:]\n",
    "print(top_12)\n",
    "s = sum(top_12)\n",
    "print(s)\n",
    "print(len(top_12))\n",
    "avg = s // len(top_12)\n",
    "\n"
   ]
  },
  {
   "cell_type": "code",
   "execution_count": 10,
   "metadata": {},
   "outputs": [
    {
     "name": "stdout",
     "output_type": "stream",
     "text": [
      "score =  80\n",
      "grade = C\n"
     ]
    }
   ],
   "source": [
    "print('score = ', avg)\n",
    "if avg < 0 or avg > 100:\n",
    "    print('error in grading')\n",
    "elif avg >= 93:\n",
    "    print('grade = A')\n",
    "elif avg >= 90:\n",
    "    print('grade = B+')\n",
    "elif avg >= 87:\n",
    "    print('grade = B')\n",
    "elif avg >= 84:\n",
    "    print('grade = B-')\n",
    "elif avg >= 81:\n",
    "    print('grade = C+')\n",
    "elif avg >= 78:\n",
    "    print('grade = C')\n",
    "elif avg >= 75:\n",
    "    print('grade = C-')\n",
    "elif avg >= 72:\n",
    "    print('grade = D+')\n",
    "elif avg >= 69:\n",
    "    print('grade = D')\n",
    "elif avg >= 66:\n",
    "    print('grade = D-')\n",
    "elif avg >= 63:\n",
    "    print('grade = F')\n",
    "else:\n",
    "    print('Failed the class')\n"
   ]
  },
  {
   "cell_type": "code",
   "execution_count": 11,
   "metadata": {},
   "outputs": [
    {
     "data": {
      "text/plain": [
       "3.3333333333333335"
      ]
     },
     "execution_count": 11,
     "metadata": {},
     "output_type": "execute_result"
    }
   ],
   "source": [
    "10 / 3"
   ]
  },
  {
   "cell_type": "code",
   "execution_count": 12,
   "metadata": {},
   "outputs": [
    {
     "data": {
      "text/plain": [
       "3"
      ]
     },
     "execution_count": 12,
     "metadata": {},
     "output_type": "execute_result"
    }
   ],
   "source": [
    "10 // 3"
   ]
  },
  {
   "cell_type": "code",
   "execution_count": 13,
   "metadata": {},
   "outputs": [
    {
     "name": "stdout",
     "output_type": "stream",
     "text": [
      "4\n"
     ]
    }
   ],
   "source": [
    "s = 'emil'\n",
    "print(len(s))"
   ]
  },
  {
   "cell_type": "code",
   "execution_count": 14,
   "metadata": {},
   "outputs": [
    {
     "name": "stdout",
     "output_type": "stream",
     "text": [
      "EmilAIT\n"
     ]
    }
   ],
   "source": [
    "s = 'Emil'\n",
    "b = 'AIT'\n",
    "print(s + b)"
   ]
  },
  {
   "cell_type": "code",
   "execution_count": 15,
   "metadata": {},
   "outputs": [
    {
     "name": "stdout",
     "output_type": "stream",
     "text": [
      "Emil AIT\n"
     ]
    }
   ],
   "source": [
    "print(s + ' ' + b)"
   ]
  },
  {
   "cell_type": "code",
   "execution_count": 16,
   "metadata": {},
   "outputs": [
    {
     "data": {
      "text/plain": [
       "'Emil AIT'"
      ]
     },
     "execution_count": 16,
     "metadata": {},
     "output_type": "execute_result"
    }
   ],
   "source": [
    "f'{s} {b}'"
   ]
  },
  {
   "cell_type": "code",
   "execution_count": 20,
   "metadata": {},
   "outputs": [
    {
     "data": {
      "text/plain": [
       "'False'"
      ]
     },
     "execution_count": 20,
     "metadata": {},
     "output_type": "execute_result"
    }
   ],
   "source": [
    "f\"{s+b < b}\""
   ]
  },
  {
   "cell_type": "code",
   "execution_count": 19,
   "metadata": {},
   "outputs": [
    {
     "data": {
      "text/plain": [
       "'{s+b} <-> {b}'"
      ]
     },
     "execution_count": 19,
     "metadata": {},
     "output_type": "execute_result"
    }
   ],
   "source": [
    "\"{s+b} <-> {b}\""
   ]
  },
  {
   "cell_type": "code",
   "execution_count": 21,
   "metadata": {},
   "outputs": [
    {
     "data": {
      "text/plain": [
       "(65, 101)"
      ]
     },
     "execution_count": 21,
     "metadata": {},
     "output_type": "execute_result"
    }
   ],
   "source": [
    "ord('A'), ord('e')"
   ]
  },
  {
   "cell_type": "code",
   "execution_count": null,
   "metadata": {},
   "outputs": [
    {
     "data": {
      "text/plain": [
       "True"
      ]
     },
     "execution_count": 28,
     "metadata": {},
     "output_type": "execute_result"
    }
   ],
   "source": [
    "'aaaazzz' < 'aazaaa'"
   ]
  },
  {
   "cell_type": "code",
   "execution_count": 29,
   "metadata": {},
   "outputs": [
    {
     "data": {
      "text/plain": [
       "False"
      ]
     },
     "execution_count": 29,
     "metadata": {},
     "output_type": "execute_result"
    }
   ],
   "source": [
    "[2, 0, 1, 4] < [0, 0, 3, 0]"
   ]
  },
  {
   "cell_type": "code",
   "execution_count": 30,
   "metadata": {},
   "outputs": [
    {
     "data": {
      "text/plain": [
       "True"
      ]
     },
     "execution_count": 30,
     "metadata": {},
     "output_type": "execute_result"
    }
   ],
   "source": [
    "[2, 0, 1, 4] < [3, 0]"
   ]
  },
  {
   "cell_type": "code",
   "execution_count": 32,
   "metadata": {},
   "outputs": [
    {
     "data": {
      "text/plain": [
       "(97, 98, 65, 66)"
      ]
     },
     "execution_count": 32,
     "metadata": {},
     "output_type": "execute_result"
    }
   ],
   "source": [
    "ord('a'), ord('b'), ord('A'), ord('B')"
   ]
  },
  {
   "cell_type": "code",
   "execution_count": 33,
   "metadata": {},
   "outputs": [
    {
     "name": "stdout",
     "output_type": "stream",
     "text": [
      "[1, 2, 3, 4]\n",
      "[1, 2, 100, 4]\n"
     ]
    }
   ],
   "source": [
    "b = [1, 2, 3, 4]\n",
    "print(b)\n",
    "b[2] = 100\n",
    "print(b)"
   ]
  },
  {
   "cell_type": "code",
   "execution_count": 34,
   "metadata": {},
   "outputs": [
    {
     "name": "stdout",
     "output_type": "stream",
     "text": [
      "emil\n"
     ]
    },
    {
     "ename": "TypeError",
     "evalue": "'str' object does not support item assignment",
     "output_type": "error",
     "traceback": [
      "\u001b[1;31m---------------------------------------------------------------------------\u001b[0m",
      "\u001b[1;31mTypeError\u001b[0m                                 Traceback (most recent call last)",
      "Cell \u001b[1;32mIn[34], line 3\u001b[0m\n\u001b[0;32m      1\u001b[0m x \u001b[38;5;241m=\u001b[39m \u001b[38;5;124m'\u001b[39m\u001b[38;5;124memil\u001b[39m\u001b[38;5;124m'\u001b[39m\n\u001b[0;32m      2\u001b[0m \u001b[38;5;28mprint\u001b[39m(x)\n\u001b[1;32m----> 3\u001b[0m \u001b[43mx\u001b[49m\u001b[43m[\u001b[49m\u001b[38;5;241;43m2\u001b[39;49m\u001b[43m]\u001b[49m \u001b[38;5;241m=\u001b[39m \u001b[38;5;124m'\u001b[39m\u001b[38;5;124mX\u001b[39m\u001b[38;5;124m'\u001b[39m\n\u001b[0;32m      4\u001b[0m \u001b[38;5;28mprint\u001b[39m(x)\n",
      "\u001b[1;31mTypeError\u001b[0m: 'str' object does not support item assignment"
     ]
    }
   ],
   "source": [
    "x = 'emil'\n",
    "print(x)\n",
    "x[2] = 'X'\n",
    "print(x)"
   ]
  },
  {
   "cell_type": "code",
   "execution_count": 35,
   "metadata": {},
   "outputs": [],
   "source": [
    "def imya():\n",
    "    pass"
   ]
  },
  {
   "cell_type": "code",
   "execution_count": 36,
   "metadata": {},
   "outputs": [],
   "source": [
    "def raznitsa(x, y):\n",
    "    return x - y\n",
    "\n"
   ]
  },
  {
   "cell_type": "markdown",
   "metadata": {},
   "source": []
  },
  {
   "cell_type": "code",
   "execution_count": 37,
   "metadata": {},
   "outputs": [
    {
     "data": {
      "text/plain": [
       "-10"
      ]
     },
     "execution_count": 37,
     "metadata": {},
     "output_type": "execute_result"
    }
   ],
   "source": [
    "raznitsa(10, 20)"
   ]
  },
  {
   "cell_type": "code",
   "execution_count": 46,
   "metadata": {},
   "outputs": [],
   "source": [
    "def sredniy(grades):\n",
    "    s = sorted(grades)\n",
    "    top_12 = s[-12:]\n",
    "    s = sum(top_12)\n",
    "    avg = s // len(top_12)\n",
    "    return avg"
   ]
  },
  {
   "cell_type": "code",
   "execution_count": 61,
   "metadata": {},
   "outputs": [],
   "source": [
    "def letter_grade(avg):\n",
    "    print('score = ', avg)\n",
    "    if avg < 0 or avg > 100:\n",
    "        return 'error in grading'\n",
    "    elif avg >= 93:\n",
    "        return 'grade = A'\n",
    "    elif avg >= 90:\n",
    "        return 'grade = B+'\n",
    "    elif avg >= 87:\n",
    "        return 'grade = B'\n",
    "    elif avg >= 84:\n",
    "        return 'grade = B-'\n",
    "    elif avg >= 81:\n",
    "        return 'grade = C+'\n",
    "    elif avg >= 78:\n",
    "        return 'grade = C'\n",
    "    elif avg >= 75:\n",
    "        return 'grade = C-'\n",
    "    elif avg >= 72:\n",
    "        return 'grade = D+'\n",
    "    elif avg >= 69:\n",
    "        return 'grade = D'\n",
    "    elif avg >= 66:\n",
    "        return 'grade = D-'\n",
    "    elif avg >= 63:\n",
    "        return 'grade = F'\n",
    "    else:\n",
    "        return 'Failed the class'\n"
   ]
  },
  {
   "cell_type": "code",
   "execution_count": 50,
   "metadata": {},
   "outputs": [
    {
     "name": "stdout",
     "output_type": "stream",
     "text": [
      "77\n",
      "score =  77\n",
      "grade = C-\n",
      "None\n"
     ]
    }
   ],
   "source": [
    "grades = [100, 100, 50, 75, 25, 100, 100, 100, 50]\n",
    "print(sredniy(grades))\n",
    "print(letter_grade(sredniy(grades)))"
   ]
  },
  {
   "cell_type": "code",
   "execution_count": 51,
   "metadata": {},
   "outputs": [
    {
     "name": "stdout",
     "output_type": "stream",
     "text": [
      "1000\n"
     ]
    }
   ],
   "source": [
    "def f(x):\n",
    "    return x*x*x\n",
    "\n",
    "print(f(10))"
   ]
  },
  {
   "cell_type": "code",
   "execution_count": 52,
   "metadata": {},
   "outputs": [
    {
     "name": "stdout",
     "output_type": "stream",
     "text": [
      "score =  77\n",
      "grade = C-\n",
      "None\n"
     ]
    }
   ],
   "source": [
    "avg = sredniy(grades)\n",
    "letter = letter_grade(avg)\n",
    "print(letter)"
   ]
  },
  {
   "cell_type": "code",
   "execution_count": 59,
   "metadata": {},
   "outputs": [],
   "source": [
    "from csv import writer\n",
    "x = []\n",
    "with open('grades.csv', 'w', encoding='utf-8') as fid:\n",
    "    file = writer(fid)\n",
    "    for name in s:\n",
    "        grades = [randint(0, 100) for i in range(10)]\n",
    "        x.append([name] + grades)\n",
    "        file.writerow([name] + grades)\n",
    "\n"
   ]
  },
  {
   "cell_type": "code",
   "execution_count": 60,
   "metadata": {},
   "outputs": [
    {
     "data": {
      "text/plain": [
       "[['Абдралиев Белек Маратович', 60, 100, 31, 44, 88, 0, 64, 2, 97, 13],\n",
       " ['Абдуллаев Ийгилик Эльбурсович', 93, 74, 66, 32, 13, 61, 88, 48, 62, 25],\n",
       " ['Айтматов Байэл Бактыбекович', 42, 42, 42, 21, 78, 12, 12, 52, 21, 28],\n",
       " ['Асанбек уула Чынгыз', 27, 67, 17, 47, 86, 20, 8, 81, 87, 21],\n",
       " ['Асанов Искендер Асанович', 98, 75, 15, 17, 25, 6, 41, 21, 23, 38],\n",
       " ['Аскаров Арсен Анарбаевич', 76, 60, 65, 90, 97, 98, 21, 67, 44, 48],\n",
       " ['Байтемиров Искендер Бекмуратович', 96, 23, 6, 56, 94, 63, 85, 79, 30, 47],\n",
       " ['Баитиков Адел', 53, 73, 92, 80, 52, 93, 72, 95, 23, 98],\n",
       " ['Бакытбеков Роман Талантович', 56, 78, 73, 14, 40, 12, 56, 4, 66, 13],\n",
       " ['Бекбосунова Айша Болотовна', 79, 88, 39, 39, 94, 43, 48, 49, 30, 88],\n",
       " ['Бекенова Аяна', 35, 4, 77, 82, 65, 18, 8, 31, 73, 91],\n",
       " ['Бектемиров Ибрахимбек Максадбекович', 98, 81, 14, 22, 62, 8, 78, 5, 58, 95],\n",
       " ['Бердибаева Нурай Нурбековна', 63, 99, 84, 55, 87, 23, 100, 39, 56, 52],\n",
       " ['Болотбек уулу Эржан', 61, 29, 50, 85, 47, 77, 77, 70, 11, 64],\n",
       " ['Волгин Даниэль Максимович', 6, 6, 93, 97, 41, 73, 24, 19, 4, 10],\n",
       " ['Гулжигитов Дайырбек Мухаммедович', 73, 67, 16, 35, 70, 93, 7, 77, 72, 4],\n",
       " ['Джутанкеева Мээрим Тамерлановна', 76, 83, 22, 14, 88, 24, 26, 17, 2, 83],\n",
       " ['Душобаев Вилдан Гайратбекович', 97, 27, 73, 29, 60, 50, 43, 82, 93, 36],\n",
       " ['Жавдедова Назик Рустамовна', 15, 73, 0, 78, 19, 90, 67, 94, 61, 60],\n",
       " ['Жаныбекова Бегимай Жаныбековна', 5, 45, 42, 70, 74, 94, 16, 43, 38, 87],\n",
       " ['Жолдубаев Эмил Аресович', 91, 38, 87, 30, 67, 81, 78, 69, 61, 20],\n",
       " ['Жумаев Абдунур Нурбекович', 34, 20, 46, 58, 52, 21, 84, 42, 100, 18],\n",
       " ['Жыргалбек уулу Эрбол', 88, 24, 47, 96, 5, 63, 14, 61, 64, 87],\n",
       " ['Зиялиева Саадат Кадырбековна', 68, 49, 62, 98, 94, 55, 71, 26, 68, 92],\n",
       " ['Исмаилова Алтынай Нурбековна', 49, 90, 91, 44, 31, 60, 86, 89, 75, 54],\n",
       " ['Кадыракунова Аделя Эрнистовна', 23, 59, 5, 5, 90, 8, 37, 41, 19, 69],\n",
       " ['Канатбеков Ажо Канатбекович', 63, 29, 30, 71, 63, 69, 72, 28, 61, 66],\n",
       " ['Каримова Айбийке Азаматовна', 89, 29, 18, 23, 71, 91, 100, 17, 57, 57],\n",
       " ['Керимов Акбар Айбекович', 81, 97, 85, 82, 55, 9, 57, 62, 100, 77],\n",
       " ['Ким Жихён', 7, 10, 35, 17, 37, 53, 73, 61, 42, 24],\n",
       " ['Краснов Ильхан Даниярович', 99, 33, 66, 49, 82, 23, 51, 64, 43, 53],\n",
       " ['Кубанычбеков Эмир Арсланович', 88, 43, 26, 30, 20, 3, 40, 60, 51, 49],\n",
       " ['Курманова Бегайым Курмановна', 50, 3, 23, 98, 42, 84, 90, 73, 23, 10],\n",
       " ['Кусеинов Элдар Жээнбекович', 92, 95, 89, 93, 45, 19, 77, 0, 87, 43],\n",
       " ['Куттугалиева Зарылкан Бекболотовна', 78, 52, 5, 18, 98, 33, 38, 63, 97, 23],\n",
       " ['Кыдыкбекова Айпери Бахтияровна', 44, 3, 76, 33, 81, 75, 75, 40, 37, 52],\n",
       " ['Кыдыралиев Жанболот Тойчуевич', 69, 94, 67, 15, 93, 83, 54, 12, 87, 21],\n",
       " ['Маматалиев Нурболот ', 15, 92, 17, 60, 37, 40, 100, 72, 18, 98],\n",
       " ['Маматжанова Эленора Мирланбековна', 32, 55, 41, 57, 80, 44, 41, 27, 1, 69],\n",
       " ['Маматзундуев Бекбол Назбекович', 70, 56, 18, 24, 40, 27, 73, 25, 32, 53],\n",
       " ['Марсел', 64, 61, 2, 89, 89, 15, 32, 20, 35, 14],\n",
       " ['Надирбеков Абдусамат', 50, 25, 94, 0, 78, 29, 65, 68, 12, 80],\n",
       " ['Назарбаев Нурсултан Женишбекович', 19, 82, 0, 98, 48, 70, 82, 58, 63, 25],\n",
       " ['Нуралиева Асель Акжоловна', 74, 16, 86, 12, 5, 78, 67, 87, 69, 85],\n",
       " ['Омурбекова Мирана Азизбековна', 2, 22, 37, 94, 80, 24, 8, 30, 46, 64],\n",
       " ['Ормушов Темирлан Арстанбекович', 37, 60, 90, 53, 56, 77, 9, 24, 27, 64],\n",
       " ['Орунбаев Байжан Омурбекович', 97, 23, 82, 12, 98, 76, 66, 75, 96, 54],\n",
       " ['Рахматылло уулу Касымбек Сухрабович',\n",
       "  39,\n",
       "  74,\n",
       "  85,\n",
       "  46,\n",
       "  51,\n",
       "  52,\n",
       "  32,\n",
       "  56,\n",
       "  72,\n",
       "  5],\n",
       " ['Солтобеков Амин Бектурович', 53, 1, 62, 90, 98, 55, 0, 29, 12, 38],\n",
       " ['Сыдгали уулу Жаныбек', 8, 67, 3, 44, 37, 80, 8, 65, 45, 90],\n",
       " ['Таалайбеков Баястан Талайбекович', 81, 49, 79, 26, 34, 51, 88, 75, 32, 7],\n",
       " ['Тагаева Рахат Арапшаевна', 88, 95, 69, 71, 68, 1, 49, 54, 2, 48],\n",
       " ['Ташбай уулу Даниэл', 69, 66, 49, 71, 70, 22, 99, 59, 8, 30],\n",
       " ['Торокулов Айман Талайбекович', 37, 72, 75, 9, 0, 95, 88, 72, 99, 52],\n",
       " ['Хусанбаева Диляфруз Азимжоновна', 5, 65, 37, 56, 91, 32, 65, 5, 87, 79],\n",
       " ['Шукуралиев Нурдан Даниярович', 20, 78, 3, 43, 9, 80, 60, 23, 23, 3],\n",
       " ['Элчиев Ясир Жыргалбекович', 85, 87, 61, 77, 88, 5, 95, 3, 71, 35],\n",
       " ['Эркибаев Нурбек Алмазович', 2, 50, 80, 9, 17, 90, 38, 28, 85, 28],\n",
       " ['Калматов Азиз Кылычбекович', 43, 62, 91, 21, 22, 60, 48, 1, 49, 16],\n",
       " ['Жапаров Шердос\\xa0', 22, 86, 65, 18, 100, 73, 74, 15, 16, 62],\n",
       " ['Аширалиев\\xa0Аман', 91, 49, 95, 15, 22, 41, 12, 64, 35, 36],\n",
       " ['Eldiyar', 11, 75, 21, 42, 97, 33, 98, 47, 45, 99],\n",
       " ['Asylkan', 22, 11, 14, 95, 23, 20, 6, 85, 15, 98],\n",
       " ['Kutman', 87, 38, 86, 84, 51, 95, 2, 51, 81, 3],\n",
       " ['Diaz', 74, 43, 76, 70, 10, 9, 91, 88, 16, 70],\n",
       " ['Shergazy', 78, 1, 90, 37, 35, 53, 4, 81, 63, 38],\n",
       " ['Akylbek\\xa0Zamirov', 97, 29, 58, 46, 89, 39, 97, 86, 61, 96],\n",
       " ['', 96, 86, 61, 63, 14, 37, 26, 86, 39, 11]]"
      ]
     },
     "execution_count": 60,
     "metadata": {},
     "output_type": "execute_result"
    }
   ],
   "source": [
    "x"
   ]
  },
  {
   "cell_type": "code",
   "execution_count": 62,
   "metadata": {},
   "outputs": [
    {
     "name": "stdout",
     "output_type": "stream",
     "text": [
      "score =  49\n",
      "Абдралиев Белек Маратович Failed the class\n",
      "score =  56\n",
      "Абдуллаев Ийгилик Эльбурсович Failed the class\n",
      "score =  35\n",
      "Айтматов Байэл Бактыбекович Failed the class\n",
      "score =  46\n",
      "Асанбек уула Чынгыз Failed the class\n",
      "score =  35\n",
      "Асанов Искендер Асанович Failed the class\n",
      "score =  66\n",
      "Аскаров Арсен Анарбаевич grade = D-\n",
      "score =  57\n",
      "Байтемиров Искендер Бекмуратович Failed the class\n",
      "score =  73\n",
      "Баитиков Адел grade = D+\n",
      "score =  41\n",
      "Бакытбеков Роман Талантович Failed the class\n",
      "score =  59\n",
      "Бекбосунова Айша Болотовна Failed the class\n",
      "score =  48\n",
      "Бекенова Аяна Failed the class\n",
      "score =  52\n",
      "Бектемиров Ибрахимбек Максадбекович Failed the class\n",
      "score =  65\n",
      "Бердибаева Нурай Нурбековна grade = F\n",
      "score =  57\n",
      "Болотбек уулу Эржан Failed the class\n",
      "score =  37\n",
      "Волгин Даниэль Максимович Failed the class\n",
      "score =  51\n",
      "Гулжигитов Дайырбек Мухаммедович Failed the class\n",
      "score =  43\n",
      "Джутанкеева Мээрим Тамерлановна Failed the class\n",
      "score =  59\n",
      "Душобаев Вилдан Гайратбекович Failed the class\n",
      "score =  55\n",
      "Жавдедова Назик Рустамовна Failed the class\n",
      "score =  51\n",
      "Жаныбекова Бегимай Жаныбековна Failed the class\n",
      "score =  62\n",
      "Жолдубаев Эмил Аресович Failed the class\n",
      "score =  47\n",
      "Жумаев Абдунур Нурбекович Failed the class\n",
      "score =  54\n",
      "Жыргалбек уулу Эрбол Failed the class\n",
      "score =  68\n",
      "Зиялиева Саадат Кадырбековна grade = D-\n",
      "score =  66\n",
      "Исмаилова Алтынай Нурбековна grade = D-\n",
      "score =  35\n",
      "Кадыракунова Аделя Эрнистовна Failed the class\n",
      "score =  55\n",
      "Канатбеков Ажо Канатбекович Failed the class\n",
      "score =  55\n",
      "Каримова Айбийке Азаматовна Failed the class\n",
      "score =  70\n",
      "Керимов Акбар Айбекович grade = D\n",
      "score =  35\n",
      "Ким Жихён Failed the class\n",
      "score =  56\n",
      "Краснов Ильхан Даниярович Failed the class\n",
      "score =  41\n",
      "Кубанычбеков Эмир Арсланович Failed the class\n",
      "score =  49\n",
      "Курманова Бегайым Курмановна Failed the class\n",
      "score =  64\n",
      "Кусеинов Элдар Жээнбекович grade = F\n",
      "score =  50\n",
      "Куттугалиева Зарылкан Бекболотовна Failed the class\n",
      "score =  51\n",
      "Кыдыкбекова Айпери Бахтияровна Failed the class\n",
      "score =  59\n",
      "Кыдыралиев Жанболот Тойчуевич Failed the class\n",
      "score =  54\n",
      "Маматалиев Нурболот  Failed the class\n",
      "score =  44\n",
      "Маматжанова Эленора Мирланбековна Failed the class\n",
      "score =  41\n",
      "Маматзундуев Бекбол Назбекович Failed the class\n",
      "score =  42\n",
      "Марсел Failed the class\n",
      "score =  50\n",
      "Надирбеков Абдусамат Failed the class\n",
      "score =  54\n",
      "Назарбаев Нурсултан Женишбекович Failed the class\n",
      "score =  57\n",
      "Нуралиева Асель Акжоловна Failed the class\n",
      "score =  40\n",
      "Омурбекова Мирана Азизбековна Failed the class\n",
      "score =  49\n",
      "Ормушов Темирлан Арстанбекович Failed the class\n",
      "score =  67\n",
      "Орунбаев Байжан Омурбекович grade = D-\n",
      "score =  51\n",
      "Рахматылло уулу Касымбек Сухрабович Failed the class\n",
      "score =  43\n",
      "Солтобеков Амин Бектурович Failed the class\n",
      "score =  44\n",
      "Сыдгали уулу Жаныбек Failed the class\n",
      "score =  52\n",
      "Таалайбеков Баястан Талайбекович Failed the class\n",
      "score =  54\n",
      "Тагаева Рахат Арапшаевна Failed the class\n",
      "score =  54\n",
      "Ташбай уулу Даниэл Failed the class\n",
      "score =  59\n",
      "Торокулов Айман Талайбекович Failed the class\n",
      "score =  52\n",
      "Хусанбаева Диляфруз Азимжоновна Failed the class\n",
      "score =  34\n",
      "Шукуралиев Нурдан Даниярович Failed the class\n",
      "score =  60\n",
      "Элчиев Ясир Жыргалбекович Failed the class\n",
      "score =  42\n",
      "Эркибаев Нурбек Алмазович Failed the class\n",
      "score =  41\n",
      "Калматов Азиз Кылычбекович Failed the class\n",
      "score =  53\n",
      "Жапаров Шердос  Failed the class\n",
      "score =  46\n",
      "Аширалиев Аман Failed the class\n",
      "score =  56\n",
      "Eldiyar Failed the class\n",
      "score =  38\n",
      "Asylkan Failed the class\n",
      "score =  57\n",
      "Kutman Failed the class\n",
      "score =  54\n",
      "Diaz Failed the class\n",
      "score =  48\n",
      "Shergazy Failed the class\n",
      "score =  69\n",
      "Akylbek Zamirov grade = D\n",
      "score =  51\n",
      " Failed the class\n"
     ]
    }
   ],
   "source": [
    "for i in x:\n",
    "    avg = sredniy(i[1:])\n",
    "    letter = letter_grade(avg)\n",
    "    print(i[0], letter)"
   ]
  },
  {
   "cell_type": "code",
   "execution_count": 63,
   "metadata": {},
   "outputs": [],
   "source": [
    "a = [1, 2, 4, 6, 9, 0]"
   ]
  },
  {
   "cell_type": "code",
   "execution_count": 65,
   "metadata": {},
   "outputs": [
    {
     "data": {
      "text/plain": [
       "[4, 6]"
      ]
     },
     "execution_count": 65,
     "metadata": {},
     "output_type": "execute_result"
    }
   ],
   "source": [
    "a[2:4]"
   ]
  },
  {
   "cell_type": "code",
   "execution_count": 66,
   "metadata": {},
   "outputs": [
    {
     "data": {
      "text/plain": [
       "[9, 0]"
      ]
     },
     "execution_count": 66,
     "metadata": {},
     "output_type": "execute_result"
    }
   ],
   "source": [
    "a[-2:]"
   ]
  },
  {
   "cell_type": "code",
   "execution_count": 67,
   "metadata": {},
   "outputs": [
    {
     "data": {
      "text/plain": [
       "[1, 2, 4, 6, 9, 0]"
      ]
     },
     "execution_count": 67,
     "metadata": {},
     "output_type": "execute_result"
    }
   ],
   "source": [
    "a"
   ]
  },
  {
   "cell_type": "code",
   "execution_count": 68,
   "metadata": {},
   "outputs": [
    {
     "data": {
      "text/plain": [
       "[2, 4, 6, 9, 0]"
      ]
     },
     "execution_count": 68,
     "metadata": {},
     "output_type": "execute_result"
    }
   ],
   "source": [
    "a[1:]"
   ]
  },
  {
   "cell_type": "code",
   "execution_count": 69,
   "metadata": {},
   "outputs": [
    {
     "data": {
      "text/plain": [
       "[1, 2, 4, 6]"
      ]
     },
     "execution_count": 69,
     "metadata": {},
     "output_type": "execute_result"
    }
   ],
   "source": [
    "a[:4]"
   ]
  },
  {
   "cell_type": "code",
   "execution_count": 70,
   "metadata": {},
   "outputs": [
    {
     "data": {
      "text/plain": [
       "[1, 2, 4, 6, 9, 0]"
      ]
     },
     "execution_count": 70,
     "metadata": {},
     "output_type": "execute_result"
    }
   ],
   "source": [
    "a"
   ]
  },
  {
   "cell_type": "code",
   "execution_count": 73,
   "metadata": {},
   "outputs": [
    {
     "data": {
      "text/plain": [
       "([0, 1, 2, 4, 6, 9], [9, 6, 4, 2, 1, 0])"
      ]
     },
     "execution_count": 73,
     "metadata": {},
     "output_type": "execute_result"
    }
   ],
   "source": [
    "sorted(a), sorted(a, reverse=True)"
   ]
  },
  {
   "cell_type": "code",
   "execution_count": 77,
   "metadata": {},
   "outputs": [],
   "source": [
    "a.sort(reverse=True)"
   ]
  },
  {
   "cell_type": "code",
   "execution_count": 78,
   "metadata": {},
   "outputs": [
    {
     "data": {
      "text/plain": [
       "[9, 6, 4, 2, 1, 0]"
      ]
     },
     "execution_count": 78,
     "metadata": {},
     "output_type": "execute_result"
    }
   ],
   "source": [
    "a"
   ]
  },
  {
   "cell_type": "code",
   "execution_count": 82,
   "metadata": {},
   "outputs": [
    {
     "ename": "TypeError",
     "evalue": "descriptor 'join' for 'str' objects doesn't apply to a 'list' object",
     "output_type": "error",
     "traceback": [
      "\u001b[1;31m---------------------------------------------------------------------------\u001b[0m",
      "\u001b[1;31mTypeError\u001b[0m                                 Traceback (most recent call last)",
      "Cell \u001b[1;32mIn[82], line 2\u001b[0m\n\u001b[0;32m      1\u001b[0m s \u001b[38;5;241m=\u001b[39m \u001b[38;5;124m'\u001b[39m\u001b[38;5;124memil\u001b[39m\u001b[38;5;124m'\u001b[39m\n\u001b[1;32m----> 2\u001b[0m \u001b[38;5;28;43mstr\u001b[39;49m\u001b[38;5;241;43m.\u001b[39;49m\u001b[43mjoin\u001b[49m\u001b[43m(\u001b[49m\u001b[38;5;28;43msorted\u001b[39;49m\u001b[43m(\u001b[49m\u001b[43ms\u001b[49m\u001b[43m)\u001b[49m\u001b[43m)\u001b[49m\n",
      "\u001b[1;31mTypeError\u001b[0m: descriptor 'join' for 'str' objects doesn't apply to a 'list' object"
     ]
    }
   ],
   "source": [
    "s = 'emil'\n",
    "str.join(sorted(s))"
   ]
  },
  {
   "cell_type": "code",
   "execution_count": 83,
   "metadata": {},
   "outputs": [
    {
     "data": {
      "text/plain": [
       "[1, 0]"
      ]
     },
     "execution_count": 83,
     "metadata": {},
     "output_type": "execute_result"
    }
   ],
   "source": [
    "# slicing\n",
    "\n",
    "a[:1]\n",
    "a[1:]\n",
    "a[1:3]\n",
    "a[-2:]\n"
   ]
  },
  {
   "cell_type": "code",
   "execution_count": 88,
   "metadata": {},
   "outputs": [],
   "source": [
    "def f1(a, b, c = 5):\n",
    "    return a + b + c"
   ]
  },
  {
   "cell_type": "code",
   "execution_count": 89,
   "metadata": {},
   "outputs": [
    {
     "data": {
      "text/plain": [
       "15"
      ]
     },
     "execution_count": 89,
     "metadata": {},
     "output_type": "execute_result"
    }
   ],
   "source": [
    "f1(1, 5, 9)"
   ]
  },
  {
   "cell_type": "code",
   "execution_count": 90,
   "metadata": {},
   "outputs": [
    {
     "data": {
      "text/plain": [
       "19"
      ]
     },
     "execution_count": 90,
     "metadata": {},
     "output_type": "execute_result"
    }
   ],
   "source": [
    "f1(4, 10)"
   ]
  },
  {
   "cell_type": "code",
   "execution_count": 1,
   "metadata": {},
   "outputs": [
    {
     "name": "stdout",
     "output_type": "stream",
     "text": [
      "1 1 1 1.0\n",
      "4 16 1024 2.0\n",
      "9 81 59049 3.0\n",
      "10 100 100000 3.1622776601683795\n",
      "20 400 3200000 4.47213595499958\n"
     ]
    }
   ],
   "source": [
    "j = [1, 4, 9, 10, 20]\n",
    "\n",
    "for a in j:\n",
    "    print(a, a*a, a**5, a**0.5)"
   ]
  },
  {
   "cell_type": "code",
   "execution_count": null,
   "metadata": {},
   "outputs": [],
   "source": [
    "# "
   ]
  },
  {
   "cell_type": "markdown",
   "metadata": {},
   "source": [
    "1. (10) Дан код: a = [2, 4, 6]; b = a; a = a + [8]. Что окажется в a и b?\n",
    "2. (25) Реализуйте мини-«оценивание»: по среднему баллу avg выведите \"A\" (90+), \"B\" (80–89), \"C\" (70–79), иначе \"Failed\".\n",
    "3. (10) Для строки s = 'AIT PL' выведите её длину, а также первый и последний символ\n",
    "4. (20) Напишите функцию, которая принимает массив a=[“emil”, “ait”, “university”] слов и возвращает список их длин (result = [4, 3, 10])\n",
    "5. (20) Для функции\n",
    "def add(a, b, c=10): \n",
    "return a + b + c \n",
    "объясните роль параметра по умолчанию\n",
    "что выводит следующие add(9, 4, 30)\n",
    "что выводит следующие add(9, 4)\n",
    "6. (15) Для массива arr = [4, 2, 1, 6, 8, 9, 10], что выводит следующие:\n",
    "arr[:2]\n",
    "arr[2:]\n",
    "arr[2:3]\n",
    "Arr[-3:]\n"
   ]
  },
  {
   "cell_type": "code",
   "execution_count": 3,
   "metadata": {},
   "outputs": [
    {
     "name": "stdout",
     "output_type": "stream",
     "text": [
      "[2, 4, 6, 8, 10, 20]\n",
      "[2, 4, 6]\n"
     ]
    }
   ],
   "source": [
    "# 1. Дан код: a = [2, 4, 6]; b = a; a = a + [8]. Что окажется в a и b?\n",
    "\n",
    "a = [2, 4, 6]\n",
    "b = a\n",
    "a = a + [8, 10, 20]\n",
    "print(a)\n",
    "print(b)"
   ]
  },
  {
   "cell_type": "code",
   "execution_count": 5,
   "metadata": {},
   "outputs": [
    {
     "name": "stdout",
     "output_type": "stream",
     "text": [
      "90 A\n",
      "85 B\n",
      "60 fig znaet\n",
      "nachalo\n",
      "75 C\n"
     ]
    }
   ],
   "source": [
    "# 2. Реализуйте мини-«оценивание»: по среднему баллу avg выведите \n",
    "# \"A\" (90+), \"B\" (80–89), \"C\" (70–79), иначе \"Failed\".\n",
    "\n",
    "def score(avg):\n",
    "    if avg >= 90:\n",
    "        return \"A\"\n",
    "    elif avg >= 80:\n",
    "        return \"B\"\n",
    "    elif avg >= 70:\n",
    "        a = 10\n",
    "        print(\"nachalo\")\n",
    "        return \"C\"\n",
    "        print(\"vse\")\n",
    "        a = 10\n",
    "    else:\n",
    "        return \"fig znaet\"\n",
    "\n",
    "\n",
    "print(90, score(90))\n",
    "print(85, score(85))\n",
    "print(60, score(60))\n",
    "print(75, score(75))"
   ]
  },
  {
   "cell_type": "code",
   "execution_count": 9,
   "metadata": {},
   "outputs": [
    {
     "name": "stdout",
     "output_type": "stream",
     "text": [
      "6 A L L\n",
      "L\n"
     ]
    }
   ],
   "source": [
    "#3. Для строки s = 'AIT PL' выведите её длину, а также первый и \n",
    "# последний символ\n",
    "s = 'AIT PL'\n",
    "print(len(s), s[0], s[-1], s[len(s)-1])\n",
    "print(s[len(s)-1])"
   ]
  },
  {
   "cell_type": "code",
   "execution_count": null,
   "metadata": {},
   "outputs": [
    {
     "name": "stdout",
     "output_type": "stream",
     "text": [
      "[4, 3, 10]\n",
      "4\n",
      "3\n",
      "10\n",
      "[4, 3, 10]\n",
      "[4, 3, 10]\n"
     ]
    }
   ],
   "source": [
    "#4. Напишите функцию, которая принимает массив \n",
    "# a=[“emil”, “ait”, “university”] слов и возвращает список их длин (result = [4, 3, 10])\n",
    "\n",
    "def length1(arr):\n",
    "    return [len(i) for i in arr]\n",
    "\n",
    "def length2(arr):\n",
    "    for i in arr:\n",
    "        print(len(i))\n",
    "\n",
    "def length3(s):\n",
    "    result = []\n",
    "    for i in s:\n",
    "        result.append(len(i))\n",
    "    return result\n",
    "\n",
    "def length4(s):\n",
    "    result = []\n",
    "    for i in s:\n",
    "        result = result + [len(i)]\n",
    "    return result\n",
    "\n",
    "a=[\"emil\", \"ait\", \"university\"]\n",
    "print(length1(a))\n",
    "length2(a)\n",
    "print(length3(a))\n",
    "print(length4(a))\n",
    "\n",
    "# max(var1 , var2)"
   ]
  },
  {
   "cell_type": "code",
   "execution_count": 22,
   "metadata": {},
   "outputs": [
    {
     "name": "stdout",
     "output_type": "stream",
     "text": [
      "[4, 2]\n",
      "[1, 6, 8, 9, 10]\n",
      "[1]\n",
      "[8, 9, 10]\n",
      "[4, 2, 1, 6, 8, 9, 10]\n",
      "[4, 2, 1, 6, 8, 9, 10]\n",
      "[]\n"
     ]
    }
   ],
   "source": [
    "# 6. Для массива \n",
    "arr = [4, 2, 1, 6, 8, 9, 10]\n",
    "#что выводит следующие:\n",
    "print(arr[:2]) # 4, 2\n",
    "print(arr[2:]) # 1, 6, 8, 9, 10\n",
    "print(arr[2:3]) # 1 (1, 6 -> -5%)\n",
    "print(arr[-3:]) # 8, 9, 10\n",
    "print(arr[-10:]) # index out of range => arr[-7:] arr[max(-len(arr), -10) : ]\n",
    "print(arr[max(-len(arr), -10) : ]) \n",
    "\n",
    "print(arr[30:35])"
   ]
  },
  {
   "cell_type": "code",
   "execution_count": 17,
   "metadata": {},
   "outputs": [
    {
     "name": "stdout",
     "output_type": "stream",
     "text": [
      "add(9, 4, 30):  43\n",
      "add(9, 4):  23\n"
     ]
    }
   ],
   "source": [
    "#5. Для функции\n",
    "# def add(a, b, c=10): \n",
    "# return a + b + c \n",
    "# объясните роль параметра по умолчанию\n",
    "# что выводит следующие add(9, 4, 30)\n",
    "# что выводит следующие add(9, 4)\n",
    "def add(a, b, c=10): \n",
    "    # add(9, 4, 30) -> a = 9, b=4, c = 30 => 43\n",
    "    # add(9, 4) -> a = 9, b = 4, c = 10 => 23\n",
    "    return a + b + c \n",
    "\n",
    "print('add(9, 4, 30): ', add(9, 4, 30))\n",
    "print('add(9, 4): ', add(9, 4))\n"
   ]
  },
  {
   "cell_type": "markdown",
   "metadata": {},
   "source": [
    "1. (20) Оцените (False or True) and (True and False) and (True or False and False). \n",
    "2. (0) Сравните / и //. На  пример 10/3 и 10//3. Объясните разницу.\n",
    "3. (20) Для a = [10, 20]; b = a; a = 50 — что в b? Почему?\n",
    "4. (30) Напишите программу, которая посчитает сумму, минимум и максимум списка \n",
    "arr = [4, 5, 9, 10, 12, 3]\n",
    "5. (15) Как вычислить количество элементов в списке\n",
    "6. (15) Напишите программу, которая выводит последние три элемента в массиве.\n",
    "\n"
   ]
  },
  {
   "cell_type": "code",
   "execution_count": 24,
   "metadata": {},
   "outputs": [
    {
     "data": {
      "text/plain": [
       "False"
      ]
     },
     "execution_count": 24,
     "metadata": {},
     "output_type": "execute_result"
    }
   ],
   "source": [
    "#1. Оцените (False or True) and (True and False) and (True or False and False). \n",
    "\n",
    "(False or True) and (True and False) and (True or False and False)"
   ]
  },
  {
   "cell_type": "code",
   "execution_count": 25,
   "metadata": {},
   "outputs": [
    {
     "name": "stdout",
     "output_type": "stream",
     "text": [
      "3.3333333333333335 3 3\n"
     ]
    }
   ],
   "source": [
    "# 2. Сравните / и //. На  пример 10/3 и 10//3. Объясните разницу.\n",
    "\n",
    "print(10/3, 10//3, int(10/3))\n"
   ]
  },
  {
   "cell_type": "code",
   "execution_count": 28,
   "metadata": {},
   "outputs": [
    {
     "name": "stdout",
     "output_type": "stream",
     "text": [
      "[10, 20]\n"
     ]
    }
   ],
   "source": [
    "#3. Для a = [10, 20]; b = a; a = 50 — что в b? Почему?\n",
    "\n",
    "a = [10, 20]\n",
    "b = a\n",
    "a = 50\n",
    "\n",
    "print(b)  # [10, 20]\n",
    "\n"
   ]
  },
  {
   "cell_type": "code",
   "execution_count": 32,
   "metadata": {},
   "outputs": [
    {
     "name": "stdout",
     "output_type": "stream",
     "text": [
      "(19, 9, -1)\n",
      "19\n",
      "-1\n",
      "9\n",
      "(-1, 9)\n"
     ]
    }
   ],
   "source": [
    "#4. Напишите программу, которая посчитает сумму, минимум и максимум списка \n",
    "\n",
    "def mysum(arr):\n",
    "    s = 0\n",
    "    min = arr[0]\n",
    "    max = arr[0]\n",
    "    for i in arr:\n",
    "        s += i\n",
    "        if min > i:\n",
    "            min = i\n",
    "        if max < i:\n",
    "            max = i\n",
    "    return s, max, min\n",
    "\n",
    "def mysum2(arr):\n",
    "    s = 0\n",
    "    for i in arr:\n",
    "        s = s + i\n",
    "    return s\n",
    "\n",
    "def min(arr):\n",
    "    return sorted(arr)[0]\n",
    "\n",
    "def max(arr):\n",
    "    return sorted(arr)[-1]\n",
    "\n",
    "def minmax(arr):\n",
    "    arr.sort()\n",
    "    return arr[0], arr[-1]\n",
    "    \n",
    "arr = [9, 1, 0, 8, 2, 0, -1]\n",
    "\n",
    "print(mysum(arr))\n",
    "print(mysum2(arr))\n",
    "print(min(arr))\n",
    "print(max(arr))\n",
    "print(minmax(arr))"
   ]
  },
  {
   "cell_type": "code",
   "execution_count": 30,
   "metadata": {},
   "outputs": [
    {
     "data": {
      "text/plain": [
       "-1"
      ]
     },
     "execution_count": 30,
     "metadata": {},
     "output_type": "execute_result"
    }
   ],
   "source": [
    "arr = [4, 9, 0, -1, 2]\n",
    "\n",
    "sorted(arr)[0]"
   ]
  },
  {
   "cell_type": "code",
   "execution_count": 31,
   "metadata": {},
   "outputs": [
    {
     "ename": "TypeError",
     "evalue": "'NoneType' object is not subscriptable",
     "output_type": "error",
     "traceback": [
      "\u001b[1;31m---------------------------------------------------------------------------\u001b[0m",
      "\u001b[1;31mTypeError\u001b[0m                                 Traceback (most recent call last)",
      "Cell \u001b[1;32mIn[31], line 1\u001b[0m\n\u001b[1;32m----> 1\u001b[0m \u001b[43marr\u001b[49m\u001b[38;5;241;43m.\u001b[39;49m\u001b[43msort\u001b[49m\u001b[43m(\u001b[49m\u001b[43m)\u001b[49m\u001b[43m[\u001b[49m\u001b[38;5;241;43m-\u001b[39;49m\u001b[38;5;241;43m1\u001b[39;49m\u001b[43m]\u001b[49m\n",
      "\u001b[1;31mTypeError\u001b[0m: 'NoneType' object is not subscriptable"
     ]
    }
   ],
   "source": [
    "arr.sort()[-1]"
   ]
  },
  {
   "cell_type": "code",
   "execution_count": 33,
   "metadata": {},
   "outputs": [
    {
     "name": "stdout",
     "output_type": "stream",
     "text": [
      "4\n"
     ]
    }
   ],
   "source": [
    "# 5. Как вычислить количество элементов в списке\n",
    "\n",
    "arr = [4, 9, 0, 1]\n",
    "print(len(arr))"
   ]
  },
  {
   "cell_type": "code",
   "execution_count": 34,
   "metadata": {},
   "outputs": [
    {
     "name": "stdout",
     "output_type": "stream",
     "text": [
      "[1, 3, 6]\n"
     ]
    }
   ],
   "source": [
    "# 6. Напишите программу, которая выводит последние три элемента в массиве.\n",
    "arr = [4, 2,1, 3, 6]\n",
    "print(arr[-3:])"
   ]
  },
  {
   "cell_type": "code",
   "execution_count": 50,
   "metadata": {},
   "outputs": [],
   "source": [
    "arr = [1, 2, 3]\n",
    "\n",
    "a, b, c = arr"
   ]
  },
  {
   "cell_type": "code",
   "execution_count": 37,
   "metadata": {},
   "outputs": [
    {
     "data": {
      "text/plain": [
       "(1, 3, 2)"
      ]
     },
     "execution_count": 37,
     "metadata": {},
     "output_type": "execute_result"
    }
   ],
   "source": [
    "a, c, b"
   ]
  },
  {
   "cell_type": "code",
   "execution_count": 44,
   "metadata": {},
   "outputs": [],
   "source": [
    "def minmax(arr):\n",
    "    min = arr[0]\n",
    "    max = arr[0]\n",
    "    for i in arr:\n",
    "        if min > i:\n",
    "           min = i\n",
    "        if max < i:\n",
    "            max = i\n",
    "    return min, max\n",
    "    "
   ]
  },
  {
   "cell_type": "code",
   "execution_count": 48,
   "metadata": {},
   "outputs": [
    {
     "ename": "ValueError",
     "evalue": "not enough values to unpack (expected 3, got 2)",
     "output_type": "error",
     "traceback": [
      "\u001b[1;31m---------------------------------------------------------------------------\u001b[0m",
      "\u001b[1;31mValueError\u001b[0m                                Traceback (most recent call last)",
      "Cell \u001b[1;32mIn[48], line 2\u001b[0m\n\u001b[0;32m      1\u001b[0m arr \u001b[38;5;241m=\u001b[39m [\u001b[38;5;241m1\u001b[39m, \u001b[38;5;241m2\u001b[39m, \u001b[38;5;241m3\u001b[39m]\n\u001b[1;32m----> 2\u001b[0m x, y, c \u001b[38;5;241m=\u001b[39m minmax(arr)\n\u001b[0;32m      3\u001b[0m \u001b[38;5;28mprint\u001b[39m(x)\n\u001b[0;32m      4\u001b[0m \u001b[38;5;28mprint\u001b[39m(y)\n",
      "\u001b[1;31mValueError\u001b[0m: not enough values to unpack (expected 3, got 2)"
     ]
    }
   ],
   "source": [
    "arr = [1, 2, 3]\n",
    "x, y, c = minmax(arr)\n",
    "print(x)\n",
    "print(y)"
   ]
  },
  {
   "cell_type": "code",
   "execution_count": 5,
   "metadata": {},
   "outputs": [
    {
     "name": "stdout",
     "output_type": "stream",
     "text": [
      "(0, 9, 20)\n",
      "(0, 9, 20)\n"
     ]
    }
   ],
   "source": [
    "def mymin(arr):\n",
    "    min = float('inf')\n",
    "    for i in arr:\n",
    "        if min > i:\n",
    "            min = i\n",
    "    return min\n",
    "\n",
    "def mymax(arr):\n",
    "    max = float('-inf')\n",
    "    for i in arr:\n",
    "        if max < i:\n",
    "            max = i\n",
    "    return max\n",
    "\n",
    "def mysum(arr):\n",
    "    sum = 0\n",
    "    for i in arr:\n",
    "        sum += i # sum = sum + i\n",
    "    return sum\n",
    "\n",
    "\n",
    "def minmaxsum(arr):\n",
    "    return mymin(arr), mymax(arr), mysum(arr)\n",
    "\n",
    "def minmaxsum2(arr):\n",
    "    min = mymin(arr)\n",
    "    max = mymax(arr)\n",
    "    sum = mysum(arr)\n",
    "    return min, max, sum\n",
    "\n",
    "\n",
    "arr = [9, 8, 1, 0, 2]\n",
    "print(minmaxsum(arr))\n",
    "print(minmaxsum2(arr))\n",
    "\n"
   ]
  },
  {
   "cell_type": "code",
   "execution_count": 6,
   "metadata": {},
   "outputs": [
    {
     "name": "stdout",
     "output_type": "stream",
     "text": [
      "(inf, -inf, 0)\n"
     ]
    }
   ],
   "source": [
    "arr = []\n",
    "print(minmaxsum(arr))\n"
   ]
  },
  {
   "cell_type": "code",
   "execution_count": 1,
   "metadata": {},
   "outputs": [
    {
     "data": {
      "text/plain": [
       "0"
      ]
     },
     "execution_count": 1,
     "metadata": {},
     "output_type": "execute_result"
    }
   ],
   "source": [
    "arr = [1, 9, 4, 10, 0]\n",
    "min(arr)"
   ]
  },
  {
   "cell_type": "code",
   "execution_count": 8,
   "metadata": {},
   "outputs": [
    {
     "data": {
      "text/plain": [
       "29"
      ]
     },
     "execution_count": 8,
     "metadata": {},
     "output_type": "execute_result"
    }
   ],
   "source": [
    "arr = [1, 29, -1, 0]\n",
    "mymax(arr)"
   ]
  },
  {
   "cell_type": "code",
   "execution_count": 9,
   "metadata": {},
   "outputs": [
    {
     "name": "stdout",
     "output_type": "stream",
     "text": [
      "inf -inf\n"
     ]
    }
   ],
   "source": [
    "arr = []\n",
    "print(mymin(arr), mymax(arr))"
   ]
  },
  {
   "cell_type": "code",
   "execution_count": null,
   "metadata": {},
   "outputs": [
    {
     "data": {
      "text/plain": [
       "float"
      ]
     },
     "execution_count": 18,
     "metadata": {},
     "output_type": "execute_result"
    }
   ],
   "source": [
    "import math\n",
    "\n",
    "type(float(\"inf\"))"
   ]
  },
  {
   "cell_type": "code",
   "execution_count": 19,
   "metadata": {},
   "outputs": [
    {
     "ename": "ValueError",
     "evalue": "invalid literal for int() with base 10: 'inf'",
     "output_type": "error",
     "traceback": [
      "\u001b[1;31m---------------------------------------------------------------------------\u001b[0m",
      "\u001b[1;31mValueError\u001b[0m                                Traceback (most recent call last)",
      "Cell \u001b[1;32mIn[19], line 1\u001b[0m\n\u001b[1;32m----> 1\u001b[0m \u001b[38;5;28;43mint\u001b[39;49m\u001b[43m(\u001b[49m\u001b[38;5;124;43m'\u001b[39;49m\u001b[38;5;124;43minf\u001b[39;49m\u001b[38;5;124;43m'\u001b[39;49m\u001b[43m)\u001b[49m\n",
      "\u001b[1;31mValueError\u001b[0m: invalid literal for int() with base 10: 'inf'"
     ]
    }
   ],
   "source": [
    "int('inf')"
   ]
  },
  {
   "cell_type": "code",
   "execution_count": null,
   "metadata": {},
   "outputs": [
    {
     "data": {
      "text/plain": [
       "(-2147483647, 2147483648)"
      ]
     },
     "execution_count": 21,
     "metadata": {},
     "output_type": "execute_result"
    }
   ],
   "source": [
    "# INT_MAX, INT_MIN, .dll\n",
    "\n",
    "# int a = 10;\n",
    "\n",
    "-(2 ** 31 - 1), +2 ** 31"
   ]
  },
  {
   "cell_type": "code",
   "execution_count": 23,
   "metadata": {},
   "outputs": [
    {
     "data": {
      "text/plain": [
       "20"
      ]
     },
     "execution_count": 23,
     "metadata": {},
     "output_type": "execute_result"
    }
   ],
   "source": [
    "mymax([10, 20])"
   ]
  },
  {
   "cell_type": "code",
   "execution_count": 24,
   "metadata": {},
   "outputs": [
    {
     "data": {
      "text/plain": [
       "3.3333333333333335"
      ]
     },
     "execution_count": 24,
     "metadata": {},
     "output_type": "execute_result"
    }
   ],
   "source": [
    "10/3"
   ]
  },
  {
   "cell_type": "code",
   "execution_count": 25,
   "metadata": {},
   "outputs": [
    {
     "ename": "TypeError",
     "evalue": "list indices must be integers or slices, not float",
     "output_type": "error",
     "traceback": [
      "\u001b[1;31m---------------------------------------------------------------------------\u001b[0m",
      "\u001b[1;31mTypeError\u001b[0m                                 Traceback (most recent call last)",
      "Cell \u001b[1;32mIn[25], line 4\u001b[0m\n\u001b[0;32m      1\u001b[0m arr \u001b[38;5;241m=\u001b[39m [\u001b[38;5;241m1\u001b[39m, \u001b[38;5;241m2\u001b[39m, \u001b[38;5;241m3\u001b[39m, \u001b[38;5;241m5\u001b[39m]\n\u001b[0;32m      2\u001b[0m inx \u001b[38;5;241m=\u001b[39m \u001b[38;5;241m1.0\u001b[39m\n\u001b[1;32m----> 4\u001b[0m \u001b[38;5;28mprint\u001b[39m(\u001b[43marr\u001b[49m\u001b[43m[\u001b[49m\u001b[43minx\u001b[49m\u001b[43m]\u001b[49m)\n",
      "\u001b[1;31mTypeError\u001b[0m: list indices must be integers or slices, not float"
     ]
    }
   ],
   "source": [
    "arr = [1, 2, 3, 5]\n",
    "inx = 1.0\n",
    "\n",
    "print(arr[inx])"
   ]
  },
  {
   "cell_type": "code",
   "execution_count": 26,
   "metadata": {},
   "outputs": [
    {
     "name": "stdout",
     "output_type": "stream",
     "text": [
      "B\n"
     ]
    }
   ],
   "source": [
    "#Сгенерируйте список из 12 случайных оценок в диапазоне 50..100. \n",
    "# Возьмите топ-5 (наибольшие), \n",
    "# посчитайте их среднее (целая часть) и присвойте \n",
    "# букву-оценку: A (90+), B (80–89), C (70–79), иначе — Failed.\n",
    "\n",
    "from random import randint\n",
    "arr = [randint(50, 100) for i in range(12)]\n",
    "\n",
    "arr.sort()\n",
    "b = arr[-5:]\n",
    "avg = sum(b)/len(b)\n",
    "if avg >= 90:\n",
    "    print('A')\n",
    "elif avg > 80:\n",
    "    print('B')\n",
    "elif avg > 70:\n",
    "    print('C')\n",
    "else:\n",
    "    print('Failed')\n"
   ]
  },
  {
   "cell_type": "code",
   "execution_count": null,
   "metadata": {},
   "outputs": [
    {
     "name": "stdout",
     "output_type": "stream",
     "text": [
      "2 99882\n",
      "3 99938\n",
      "6 99662\n",
      "5 99952\n",
      "8 100090\n",
      "1 100742\n",
      "9 99736\n",
      "7 100051\n",
      "4 99901\n",
      "0 100046\n"
     ]
    }
   ],
   "source": [
    "from collections import Counter\n",
    "c = Counter([randint(0, 9) for i in range(10)])\n",
    "for altinay, iskender in c.items():\n",
    "    print(altinay, iskender)"
   ]
  },
  {
   "cell_type": "code",
   "execution_count": 50,
   "metadata": {},
   "outputs": [],
   "source": [
    "summa = []\n",
    "for i in range(1000000):\n",
    "    x = [randint(0, 1) for i in range(20)]\n",
    "    summa.append(sum(x))"
   ]
  },
  {
   "cell_type": "code",
   "execution_count": 53,
   "metadata": {},
   "outputs": [
    {
     "name": "stdout",
     "output_type": "stream",
     "text": [
      "0  1e-06\n",
      "1  1.7e-05\n",
      "2  0.000168\n",
      "3  0.001025\n",
      "4  0.004606\n",
      "5 ** 0.014762\n",
      "6 ******* 0.037045\n",
      "7 ************** 0.07415\n",
      "8 ************************ 0.120327\n",
      "9 ******************************* 0.159664\n",
      "10 *********************************** 0.176\n",
      "11 ******************************** 0.160843\n",
      "12 *********************** 0.119801\n",
      "13 ************** 0.073959\n",
      "14 ******* 0.036956\n",
      "15 ** 0.014743\n",
      "16  0.004697\n",
      "17  0.00104\n",
      "18  0.000173\n",
      "19  2.2e-05\n",
      "20  1e-06\n"
     ]
    }
   ],
   "source": [
    "c = Counter(summa)\n",
    "for i in range(21):\n",
    "    print(i, '*'*int(20*c[i]/100000), c[i]/1000000)"
   ]
  },
  {
   "cell_type": "code",
   "execution_count": null,
   "metadata": {},
   "outputs": [],
   "source": []
  }
 ],
 "metadata": {
  "kernelspec": {
   "display_name": "Python 3",
   "language": "python",
   "name": "python3"
  },
  "language_info": {
   "codemirror_mode": {
    "name": "ipython",
    "version": 3
   },
   "file_extension": ".py",
   "mimetype": "text/x-python",
   "name": "python",
   "nbconvert_exporter": "python",
   "pygments_lexer": "ipython3",
   "version": "3.11.9"
  }
 },
 "nbformat": 4,
 "nbformat_minor": 2
}
