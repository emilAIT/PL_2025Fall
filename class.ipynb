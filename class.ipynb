{
 "cells": [
  {
   "cell_type": "code",
   "execution_count": 132,
   "metadata": {},
   "outputs": [],
   "source": [
    "a = 10"
   ]
  },
  {
   "cell_type": "code",
   "execution_count": 133,
   "metadata": {},
   "outputs": [
    {
     "name": "stdout",
     "output_type": "stream",
     "text": [
      "a =  10\n"
     ]
    }
   ],
   "source": [
    "print('a = ', a)"
   ]
  },
  {
   "cell_type": "code",
   "execution_count": 134,
   "metadata": {},
   "outputs": [],
   "source": [
    "b = a"
   ]
  },
  {
   "cell_type": "code",
   "execution_count": 135,
   "metadata": {},
   "outputs": [
    {
     "name": "stdout",
     "output_type": "stream",
     "text": [
      "value of a is  10\n"
     ]
    }
   ],
   "source": [
    "a = 10\n",
    "b = a\n",
    "b = 20\n",
    "print('value of a is ', a)"
   ]
  },
  {
   "cell_type": "code",
   "execution_count": 136,
   "metadata": {},
   "outputs": [],
   "source": [
    "c = a + b"
   ]
  },
  {
   "cell_type": "code",
   "execution_count": 137,
   "metadata": {},
   "outputs": [
    {
     "name": "stdout",
     "output_type": "stream",
     "text": [
      "30\n"
     ]
    }
   ],
   "source": [
    "print(c)"
   ]
  },
  {
   "cell_type": "code",
   "execution_count": 138,
   "metadata": {},
   "outputs": [
    {
     "name": "stdout",
     "output_type": "stream",
     "text": [
      "30\n"
     ]
    }
   ],
   "source": [
    "c = 100\n",
    "print(a+b)"
   ]
  },
  {
   "cell_type": "code",
   "execution_count": 139,
   "metadata": {},
   "outputs": [
    {
     "data": {
      "text/plain": [
       "int"
      ]
     },
     "execution_count": 139,
     "metadata": {},
     "output_type": "execute_result"
    }
   ],
   "source": [
    "type(a)"
   ]
  },
  {
   "cell_type": "code",
   "execution_count": 140,
   "metadata": {},
   "outputs": [],
   "source": [
    "a = 'emil'"
   ]
  },
  {
   "cell_type": "code",
   "execution_count": 141,
   "metadata": {},
   "outputs": [
    {
     "name": "stdout",
     "output_type": "stream",
     "text": [
      "emil\n"
     ]
    }
   ],
   "source": [
    "print(a)"
   ]
  },
  {
   "cell_type": "code",
   "execution_count": 142,
   "metadata": {},
   "outputs": [
    {
     "data": {
      "text/plain": [
       "str"
      ]
     },
     "execution_count": 142,
     "metadata": {},
     "output_type": "execute_result"
    }
   ],
   "source": [
    "type(a)"
   ]
  },
  {
   "cell_type": "code",
   "execution_count": 143,
   "metadata": {},
   "outputs": [],
   "source": [
    "a = [10, 20]"
   ]
  },
  {
   "cell_type": "code",
   "execution_count": 144,
   "metadata": {},
   "outputs": [
    {
     "name": "stdout",
     "output_type": "stream",
     "text": [
      "[10, 20]\n"
     ]
    }
   ],
   "source": [
    "print(a)"
   ]
  },
  {
   "cell_type": "code",
   "execution_count": 145,
   "metadata": {},
   "outputs": [
    {
     "data": {
      "text/plain": [
       "30"
      ]
     },
     "execution_count": 145,
     "metadata": {},
     "output_type": "execute_result"
    }
   ],
   "source": [
    "a[1] + a[0]"
   ]
  },
  {
   "cell_type": "code",
   "execution_count": 146,
   "metadata": {},
   "outputs": [],
   "source": [
    "b = a"
   ]
  },
  {
   "cell_type": "code",
   "execution_count": 147,
   "metadata": {},
   "outputs": [
    {
     "ename": "TypeError",
     "evalue": "unsupported operand type(s) for +: 'int' and 'list'",
     "output_type": "error",
     "traceback": [
      "\u001b[1;31m---------------------------------------------------------------------------\u001b[0m",
      "\u001b[1;31mTypeError\u001b[0m                                 Traceback (most recent call last)",
      "Cell \u001b[1;32mIn[147], line 6\u001b[0m\n\u001b[0;32m      4\u001b[0m a \u001b[38;5;241m=\u001b[39m \u001b[38;5;241m50\u001b[39m\n\u001b[0;32m      5\u001b[0m c \u001b[38;5;241m=\u001b[39m b[\u001b[38;5;241m0\u001b[39m]\n\u001b[1;32m----> 6\u001b[0m \u001b[43mc\u001b[49m\u001b[43m \u001b[49m\u001b[38;5;241;43m+\u001b[39;49m\u001b[43m \u001b[49m\u001b[43mb\u001b[49m\n",
      "\u001b[1;31mTypeError\u001b[0m: unsupported operand type(s) for +: 'int' and 'list'"
     ]
    }
   ],
   "source": [
    "c = 100\n",
    "a = [10, 40, 70]\n",
    "b = a\n",
    "a = 50\n",
    "c = b[0]\n",
    "c + b"
   ]
  },
  {
   "cell_type": "code",
   "execution_count": null,
   "metadata": {},
   "outputs": [
    {
     "ename": "TypeError",
     "evalue": "'int' object is not iterable",
     "output_type": "error",
     "traceback": [
      "\u001b[1;31m---------------------------------------------------------------------------\u001b[0m",
      "\u001b[1;31mTypeError\u001b[0m                                 Traceback (most recent call last)",
      "Cell \u001b[1;32mIn[3], line 5\u001b[0m\n\u001b[0;32m      1\u001b[0m \u001b[38;5;28;01mdef\u001b[39;00m \u001b[38;5;21mmysum\u001b[39m(x, y):\n\u001b[0;32m      2\u001b[0m     \u001b[38;5;28;01mreturn\u001b[39;00m \u001b[38;5;28msum\u001b[39m([x] \u001b[38;5;241m+\u001b[39m y)\n\u001b[1;32m----> 5\u001b[0m \u001b[38;5;28;43msum\u001b[39;49m\u001b[43m(\u001b[49m\u001b[43mc\u001b[49m\u001b[43m,\u001b[49m\u001b[43m \u001b[49m\u001b[43mb\u001b[49m\u001b[43m)\u001b[49m\n",
      "\u001b[1;31mTypeError\u001b[0m: 'int' object is not iterable"
     ]
    }
   ],
   "source": [
    "def aitsum(x, y):\n",
    "    return sum([x] + y)\n",
    "\n",
    "\n",
    "aitsum(c, b)"
   ]
  },
  {
   "cell_type": "code",
   "execution_count": null,
   "metadata": {},
   "outputs": [
    {
     "data": {
      "text/plain": [
       "[1, 2, 3, 5]"
      ]
     },
     "execution_count": 5,
     "metadata": {},
     "output_type": "execute_result"
    }
   ],
   "source": [
    "[1]+ [2, 3, 5]"
   ]
  },
  {
   "cell_type": "code",
   "execution_count": null,
   "metadata": {},
   "outputs": [],
   "source": [
    "[1]+ [2, 3, 5]"
   ]
  },
  {
   "cell_type": "code",
   "execution_count": 338,
   "metadata": {},
   "outputs": [
    {
     "data": {
      "text/plain": [
       "[1, 2, 3, 5]"
      ]
     },
     "execution_count": 338,
     "metadata": {},
     "output_type": "execute_result"
    }
   ],
   "source": [
    "# Question: What will be the result of the following Python expression?\n",
    "# [1] + [2, 3, 5]"
   ]
  },
  {
   "cell_type": "code",
   "execution_count": null,
   "metadata": {},
   "outputs": [],
   "source": []
  },
  {
   "cell_type": "code",
   "execution_count": null,
   "metadata": {},
   "outputs": [
    {
     "name": "stdout",
     "output_type": "stream",
     "text": [
      "9\n"
     ]
    }
   ],
   "source": [
    "a = [6, 7, 9, 8, 10]\n",
    "print(a[2])"
   ]
  },
  {
   "cell_type": "code",
   "execution_count": null,
   "metadata": {},
   "outputs": [
    {
     "name": "stdout",
     "output_type": "stream",
     "text": [
      "[6, 7, 9, 100, 10]\n"
     ]
    }
   ],
   "source": [
    "a[3] = 100\n",
    "print(a)"
   ]
  },
  {
   "cell_type": "code",
   "execution_count": null,
   "metadata": {},
   "outputs": [
    {
     "name": "stdout",
     "output_type": "stream",
     "text": [
      "[20] [1, 2, 3] [1, 2, 3]\n"
     ]
    }
   ],
   "source": [
    "a = [1, 2, 3]\n",
    "b = a\n",
    "c = b\n",
    "a = [20]\n",
    "print(a, b, c)"
   ]
  },
  {
   "cell_type": "code",
   "execution_count": null,
   "metadata": {},
   "outputs": [
    {
     "data": {
      "text/plain": [
       "[20, 1, 2, 3, 1, 2, 3]"
      ]
     },
     "execution_count": 11,
     "metadata": {},
     "output_type": "execute_result"
    }
   ],
   "source": [
    "a + b + c"
   ]
  },
  {
   "cell_type": "code",
   "execution_count": null,
   "metadata": {},
   "outputs": [
    {
     "data": {
      "text/plain": [
       "68"
      ]
     },
     "execution_count": 53,
     "metadata": {},
     "output_type": "execute_result"
    }
   ],
   "source": [
    "from random import shuffle\n",
    "\n",
    "s = '''Абдралиев Белек Маратович\n",
    "Абдуллаев Ийгилик Эльбурсович\n",
    "Айтматов Байэл Бактыбекович\n",
    "Асанбек уула Чынгыз\n",
    "Асанов Искендер Асанович\n",
    "Аскаров Арсен Анарбаевич\n",
    "Байтемиров Искендер Бекмуратович\n",
    "Баитиков Адел\n",
    "Бакытбеков Роман Талантович\n",
    "Бекбосунова Айша Болотовна\n",
    "Бекенова Аяна\n",
    "Бектемиров Ибрахимбек Максадбекович\n",
    "Бердибаева Нурай Нурбековна\n",
    "Болотбек уулу Эржан\n",
    "Волгин Даниэль Максимович\n",
    "Гулжигитов Дайырбек Мухаммедович\n",
    "Джутанкеева Мээрим Тамерлановна\n",
    "Душобаев Вилдан Гайратбекович\n",
    "Жавдедова Назик Рустамовна\n",
    "Жаныбекова Бегимай Жаныбековна\n",
    "Жолдубаев Эмил Аресович\n",
    "Жумаев Абдунур Нурбекович\n",
    "Жыргалбек уулу Эрбол\n",
    "Зиялиева Саадат Кадырбековна\n",
    "Исмаилова Алтынай Нурбековна\n",
    "Кадыракунова Аделя Эрнистовна\n",
    "Канатбеков Ажо Канатбекович\n",
    "Каримова Айбийке Азаматовна\n",
    "Керимов Акбар Айбекович\n",
    "Ким Жихён\n",
    "Краснов Ильхан Даниярович\n",
    "Кубанычбеков Эмир Арсланович\n",
    "Курманова Бегайым Курмановна\n",
    "Кусеинов Элдар Жээнбекович\n",
    "Куттугалиева Зарылкан Бекболотовна\n",
    "Кыдыкбекова Айпери Бахтияровна\n",
    "Кыдыралиев Жанболот Тойчуевич\n",
    "Маматалиев Нурболот \n",
    "Маматжанова Эленора Мирланбековна\n",
    "Маматзундуев Бекбол Назбекович\n",
    "Марсел\n",
    "Надирбеков Абдусамат\n",
    "Назарбаев Нурсултан Женишбекович\n",
    "Нуралиева Асель Акжоловна\n",
    "Омурбекова Мирана Азизбековна\n",
    "Ормушов Темирлан Арстанбекович\n",
    "Орунбаев Байжан Омурбекович\n",
    "Рахматылло уулу Касымбек Сухрабович\n",
    "Солтобеков Амин Бектурович\n",
    "Сыдгали уулу Жаныбек\n",
    "Таалайбеков Баястан Талайбекович\n",
    "Тагаева Рахат Арапшаевна\n",
    "Ташбай уулу Даниэл\n",
    "Торокулов Айман Талайбекович\n",
    "Хусанбаева Диляфруз Азимжоновна\n",
    "Шукуралиев Нурдан Даниярович\n",
    "Элчиев Ясир Жыргалбекович\n",
    "Эркибаев Нурбек Алмазович\n",
    "Калматов Азиз Кылычбекович\n",
    "Жапаров Шердос \n",
    "Аширалиев Аман\n",
    "Eldiyar\n",
    "Asylkan\n",
    "Kutman\n",
    "Diaz\n",
    "Shergazy\n",
    "Akylbek Zamirov\n",
    "'''\n",
    "s = s.split('\\n')\n",
    "len(s)"
   ]
  },
  {
   "cell_type": "code",
   "execution_count": null,
   "metadata": {},
   "outputs": [
    {
     "name": "stdout",
     "output_type": "stream",
     "text": [
      "1 Жумаев Абдунур Нурбекович\n",
      "2 Надирбеков Абдусамат\n",
      "3 Нуралиева Асель Акжоловна\n",
      "4 Маматжанова Эленора Мирланбековна\n",
      "5 Тагаева Рахат Арапшаевна\n",
      "6 Жапаров Шердос \n",
      "7 Элчиев Ясир Жыргалбекович\n",
      "8 Кадыракунова Аделя Эрнистовна\n",
      "9 Марсел\n",
      "10 Байтемиров Искендер Бекмуратович\n",
      "11 Джутанкеева Мээрим Тамерлановна\n",
      "12 Душобаев Вилдан Гайратбекович\n",
      "13 Гулжигитов Дайырбек Мухаммедович\n",
      "14 Asylkan\n",
      "15 Омурбекова Мирана Азизбековна\n",
      "16 Бакытбеков Роман Талантович\n",
      "17 Akylbek Zamirov\n",
      "18 Маматалиев Нурболот \n",
      "19 Каримова Айбийке Азаматовна\n",
      "20 Жолдубаев Эмил Аресович\n",
      "21 Абдуллаев Ийгилик Эльбурсович\n",
      "22 Бектемиров Ибрахимбек Максадбекович\n",
      "23 Кыдыкбекова Айпери Бахтияровна\n",
      "24 Краснов Ильхан Даниярович\n",
      "25 Канатбеков Ажо Канатбекович\n",
      "26 Жыргалбек уулу Эрбол\n",
      "27 Аширалиев Аман\n",
      "28 Ормушов Темирлан Арстанбекович\n",
      "29 Kutman\n",
      "30 Исмаилова Алтынай Нурбековна\n",
      "31 Асанбек уула Чынгыз\n",
      "32 Куттугалиева Зарылкан Бекболотовна\n",
      "33 Shergazy\n",
      "34 Шукуралиев Нурдан Даниярович\n",
      "35 Маматзундуев Бекбол Назбекович\n",
      "36 Волгин Даниэль Максимович\n",
      "37 Сыдгали уулу Жаныбек\n",
      "38 Хусанбаева Диляфруз Азимжоновна\n",
      "39 Торокулов Айман Талайбекович\n",
      "40 Ташбай уулу Даниэл\n",
      "41 Бердибаева Нурай Нурбековна\n",
      "42 Diaz\n",
      "43 Жавдедова Назик Рустамовна\n",
      "44 Кыдыралиев Жанболот Тойчуевич\n",
      "45 Кубанычбеков Эмир Арсланович\n",
      "46 Орунбаев Байжан Омурбекович\n",
      "47 Таалайбеков Баястан Талайбекович\n",
      "48 Айтматов Байэл Бактыбекович\n",
      "49 Эркибаев Нурбек Алмазович\n",
      "50 Назарбаев Нурсултан Женишбекович\n",
      "51 Eldiyar\n",
      "52 Ким Жихён\n",
      "53 Баитиков Адел\n",
      "54 Керимов Акбар Айбекович\n",
      "55 Рахматылло уулу Касымбек Сухрабович\n",
      "56 Кусеинов Элдар Жээнбекович\n",
      "57 Калматов Азиз Кылычбекович\n",
      "58 Болотбек уулу Эржан\n",
      "59 Аскаров Арсен Анарбаевич\n",
      "60 Курманова Бегайым Курмановна\n",
      "61 Асанов Искендер Асанович\n",
      "62 Зиялиева Саадат Кадырбековна\n",
      "63 Бекенова Аяна\n",
      "64 Солтобеков Амин Бектурович\n",
      "65 Бекбосунова Айша Болотовна\n",
      "66 \n",
      "67 Жаныбекова Бегимай Жаныбековна\n",
      "68 Абдралиев Белек Маратович\n"
     ]
    }
   ],
   "source": [
    "shuffle(s)\n",
    "for i, name in enumerate(s):\n",
    "    print(i+1, name)"
   ]
  },
  {
   "cell_type": "code",
   "execution_count": null,
   "metadata": {},
   "outputs": [],
   "source": [
    "grade = 75\n",
    "\n",
    "if grade > 50:\n",
    "    print('you have passes this class')\n",
    "    print('congrats')\n",
    "    print('you dont need to take this class again')\n",
    "else:\n",
    "    "
   ]
  },
  {
   "cell_type": "code",
   "execution_count": null,
   "metadata": {},
   "outputs": [
    {
     "name": "stdout",
     "output_type": "stream",
     "text": [
      "idem v park, stoimost = 250\n",
      "v kino ne idem\n",
      "v kafe ne idem\n",
      "kaldik =  250\n"
     ]
    }
   ],
   "source": [
    "pogoda = input('How is the weather outside: ')\n",
    "balance = 500\n",
    "\n",
    "if pogoda == 'rainy':\n",
    "    print('park ne idem')\n",
    "    print('idem v kino, sotimost = 500')\n",
    "    balance = balance - 500\n",
    "\n",
    "elif pogoda == 'sunny':\n",
    "    print('v kino ne idem')\n",
    "    print('v kafe idem, sotimost = 900')\n",
    "    balance = balance - 900\n",
    "\n",
    "elif pogoda == 'cloudy':\n",
    "    print('idem v park, stoimost = 250')\n",
    "    print('v kino ne idem')\n",
    "    print('v kafe ne idem')\n",
    "    balance = balance - 250\n",
    "\n",
    "else:\n",
    "    print('doma sidi dengi ne trat')\n",
    "\n",
    "print('kaldik = ', balance)"
   ]
  },
  {
   "cell_type": "code",
   "execution_count": null,
   "metadata": {},
   "outputs": [
    {
     "name": "stdout",
     "output_type": "stream",
     "text": [
      "25 <class 'str'>\n"
     ]
    }
   ],
   "source": [
    "print(x, type(x))"
   ]
  },
  {
   "cell_type": "code",
   "execution_count": null,
   "metadata": {},
   "outputs": [],
   "source": [
    "y = int(x)\n",
    "z = int(1.9999)"
   ]
  },
  {
   "cell_type": "code",
   "execution_count": null,
   "metadata": {},
   "outputs": [
    {
     "data": {
      "text/plain": [
       "(int, str, 1, int)"
      ]
     },
     "execution_count": 52,
     "metadata": {},
     "output_type": "execute_result"
    }
   ],
   "source": [
    "type(y), type(x), z, type(z)"
   ]
  },
  {
   "cell_type": "code",
   "execution_count": null,
   "metadata": {},
   "outputs": [],
   "source": [
    "from math import floor, ceil\n",
    "m = 1.99999\n",
    "m_priblijonniy = round(m)\n",
    "m_kichine = floor(m)\n",
    "m_chon = ceil(m)"
   ]
  },
  {
   "cell_type": "code",
   "execution_count": null,
   "metadata": {},
   "outputs": [
    {
     "name": "stdout",
     "output_type": "stream",
     "text": [
      "1.99999 2 1 2\n"
     ]
    }
   ],
   "source": [
    "print(m, m_priblijonniy, m_kichine, m_chon)"
   ]
  },
  {
   "cell_type": "code",
   "execution_count": null,
   "metadata": {},
   "outputs": [
    {
     "name": "stdout",
     "output_type": "stream",
     "text": [
      "tuura, x =  25\n"
     ]
    }
   ],
   "source": [
    "if int(x) == 25:\n",
    "    print(\"tuura, x = \", x)\n",
    "else:\n",
    "    print('tuura emes, x = ', x)"
   ]
  },
  {
   "cell_type": "code",
   "execution_count": null,
   "metadata": {},
   "outputs": [
    {
     "ename": "ValueError",
     "evalue": "invalid literal for int() with base 10: 'k'",
     "output_type": "error",
     "traceback": [
      "\u001b[1;31m---------------------------------------------------------------------------\u001b[0m",
      "\u001b[1;31mValueError\u001b[0m                                Traceback (most recent call last)",
      "Cell \u001b[1;32mIn[56], line 1\u001b[0m\n\u001b[1;32m----> 1\u001b[0m x1 \u001b[38;5;241m=\u001b[39m \u001b[38;5;28;43mint\u001b[39;49m\u001b[43m(\u001b[49m\u001b[38;5;28;43minput\u001b[39;49m\u001b[43m(\u001b[49m\u001b[38;5;124;43m'\u001b[39;49m\u001b[38;5;124;43mznachenie\u001b[39;49m\u001b[38;5;124;43m'\u001b[39;49m\u001b[43m)\u001b[49m\u001b[43m)\u001b[49m\n\u001b[0;32m      2\u001b[0m \u001b[38;5;28mprint\u001b[39m(\u001b[38;5;28mtype\u001b[39m(x1), x1)\n",
      "\u001b[1;31mValueError\u001b[0m: invalid literal for int() with base 10: 'k'"
     ]
    }
   ],
   "source": [
    "x1 = int(input('znachenie'))\n",
    "print(type(x1), x1)"
   ]
  },
  {
   "cell_type": "code",
   "execution_count": null,
   "metadata": {},
   "outputs": [
    {
     "name": "stdout",
     "output_type": "stream",
     "text": [
      "nurbolot = 800\n",
      "asel =  2000\n",
      "aibike =  1500\n",
      "mbank_kassa =  4300\n"
     ]
    }
   ],
   "source": [
    "nurbolot = 800\n",
    "aibike = 1500\n",
    "asel = 2000\n",
    "\n",
    "mbank_kassa = nurbolot + aibike + asel\n",
    "\n",
    "print('nurbolot =', nurbolot)\n",
    "print('asel = ', asel)\n",
    "print('aibike = ', aibike)\n",
    "print('mbank_kassa = ', mbank_kassa)"
   ]
  },
  {
   "cell_type": "code",
   "execution_count": null,
   "metadata": {},
   "outputs": [
    {
     "ename": "ValueError",
     "evalue": "invalid literal for int() with base 10: 'emil'",
     "output_type": "error",
     "traceback": [
      "\u001b[1;31m---------------------------------------------------------------------------\u001b[0m",
      "\u001b[1;31mValueError\u001b[0m                                Traceback (most recent call last)",
      "Cell \u001b[1;32mIn[68], line 1\u001b[0m\n\u001b[1;32m----> 1\u001b[0m summa_perevod \u001b[38;5;241m=\u001b[39m \u001b[38;5;28;43mint\u001b[39;49m\u001b[43m(\u001b[49m\u001b[38;5;28;43minput\u001b[39;49m\u001b[43m(\u001b[49m\u001b[38;5;124;43m'\u001b[39;49m\u001b[38;5;124;43msumma perevoda:\u001b[39;49m\u001b[38;5;124;43m'\u001b[39;49m\u001b[43m)\u001b[49m\u001b[43m)\u001b[49m\n\u001b[0;32m      3\u001b[0m \u001b[38;5;28;01mif\u001b[39;00m \u001b[38;5;241m0\u001b[39m \u001b[38;5;241m<\u001b[39m\u001b[38;5;241m=\u001b[39m summa_perevod \u001b[38;5;241m<\u001b[39m\u001b[38;5;241m=\u001b[39m aibike:\n\u001b[0;32m      4\u001b[0m     aibike \u001b[38;5;241m=\u001b[39m aibike \u001b[38;5;241m-\u001b[39m summa_perevod\n",
      "\u001b[1;31mValueError\u001b[0m: invalid literal for int() with base 10: 'emil'"
     ]
    }
   ],
   "source": [
    "summa_perevod = int(input('summa perevoda:'))\n",
    "\n",
    "if 0 <= summa_perevod <= aibike:\n",
    "    aibike = aibike - summa_perevod\n",
    "    nurbolot = nurbolot + summa_perevod\n",
    "else:\n",
    "    print('ne dostachno sredstv')\n",
    "\n",
    "mbank_kassa = nurbolot + aibike + asel\n",
    "\n",
    "print('nurbolot =', nurbolot)\n",
    "print('asel = ', asel)\n",
    "print('aibike = ', aibike)\n",
    "print('mbank_kassa = ', mbank_kassa)"
   ]
  },
  {
   "cell_type": "code",
   "execution_count": null,
   "metadata": {},
   "outputs": [
    {
     "name": "stdout",
     "output_type": "stream",
     "text": [
      "29\n",
      "58\n",
      "14\n",
      "61\n"
     ]
    }
   ],
   "source": [
    "from random import randint\n",
    "for i in range(4):\n",
    "    print(randint(1, 63))"
   ]
  },
  {
   "cell_type": "code",
   "execution_count": null,
   "metadata": {},
   "outputs": [
    {
     "data": {
      "text/plain": [
       "True"
      ]
     },
     "execution_count": 70,
     "metadata": {},
     "output_type": "execute_result"
    }
   ],
   "source": [
    "pogoda = 'sunny'\n",
    "pogoda == 'sunny' "
   ]
  },
  {
   "cell_type": "code",
   "execution_count": null,
   "metadata": {},
   "outputs": [
    {
     "name": "stdout",
     "output_type": "stream",
     "text": [
      "incorrect\n"
     ]
    }
   ],
   "source": [
    "x = 10 \n",
    "y = 25\n",
    "\n",
    "if x*x - x*y + x*x*x/2 > y*y:\n",
    "    print('correct')\n",
    "else:\n",
    "    print('incorrect')"
   ]
  },
  {
   "cell_type": "code",
   "execution_count": null,
   "metadata": {},
   "outputs": [
    {
     "data": {
      "text/plain": [
       "False"
      ]
     },
     "execution_count": 76,
     "metadata": {},
     "output_type": "execute_result"
    }
   ],
   "source": [
    "x*x - x*y + x*x*x/2 > y*y"
   ]
  },
  {
   "cell_type": "code",
   "execution_count": null,
   "metadata": {},
   "outputs": [
    {
     "data": {
      "text/plain": [
       "True"
      ]
     },
     "execution_count": 77,
     "metadata": {},
     "output_type": "execute_result"
    }
   ],
   "source": [
    "True and True"
   ]
  },
  {
   "cell_type": "code",
   "execution_count": null,
   "metadata": {},
   "outputs": [
    {
     "data": {
      "text/plain": [
       "False"
      ]
     },
     "execution_count": 78,
     "metadata": {},
     "output_type": "execute_result"
    }
   ],
   "source": [
    "True and False"
   ]
  },
  {
   "cell_type": "code",
   "execution_count": null,
   "metadata": {},
   "outputs": [
    {
     "data": {
      "text/plain": [
       "False"
      ]
     },
     "execution_count": 79,
     "metadata": {},
     "output_type": "execute_result"
    }
   ],
   "source": [
    "False and True"
   ]
  },
  {
   "cell_type": "code",
   "execution_count": null,
   "metadata": {},
   "outputs": [
    {
     "data": {
      "text/plain": [
       "False"
      ]
     },
     "execution_count": 80,
     "metadata": {},
     "output_type": "execute_result"
    }
   ],
   "source": [
    "False and False"
   ]
  },
  {
   "cell_type": "code",
   "execution_count": null,
   "metadata": {},
   "outputs": [
    {
     "data": {
      "text/plain": [
       "True"
      ]
     },
     "execution_count": 81,
     "metadata": {},
     "output_type": "execute_result"
    }
   ],
   "source": [
    "True or True"
   ]
  },
  {
   "cell_type": "code",
   "execution_count": null,
   "metadata": {},
   "outputs": [
    {
     "data": {
      "text/plain": [
       "True"
      ]
     },
     "execution_count": 82,
     "metadata": {},
     "output_type": "execute_result"
    }
   ],
   "source": [
    "True or False"
   ]
  },
  {
   "cell_type": "code",
   "execution_count": null,
   "metadata": {},
   "outputs": [
    {
     "data": {
      "text/plain": [
       "True"
      ]
     },
     "execution_count": 83,
     "metadata": {},
     "output_type": "execute_result"
    }
   ],
   "source": [
    "False or True"
   ]
  },
  {
   "cell_type": "code",
   "execution_count": null,
   "metadata": {},
   "outputs": [
    {
     "data": {
      "text/plain": [
       "False"
      ]
     },
     "execution_count": 84,
     "metadata": {},
     "output_type": "execute_result"
    }
   ],
   "source": [
    "False or False"
   ]
  },
  {
   "cell_type": "code",
   "execution_count": null,
   "metadata": {},
   "outputs": [
    {
     "data": {
      "text/plain": [
       "True"
      ]
     },
     "execution_count": 88,
     "metadata": {},
     "output_type": "execute_result"
    }
   ],
   "source": [
    "((True and True) or False and True) and (False or True) and True"
   ]
  },
  {
   "cell_type": "code",
   "execution_count": null,
   "metadata": {},
   "outputs": [
    {
     "name": "stdout",
     "output_type": "stream",
     "text": [
      "kino\n",
      "kino2\n",
      "pofig2\n"
     ]
    }
   ],
   "source": [
    "x = input('weather type')\n",
    "\n",
    "if x == 'sunny':\n",
    "    print('cafe')\n",
    "elif x == 'cloudy':\n",
    "    print('kino')\n",
    "elif x == 'rainy':\n",
    "    print('home')\n",
    "else:\n",
    "    print('pofig')\n",
    "\n",
    "\n",
    "if x == 'sunny':\n",
    "    print('cafe2')\n",
    "if x == 'cloudy':\n",
    "    print('kino2')\n",
    "if x == 'rainy':\n",
    "    print('home2')\n",
    "else:\n",
    "    print('pofig2')"
   ]
  },
  {
   "cell_type": "code",
   "execution_count": null,
   "metadata": {},
   "outputs": [
    {
     "name": "stdout",
     "output_type": "stream",
     "text": [
      "[54, 88, 69, 85, 98, 86, 100, 88, 71, 76, 53, 82, 64, 59]\n",
      "[53, 54, 59, 64, 69, 71, 76, 82, 85, 86, 88, 88, 98, 100]\n",
      "[59, 64, 69, 71, 76, 82, 85, 86, 88, 88, 98, 100]\n",
      "966\n",
      "12\n",
      "\n"
     ]
    }
   ],
   "source": [
    "from random import randint\n",
    "grades = [randint(50, 100) for i in range(14)]\n",
    "print(grades)\n",
    "s = sorted(grades)\n",
    "print(s)\n",
    "top_12 = s[-12:]\n",
    "print(top_12)\n",
    "s = sum(top_12)\n",
    "print(s)\n",
    "print(len(top_12))\n",
    "avg = s // len(top_12)\n",
    "\n"
   ]
  },
  {
   "cell_type": "code",
   "execution_count": null,
   "metadata": {},
   "outputs": [
    {
     "name": "stdout",
     "output_type": "stream",
     "text": [
      "score =  80\n",
      "grade = C\n"
     ]
    }
   ],
   "source": [
    "print('score = ', avg)\n",
    "if avg < 0 or avg > 100:\n",
    "    print('error in grading')\n",
    "elif avg >= 93:\n",
    "    print('grade = A')\n",
    "elif avg >= 90:\n",
    "    print('grade = B+')\n",
    "elif avg >= 87:\n",
    "    print('grade = B')\n",
    "elif avg >= 84:\n",
    "    print('grade = B-')\n",
    "elif avg >= 81:\n",
    "    print('grade = C+')\n",
    "elif avg >= 78:\n",
    "    print('grade = C')\n",
    "elif avg >= 75:\n",
    "    print('grade = C-')\n",
    "elif avg >= 72:\n",
    "    print('grade = D+')\n",
    "elif avg >= 69:\n",
    "    print('grade = D')\n",
    "elif avg >= 66:\n",
    "    print('grade = D-')\n",
    "elif avg >= 63:\n",
    "    print('grade = F')\n",
    "else:\n",
    "    print('Failed the class')\n"
   ]
  },
  {
   "cell_type": "code",
   "execution_count": null,
   "metadata": {},
   "outputs": [
    {
     "data": {
      "text/plain": [
       "3.3333333333333335"
      ]
     },
     "execution_count": 11,
     "metadata": {},
     "output_type": "execute_result"
    }
   ],
   "source": [
    "10 / 3"
   ]
  },
  {
   "cell_type": "code",
   "execution_count": null,
   "metadata": {},
   "outputs": [
    {
     "data": {
      "text/plain": [
       "3"
      ]
     },
     "execution_count": 12,
     "metadata": {},
     "output_type": "execute_result"
    }
   ],
   "source": [
    "10 // 3"
   ]
  },
  {
   "cell_type": "code",
   "execution_count": null,
   "metadata": {},
   "outputs": [
    {
     "name": "stdout",
     "output_type": "stream",
     "text": [
      "4\n"
     ]
    }
   ],
   "source": [
    "s = 'emil'\n",
    "print(len(s))"
   ]
  },
  {
   "cell_type": "code",
   "execution_count": null,
   "metadata": {},
   "outputs": [
    {
     "name": "stdout",
     "output_type": "stream",
     "text": [
      "EmilAIT\n"
     ]
    }
   ],
   "source": [
    "s = 'Emil'\n",
    "b = 'AIT'\n",
    "print(s + b)"
   ]
  },
  {
   "cell_type": "code",
   "execution_count": null,
   "metadata": {},
   "outputs": [
    {
     "name": "stdout",
     "output_type": "stream",
     "text": [
      "Emil AIT\n"
     ]
    }
   ],
   "source": [
    "print(s + ' ' + b)"
   ]
  },
  {
   "cell_type": "code",
   "execution_count": null,
   "metadata": {},
   "outputs": [
    {
     "data": {
      "text/plain": [
       "'Emil AIT'"
      ]
     },
     "execution_count": 16,
     "metadata": {},
     "output_type": "execute_result"
    }
   ],
   "source": [
    "f'{s} {b}'"
   ]
  },
  {
   "cell_type": "code",
   "execution_count": null,
   "metadata": {},
   "outputs": [
    {
     "data": {
      "text/plain": [
       "'False'"
      ]
     },
     "execution_count": 20,
     "metadata": {},
     "output_type": "execute_result"
    }
   ],
   "source": [
    "f\"{s+b < b}\""
   ]
  },
  {
   "cell_type": "code",
   "execution_count": null,
   "metadata": {},
   "outputs": [
    {
     "data": {
      "text/plain": [
       "'{s+b} <-> {b}'"
      ]
     },
     "execution_count": 19,
     "metadata": {},
     "output_type": "execute_result"
    }
   ],
   "source": [
    "\"{s+b} <-> {b}\""
   ]
  },
  {
   "cell_type": "code",
   "execution_count": null,
   "metadata": {},
   "outputs": [
    {
     "data": {
      "text/plain": [
       "(65, 101)"
      ]
     },
     "execution_count": 21,
     "metadata": {},
     "output_type": "execute_result"
    }
   ],
   "source": [
    "ord('A'), ord('e')"
   ]
  },
  {
   "cell_type": "code",
   "execution_count": null,
   "metadata": {},
   "outputs": [
    {
     "data": {
      "text/plain": [
       "True"
      ]
     },
     "execution_count": 28,
     "metadata": {},
     "output_type": "execute_result"
    }
   ],
   "source": [
    "'aaaazzz' < 'aazaaa'"
   ]
  },
  {
   "cell_type": "code",
   "execution_count": null,
   "metadata": {},
   "outputs": [
    {
     "data": {
      "text/plain": [
       "False"
      ]
     },
     "execution_count": 29,
     "metadata": {},
     "output_type": "execute_result"
    }
   ],
   "source": [
    "[2, 0, 1, 4] < [0, 0, 3, 0]"
   ]
  },
  {
   "cell_type": "code",
   "execution_count": null,
   "metadata": {},
   "outputs": [
    {
     "data": {
      "text/plain": [
       "True"
      ]
     },
     "execution_count": 30,
     "metadata": {},
     "output_type": "execute_result"
    }
   ],
   "source": [
    "[2, 0, 1, 4] < [3, 0]"
   ]
  },
  {
   "cell_type": "code",
   "execution_count": null,
   "metadata": {},
   "outputs": [
    {
     "data": {
      "text/plain": [
       "(97, 98, 65, 66)"
      ]
     },
     "execution_count": 32,
     "metadata": {},
     "output_type": "execute_result"
    }
   ],
   "source": [
    "ord('a'), ord('b'), ord('A'), ord('B')"
   ]
  },
  {
   "cell_type": "code",
   "execution_count": null,
   "metadata": {},
   "outputs": [
    {
     "name": "stdout",
     "output_type": "stream",
     "text": [
      "[1, 2, 3, 4]\n",
      "[1, 2, 100, 4]\n"
     ]
    }
   ],
   "source": [
    "b = [1, 2, 3, 4]\n",
    "print(b)\n",
    "b[2] = 100\n",
    "print(b)"
   ]
  },
  {
   "cell_type": "code",
   "execution_count": null,
   "metadata": {},
   "outputs": [
    {
     "name": "stdout",
     "output_type": "stream",
     "text": [
      "emil\n"
     ]
    },
    {
     "ename": "TypeError",
     "evalue": "'str' object does not support item assignment",
     "output_type": "error",
     "traceback": [
      "\u001b[1;31m---------------------------------------------------------------------------\u001b[0m",
      "\u001b[1;31mTypeError\u001b[0m                                 Traceback (most recent call last)",
      "Cell \u001b[1;32mIn[34], line 3\u001b[0m\n\u001b[0;32m      1\u001b[0m x \u001b[38;5;241m=\u001b[39m \u001b[38;5;124m'\u001b[39m\u001b[38;5;124memil\u001b[39m\u001b[38;5;124m'\u001b[39m\n\u001b[0;32m      2\u001b[0m \u001b[38;5;28mprint\u001b[39m(x)\n\u001b[1;32m----> 3\u001b[0m \u001b[43mx\u001b[49m\u001b[43m[\u001b[49m\u001b[38;5;241;43m2\u001b[39;49m\u001b[43m]\u001b[49m \u001b[38;5;241m=\u001b[39m \u001b[38;5;124m'\u001b[39m\u001b[38;5;124mX\u001b[39m\u001b[38;5;124m'\u001b[39m\n\u001b[0;32m      4\u001b[0m \u001b[38;5;28mprint\u001b[39m(x)\n",
      "\u001b[1;31mTypeError\u001b[0m: 'str' object does not support item assignment"
     ]
    }
   ],
   "source": [
    "x = 'emil'\n",
    "print(x)\n",
    "x[2] = 'X'\n",
    "print(x)"
   ]
  },
  {
   "cell_type": "code",
   "execution_count": null,
   "metadata": {},
   "outputs": [],
   "source": [
    "def imya():\n",
    "    pass"
   ]
  },
  {
   "cell_type": "code",
   "execution_count": null,
   "metadata": {},
   "outputs": [],
   "source": [
    "def raznitsa(x, y):\n",
    "    return x - y\n",
    "\n"
   ]
  },
  {
   "cell_type": "markdown",
   "metadata": {},
   "source": []
  },
  {
   "cell_type": "code",
   "execution_count": null,
   "metadata": {},
   "outputs": [
    {
     "data": {
      "text/plain": [
       "-10"
      ]
     },
     "execution_count": 37,
     "metadata": {},
     "output_type": "execute_result"
    }
   ],
   "source": [
    "raznitsa(10, 20)"
   ]
  },
  {
   "cell_type": "code",
   "execution_count": null,
   "metadata": {},
   "outputs": [],
   "source": [
    "def sredniy(grades):\n",
    "    s = sorted(grades)\n",
    "    top_12 = s[-12:]\n",
    "    s = sum(top_12)\n",
    "    avg = s // len(top_12)\n",
    "    return avg"
   ]
  },
  {
   "cell_type": "code",
   "execution_count": null,
   "metadata": {},
   "outputs": [],
   "source": [
    "def letter_grade(avg):\n",
    "    print('score = ', avg)\n",
    "    if avg < 0 or avg > 100:\n",
    "        return 'error in grading'\n",
    "    elif avg >= 93:\n",
    "        return 'grade = A'\n",
    "    elif avg >= 90:\n",
    "        return 'grade = B+'\n",
    "    elif avg >= 87:\n",
    "        return 'grade = B'\n",
    "    elif avg >= 84:\n",
    "        return 'grade = B-'\n",
    "    elif avg >= 81:\n",
    "        return 'grade = C+'\n",
    "    elif avg >= 78:\n",
    "        return 'grade = C'\n",
    "    elif avg >= 75:\n",
    "        return 'grade = C-'\n",
    "    elif avg >= 72:\n",
    "        return 'grade = D+'\n",
    "    elif avg >= 69:\n",
    "        return 'grade = D'\n",
    "    elif avg >= 66:\n",
    "        return 'grade = D-'\n",
    "    elif avg >= 63:\n",
    "        return 'grade = F'\n",
    "    else:\n",
    "        return 'Failed the class'\n"
   ]
  },
  {
   "cell_type": "code",
   "execution_count": null,
   "metadata": {},
   "outputs": [
    {
     "name": "stdout",
     "output_type": "stream",
     "text": [
      "77\n",
      "score =  77\n",
      "grade = C-\n",
      "None\n"
     ]
    }
   ],
   "source": [
    "grades = [100, 100, 50, 75, 25, 100, 100, 100, 50]\n",
    "print(sredniy(grades))\n",
    "print(letter_grade(sredniy(grades)))"
   ]
  },
  {
   "cell_type": "code",
   "execution_count": null,
   "metadata": {},
   "outputs": [
    {
     "name": "stdout",
     "output_type": "stream",
     "text": [
      "1000\n"
     ]
    }
   ],
   "source": [
    "def f(x):\n",
    "    return x*x*x\n",
    "\n",
    "print(f(10))"
   ]
  },
  {
   "cell_type": "code",
   "execution_count": null,
   "metadata": {},
   "outputs": [
    {
     "name": "stdout",
     "output_type": "stream",
     "text": [
      "score =  77\n",
      "grade = C-\n",
      "None\n"
     ]
    }
   ],
   "source": [
    "avg = sredniy(grades)\n",
    "letter = letter_grade(avg)\n",
    "print(letter)"
   ]
  },
  {
   "cell_type": "code",
   "execution_count": null,
   "metadata": {},
   "outputs": [],
   "source": [
    "from csv import writer\n",
    "x = []\n",
    "with open('grades.csv', 'w', encoding='utf-8') as fid:\n",
    "    file = writer(fid)\n",
    "    for name in s:\n",
    "        grades = [randint(0, 100) for i in range(10)]\n",
    "        x.append([name] + grades)\n",
    "        file.writerow([name] + grades)\n",
    "\n"
   ]
  },
  {
   "cell_type": "code",
   "execution_count": null,
   "metadata": {},
   "outputs": [
    {
     "data": {
      "text/plain": [
       "[['Абдралиев Белек Маратович', 60, 100, 31, 44, 88, 0, 64, 2, 97, 13],\n",
       " ['Абдуллаев Ийгилик Эльбурсович', 93, 74, 66, 32, 13, 61, 88, 48, 62, 25],\n",
       " ['Айтматов Байэл Бактыбекович', 42, 42, 42, 21, 78, 12, 12, 52, 21, 28],\n",
       " ['Асанбек уула Чынгыз', 27, 67, 17, 47, 86, 20, 8, 81, 87, 21],\n",
       " ['Асанов Искендер Асанович', 98, 75, 15, 17, 25, 6, 41, 21, 23, 38],\n",
       " ['Аскаров Арсен Анарбаевич', 76, 60, 65, 90, 97, 98, 21, 67, 44, 48],\n",
       " ['Байтемиров Искендер Бекмуратович', 96, 23, 6, 56, 94, 63, 85, 79, 30, 47],\n",
       " ['Баитиков Адел', 53, 73, 92, 80, 52, 93, 72, 95, 23, 98],\n",
       " ['Бакытбеков Роман Талантович', 56, 78, 73, 14, 40, 12, 56, 4, 66, 13],\n",
       " ['Бекбосунова Айша Болотовна', 79, 88, 39, 39, 94, 43, 48, 49, 30, 88],\n",
       " ['Бекенова Аяна', 35, 4, 77, 82, 65, 18, 8, 31, 73, 91],\n",
       " ['Бектемиров Ибрахимбек Максадбекович', 98, 81, 14, 22, 62, 8, 78, 5, 58, 95],\n",
       " ['Бердибаева Нурай Нурбековна', 63, 99, 84, 55, 87, 23, 100, 39, 56, 52],\n",
       " ['Болотбек уулу Эржан', 61, 29, 50, 85, 47, 77, 77, 70, 11, 64],\n",
       " ['Волгин Даниэль Максимович', 6, 6, 93, 97, 41, 73, 24, 19, 4, 10],\n",
       " ['Гулжигитов Дайырбек Мухаммедович', 73, 67, 16, 35, 70, 93, 7, 77, 72, 4],\n",
       " ['Джутанкеева Мээрим Тамерлановна', 76, 83, 22, 14, 88, 24, 26, 17, 2, 83],\n",
       " ['Душобаев Вилдан Гайратбекович', 97, 27, 73, 29, 60, 50, 43, 82, 93, 36],\n",
       " ['Жавдедова Назик Рустамовна', 15, 73, 0, 78, 19, 90, 67, 94, 61, 60],\n",
       " ['Жаныбекова Бегимай Жаныбековна', 5, 45, 42, 70, 74, 94, 16, 43, 38, 87],\n",
       " ['Жолдубаев Эмил Аресович', 91, 38, 87, 30, 67, 81, 78, 69, 61, 20],\n",
       " ['Жумаев Абдунур Нурбекович', 34, 20, 46, 58, 52, 21, 84, 42, 100, 18],\n",
       " ['Жыргалбек уулу Эрбол', 88, 24, 47, 96, 5, 63, 14, 61, 64, 87],\n",
       " ['Зиялиева Саадат Кадырбековна', 68, 49, 62, 98, 94, 55, 71, 26, 68, 92],\n",
       " ['Исмаилова Алтынай Нурбековна', 49, 90, 91, 44, 31, 60, 86, 89, 75, 54],\n",
       " ['Кадыракунова Аделя Эрнистовна', 23, 59, 5, 5, 90, 8, 37, 41, 19, 69],\n",
       " ['Канатбеков Ажо Канатбекович', 63, 29, 30, 71, 63, 69, 72, 28, 61, 66],\n",
       " ['Каримова Айбийке Азаматовна', 89, 29, 18, 23, 71, 91, 100, 17, 57, 57],\n",
       " ['Керимов Акбар Айбекович', 81, 97, 85, 82, 55, 9, 57, 62, 100, 77],\n",
       " ['Ким Жихён', 7, 10, 35, 17, 37, 53, 73, 61, 42, 24],\n",
       " ['Краснов Ильхан Даниярович', 99, 33, 66, 49, 82, 23, 51, 64, 43, 53],\n",
       " ['Кубанычбеков Эмир Арсланович', 88, 43, 26, 30, 20, 3, 40, 60, 51, 49],\n",
       " ['Курманова Бегайым Курмановна', 50, 3, 23, 98, 42, 84, 90, 73, 23, 10],\n",
       " ['Кусеинов Элдар Жээнбекович', 92, 95, 89, 93, 45, 19, 77, 0, 87, 43],\n",
       " ['Куттугалиева Зарылкан Бекболотовна', 78, 52, 5, 18, 98, 33, 38, 63, 97, 23],\n",
       " ['Кыдыкбекова Айпери Бахтияровна', 44, 3, 76, 33, 81, 75, 75, 40, 37, 52],\n",
       " ['Кыдыралиев Жанболот Тойчуевич', 69, 94, 67, 15, 93, 83, 54, 12, 87, 21],\n",
       " ['Маматалиев Нурболот ', 15, 92, 17, 60, 37, 40, 100, 72, 18, 98],\n",
       " ['Маматжанова Эленора Мирланбековна', 32, 55, 41, 57, 80, 44, 41, 27, 1, 69],\n",
       " ['Маматзундуев Бекбол Назбекович', 70, 56, 18, 24, 40, 27, 73, 25, 32, 53],\n",
       " ['Марсел', 64, 61, 2, 89, 89, 15, 32, 20, 35, 14],\n",
       " ['Надирбеков Абдусамат', 50, 25, 94, 0, 78, 29, 65, 68, 12, 80],\n",
       " ['Назарбаев Нурсултан Женишбекович', 19, 82, 0, 98, 48, 70, 82, 58, 63, 25],\n",
       " ['Нуралиева Асель Акжоловна', 74, 16, 86, 12, 5, 78, 67, 87, 69, 85],\n",
       " ['Омурбекова Мирана Азизбековна', 2, 22, 37, 94, 80, 24, 8, 30, 46, 64],\n",
       " ['Ормушов Темирлан Арстанбекович', 37, 60, 90, 53, 56, 77, 9, 24, 27, 64],\n",
       " ['Орунбаев Байжан Омурбекович', 97, 23, 82, 12, 98, 76, 66, 75, 96, 54],\n",
       " ['Рахматылло уулу Касымбек Сухрабович',\n",
       "  39,\n",
       "  74,\n",
       "  85,\n",
       "  46,\n",
       "  51,\n",
       "  52,\n",
       "  32,\n",
       "  56,\n",
       "  72,\n",
       "  5],\n",
       " ['Солтобеков Амин Бектурович', 53, 1, 62, 90, 98, 55, 0, 29, 12, 38],\n",
       " ['Сыдгали уулу Жаныбек', 8, 67, 3, 44, 37, 80, 8, 65, 45, 90],\n",
       " ['Таалайбеков Баястан Талайбекович', 81, 49, 79, 26, 34, 51, 88, 75, 32, 7],\n",
       " ['Тагаева Рахат Арапшаевна', 88, 95, 69, 71, 68, 1, 49, 54, 2, 48],\n",
       " ['Ташбай уулу Даниэл', 69, 66, 49, 71, 70, 22, 99, 59, 8, 30],\n",
       " ['Торокулов Айман Талайбекович', 37, 72, 75, 9, 0, 95, 88, 72, 99, 52],\n",
       " ['Хусанбаева Диляфруз Азимжоновна', 5, 65, 37, 56, 91, 32, 65, 5, 87, 79],\n",
       " ['Шукуралиев Нурдан Даниярович', 20, 78, 3, 43, 9, 80, 60, 23, 23, 3],\n",
       " ['Элчиев Ясир Жыргалбекович', 85, 87, 61, 77, 88, 5, 95, 3, 71, 35],\n",
       " ['Эркибаев Нурбек Алмазович', 2, 50, 80, 9, 17, 90, 38, 28, 85, 28],\n",
       " ['Калматов Азиз Кылычбекович', 43, 62, 91, 21, 22, 60, 48, 1, 49, 16],\n",
       " ['Жапаров Шердос\\xa0', 22, 86, 65, 18, 100, 73, 74, 15, 16, 62],\n",
       " ['Аширалиев\\xa0Аман', 91, 49, 95, 15, 22, 41, 12, 64, 35, 36],\n",
       " ['Eldiyar', 11, 75, 21, 42, 97, 33, 98, 47, 45, 99],\n",
       " ['Asylkan', 22, 11, 14, 95, 23, 20, 6, 85, 15, 98],\n",
       " ['Kutman', 87, 38, 86, 84, 51, 95, 2, 51, 81, 3],\n",
       " ['Diaz', 74, 43, 76, 70, 10, 9, 91, 88, 16, 70],\n",
       " ['Shergazy', 78, 1, 90, 37, 35, 53, 4, 81, 63, 38],\n",
       " ['Akylbek\\xa0Zamirov', 97, 29, 58, 46, 89, 39, 97, 86, 61, 96],\n",
       " ['', 96, 86, 61, 63, 14, 37, 26, 86, 39, 11]]"
      ]
     },
     "execution_count": 60,
     "metadata": {},
     "output_type": "execute_result"
    }
   ],
   "source": [
    "x"
   ]
  },
  {
   "cell_type": "code",
   "execution_count": null,
   "metadata": {},
   "outputs": [
    {
     "name": "stdout",
     "output_type": "stream",
     "text": [
      "score =  49\n",
      "Абдралиев Белек Маратович Failed the class\n",
      "score =  56\n",
      "Абдуллаев Ийгилик Эльбурсович Failed the class\n",
      "score =  35\n",
      "Айтматов Байэл Бактыбекович Failed the class\n",
      "score =  46\n",
      "Асанбек уула Чынгыз Failed the class\n",
      "score =  35\n",
      "Асанов Искендер Асанович Failed the class\n",
      "score =  66\n",
      "Аскаров Арсен Анарбаевич grade = D-\n",
      "score =  57\n",
      "Байтемиров Искендер Бекмуратович Failed the class\n",
      "score =  73\n",
      "Баитиков Адел grade = D+\n",
      "score =  41\n",
      "Бакытбеков Роман Талантович Failed the class\n",
      "score =  59\n",
      "Бекбосунова Айша Болотовна Failed the class\n",
      "score =  48\n",
      "Бекенова Аяна Failed the class\n",
      "score =  52\n",
      "Бектемиров Ибрахимбек Максадбекович Failed the class\n",
      "score =  65\n",
      "Бердибаева Нурай Нурбековна grade = F\n",
      "score =  57\n",
      "Болотбек уулу Эржан Failed the class\n",
      "score =  37\n",
      "Волгин Даниэль Максимович Failed the class\n",
      "score =  51\n",
      "Гулжигитов Дайырбек Мухаммедович Failed the class\n",
      "score =  43\n",
      "Джутанкеева Мээрим Тамерлановна Failed the class\n",
      "score =  59\n",
      "Душобаев Вилдан Гайратбекович Failed the class\n",
      "score =  55\n",
      "Жавдедова Назик Рустамовна Failed the class\n",
      "score =  51\n",
      "Жаныбекова Бегимай Жаныбековна Failed the class\n",
      "score =  62\n",
      "Жолдубаев Эмил Аресович Failed the class\n",
      "score =  47\n",
      "Жумаев Абдунур Нурбекович Failed the class\n",
      "score =  54\n",
      "Жыргалбек уулу Эрбол Failed the class\n",
      "score =  68\n",
      "Зиялиева Саадат Кадырбековна grade = D-\n",
      "score =  66\n",
      "Исмаилова Алтынай Нурбековна grade = D-\n",
      "score =  35\n",
      "Кадыракунова Аделя Эрнистовна Failed the class\n",
      "score =  55\n",
      "Канатбеков Ажо Канатбекович Failed the class\n",
      "score =  55\n",
      "Каримова Айбийке Азаматовна Failed the class\n",
      "score =  70\n",
      "Керимов Акбар Айбекович grade = D\n",
      "score =  35\n",
      "Ким Жихён Failed the class\n",
      "score =  56\n",
      "Краснов Ильхан Даниярович Failed the class\n",
      "score =  41\n",
      "Кубанычбеков Эмир Арсланович Failed the class\n",
      "score =  49\n",
      "Курманова Бегайым Курмановна Failed the class\n",
      "score =  64\n",
      "Кусеинов Элдар Жээнбекович grade = F\n",
      "score =  50\n",
      "Куттугалиева Зарылкан Бекболотовна Failed the class\n",
      "score =  51\n",
      "Кыдыкбекова Айпери Бахтияровна Failed the class\n",
      "score =  59\n",
      "Кыдыралиев Жанболот Тойчуевич Failed the class\n",
      "score =  54\n",
      "Маматалиев Нурболот  Failed the class\n",
      "score =  44\n",
      "Маматжанова Эленора Мирланбековна Failed the class\n",
      "score =  41\n",
      "Маматзундуев Бекбол Назбекович Failed the class\n",
      "score =  42\n",
      "Марсел Failed the class\n",
      "score =  50\n",
      "Надирбеков Абдусамат Failed the class\n",
      "score =  54\n",
      "Назарбаев Нурсултан Женишбекович Failed the class\n",
      "score =  57\n",
      "Нуралиева Асель Акжоловна Failed the class\n",
      "score =  40\n",
      "Омурбекова Мирана Азизбековна Failed the class\n",
      "score =  49\n",
      "Ормушов Темирлан Арстанбекович Failed the class\n",
      "score =  67\n",
      "Орунбаев Байжан Омурбекович grade = D-\n",
      "score =  51\n",
      "Рахматылло уулу Касымбек Сухрабович Failed the class\n",
      "score =  43\n",
      "Солтобеков Амин Бектурович Failed the class\n",
      "score =  44\n",
      "Сыдгали уулу Жаныбек Failed the class\n",
      "score =  52\n",
      "Таалайбеков Баястан Талайбекович Failed the class\n",
      "score =  54\n",
      "Тагаева Рахат Арапшаевна Failed the class\n",
      "score =  54\n",
      "Ташбай уулу Даниэл Failed the class\n",
      "score =  59\n",
      "Торокулов Айман Талайбекович Failed the class\n",
      "score =  52\n",
      "Хусанбаева Диляфруз Азимжоновна Failed the class\n",
      "score =  34\n",
      "Шукуралиев Нурдан Даниярович Failed the class\n",
      "score =  60\n",
      "Элчиев Ясир Жыргалбекович Failed the class\n",
      "score =  42\n",
      "Эркибаев Нурбек Алмазович Failed the class\n",
      "score =  41\n",
      "Калматов Азиз Кылычбекович Failed the class\n",
      "score =  53\n",
      "Жапаров Шердос  Failed the class\n",
      "score =  46\n",
      "Аширалиев Аман Failed the class\n",
      "score =  56\n",
      "Eldiyar Failed the class\n",
      "score =  38\n",
      "Asylkan Failed the class\n",
      "score =  57\n",
      "Kutman Failed the class\n",
      "score =  54\n",
      "Diaz Failed the class\n",
      "score =  48\n",
      "Shergazy Failed the class\n",
      "score =  69\n",
      "Akylbek Zamirov grade = D\n",
      "score =  51\n",
      " Failed the class\n"
     ]
    }
   ],
   "source": [
    "for i in x:\n",
    "    avg = sredniy(i[1:])\n",
    "    letter = letter_grade(avg)\n",
    "    print(i[0], letter)"
   ]
  },
  {
   "cell_type": "code",
   "execution_count": null,
   "metadata": {},
   "outputs": [],
   "source": [
    "a = [1, 2, 4, 6, 9, 0]"
   ]
  },
  {
   "cell_type": "code",
   "execution_count": null,
   "metadata": {},
   "outputs": [
    {
     "data": {
      "text/plain": [
       "[4, 6]"
      ]
     },
     "execution_count": 65,
     "metadata": {},
     "output_type": "execute_result"
    }
   ],
   "source": [
    "a[2:4]"
   ]
  },
  {
   "cell_type": "code",
   "execution_count": null,
   "metadata": {},
   "outputs": [
    {
     "data": {
      "text/plain": [
       "[9, 0]"
      ]
     },
     "execution_count": 66,
     "metadata": {},
     "output_type": "execute_result"
    }
   ],
   "source": [
    "a[-2:]"
   ]
  },
  {
   "cell_type": "code",
   "execution_count": null,
   "metadata": {},
   "outputs": [
    {
     "data": {
      "text/plain": [
       "[1, 2, 4, 6, 9, 0]"
      ]
     },
     "execution_count": 67,
     "metadata": {},
     "output_type": "execute_result"
    }
   ],
   "source": [
    "a"
   ]
  },
  {
   "cell_type": "code",
   "execution_count": null,
   "metadata": {},
   "outputs": [
    {
     "data": {
      "text/plain": [
       "[2, 4, 6, 9, 0]"
      ]
     },
     "execution_count": 68,
     "metadata": {},
     "output_type": "execute_result"
    }
   ],
   "source": [
    "a[1:]"
   ]
  },
  {
   "cell_type": "code",
   "execution_count": null,
   "metadata": {},
   "outputs": [
    {
     "data": {
      "text/plain": [
       "[1, 2, 4, 6]"
      ]
     },
     "execution_count": 69,
     "metadata": {},
     "output_type": "execute_result"
    }
   ],
   "source": [
    "a[:4]"
   ]
  },
  {
   "cell_type": "code",
   "execution_count": null,
   "metadata": {},
   "outputs": [
    {
     "data": {
      "text/plain": [
       "[1, 2, 4, 6, 9, 0]"
      ]
     },
     "execution_count": 70,
     "metadata": {},
     "output_type": "execute_result"
    }
   ],
   "source": [
    "a"
   ]
  },
  {
   "cell_type": "code",
   "execution_count": null,
   "metadata": {},
   "outputs": [
    {
     "data": {
      "text/plain": [
       "([0, 1, 2, 4, 6, 9], [9, 6, 4, 2, 1, 0])"
      ]
     },
     "execution_count": 73,
     "metadata": {},
     "output_type": "execute_result"
    }
   ],
   "source": [
    "sorted(a), sorted(a, reverse=True)"
   ]
  },
  {
   "cell_type": "code",
   "execution_count": null,
   "metadata": {},
   "outputs": [],
   "source": [
    "a.sort(reverse=True)"
   ]
  },
  {
   "cell_type": "code",
   "execution_count": null,
   "metadata": {},
   "outputs": [
    {
     "data": {
      "text/plain": [
       "[9, 6, 4, 2, 1, 0]"
      ]
     },
     "execution_count": 78,
     "metadata": {},
     "output_type": "execute_result"
    }
   ],
   "source": [
    "a"
   ]
  },
  {
   "cell_type": "code",
   "execution_count": null,
   "metadata": {},
   "outputs": [
    {
     "ename": "TypeError",
     "evalue": "descriptor 'join' for 'str' objects doesn't apply to a 'list' object",
     "output_type": "error",
     "traceback": [
      "\u001b[1;31m---------------------------------------------------------------------------\u001b[0m",
      "\u001b[1;31mTypeError\u001b[0m                                 Traceback (most recent call last)",
      "Cell \u001b[1;32mIn[82], line 2\u001b[0m\n\u001b[0;32m      1\u001b[0m s \u001b[38;5;241m=\u001b[39m \u001b[38;5;124m'\u001b[39m\u001b[38;5;124memil\u001b[39m\u001b[38;5;124m'\u001b[39m\n\u001b[1;32m----> 2\u001b[0m \u001b[38;5;28;43mstr\u001b[39;49m\u001b[38;5;241;43m.\u001b[39;49m\u001b[43mjoin\u001b[49m\u001b[43m(\u001b[49m\u001b[38;5;28;43msorted\u001b[39;49m\u001b[43m(\u001b[49m\u001b[43ms\u001b[49m\u001b[43m)\u001b[49m\u001b[43m)\u001b[49m\n",
      "\u001b[1;31mTypeError\u001b[0m: descriptor 'join' for 'str' objects doesn't apply to a 'list' object"
     ]
    }
   ],
   "source": [
    "s = 'emil'\n",
    "str.join(sorted(s))"
   ]
  },
  {
   "cell_type": "code",
   "execution_count": null,
   "metadata": {},
   "outputs": [
    {
     "data": {
      "text/plain": [
       "[1, 0]"
      ]
     },
     "execution_count": 83,
     "metadata": {},
     "output_type": "execute_result"
    }
   ],
   "source": [
    "# slicing\n",
    "\n",
    "a[:1]\n",
    "a[1:]\n",
    "a[1:3]\n",
    "a[-2:]\n"
   ]
  },
  {
   "cell_type": "code",
   "execution_count": null,
   "metadata": {},
   "outputs": [],
   "source": [
    "def f1(a, b, c = 5):\n",
    "    return a + b + c"
   ]
  },
  {
   "cell_type": "code",
   "execution_count": null,
   "metadata": {},
   "outputs": [
    {
     "data": {
      "text/plain": [
       "15"
      ]
     },
     "execution_count": 89,
     "metadata": {},
     "output_type": "execute_result"
    }
   ],
   "source": [
    "f1(1, 5, 9)"
   ]
  },
  {
   "cell_type": "code",
   "execution_count": null,
   "metadata": {},
   "outputs": [
    {
     "data": {
      "text/plain": [
       "19"
      ]
     },
     "execution_count": 90,
     "metadata": {},
     "output_type": "execute_result"
    }
   ],
   "source": [
    "f1(4, 10)"
   ]
  },
  {
   "cell_type": "code",
   "execution_count": null,
   "metadata": {},
   "outputs": [
    {
     "name": "stdout",
     "output_type": "stream",
     "text": [
      "1 1 1 1.0\n",
      "4 16 1024 2.0\n",
      "9 81 59049 3.0\n",
      "10 100 100000 3.1622776601683795\n",
      "20 400 3200000 4.47213595499958\n"
     ]
    }
   ],
   "source": [
    "j = [1, 4, 9, 10, 20]\n",
    "\n",
    "for a in j:\n",
    "    print(a, a*a, a**5, a**0.5)"
   ]
  },
  {
   "cell_type": "code",
   "execution_count": null,
   "metadata": {},
   "outputs": [],
   "source": [
    "# "
   ]
  },
  {
   "cell_type": "markdown",
   "metadata": {},
   "source": [
    "1. (10) Дан код: a = [2, 4, 6]; b = a; a = a + [8]. Что окажется в a и b?\n",
    "2. (25) Реализуйте мини-«оценивание»: по среднему баллу avg выведите \"A\" (90+), \"B\" (80–89), \"C\" (70–79), иначе \"Failed\".\n",
    "3. (10) Для строки s = 'AIT PL' выведите её длину, а также первый и последний символ\n",
    "4. (20) Напишите функцию, которая принимает массив a=[“emil”, “ait”, “university”] слов и возвращает список их длин (result = [4, 3, 10])\n",
    "5. (20) Для функции\n",
    "def add(a, b, c=10): \n",
    "return a + b + c \n",
    "объясните роль параметра по умолчанию\n",
    "что выводит следующие add(9, 4, 30)\n",
    "что выводит следующие add(9, 4)\n",
    "6. (15) Для массива arr = [4, 2, 1, 6, 8, 9, 10], что выводит следующие:\n",
    "arr[:2]\n",
    "arr[2:]\n",
    "arr[2:3]\n",
    "Arr[-3:]\n"
   ]
  },
  {
   "cell_type": "code",
   "execution_count": null,
   "metadata": {},
   "outputs": [
    {
     "name": "stdout",
     "output_type": "stream",
     "text": [
      "[2, 4, 6, 8, 10, 20]\n",
      "[2, 4, 6]\n"
     ]
    }
   ],
   "source": [
    "# 1. Дан код: a = [2, 4, 6]; b = a; a = a + [8]. Что окажется в a и b?\n",
    "\n",
    "a = [2, 4, 6]\n",
    "b = a\n",
    "a = a + [8, 10, 20]\n",
    "print(a)\n",
    "print(b)"
   ]
  },
  {
   "cell_type": "code",
   "execution_count": null,
   "metadata": {},
   "outputs": [
    {
     "name": "stdout",
     "output_type": "stream",
     "text": [
      "90 A\n",
      "85 B\n",
      "60 fig znaet\n",
      "nachalo\n",
      "75 C\n"
     ]
    }
   ],
   "source": [
    "# 2. Реализуйте мини-«оценивание»: по среднему баллу avg выведите \n",
    "# \"A\" (90+), \"B\" (80–89), \"C\" (70–79), иначе \"Failed\".\n",
    "\n",
    "def score(avg):\n",
    "    if avg >= 90:\n",
    "        return \"A\"\n",
    "    elif avg >= 80:\n",
    "        return \"B\"\n",
    "    elif avg >= 70:\n",
    "        a = 10\n",
    "        print(\"nachalo\")\n",
    "        return \"C\"\n",
    "        print(\"vse\")\n",
    "        a = 10\n",
    "    else:\n",
    "        return \"fig znaet\"\n",
    "\n",
    "\n",
    "print(90, score(90))\n",
    "print(85, score(85))\n",
    "print(60, score(60))\n",
    "print(75, score(75))"
   ]
  },
  {
   "cell_type": "code",
   "execution_count": null,
   "metadata": {},
   "outputs": [
    {
     "name": "stdout",
     "output_type": "stream",
     "text": [
      "6 A L L\n",
      "L\n"
     ]
    }
   ],
   "source": [
    "#3. Для строки s = 'AIT PL' выведите её длину, а также первый и \n",
    "# последний символ\n",
    "s = 'AIT PL'\n",
    "print(len(s), s[0], s[-1], s[len(s)-1])\n",
    "print(s[len(s)-1])"
   ]
  },
  {
   "cell_type": "code",
   "execution_count": null,
   "metadata": {},
   "outputs": [
    {
     "name": "stdout",
     "output_type": "stream",
     "text": [
      "[4, 3, 10]\n",
      "4\n",
      "3\n",
      "10\n",
      "[4, 3, 10]\n",
      "[4, 3, 10]\n"
     ]
    }
   ],
   "source": [
    "#4. Напишите функцию, которая принимает массив \n",
    "# a=[“emil”, “ait”, “university”] слов и возвращает список их длин (result = [4, 3, 10])\n",
    "\n",
    "def length1(arr):\n",
    "    return [len(i) for i in arr]\n",
    "\n",
    "def length2(arr):\n",
    "    for i in arr:\n",
    "        print(len(i))\n",
    "\n",
    "def length3(s):\n",
    "    result = []\n",
    "    for i in s:\n",
    "        result.append(len(i))\n",
    "    return result\n",
    "\n",
    "def length4(s):\n",
    "    result = []\n",
    "    for i in s:\n",
    "        result = result + [len(i)]\n",
    "    return result\n",
    "\n",
    "a=[\"emil\", \"ait\", \"university\"]\n",
    "print(length1(a))\n",
    "length2(a)\n",
    "print(length3(a))\n",
    "print(length4(a))\n",
    "\n",
    "# max(var1 , var2)"
   ]
  },
  {
   "cell_type": "code",
   "execution_count": null,
   "metadata": {},
   "outputs": [
    {
     "name": "stdout",
     "output_type": "stream",
     "text": [
      "[4, 2]\n",
      "[1, 6, 8, 9, 10]\n",
      "[1]\n",
      "[8, 9, 10]\n",
      "[4, 2, 1, 6, 8, 9, 10]\n",
      "[4, 2, 1, 6, 8, 9, 10]\n",
      "[]\n"
     ]
    }
   ],
   "source": [
    "# 6. Для массива \n",
    "arr = [4, 2, 1, 6, 8, 9, 10]\n",
    "#что выводит следующие:\n",
    "print(arr[:2]) # 4, 2\n",
    "print(arr[2:]) # 1, 6, 8, 9, 10\n",
    "print(arr[2:3]) # 1 (1, 6 -> -5%)\n",
    "print(arr[-3:]) # 8, 9, 10\n",
    "print(arr[-10:]) # index out of range => arr[-7:] arr[max(-len(arr), -10) : ]\n",
    "print(arr[max(-len(arr), -10) : ]) \n",
    "\n",
    "print(arr[30:35])"
   ]
  },
  {
   "cell_type": "code",
   "execution_count": null,
   "metadata": {},
   "outputs": [
    {
     "name": "stdout",
     "output_type": "stream",
     "text": [
      "add(9, 4, 30):  43\n",
      "add(9, 4):  23\n"
     ]
    }
   ],
   "source": [
    "#5. Для функции\n",
    "# def add(a, b, c=10): \n",
    "# return a + b + c \n",
    "# объясните роль параметра по умолчанию\n",
    "# что выводит следующие add(9, 4, 30)\n",
    "# что выводит следующие add(9, 4)\n",
    "def add(a, b, c=10): \n",
    "    # add(9, 4, 30) -> a = 9, b=4, c = 30 => 43\n",
    "    # add(9, 4) -> a = 9, b = 4, c = 10 => 23\n",
    "    return a + b + c \n",
    "\n",
    "print('add(9, 4, 30): ', add(9, 4, 30))\n",
    "print('add(9, 4): ', add(9, 4))\n"
   ]
  },
  {
   "cell_type": "markdown",
   "metadata": {},
   "source": [
    "1. (20) Оцените (False or True) and (True and False) and (True or False and False). \n",
    "2. (0) Сравните / и //. На  пример 10/3 и 10//3. Объясните разницу.\n",
    "3. (20) Для a = [10, 20]; b = a; a = 50 — что в b? Почему?\n",
    "4. (30) Напишите программу, которая посчитает сумму, минимум и максимум списка \n",
    "arr = [4, 5, 9, 10, 12, 3]\n",
    "5. (15) Как вычислить количество элементов в списке\n",
    "6. (15) Напишите программу, которая выводит последние три элемента в массиве.\n",
    "\n"
   ]
  },
  {
   "cell_type": "code",
   "execution_count": null,
   "metadata": {},
   "outputs": [
    {
     "data": {
      "text/plain": [
       "False"
      ]
     },
     "execution_count": 24,
     "metadata": {},
     "output_type": "execute_result"
    }
   ],
   "source": [
    "#1. Оцените (False or True) and (True and False) and (True or False and False). \n",
    "\n",
    "(False or True) and (True and False) and (True or False and False)"
   ]
  },
  {
   "cell_type": "code",
   "execution_count": null,
   "metadata": {},
   "outputs": [
    {
     "name": "stdout",
     "output_type": "stream",
     "text": [
      "3.3333333333333335 3 3\n"
     ]
    }
   ],
   "source": [
    "# 2. Сравните / и //. На  пример 10/3 и 10//3. Объясните разницу.\n",
    "\n",
    "print(10/3, 10//3, int(10/3))\n"
   ]
  },
  {
   "cell_type": "code",
   "execution_count": null,
   "metadata": {},
   "outputs": [
    {
     "name": "stdout",
     "output_type": "stream",
     "text": [
      "[10, 20]\n"
     ]
    }
   ],
   "source": [
    "#3. Для a = [10, 20]; b = a; a = 50 — что в b? Почему?\n",
    "\n",
    "a = [10, 20]\n",
    "b = a\n",
    "a = 50\n",
    "\n",
    "print(b)  # [10, 20]\n",
    "\n"
   ]
  },
  {
   "cell_type": "code",
   "execution_count": null,
   "metadata": {},
   "outputs": [
    {
     "name": "stdout",
     "output_type": "stream",
     "text": [
      "(19, 9, -1)\n",
      "19\n",
      "-1\n",
      "9\n",
      "(-1, 9)\n"
     ]
    }
   ],
   "source": [
    "#4. Напишите программу, которая посчитает сумму, минимум и максимум списка \n",
    "\n",
    "def mysum(arr):\n",
    "    s = 0\n",
    "    min = arr[0]\n",
    "    max = arr[0]\n",
    "    for i in arr:\n",
    "        s += i\n",
    "        if min > i:\n",
    "            min = i\n",
    "        if max < i:\n",
    "            max = i\n",
    "    return s, max, min\n",
    "\n",
    "def mysum2(arr):\n",
    "    s = 0\n",
    "    for i in arr:\n",
    "        s = s + i\n",
    "    return s\n",
    "\n",
    "def min(arr):\n",
    "    return sorted(arr)[0]\n",
    "\n",
    "def max(arr):\n",
    "    return sorted(arr)[-1]\n",
    "\n",
    "def minmax(arr):\n",
    "    arr.sort()\n",
    "    return arr[0], arr[-1]\n",
    "    \n",
    "arr = [9, 1, 0, 8, 2, 0, -1]\n",
    "\n",
    "print(mysum(arr))\n",
    "print(mysum2(arr))\n",
    "print(min(arr))\n",
    "print(max(arr))\n",
    "print(minmax(arr))"
   ]
  },
  {
   "cell_type": "code",
   "execution_count": null,
   "metadata": {},
   "outputs": [
    {
     "data": {
      "text/plain": [
       "-1"
      ]
     },
     "execution_count": 30,
     "metadata": {},
     "output_type": "execute_result"
    }
   ],
   "source": [
    "arr = [4, 9, 0, -1, 2]\n",
    "\n",
    "sorted(arr)[0]"
   ]
  },
  {
   "cell_type": "code",
   "execution_count": null,
   "metadata": {},
   "outputs": [
    {
     "ename": "TypeError",
     "evalue": "'NoneType' object is not subscriptable",
     "output_type": "error",
     "traceback": [
      "\u001b[1;31m---------------------------------------------------------------------------\u001b[0m",
      "\u001b[1;31mTypeError\u001b[0m                                 Traceback (most recent call last)",
      "Cell \u001b[1;32mIn[31], line 1\u001b[0m\n\u001b[1;32m----> 1\u001b[0m \u001b[43marr\u001b[49m\u001b[38;5;241;43m.\u001b[39;49m\u001b[43msort\u001b[49m\u001b[43m(\u001b[49m\u001b[43m)\u001b[49m\u001b[43m[\u001b[49m\u001b[38;5;241;43m-\u001b[39;49m\u001b[38;5;241;43m1\u001b[39;49m\u001b[43m]\u001b[49m\n",
      "\u001b[1;31mTypeError\u001b[0m: 'NoneType' object is not subscriptable"
     ]
    }
   ],
   "source": [
    "arr.sort()[-1]"
   ]
  },
  {
   "cell_type": "code",
   "execution_count": null,
   "metadata": {},
   "outputs": [
    {
     "name": "stdout",
     "output_type": "stream",
     "text": [
      "4\n"
     ]
    }
   ],
   "source": [
    "# 5. Как вычислить количество элементов в списке\n",
    "\n",
    "arr = [4, 9, 0, 1]\n",
    "print(len(arr))"
   ]
  },
  {
   "cell_type": "code",
   "execution_count": null,
   "metadata": {},
   "outputs": [
    {
     "name": "stdout",
     "output_type": "stream",
     "text": [
      "[1, 3, 6]\n"
     ]
    }
   ],
   "source": [
    "# 6. Напишите программу, которая выводит последние три элемента в массиве.\n",
    "arr = [4, 2,1, 3, 6]\n",
    "print(arr[-3:])"
   ]
  },
  {
   "cell_type": "code",
   "execution_count": null,
   "metadata": {},
   "outputs": [],
   "source": [
    "arr = [1, 2, 3]\n",
    "\n",
    "a, b, c = arr"
   ]
  },
  {
   "cell_type": "code",
   "execution_count": null,
   "metadata": {},
   "outputs": [
    {
     "data": {
      "text/plain": [
       "(1, 3, 2)"
      ]
     },
     "execution_count": 37,
     "metadata": {},
     "output_type": "execute_result"
    }
   ],
   "source": [
    "a, c, b"
   ]
  },
  {
   "cell_type": "code",
   "execution_count": null,
   "metadata": {},
   "outputs": [],
   "source": [
    "def minmax(arr):\n",
    "    min = arr[0]\n",
    "    max = arr[0]\n",
    "    for i in arr:\n",
    "        if min > i:\n",
    "           min = i\n",
    "        if max < i:\n",
    "            max = i\n",
    "    return min, max\n",
    "    "
   ]
  },
  {
   "cell_type": "code",
   "execution_count": null,
   "metadata": {},
   "outputs": [
    {
     "ename": "ValueError",
     "evalue": "not enough values to unpack (expected 3, got 2)",
     "output_type": "error",
     "traceback": [
      "\u001b[1;31m---------------------------------------------------------------------------\u001b[0m",
      "\u001b[1;31mValueError\u001b[0m                                Traceback (most recent call last)",
      "Cell \u001b[1;32mIn[48], line 2\u001b[0m\n\u001b[0;32m      1\u001b[0m arr \u001b[38;5;241m=\u001b[39m [\u001b[38;5;241m1\u001b[39m, \u001b[38;5;241m2\u001b[39m, \u001b[38;5;241m3\u001b[39m]\n\u001b[1;32m----> 2\u001b[0m x, y, c \u001b[38;5;241m=\u001b[39m minmax(arr)\n\u001b[0;32m      3\u001b[0m \u001b[38;5;28mprint\u001b[39m(x)\n\u001b[0;32m      4\u001b[0m \u001b[38;5;28mprint\u001b[39m(y)\n",
      "\u001b[1;31mValueError\u001b[0m: not enough values to unpack (expected 3, got 2)"
     ]
    }
   ],
   "source": [
    "arr = [1, 2, 3]\n",
    "x, y, c = minmax(arr)\n",
    "print(x)\n",
    "print(y)"
   ]
  },
  {
   "cell_type": "code",
   "execution_count": null,
   "metadata": {},
   "outputs": [
    {
     "name": "stdout",
     "output_type": "stream",
     "text": [
      "(0, 9, 20)\n",
      "(0, 9, 20)\n"
     ]
    }
   ],
   "source": [
    "def mymin(arr):\n",
    "    min = float('inf')\n",
    "    for i in arr:\n",
    "        if min > i:\n",
    "            min = i\n",
    "    return min\n",
    "\n",
    "def mymax(arr):\n",
    "    max = float('-inf')\n",
    "    for i in arr:\n",
    "        if max < i:\n",
    "            max = i\n",
    "    return max\n",
    "\n",
    "def mysum(arr):\n",
    "    sum = 0\n",
    "    for i in arr:\n",
    "        sum += i # sum = sum + i\n",
    "    return sum\n",
    "\n",
    "\n",
    "def minmaxsum(arr):\n",
    "    return mymin(arr), mymax(arr), mysum(arr)\n",
    "\n",
    "def minmaxsum2(arr):\n",
    "    min = mymin(arr)\n",
    "    max = mymax(arr)\n",
    "    sum = mysum(arr)\n",
    "    return min, max, sum\n",
    "\n",
    "\n",
    "arr = [9, 8, 1, 0, 2]\n",
    "print(minmaxsum(arr))\n",
    "print(minmaxsum2(arr))\n",
    "\n"
   ]
  },
  {
   "cell_type": "code",
   "execution_count": null,
   "metadata": {},
   "outputs": [
    {
     "name": "stdout",
     "output_type": "stream",
     "text": [
      "(inf, -inf, 0)\n"
     ]
    }
   ],
   "source": [
    "arr = []\n",
    "print(minmaxsum(arr))\n"
   ]
  },
  {
   "cell_type": "code",
   "execution_count": null,
   "metadata": {},
   "outputs": [
    {
     "data": {
      "text/plain": [
       "0"
      ]
     },
     "execution_count": 1,
     "metadata": {},
     "output_type": "execute_result"
    }
   ],
   "source": [
    "arr = [1, 9, 4, 10, 0]\n",
    "min(arr)"
   ]
  },
  {
   "cell_type": "code",
   "execution_count": null,
   "metadata": {},
   "outputs": [
    {
     "data": {
      "text/plain": [
       "29"
      ]
     },
     "execution_count": 8,
     "metadata": {},
     "output_type": "execute_result"
    }
   ],
   "source": [
    "arr = [1, 29, -1, 0]\n",
    "mymax(arr)"
   ]
  },
  {
   "cell_type": "code",
   "execution_count": null,
   "metadata": {},
   "outputs": [
    {
     "name": "stdout",
     "output_type": "stream",
     "text": [
      "inf -inf\n"
     ]
    }
   ],
   "source": [
    "arr = []\n",
    "print(mymin(arr), mymax(arr))"
   ]
  },
  {
   "cell_type": "code",
   "execution_count": null,
   "metadata": {},
   "outputs": [
    {
     "data": {
      "text/plain": [
       "float"
      ]
     },
     "execution_count": 18,
     "metadata": {},
     "output_type": "execute_result"
    }
   ],
   "source": [
    "import math\n",
    "\n",
    "type(float(\"inf\"))"
   ]
  },
  {
   "cell_type": "code",
   "execution_count": null,
   "metadata": {},
   "outputs": [
    {
     "ename": "ValueError",
     "evalue": "invalid literal for int() with base 10: 'inf'",
     "output_type": "error",
     "traceback": [
      "\u001b[1;31m---------------------------------------------------------------------------\u001b[0m",
      "\u001b[1;31mValueError\u001b[0m                                Traceback (most recent call last)",
      "Cell \u001b[1;32mIn[19], line 1\u001b[0m\n\u001b[1;32m----> 1\u001b[0m \u001b[38;5;28;43mint\u001b[39;49m\u001b[43m(\u001b[49m\u001b[38;5;124;43m'\u001b[39;49m\u001b[38;5;124;43minf\u001b[39;49m\u001b[38;5;124;43m'\u001b[39;49m\u001b[43m)\u001b[49m\n",
      "\u001b[1;31mValueError\u001b[0m: invalid literal for int() with base 10: 'inf'"
     ]
    }
   ],
   "source": [
    "int('inf')"
   ]
  },
  {
   "cell_type": "code",
   "execution_count": null,
   "metadata": {},
   "outputs": [
    {
     "data": {
      "text/plain": [
       "(-2147483647, 2147483648)"
      ]
     },
     "execution_count": 21,
     "metadata": {},
     "output_type": "execute_result"
    }
   ],
   "source": [
    "# INT_MAX, INT_MIN, .dll\n",
    "\n",
    "# int a = 10;\n",
    "\n",
    "-(2 ** 31 - 1), +2 ** 31"
   ]
  },
  {
   "cell_type": "code",
   "execution_count": null,
   "metadata": {},
   "outputs": [
    {
     "data": {
      "text/plain": [
       "20"
      ]
     },
     "execution_count": 23,
     "metadata": {},
     "output_type": "execute_result"
    }
   ],
   "source": [
    "mymax([10, 20])"
   ]
  },
  {
   "cell_type": "code",
   "execution_count": null,
   "metadata": {},
   "outputs": [
    {
     "data": {
      "text/plain": [
       "3.3333333333333335"
      ]
     },
     "execution_count": 24,
     "metadata": {},
     "output_type": "execute_result"
    }
   ],
   "source": [
    "10/3"
   ]
  },
  {
   "cell_type": "code",
   "execution_count": null,
   "metadata": {},
   "outputs": [
    {
     "ename": "TypeError",
     "evalue": "list indices must be integers or slices, not float",
     "output_type": "error",
     "traceback": [
      "\u001b[1;31m---------------------------------------------------------------------------\u001b[0m",
      "\u001b[1;31mTypeError\u001b[0m                                 Traceback (most recent call last)",
      "Cell \u001b[1;32mIn[25], line 4\u001b[0m\n\u001b[0;32m      1\u001b[0m arr \u001b[38;5;241m=\u001b[39m [\u001b[38;5;241m1\u001b[39m, \u001b[38;5;241m2\u001b[39m, \u001b[38;5;241m3\u001b[39m, \u001b[38;5;241m5\u001b[39m]\n\u001b[0;32m      2\u001b[0m inx \u001b[38;5;241m=\u001b[39m \u001b[38;5;241m1.0\u001b[39m\n\u001b[1;32m----> 4\u001b[0m \u001b[38;5;28mprint\u001b[39m(\u001b[43marr\u001b[49m\u001b[43m[\u001b[49m\u001b[43minx\u001b[49m\u001b[43m]\u001b[49m)\n",
      "\u001b[1;31mTypeError\u001b[0m: list indices must be integers or slices, not float"
     ]
    }
   ],
   "source": [
    "arr = [1, 2, 3, 5]\n",
    "inx = 1.0\n",
    "\n",
    "print(arr[inx])"
   ]
  },
  {
   "cell_type": "code",
   "execution_count": null,
   "metadata": {},
   "outputs": [
    {
     "name": "stdout",
     "output_type": "stream",
     "text": [
      "B\n"
     ]
    }
   ],
   "source": [
    "#Сгенерируйте список из 12 случайных оценок в диапазоне 50..100. \n",
    "# Возьмите топ-5 (наибольшие), \n",
    "# посчитайте их среднее (целая часть) и присвойте \n",
    "# букву-оценку: A (90+), B (80–89), C (70–79), иначе — Failed.\n",
    "\n",
    "from random import randint\n",
    "arr = [randint(50, 100) for i in range(12)]\n",
    "\n",
    "arr.sort()\n",
    "b = arr[-5:]\n",
    "avg = sum(b)/len(b)\n",
    "if avg >= 90:\n",
    "    print('A')\n",
    "elif avg > 80:\n",
    "    print('B')\n",
    "elif avg > 70:\n",
    "    print('C')\n",
    "else:\n",
    "    print('Failed')\n"
   ]
  },
  {
   "cell_type": "code",
   "execution_count": null,
   "metadata": {},
   "outputs": [
    {
     "name": "stdout",
     "output_type": "stream",
     "text": [
      "2 99882\n",
      "3 99938\n",
      "6 99662\n",
      "5 99952\n",
      "8 100090\n",
      "1 100742\n",
      "9 99736\n",
      "7 100051\n",
      "4 99901\n",
      "0 100046\n"
     ]
    }
   ],
   "source": [
    "from collections import Counter\n",
    "c = Counter([randint(0, 9) for i in range(10)])\n",
    "for altinay, iskender in c.items():\n",
    "    print(altinay, iskender)"
   ]
  },
  {
   "cell_type": "code",
   "execution_count": null,
   "metadata": {},
   "outputs": [],
   "source": [
    "summa = []\n",
    "for i in range(1000000):\n",
    "    x = [randint(0, 1) for i in range(20)]\n",
    "    summa.append(sum(x))"
   ]
  },
  {
   "cell_type": "code",
   "execution_count": null,
   "metadata": {},
   "outputs": [
    {
     "name": "stdout",
     "output_type": "stream",
     "text": [
      "0  1e-06\n",
      "1  1.7e-05\n",
      "2  0.000168\n",
      "3  0.001025\n",
      "4  0.004606\n",
      "5 ** 0.014762\n",
      "6 ******* 0.037045\n",
      "7 ************** 0.07415\n",
      "8 ************************ 0.120327\n",
      "9 ******************************* 0.159664\n",
      "10 *********************************** 0.176\n",
      "11 ******************************** 0.160843\n",
      "12 *********************** 0.119801\n",
      "13 ************** 0.073959\n",
      "14 ******* 0.036956\n",
      "15 ** 0.014743\n",
      "16  0.004697\n",
      "17  0.00104\n",
      "18  0.000173\n",
      "19  2.2e-05\n",
      "20  1e-06\n"
     ]
    }
   ],
   "source": [
    "c = Counter(summa)\n",
    "for i in range(21):\n",
    "    print(i, '*'*int(20*c[i]/100000), c[i]/1000000)"
   ]
  },
  {
   "cell_type": "code",
   "execution_count": null,
   "metadata": {},
   "outputs": [],
   "source": [
    "'''Дан список цен купленных товаров prices (в сомах, целые числа). \n",
    "Начислите function discount(arr) скидку по правилам (приоритет сверху вниз):\n",
    "Если S > 10000 и Q > 4 → скидка 15%.\n",
    "Иначе, если 3000 ≤ S ≤ 5000 и Q > 2 → скидка 10%.\n",
    "Иначе, если только S > 10000 → скидка 5%.\n",
    "Иначе — без скидки.\n",
    "Выведите итоговую сумму после применения скидки. '''"
   ]
  },
  {
   "cell_type": "code",
   "execution_count": null,
   "metadata": {},
   "outputs": [],
   "source": [
    "def discount(arr):\n",
    "    if sum(arr) > 10000 and len(arr) > 4:\n",
    "        return sum(arr) * 0.85\n",
    "    elif 3000 <= sum(arr) <= 5000 and len(arr) > 2:\n",
    "        return sum(arr) * 0.90\n",
    "    elif sum(arr) > 10000:\n",
    "        return sum(arr) * 0.95\n",
    "    else:\n",
    "        return sum(arr)\n",
    "    \n",
    "\n",
    "def discount2(arr):\n",
    "    if sum(arr) > 10000 and len(arr) > 4:\n",
    "        return sum(arr) * 0.85\n",
    "    elif sum(arr) > 10000:\n",
    "        return sum(arr) * 0.95\n",
    "    elif 3000 <= sum(arr) <= 5000 and len(arr) > 2:\n",
    "        return sum(arr) * 0.90\n",
    "    else:\n",
    "        return sum(arr)\n",
    "    \n",
    "\n",
    "\n",
    "def discount3(arr):\n",
    "    if sum(arr) > 10000:\n",
    "        return sum(arr) * 0.95\n",
    "    elif sum(arr) > 10000 and len(arr) > 4:\n",
    "        return sum(arr) * 0.85\n",
    "    elif 3000 <= sum(arr) <= 5000 and len(arr) > 2:\n",
    "        return sum(arr) * 0.90\n",
    "    else:\n",
    "        return sum(arr)\n",
    "    \n",
    "\n",
    "def discount4(arr):\n",
    "    total = sum(arr)\n",
    "    count = len(arr)\n",
    "    if total > 10000 and count > 4:\n",
    "        return total * 0.85\n",
    "    elif total > 10000:\n",
    "        return total * 0.95\n",
    "    elif 3000 <= total <= 5000 and count > 2:\n",
    "        return total * 0.90\n",
    "    else:\n",
    "        return total\n"
   ]
  },
  {
   "cell_type": "code",
   "execution_count": null,
   "metadata": {},
   "outputs": [],
   "source": [
    "# 1, 1, 2, 3, 5, 8, 13 ... \n",
    "\n",
    "def fib1(n):\n",
    "    if n < 1:\n",
    "        return 0\n",
    "    if n == 1:\n",
    "        return 1\n",
    "    return fib1(n-1) + fib1(n-2)"
   ]
  },
  {
   "cell_type": "code",
   "execution_count": null,
   "metadata": {},
   "outputs": [
    {
     "name": "stdout",
     "output_type": "stream",
     "text": [
      "40 102334155\n",
      "time =  18.53617215156555\n"
     ]
    }
   ],
   "source": [
    "from time import time\n",
    "start = time()\n",
    "n = 40\n",
    "print(n, fib1(n))\n",
    "print('time = ', time() - start)"
   ]
  },
  {
   "cell_type": "code",
   "execution_count": null,
   "metadata": {},
   "outputs": [],
   "source": [
    "def fib2(n):\n",
    "    n_2, n_1 = 0, 1\n",
    "    for i in range(1, n):\n",
    "        n_2, n_1 = n_1, n_2 + n_1\n",
    "    return n_1"
   ]
  },
  {
   "cell_type": "code",
   "execution_count": null,
   "metadata": {},
   "outputs": [
    {
     "name": "stdout",
     "output_type": "stream",
     "text": [
      "1000 43466557686937456435688527675040625802564660517371780402481729089536555417949051890403879840079255169295922593080322634775209689623239873322471161642996440906533187938298969649928516003704476137795166849228875\n",
      "time =  0.0\n"
     ]
    }
   ],
   "source": [
    "from time import time\n",
    "start = time.time()\n",
    "n = 1000\n",
    "print(n, fib2(n))\n",
    "print('time = ', time() - start)"
   ]
  },
  {
   "cell_type": "code",
   "execution_count": null,
   "metadata": {},
   "outputs": [
    {
     "data": {
      "text/plain": [
       "1758098400.84435"
      ]
     },
     "execution_count": 10,
     "metadata": {},
     "output_type": "execute_result"
    }
   ],
   "source": [
    "time()"
   ]
  },
  {
   "cell_type": "code",
   "execution_count": null,
   "metadata": {},
   "outputs": [
    {
     "data": {
      "text/plain": [
       "1758098909.5637858"
      ]
     },
     "execution_count": 11,
     "metadata": {},
     "output_type": "execute_result"
    }
   ],
   "source": [
    "time()"
   ]
  },
  {
   "cell_type": "code",
   "execution_count": null,
   "metadata": {},
   "outputs": [
    {
     "data": {
      "text/plain": [
       "[1, 2, 3, 3, 4, 5, 6]"
      ]
     },
     "execution_count": 17,
     "metadata": {},
     "output_type": "execute_result"
    }
   ],
   "source": [
    "arr1 = [1, 2, 3]\n",
    "arr2 = [3, 4 , 5, 6]\n",
    "\n",
    "arr1 + arr2\n"
   ]
  },
  {
   "cell_type": "code",
   "execution_count": null,
   "metadata": {},
   "outputs": [
    {
     "name": "stdout",
     "output_type": "stream",
     "text": [
      "[4, 5, 6]\n"
     ]
    }
   ],
   "source": [
    "for i in arr1:\n",
    "    if i in arr2:\n",
    "        arr2.remove(i)\n",
    "        # arr2.pop(index)\n",
    "print(arr2)"
   ]
  },
  {
   "cell_type": "code",
   "execution_count": null,
   "metadata": {},
   "outputs": [
    {
     "name": "stdout",
     "output_type": "stream",
     "text": [
      "[4, 5, 6]\n"
     ]
    }
   ],
   "source": [
    "x = []\n",
    "for i in arr2:\n",
    "    if i not in arr1:\n",
    "        x.append(i)\n",
    "print(x)"
   ]
  },
  {
   "cell_type": "code",
   "execution_count": null,
   "metadata": {},
   "outputs": [
    {
     "name": "stdout",
     "output_type": "stream",
     "text": [
      "[1, 10, 2, 3, 4, 5]\n"
     ]
    }
   ],
   "source": [
    "arr = [1, 2, 3, 4, 5]\n",
    "arr.insert(1, 10) # [1, 10, 2, 3, 4, 5]\n",
    "print(arr)"
   ]
  },
  {
   "cell_type": "code",
   "execution_count": null,
   "metadata": {},
   "outputs": [
    {
     "name": "stdout",
     "output_type": "stream",
     "text": [
      "[2, 3, 4, 6]\n"
     ]
    }
   ],
   "source": [
    "arr = [2, 3, 4, 5, 6]\n",
    "arr.pop(3) # it will remove 5 since it is on 3th index\n",
    "print(arr)"
   ]
  },
  {
   "cell_type": "code",
   "execution_count": null,
   "metadata": {},
   "outputs": [
    {
     "name": "stdout",
     "output_type": "stream",
     "text": [
      "[2, 3, 4, 5]\n"
     ]
    }
   ],
   "source": [
    "arr = [2, 3, 4, 5, 6]\n",
    "arr.pop()\n",
    "print(arr)"
   ]
  },
  {
   "cell_type": "code",
   "execution_count": null,
   "metadata": {},
   "outputs": [
    {
     "name": "stdout",
     "output_type": "stream",
     "text": [
      "[2, 4, 5, 6]\n"
     ]
    }
   ],
   "source": [
    "arr = [2, 3, 4, 5, 3, 6]\n",
    "while 3 in arr:\n",
    "    arr.remove(3)\n",
    "print(arr)"
   ]
  },
  {
   "cell_type": "code",
   "execution_count": null,
   "metadata": {},
   "outputs": [
    {
     "name": "stdout",
     "output_type": "stream",
     "text": [
      "2,3,4,5,6,"
     ]
    }
   ],
   "source": [
    "arr = [2, 3, 4, 5, 6]\n",
    "for i in arr:\n",
    "    print(i, end = ',')"
   ]
  },
  {
   "cell_type": "code",
   "execution_count": null,
   "metadata": {},
   "outputs": [
    {
     "name": "stdout",
     "output_type": "stream",
     "text": [
      "2, 3, 4, 5, 6, "
     ]
    }
   ],
   "source": [
    "arr = [2, 3, 4, 5, 6]\n",
    "for i in range(len(arr)):\n",
    "    print(arr[i], end = ', ')"
   ]
  },
  {
   "cell_type": "code",
   "execution_count": null,
   "metadata": {},
   "outputs": [
    {
     "name": "stdout",
     "output_type": "stream",
     "text": [
      "2, 3, 4, 5, 6, "
     ]
    }
   ],
   "source": [
    "arr = [2, 3, 4, 5, 6]\n",
    "i = 0\n",
    "while i < len(arr): \n",
    "    print(arr[i], end = ', ')\n",
    "    i += 1"
   ]
  },
  {
   "cell_type": "code",
   "execution_count": null,
   "metadata": {},
   "outputs": [
    {
     "data": {
      "text/plain": [
       "[0, 1, 2, 3, 4, 5, 6, 7, 8, 9]"
      ]
     },
     "execution_count": 40,
     "metadata": {},
     "output_type": "execute_result"
    }
   ],
   "source": [
    "list(range(10))"
   ]
  },
  {
   "cell_type": "code",
   "execution_count": null,
   "metadata": {},
   "outputs": [
    {
     "name": "stdout",
     "output_type": "stream",
     "text": [
      "4\n"
     ]
    }
   ],
   "source": [
    "arr = [2, 3, 4, 5, 6]\n",
    "\n",
    "print(arr[2])"
   ]
  },
  {
   "cell_type": "code",
   "execution_count": null,
   "metadata": {},
   "outputs": [
    {
     "name": "stdout",
     "output_type": "stream",
     "text": [
      "index of value 10 is in index =  2\n"
     ]
    }
   ],
   "source": [
    "arr = [2, 3, 10, 4, 5, 6]\n",
    "target = 10\n",
    "for i in range(len(arr)):\n",
    "    if arr[i] == target:\n",
    "        print(f'index of value {target} is in index = ', i)"
   ]
  },
  {
   "cell_type": "code",
   "execution_count": null,
   "metadata": {},
   "outputs": [
    {
     "name": "stdout",
     "output_type": "stream",
     "text": [
      "index =  2\n"
     ]
    }
   ],
   "source": [
    "arr = [2, 3, 10, 4, 5, 6]\n",
    "target = 10\n",
    "for a, b in enumerate(arr):\n",
    "    if b == target:\n",
    "        print('index = ', a)"
   ]
  },
  {
   "cell_type": "code",
   "execution_count": null,
   "metadata": {},
   "outputs": [
    {
     "data": {
      "text/plain": [
       "[(0, 2), (1, 3), (2, 10), (3, 4), (4, 5), (5, 6)]"
      ]
     },
     "execution_count": 7,
     "metadata": {},
     "output_type": "execute_result"
    }
   ],
   "source": [
    "arr = [2, 3, 4, 5, 6]\n",
    "list(zip(range(len(arr)), arr))"
   ]
  },
  {
   "cell_type": "code",
   "execution_count": null,
   "metadata": {},
   "outputs": [
    {
     "data": {
      "text/plain": [
       "[(13, 25), (6, 100), (7, 71), (11, 65)]"
      ]
     },
     "execution_count": 10,
     "metadata": {},
     "output_type": "execute_result"
    }
   ],
   "source": [
    "arr1 = [13, 6, 7, 11, 5]\n",
    "arr2 = [25, 100, 71, 65]\n",
    "\n",
    "list(zip(arr1, arr2))"
   ]
  },
  {
   "cell_type": "code",
   "execution_count": null,
   "metadata": {},
   "outputs": [
    {
     "name": "stdout",
     "output_type": "stream",
     "text": [
      "[25, 100, 71, 65]\n",
      "[0, 1, 2, 3]\n"
     ]
    }
   ],
   "source": [
    "arr2 = [25, 100, 71, 65]\n",
    "x = list(range(len(arr2)))\n",
    "print(arr2)\n",
    "print(x)"
   ]
  },
  {
   "cell_type": "code",
   "execution_count": null,
   "metadata": {},
   "outputs": [
    {
     "data": {
      "text/plain": [
       "[(0, 25), (1, 100), (2, 71), (3, 65)]"
      ]
     },
     "execution_count": 14,
     "metadata": {},
     "output_type": "execute_result"
    }
   ],
   "source": [
    "list(zip(x, arr2))"
   ]
  },
  {
   "cell_type": "code",
   "execution_count": null,
   "metadata": {},
   "outputs": [
    {
     "name": "stdout",
     "output_type": "stream",
     "text": [
      "5\n"
     ]
    }
   ],
   "source": [
    "names = ['cola', 'smetana', 'banan', 'anan', 'yogurt', 'bread', 'notebook']\n",
    "prices = [55, 95, 35, -20, 47, 30, 220]\n",
    "\n",
    "for i in range(len(names)):\n",
    "    if names[i] == 'bread':\n",
    "        break\n",
    "\n",
    "print(i)"
   ]
  },
  {
   "cell_type": "code",
   "execution_count": null,
   "metadata": {},
   "outputs": [
    {
     "name": "stdout",
     "output_type": "stream",
     "text": [
      "cola =  55\n",
      "bread =  30\n"
     ]
    }
   ],
   "source": [
    "names = ['cola', 'smetana', 'banan', 'anan', 'yogurt', 'bread', 'notebook']\n",
    "prices = [55, 95, 35, -20, 47, 30, 220]\n",
    "quatity = []\n",
    "sale_price = []\n",
    "buying_price = []\n",
    "\n",
    "def getPrice(produkt):\n",
    "    for tovar, tsena in zip(names, prices):\n",
    "        if tovar == produkt:\n",
    "            return tsena\n",
    "    return 0\n",
    "\n",
    "def getPrice2(produkt):\n",
    "    for i in range(len(names)):\n",
    "        if names[i] == produkt:\n",
    "            return prices[i]\n",
    "    return 0\n",
    "    \n",
    "\n",
    "print('cola = ', getPrice('cola'))\n",
    "print('bread = ', getPrice('bread'))"
   ]
  },
  {
   "cell_type": "code",
   "execution_count": null,
   "metadata": {},
   "outputs": [
    {
     "name": "stdout",
     "output_type": "stream",
     "text": [
      "bread (30) x 1 =  30\n",
      "banan (35) x 3 =  105\n",
      "yogurt (47) x 2 =  94\n",
      "____________________\n",
      "Total amount =  229\n"
     ]
    }
   ],
   "source": [
    "names = ['cola', 'smetana', 'banan', 'anan', 'yogurt', 'bread', 'notebook']\n",
    "prices = [55, 95, 35, -20, 47, 30, 220]\n",
    "\n",
    "def getTotal(produkti, kolichestvo):\n",
    "    total = 0\n",
    "    for tovar, koli in zip(produkti, kolichestvo):\n",
    "        price = getPrice(tovar) \n",
    "        print(f'{tovar} ({price}) x {koli} = ', price*koli)\n",
    "        total += price*koli\n",
    "    print('_' * 20)\n",
    "    return total\n",
    "\n",
    "produkti = ['bread', 'banan', 'yogurt']\n",
    "kolichestvo = [1, 3, 2]\n",
    "\n",
    "print('Total amount = ', getTotal(produkti, kolichestvo))"
   ]
  },
  {
   "cell_type": "code",
   "execution_count": null,
   "metadata": {},
   "outputs": [
    {
     "data": {
      "text/plain": [
       "[(1, 9, 9), (2, 9, 1), (3, 1, 3), (4, 2, 0), (5, 3, 7)]"
      ]
     },
     "execution_count": 5,
     "metadata": {},
     "output_type": "execute_result"
    }
   ],
   "source": [
    "arr1  = [1,2, 3, 4, 5]\n",
    "arr2 = [9, 9, 1, 2, 3]\n",
    "arr3 = [9, 1, 3, 0, 7]\n",
    "\n",
    "list(zip(arr1, arr2, arr3))"
   ]
  },
  {
   "cell_type": "code",
   "execution_count": null,
   "metadata": {},
   "outputs": [
    {
     "data": {
      "text/plain": [
       "tuple"
      ]
     },
     "execution_count": 6,
     "metadata": {},
     "output_type": "execute_result"
    }
   ],
   "source": [
    "type((1,2,3))"
   ]
  },
  {
   "cell_type": "code",
   "execution_count": null,
   "metadata": {},
   "outputs": [
    {
     "data": {
      "text/plain": [
       "list"
      ]
     },
     "execution_count": 7,
     "metadata": {},
     "output_type": "execute_result"
    }
   ],
   "source": [
    "type([1,2,3])"
   ]
  },
  {
   "cell_type": "code",
   "execution_count": null,
   "metadata": {},
   "outputs": [],
   "source": [
    "arr1 = [1,2,3]\n",
    "arr2 = (1,2,3)"
   ]
  },
  {
   "cell_type": "code",
   "execution_count": null,
   "metadata": {},
   "outputs": [
    {
     "name": "stdout",
     "output_type": "stream",
     "text": [
      "1 1\n"
     ]
    }
   ],
   "source": [
    "print(arr1[0], arr2[0])"
   ]
  },
  {
   "cell_type": "code",
   "execution_count": null,
   "metadata": {},
   "outputs": [
    {
     "ename": "TypeError",
     "evalue": "'tuple' object does not support item assignment",
     "output_type": "error",
     "traceback": [
      "\u001b[1;31m---------------------------------------------------------------------------\u001b[0m",
      "\u001b[1;31mTypeError\u001b[0m                                 Traceback (most recent call last)",
      "Cell \u001b[1;32mIn[10], line 2\u001b[0m\n\u001b[0;32m      1\u001b[0m arr1[\u001b[38;5;241m0\u001b[39m] \u001b[38;5;241m=\u001b[39m \u001b[38;5;241m10\u001b[39m\n\u001b[1;32m----> 2\u001b[0m \u001b[43marr2\u001b[49m\u001b[43m[\u001b[49m\u001b[38;5;241;43m0\u001b[39;49m\u001b[43m]\u001b[49m \u001b[38;5;241m=\u001b[39m \u001b[38;5;241m10\u001b[39m\n",
      "\u001b[1;31mTypeError\u001b[0m: 'tuple' object does not support item assignment"
     ]
    }
   ],
   "source": [
    "arr1[0] = 10\n",
    "arr2[0] = 10"
   ]
  },
  {
   "cell_type": "code",
   "execution_count": null,
   "metadata": {},
   "outputs": [
    {
     "data": {
      "text/plain": [
       "[10, 2, 3, 1]"
      ]
     },
     "execution_count": 11,
     "metadata": {},
     "output_type": "execute_result"
    }
   ],
   "source": [
    "arr1 + [1]"
   ]
  },
  {
   "cell_type": "code",
   "execution_count": null,
   "metadata": {},
   "outputs": [
    {
     "ename": "TypeError",
     "evalue": "can only concatenate tuple (not \"int\") to tuple",
     "output_type": "error",
     "traceback": [
      "\u001b[1;31m---------------------------------------------------------------------------\u001b[0m",
      "\u001b[1;31mTypeError\u001b[0m                                 Traceback (most recent call last)",
      "Cell \u001b[1;32mIn[12], line 1\u001b[0m\n\u001b[1;32m----> 1\u001b[0m \u001b[43marr2\u001b[49m\u001b[43m \u001b[49m\u001b[38;5;241;43m+\u001b[39;49m\u001b[43m \u001b[49m\u001b[43m(\u001b[49m\u001b[38;5;241;43m3\u001b[39;49m\u001b[43m)\u001b[49m\n",
      "\u001b[1;31mTypeError\u001b[0m: can only concatenate tuple (not \"int\") to tuple"
     ]
    }
   ],
   "source": [
    "arr2 + (3)"
   ]
  },
  {
   "cell_type": "code",
   "execution_count": null,
   "metadata": {},
   "outputs": [],
   "source": [
    "from random import randint\n",
    "\n",
    "def getSeat(cinema, name, seat = 'illiboy'):\n",
    "    if seat == 'illiboy':\n",
    "        for i in range(len(cinema)):\n",
    "            if cinema[i] == False:\n",
    "                cinema[i] = name\n",
    "                return True\n",
    "        return False\n",
    "    elif seat < len(cinema) and cinema[seat] == False:\n",
    "        cinema[seat] = name\n",
    "        return True\n",
    "    else:\n",
    "        return False"
   ]
  },
  {
   "cell_type": "code",
   "execution_count": null,
   "metadata": {},
   "outputs": [],
   "source": []
  },
  {
   "cell_type": "code",
   "execution_count": null,
   "metadata": {},
   "outputs": [
    {
     "name": "stdout",
     "output_type": "stream",
     "text": [
      "Iskender = 2 True\n",
      "[False, False, 'Iskender', False, False, False, False, False]\n",
      "Zaarylkan = random True\n",
      "['Zaarylkan', False, 'Iskender', False, False, False, False, False]\n",
      "Adil = random True\n",
      "['Zaarylkan', 'Adil', 'Iskender', False, False, False, False, False]\n",
      "Altinay = 1 False\n",
      "['Zaarylkan', 'Adil', 'Iskender', False, False, False, False, False]\n",
      "Altinay = 3 True\n",
      "['Zaarylkan', 'Adil', 'Iskender', 'Altinay', False, False, False, False]\n",
      "Zaarylkan2 = random True\n",
      "['Zaarylkan', 'Adil', 'Iskender', 'Altinay', 'Zaarylkan', False, False, False]\n",
      "Adil2 = random True\n",
      "Zaarylkan3 = random True\n",
      "['Zaarylkan', 'Adil', 'Iskender', 'Altinay', 'Zaarylkan', 'Adil', 'Zaarylkan', False]\n",
      "Adil3 = random True\n"
     ]
    }
   ],
   "source": [
    "cinema = [False] * 8\n",
    "print('Iskender = 2', getSeat(cinema, 'Iskender', 2))\n",
    "print(cinema)\n",
    "print('Zaarylkan = random', getSeat(cinema, 'Zaarylkan'))\n",
    "print(cinema)\n",
    "print('Adil = random', getSeat(cinema, 'Adil'))\n",
    "print(cinema)\n",
    "print('Altinay = 1', getSeat(cinema, 'Altinay', 2-1))\n",
    "print(cinema)\n",
    "print('Altinay = 3', getSeat(cinema, 'Altinay', 2+1))\n",
    "print(cinema)\n",
    "print('Zaarylkan2 = random', getSeat(cinema, 'Zaarylkan'))\n",
    "print(cinema)\n",
    "print('Adil2 = random', getSeat(cinema, 'Adil'))\n",
    "print('Zaarylkan3 = random', getSeat(cinema, 'Zaarylkan'))\n",
    "print(cinema)\n",
    "print('Adil3 = random', getSeat(cinema, 'Adil'))"
   ]
  },
  {
   "cell_type": "code",
   "execution_count": null,
   "metadata": {},
   "outputs": [
    {
     "name": "stdout",
     "output_type": "stream",
     "text": [
      "7\n",
      "4\n",
      "3\n",
      "4\n",
      "3\n",
      "4\n",
      "4\n",
      "1\n",
      "5\n",
      "3\n",
      "9\n"
     ]
    }
   ],
   "source": [
    "from random import randint\n",
    "while True:\n",
    "    index = randint(0, 9)\n",
    "    print(index) \n",
    "    if index == 9:\n",
    "        break"
   ]
  },
  {
   "cell_type": "markdown",
   "metadata": {},
   "source": [
    "Исходные данные: \n",
    "два массива:\n",
    "- store_items (названия товаров)\n",
    "- prices (цены). \n",
    "Пример:\n",
    "names  = [\"Хлеб\", \"Молоко\", \"Сыр\", \"Яйца\", \"Чай\"]\n",
    "prices = [   45 ,     65 ,  120 ,   80 ,  150 ]\n",
    "\n",
    "1.min_price_name() → str  [20 points]\n",
    "Вернуть имя товара с минимальной ценой.\n",
    "\n",
    "2.count_below(price: int|float) → int   [20 points]\n",
    "Посчитать, сколько товаров дешевле указанной цены.\n",
    "\n",
    "3.longest_name() → str  [20 points]\n",
    "Вернуть имя товара с самым длинным названием.\n",
    "\n",
    "4.avg_above(threshold: int|float) → float [20 points]\n",
    "Посчитать среднюю цену только тех товаров, которые дороже threshold.\n",
    "\n",
    "5.prefix_search(prefix: str) → list[str]     [10 points]\n",
    "Вернуть список имён, начинающихся с prefix\n",
    "\n",
    "6.total_value() → int|float   [10 points]\n",
    "Посчитать сумму всех цен.\n"
   ]
  },
  {
   "cell_type": "code",
   "execution_count": null,
   "metadata": {},
   "outputs": [
    {
     "name": "stdout",
     "output_type": "stream",
     "text": [
      "5\n",
      "[0, 1, 8, 7, 9, 4, 3, 0, 5]\n",
      "[1, 1, 0, 0, 0, 1, 1, 1, 0]\n",
      "[0, 0, 4, 0, 0]\n"
     ]
    }
   ],
   "source": [
    "arr = [0, 1, 8, 7, 9, 4, 3, 0, 5]\n",
    "\n",
    "peremenniy = 0\n",
    "for i in arr:\n",
    "    if i < 5:\n",
    "        peremenniy += 1\n",
    "print(peremenniy)\n",
    "\n",
    "print(arr)\n",
    "print([1 if i < 5 else 0 for i in arr])\n",
    "print([i if i > 3 else 0 for i in arr if i < 5])"
   ]
  },
  {
   "cell_type": "code",
   "execution_count": null,
   "metadata": {},
   "outputs": [
    {
     "data": {
      "text/plain": [
       "[0, 1, 4, 3, 0]"
      ]
     },
     "execution_count": 9,
     "metadata": {},
     "output_type": "execute_result"
    }
   ],
   "source": [
    "x"
   ]
  },
  {
   "cell_type": "code",
   "execution_count": null,
   "metadata": {},
   "outputs": [
    {
     "name": "stdout",
     "output_type": "stream",
     "text": [
      "[10, 1, 8, 7, 9, 4, 3, 0, 5]\n",
      "[0, 1, 8, 7, 9, 4, 3, 0, 5]\n"
     ]
    }
   ],
   "source": [
    "arr[0] = 10\n",
    "print(arr)\n",
    "print(x)"
   ]
  },
  {
   "cell_type": "code",
   "execution_count": null,
   "metadata": {},
   "outputs": [
    {
     "ename": "IndentationError",
     "evalue": "expected an indented block after 'if' statement on line 96 (780912662.py, line 98)",
     "output_type": "error",
     "traceback": [
      "\u001b[1;36m  Cell \u001b[1;32mIn[67], line 98\u001b[1;36m\u001b[0m\n\u001b[1;33m    def total_value(): #→ int|float   [10 points]\u001b[0m\n\u001b[1;37m                                                 ^\u001b[0m\n\u001b[1;31mIndentationError\u001b[0m\u001b[1;31m:\u001b[0m expected an indented block after 'if' statement on line 96\n"
     ]
    }
   ],
   "source": [
    "'''Исходные данные: \n",
    "два массива:\n",
    "- store_items (названия товаров)\n",
    "- prices (цены). \n",
    "Пример:'''\n",
    "names  = [\"Bread\", \"Milk\", \"XYCheese\", \"Egg\", \"XYTea\"]\n",
    "prices = [   145 ,     65 ,  120 ,   80 ,  150 ]\n",
    "\n",
    "#1.min_price_name() → str  [20 points]\n",
    "#Вернуть имя товара с минимальной ценой.\n",
    "# short\n",
    "print('#1: ', names[prices.index(min(prices))])\n",
    "\n",
    "# long\n",
    "\n",
    "def min_prices():\n",
    "    ans = ''\n",
    "    min = float('inf')\n",
    "    '''for i in range(len(prices)):\n",
    "        if min > prices[i]:\n",
    "            min = prices[i]\n",
    "            ans = names[i]'''\n",
    "    for name, price in zip(names, prices):\n",
    "        if min > price:\n",
    "            min = price\n",
    "            ans = name\n",
    "    return ans\n",
    "\n",
    "\n",
    "#2.count_below(price: int|float) → int   [20 points]\n",
    "#Посчитать, сколько товаров дешевле указанной цены.\n",
    "# short version\n",
    "print('#2: ', sum([1 for i in prices if i < 100]))\n",
    "\n",
    "#long version\n",
    "def count_below(threshold):\n",
    "    count = 0\n",
    "    for i in prices:\n",
    "        if i < threshold:\n",
    "            count += 1\n",
    "    return count\n",
    "\n",
    "\n",
    "#3.longest_name() → str  [20 points]\n",
    "#Вернуть имя товара с самым длинным названием.\n",
    "# short\n",
    "print('#3: ', sorted([(len(names[i]), i, names[i]) for i in range(len(names))])[-1])\n",
    "\n",
    "# long\n",
    "def longest_name():\n",
    "    dlini = []\n",
    "    for i in names:\n",
    "        dlini.append(len(i))\n",
    "    min_index = 0\n",
    "    for index, dlina in enumerate(arr):\n",
    "        if dlini[min_index] > dlina:\n",
    "            min_index = index\n",
    "    return names[min_index]\n",
    "\n",
    "# long v2\n",
    "def longest_name2():\n",
    "    lname = names[0]\n",
    "    for i in names:\n",
    "        if len(lname) < len(i):\n",
    "            lname = i \n",
    "    return lname\n",
    "\n",
    "\n",
    "#4.avg_above(threshold: int|float) → float [20 points]\n",
    "#Посчитать среднюю цену только тех товаров, которые дороже threshold.\n",
    "# short\n",
    "arr =[i for i in prices if i > 100]\n",
    "print('#4: ', sum(arr)/len(arr))\n",
    "\n",
    "# long\n",
    "def avg_above(threshold):\n",
    "    sum = 0\n",
    "    count = 0\n",
    "    for i in prices:\n",
    "        if i > threshold:\n",
    "            sum += i\n",
    "            count += 1\n",
    "    return sum / count\n",
    "\n",
    "\n",
    "\n",
    "def prefix_search(prefix: str):# → list[str]     [10 points]\n",
    "#Вернуть список имён, начинающихся с prefix\n",
    "#prefix = 'XY'  \n",
    "    #short\n",
    "    return [i for i in names if prefix == i[:len(prefix)]]\n",
    "\n",
    "    #long\n",
    "    arr = []\n",
    "    for i in names:\n",
    "        if prefix == i[:len(prefix)]:\n",
    "            arr.append(i)\n",
    "    return arr\n",
    "\n",
    "def total_value(): #→ int|float   [10 points]\n",
    "#Посчитать сумму всех цен.\n",
    "    return sum(prices)\n"
   ]
  },
  {
   "cell_type": "code",
   "execution_count": null,
   "metadata": {},
   "outputs": [
    {
     "name": "stdout",
     "output_type": "stream",
     "text": [
      "[0, 1, 8, 7, 9, 4, 3, 0, 5] 5\n"
     ]
    }
   ],
   "source": [
    "print(arr, arr.index(4))"
   ]
  },
  {
   "cell_type": "code",
   "execution_count": null,
   "metadata": {},
   "outputs": [
    {
     "name": "stdout",
     "output_type": "stream",
     "text": [
      "#1:  Тимур\n",
      "#3:  3\n",
      "#4:  4\n",
      "#5:  2\n",
      "#6:  3\n"
     ]
    }
   ],
   "source": [
    "'''\n",
    "два массива:\n",
    "- seats — список мест, где значение либо False (место свободно), либо str (имя человека).\n",
    "- prices — список цен за каждое место (числа). \n",
    "Пример: '''\n",
    "seats = [False, \"Айда\", False, \"Тимур\", False] \n",
    "prices = [300, 500, 400, 700, 300]\n",
    "\n",
    "def richest_person():# → str        (20 points)\n",
    "    return seats[prices.index(max(prices))]\n",
    "#Вернуть имя клиента с самой дорогой ценой места.\n",
    "print('#1: ', richest_person())\n",
    " \n",
    "\n",
    "def swap_people(idx1: int, idx2: int): # → bool              (20 points)\n",
    "    if 0<=idx1<len(seats) and 0 <= idx2 < len(seats):\n",
    "        seats[idx1], seats[idx2] = seats[idx2], seats[idx1]\n",
    "        return True\n",
    "    else:\n",
    "        return False\n",
    "#Поменять местами двух клиентов.\n",
    "\n",
    "#3.count_above(price: int) → int             (20 points)\n",
    "#Посчитать количество клиентов, сидящих на местах дороже price.\n",
    "print('#3: ', sum([1 for i in prices if i > 300]))\n",
    "\n",
    "#4.last_free() → int | -1          (20 points)\n",
    "#Вернуть индекс последнего свободного места.\n",
    "print('#4: ', [i for i, j in enumerate(seats) if j == False][-1])\n",
    "\n",
    "#5.cheapest_available() → int | -1          (10 points)\n",
    "#Найти индекс самого дешёвого свободного места.\n",
    "print('#5: ', sorted([(price, index) for index, price in enumerate(prices) if not seats[index]])[-1][1])\n",
    "\n",
    "\n",
    "#6.count_available() → int        (10 points)\n",
    "#Подсчитать количество свободных мест.\n",
    "print('#6: ', sum([1 for i in seats if not i]))\n"
   ]
  },
  {
   "cell_type": "code",
   "execution_count": null,
   "metadata": {},
   "outputs": [
    {
     "name": "stdout",
     "output_type": "stream",
     "text": [
      "[False, 'Айда', False, 'Тимур', False]\n",
      "[300, 500, 400, 700, 300]\n",
      "[False, 'Тимур', False, 'Айда', False]\n",
      "[300, 700, 400, 500, 300]\n"
     ]
    }
   ],
   "source": [
    "print(seats)\n",
    "print(prices)\n",
    "swap_people(1, 3)\n",
    "print(seats)\n",
    "print(prices)"
   ]
  },
  {
   "cell_type": "code",
   "execution_count": null,
   "metadata": {},
   "outputs": [],
   "source": [
    "d = {\"emil\": 1000, \"altinay\": 2000, \"iskender\": 500, 3: 10000, 2.25: 5000, \"aiperi\": [1000, 3000]}\n",
    "arr = [1, 2, 4, 5]\n"
   ]
  },
  {
   "cell_type": "code",
   "execution_count": null,
   "metadata": {},
   "outputs": [
    {
     "data": {
      "text/plain": [
       "dict_keys(['emil', 'altinay', 'iskender', 3, 2.25, 'aiperi'])"
      ]
     },
     "execution_count": 78,
     "metadata": {},
     "output_type": "execute_result"
    }
   ],
   "source": [
    "d.keys()"
   ]
  },
  {
   "cell_type": "code",
   "execution_count": null,
   "metadata": {},
   "outputs": [
    {
     "data": {
      "text/plain": [
       "dict_values([1000, 2000, 500, 10000, 5000, [1000, 3000]])"
      ]
     },
     "execution_count": 79,
     "metadata": {},
     "output_type": "execute_result"
    }
   ],
   "source": [
    "d.values()"
   ]
  },
  {
   "cell_type": "code",
   "execution_count": null,
   "metadata": {},
   "outputs": [
    {
     "data": {
      "text/plain": [
       "(dict, {1: 5, 2: 7, 4: 5})"
      ]
     },
     "execution_count": 85,
     "metadata": {},
     "output_type": "execute_result"
    }
   ],
   "source": [
    "d = {1:1, 2:2, 4:5, 1:5, 2:7}\n",
    "type(d), d"
   ]
  },
  {
   "cell_type": "code",
   "execution_count": null,
   "metadata": {},
   "outputs": [],
   "source": [
    "names  = [\"Bread\", \"Milk\", \"XYCheese\", \"Egg\", \"XYTea\"]\n",
    "prices = [   145 ,     65 ,  120 ,   80 ,  150 ]"
   ]
  },
  {
   "cell_type": "code",
   "execution_count": null,
   "metadata": {},
   "outputs": [],
   "source": [
    "d = dict(zip(names, prices))"
   ]
  },
  {
   "cell_type": "code",
   "execution_count": null,
   "metadata": {},
   "outputs": [
    {
     "data": {
      "text/plain": [
       "dict_items([('Bread', 145), ('Milk', 65), ('XYCheese', 120), ('Egg', 80), ('XYTea', 150)])"
      ]
     },
     "execution_count": 92,
     "metadata": {},
     "output_type": "execute_result"
    }
   ],
   "source": [
    "d.items()"
   ]
  },
  {
   "cell_type": "code",
   "execution_count": null,
   "metadata": {},
   "outputs": [
    {
     "name": "stdout",
     "output_type": "stream",
     "text": [
      "Bread 145\n",
      "Milk 65\n",
      "XYCheese 120\n",
      "Egg 80\n",
      "XYTea 150\n"
     ]
    }
   ],
   "source": [
    "for i in d:\n",
    "    print(i, d[i])"
   ]
  },
  {
   "cell_type": "code",
   "execution_count": null,
   "metadata": {},
   "outputs": [
    {
     "name": "stdout",
     "output_type": "stream",
     "text": [
      "('Bread', 145)\n",
      "('Milk', 65)\n",
      "('XYCheese', 120)\n",
      "('Egg', 80)\n",
      "('XYTea', 150)\n"
     ]
    }
   ],
   "source": [
    "for i in d.items():\n",
    "    print(i)"
   ]
  },
  {
   "cell_type": "code",
   "execution_count": null,
   "metadata": {},
   "outputs": [
    {
     "name": "stdout",
     "output_type": "stream",
     "text": [
      "Bread -> 145\n",
      "Milk -> 65\n",
      "XYCheese -> 120\n",
      "Egg -> 80\n",
      "XYTea -> 150\n"
     ]
    }
   ],
   "source": [
    "for kluch, znachenie in d.items():\n",
    "    print(kluch, '->', znachenie)"
   ]
  },
  {
   "cell_type": "code",
   "execution_count": null,
   "metadata": {},
   "outputs": [
    {
     "data": {
      "text/plain": [
       "{'Bread': 145,\n",
       " 'Milk': 65,\n",
       " 'XYCheese': 120,\n",
       " 'Egg': 80,\n",
       " 'XYTea': 150,\n",
       " 'isken': True}"
      ]
     },
     "execution_count": 99,
     "metadata": {},
     "output_type": "execute_result"
    }
   ],
   "source": [
    "d['isken'] = True\n",
    "d"
   ]
  },
  {
   "cell_type": "code",
   "execution_count": null,
   "metadata": {},
   "outputs": [
    {
     "data": {
      "text/plain": [
       "{'Bread': 145,\n",
       " 'Milk': 65,\n",
       " 'XYCheese': 120,\n",
       " 'Egg': 80,\n",
       " 'XYTea': 150,\n",
       " 'isken': True,\n",
       " True: 'Iskender'}"
      ]
     },
     "execution_count": 101,
     "metadata": {},
     "output_type": "execute_result"
    }
   ],
   "source": [
    "d[True] = 'Iskender'\n",
    "d"
   ]
  },
  {
   "cell_type": "code",
   "execution_count": null,
   "metadata": {},
   "outputs": [
    {
     "data": {
      "text/plain": [
       "{'Bread': 145,\n",
       " 'Milk': 65,\n",
       " 'XYCheese': 120,\n",
       " 'Egg': 80,\n",
       " 'XYTea': 150,\n",
       " 'isken': True,\n",
       " True: 'iskender',\n",
       " 2: 'iskender'}"
      ]
     },
     "execution_count": 108,
     "metadata": {},
     "output_type": "execute_result"
    }
   ],
   "source": [
    "d[2] = 'iskender'\n",
    "d"
   ]
  },
  {
   "cell_type": "code",
   "execution_count": null,
   "metadata": {},
   "outputs": [
    {
     "data": {
      "text/plain": [
       "{'Bread': 145,\n",
       " 'Milk': 65,\n",
       " 'XYCheese': 120,\n",
       " 'Egg': 80,\n",
       " 'XYTea': 150,\n",
       " 'isken': True,\n",
       " True: 'iskender',\n",
       " 2: 'iskender',\n",
       " False: 'zaa'}"
      ]
     },
     "execution_count": 111,
     "metadata": {},
     "output_type": "execute_result"
    }
   ],
   "source": [
    "d[False] = 'altinay'\n",
    "d[0] = 'zaa'\n",
    "d"
   ]
  },
  {
   "cell_type": "code",
   "execution_count": null,
   "metadata": {},
   "outputs": [
    {
     "data": {
      "text/plain": [
       "{'Bread': 145,\n",
       " 'Milk': 65,\n",
       " 'XYCheese': 120,\n",
       " 'Egg': 80,\n",
       " 'XYTea': 150,\n",
       " 'isken': True,\n",
       " True: 'iskender',\n",
       " 2: 'iskender',\n",
       " False: 'zaa',\n",
       " (1, 2, 3): 25}"
      ]
     },
     "execution_count": 112,
     "metadata": {},
     "output_type": "execute_result"
    }
   ],
   "source": [
    "d[(1, 2, 3)] = 25\n",
    "d"
   ]
  },
  {
   "cell_type": "code",
   "execution_count": null,
   "metadata": {},
   "outputs": [
    {
     "ename": "TypeError",
     "evalue": "unhashable type: 'list'",
     "output_type": "error",
     "traceback": [
      "\u001b[1;31m---------------------------------------------------------------------------\u001b[0m",
      "\u001b[1;31mTypeError\u001b[0m                                 Traceback (most recent call last)",
      "Cell \u001b[1;32mIn[113], line 1\u001b[0m\n\u001b[1;32m----> 1\u001b[0m \u001b[43md\u001b[49m\u001b[43m[\u001b[49m\u001b[43m[\u001b[49m\u001b[38;5;241;43m1\u001b[39;49m\u001b[43m,\u001b[49m\u001b[38;5;241;43m2\u001b[39;49m\u001b[43m,\u001b[49m\u001b[38;5;241;43m3\u001b[39;49m\u001b[43m]\u001b[49m\u001b[43m]\u001b[49m \u001b[38;5;241m=\u001b[39m \u001b[38;5;241m30\u001b[39m\n\u001b[0;32m      2\u001b[0m d\n",
      "\u001b[1;31mTypeError\u001b[0m: unhashable type: 'list'"
     ]
    }
   ],
   "source": [
    "d[[1,2,3]] = 30\n",
    "d"
   ]
  },
  {
   "cell_type": "code",
   "execution_count": null,
   "metadata": {},
   "outputs": [],
   "source": [
    "'''\n",
    "Исходные данные: \n",
    "два массива:\n",
    "- store_items (названия товаров)\n",
    "- prices (цены). \n",
    "Пример:\n",
    "'''\n",
    "d  = {\"Bread\": 45, \"Milk\": 65, \"Cheese\": 120, \"Egg\":80, \"Tea\":150}\n",
    "\n",
    "#1.min_price_name() → str  [20 points]\n",
    "#Вернуть имя товара с минимальной ценой.\n",
    "def min_price_name():\n",
    "    min = float('inf')\n",
    "    answer = ''\n",
    "    for name in d:\n",
    "        if min > d[name]:\n",
    "            min = d[name]\n",
    "            answer = name\n",
    "    return answer\n",
    "\n",
    "\n",
    "\n",
    "#2.count_below(price: int|float) → int   [20 points]\n",
    "#Посчитать, сколько товаров дешевле указанной цены.\n",
    "\n",
    "def count_below(target):\n",
    "    count = 0\n",
    "    for key, value in d.items():\n",
    "        if value < target:\n",
    "            count += 1\n",
    "    return count\n",
    "\n",
    "\n",
    "#3.longest_name() → str  [20 points]\n",
    "#Вернуть имя товара с самым длинным названием.\n",
    "\n",
    "def longest_name():\n",
    "    peremenniy = ''\n",
    "    for name in d.keys():\n",
    "        if len(name) > len(peremenniy):\n",
    "            peremenniy = name\n",
    "    return peremenniy\n",
    "\n",
    "\n",
    "#4.avg_above(threshold: int|float) → float [20 points]\n",
    "#Посчитать среднюю цену только тех товаров, которые дороже threshold.\n",
    "def avg_above(threshold):\n",
    "    sum = 0\n",
    "    count = 0\n",
    "    for price in d.values():\n",
    "        if price > threshold:\n",
    "            sum += price\n",
    "            count += 1\n",
    "    return sum / count\n",
    "\n",
    "#5.prefix_search(prefix: str) → list[str]     [10 points]\n",
    "#Вернуть список имён, начинающихся с prefix\n",
    "def prefix_search(prefix):\n",
    "    arr = []\n",
    "    for name in d:\n",
    "        if name[:len(prefix)] == prefix:\n",
    "            arr.append(name)\n",
    "    return arr\n",
    "\n",
    "#6.total_value() → int|float   [10 points]\n",
    "#Посчитать сумму всех цен.\n",
    "def total_value():\n",
    "    sum = 0\n",
    "    for value in d.values():\n",
    "        sum += value\n",
    "    return sum\n"
   ]
  },
  {
   "cell_type": "code",
   "execution_count": null,
   "metadata": {},
   "outputs": [
    {
     "name": "stdout",
     "output_type": "stream",
     "text": [
      "[1, 2, 3]\n"
     ]
    }
   ],
   "source": [
    "arr = [1,2,3]\n",
    "print(arr[:10])"
   ]
  },
  {
   "cell_type": "code",
   "execution_count": null,
   "metadata": {},
   "outputs": [
    {
     "name": "stdout",
     "output_type": "stream",
     "text": [
      "emil\n",
      "univer\n",
      "False\n"
     ]
    }
   ],
   "source": [
    "name = 'emil'\n",
    "prefix = 'univer'\n",
    "\n",
    "print(name[:len(prefix)])\n",
    "print(prefix)\n",
    "print(name[:len(prefix)] == prefix)"
   ]
  },
  {
   "cell_type": "code",
   "execution_count": null,
   "metadata": {},
   "outputs": [],
   "source": [
    "a = 10"
   ]
  },
  {
   "cell_type": "code",
   "execution_count": null,
   "metadata": {},
   "outputs": [],
   "source": [
    "d  = {\"Bread\": 45, \"Milk\": 65, \"Cheese\": 120, \"Egg\":80, \"Tea\":150}\n",
    "\n",
    "def total(arr):\n",
    "    sum = 0\n",
    "    for item in arr:\n",
    "        if item in d:\n",
    "            sum += d[item]\n",
    "        else:\n",
    "            sum += 0\n",
    "        # sum += d.get(item, 0)\n",
    "    return sum"
   ]
  },
  {
   "cell_type": "code",
   "execution_count": null,
   "metadata": {},
   "outputs": [
    {
     "name": "stdout",
     "output_type": "stream",
     "text": [
      "Total:  295\n"
     ]
    }
   ],
   "source": [
    "print('Total: ', total(['Milk', 'Egg', 'Tea']))"
   ]
  },
  {
   "cell_type": "code",
   "execution_count": null,
   "metadata": {},
   "outputs": [],
   "source": [
    "d  = {\"Bread\": 45, \"Milk\": 65, \"Cheese\": 120, \"Egg\":80, \"Tea\":150}\n",
    "\n",
    "def kvitansia(arr):\n",
    "    s = ''\n",
    "    total = 0 \n",
    "    for item in arr:\n",
    "        s += item + '\\t->\\t' + str(d.get(item, \"Ne naydeno\")) + '\\n'\n",
    "        total += d.get(item, 0)\n",
    "    s += f'Total : {total}'\n",
    "    return s\n",
    "    \n"
   ]
  },
  {
   "cell_type": "code",
   "execution_count": null,
   "metadata": {},
   "outputs": [
    {
     "name": "stdout",
     "output_type": "stream",
     "text": [
      "Bread\t->\t45\n",
      "Nan\t->\tNe naydeno\n",
      "Egg\t->\t80\n",
      "Tea\t->\t150\n",
      "Cola\t->\tNe naydeno\n",
      "Total : 275\n"
     ]
    }
   ],
   "source": [
    "print(kvitansia(['Bread','Nan','Egg','Tea','Cola']))"
   ]
  },
  {
   "cell_type": "markdown",
   "metadata": {},
   "source": []
  },
  {
   "cell_type": "code",
   "execution_count": null,
   "metadata": {},
   "outputs": [
    {
     "name": "stdout",
     "output_type": "stream",
     "text": [
      "['emil', 'bil', 'ait', 'test']\n"
     ]
    }
   ],
   "source": [
    "s = 'emil##bil##ait##test'\n",
    "print(s.split('##'))"
   ]
  },
  {
   "cell_type": "code",
   "execution_count": null,
   "metadata": {},
   "outputs": [],
   "source": [
    "users = {}\n",
    "\n",
    "def add_to_user(user, produkti):\n",
    "    k = kvitansia(produkti)\n",
    "\n",
    "    if user not in users:\n",
    "        users[user] = [k]\n",
    "    else:\n",
    "        users[user].append(k)\n",
    "        "
   ]
  },
  {
   "cell_type": "code",
   "execution_count": null,
   "metadata": {},
   "outputs": [],
   "source": [
    "# incorrect\n",
    "def add_to_user2(user, produkti):\n",
    "    k = kvitansia(produkti)\n",
    "    users[user] = [k]"
   ]
  },
  {
   "cell_type": "code",
   "execution_count": null,
   "metadata": {},
   "outputs": [],
   "source": [
    "users = {}"
   ]
  },
  {
   "cell_type": "code",
   "execution_count": null,
   "metadata": {},
   "outputs": [],
   "source": [
    "add_to_user('iskender', ['Bread', 'Egg'])"
   ]
  },
  {
   "cell_type": "code",
   "execution_count": null,
   "metadata": {},
   "outputs": [],
   "source": [
    "add_to_user('Emil', ['Milk', 'Cheese'])"
   ]
  },
  {
   "cell_type": "code",
   "execution_count": null,
   "metadata": {},
   "outputs": [
    {
     "name": "stdout",
     "output_type": "stream",
     "text": [
      "------- altinay ----------\n",
      "0\n",
      "Bread\t->\t45\n",
      "Egg\t->\t80\n",
      "Total : 125\n",
      "\n",
      "1\n",
      "Milk\t->\t65\n",
      "Cheese\t->\t120\n",
      "Total : 185\n",
      "\n",
      "\n",
      "------- iskender ----------\n",
      "0\n",
      "Bread\t->\t45\n",
      "Egg\t->\t80\n",
      "Total : 125\n",
      "\n",
      "\n",
      "------- Emil ----------\n",
      "0\n",
      "Milk\t->\t65\n",
      "Cheese\t->\t120\n",
      "Total : 185\n",
      "\n",
      "\n"
     ]
    }
   ],
   "source": [
    "for user, kvitansii in users.items():\n",
    "    print('-------', user, '----------')\n",
    "    for i, v in enumerate(kvitansii):\n",
    "        print(i)\n",
    "        print(v)\n",
    "        print()\n",
    "    print()\n"
   ]
  },
  {
   "cell_type": "code",
   "execution_count": null,
   "metadata": {},
   "outputs": [],
   "source": [
    "users = {'altinay':[], 'iskender':[]}\n",
    "\n",
    "users['altinay'].append(kvitansia(['Bread', \"Egg\"]))"
   ]
  },
  {
   "cell_type": "code",
   "execution_count": null,
   "metadata": {},
   "outputs": [
    {
     "data": {
      "text/plain": [
       "{'altinay': ['Bread\\t->\\t45\\nEgg\\t->\\t80\\nTotal : 125'],\n",
       " 'iskender': ['Bread\\t->\\t45\\nEgg\\t->\\t80\\nTotal : 125',\n",
       "  'Bread\\t->\\t45\\nEgg\\t->\\t80\\nTotal : 125',\n",
       "  'Bread\\t->\\t45\\nEgg\\t->\\t80\\nTotal : 125']}"
      ]
     },
     "execution_count": 25,
     "metadata": {},
     "output_type": "execute_result"
    }
   ],
   "source": [
    "users['iskender'].append(kvitansia(['Bread', \"Egg\"]))\n",
    "users"
   ]
  },
  {
   "cell_type": "code",
   "execution_count": null,
   "metadata": {},
   "outputs": [
    {
     "ename": "KeyError",
     "evalue": "'emil'",
     "output_type": "error",
     "traceback": [
      "\u001b[1;31m---------------------------------------------------------------------------\u001b[0m",
      "\u001b[1;31mKeyError\u001b[0m                                  Traceback (most recent call last)",
      "Cell \u001b[1;32mIn[27], line 1\u001b[0m\n\u001b[1;32m----> 1\u001b[0m \u001b[43musers\u001b[49m\u001b[43m[\u001b[49m\u001b[38;5;124;43m'\u001b[39;49m\u001b[38;5;124;43memil\u001b[39;49m\u001b[38;5;124;43m'\u001b[39;49m\u001b[43m]\u001b[49m\n",
      "\u001b[1;31mKeyError\u001b[0m: 'emil'"
     ]
    }
   ],
   "source": [
    "k = kvitansia(['Bread', 'Egg'])\n",
    "\n",
    "if 'emil' not in users:\n",
    "    users['emil'] = []\n",
    "users['emil'].append(k)\n",
    "    \n"
   ]
  },
  {
   "cell_type": "code",
   "execution_count": null,
   "metadata": {},
   "outputs": [
    {
     "name": "stdout",
     "output_type": "stream",
     "text": [
      "80\n",
      "80\n",
      "80\n",
      "80\n"
     ]
    }
   ],
   "source": [
    "names  = [\"Bread\", \"Milk\", \"XYCheese\", \"Egg\", \"XYTea\"]\n",
    "prices = [   145 ,     65 ,  120 ,   80 ,  150 ]\n",
    "\n",
    "for i in range(len(names)):\n",
    "    if names[i] == 'Egg':\n",
    "        print(prices[i])\n",
    "\n",
    "for i, j in enumerate(names):\n",
    "    if j == 'Egg':\n",
    "        print(prices[i])\n",
    "\n",
    "for i, j in zip(names, prices):\n",
    "    if i == 'Egg':\n",
    "        print(j)\n",
    "\n",
    "d = dict(zip(names, prices))\n",
    "\n",
    "print(d['Egg'])\n"
   ]
  },
  {
   "cell_type": "code",
   "execution_count": null,
   "metadata": {},
   "outputs": [],
   "source": [
    "d = {'Emil': {'first': 10, 'second':20, 'third':30}, 'Altinay': {'first':20, 'second':30, 'third': 50}}"
   ]
  },
  {
   "cell_type": "code",
   "execution_count": null,
   "metadata": {},
   "outputs": [
    {
     "data": {
      "text/plain": [
       "20"
      ]
     },
     "execution_count": 53,
     "metadata": {},
     "output_type": "execute_result"
    }
   ],
   "source": [
    "d['Emil']['second']"
   ]
  },
  {
   "cell_type": "code",
   "execution_count": null,
   "metadata": {},
   "outputs": [],
   "source": [
    "d = {'Emil':[10, 20,30], 'Altinay':[20, 30, 50]}"
   ]
  },
  {
   "cell_type": "code",
   "execution_count": null,
   "metadata": {},
   "outputs": [
    {
     "data": {
      "text/plain": [
       "{'Emil': [10, 20, 30], 'Altinay': [20, 30, 50]}"
      ]
     },
     "execution_count": 55,
     "metadata": {},
     "output_type": "execute_result"
    }
   ],
   "source": [
    "d"
   ]
  },
  {
   "cell_type": "code",
   "execution_count": null,
   "metadata": {},
   "outputs": [],
   "source": [
    "del d['Emil']"
   ]
  },
  {
   "cell_type": "code",
   "execution_count": null,
   "metadata": {},
   "outputs": [
    {
     "name": "stdout",
     "output_type": "stream",
     "text": [
      "{'Altinay': [30, 50]}\n"
     ]
    }
   ],
   "source": [
    "d['Altinay'].pop(0)"
   ]
  },
  {
   "cell_type": "code",
   "execution_count": null,
   "metadata": {},
   "outputs": [],
   "source": [
    "d['Altinay'].remove(50)\n",
    "d['Altinay'].append(70)"
   ]
  },
  {
   "cell_type": "code",
   "execution_count": null,
   "metadata": {},
   "outputs": [
    {
     "name": "stdout",
     "output_type": "stream",
     "text": [
      "{'Altinay': [30, 70]}\n"
     ]
    }
   ],
   "source": [
    "print(d)"
   ]
  },
  {
   "cell_type": "code",
   "execution_count": null,
   "metadata": {},
   "outputs": [
    {
     "name": "stdout",
     "output_type": "stream",
     "text": [
      "{'Altinay': 100, 'Sultan': 70}\n"
     ]
    }
   ],
   "source": [
    "d = {'Altinay': 50, 'Sultan': 70}\n",
    "d['Altinay'] += 50\n",
    "print(d)"
   ]
  },
  {
   "cell_type": "code",
   "execution_count": null,
   "metadata": {},
   "outputs": [],
   "source": [
    "mbank = {}\n",
    "\n",
    "def deposit(user, amount):\n",
    "    mbank[user] = amount\n",
    "\n",
    "def snyat(user, amount):\n",
    "    if mbank[user] >= amount:\n",
    "        mbank[user] -= amount\n",
    "        return True\n",
    "    else:\n",
    "        return False\n",
    "\n",
    "def transfer(fromuser, touser, amount):\n",
    "    if mbank[fromuser] >= amount:\n",
    "        mbank[fromuser] -= amount\n",
    "        mbank[touser] += amount\n",
    "        return True\n",
    "    else:\n",
    "        return False\n",
    "    \n",
    "def printMbank():\n",
    "    for user, amount in mbank.items():\n",
    "        print(f'{user} -> {amount}')\n",
    "    print('Total: ', sum(mbank.values()))"
   ]
  },
  {
   "cell_type": "code",
   "execution_count": null,
   "metadata": {},
   "outputs": [
    {
     "name": "stdout",
     "output_type": "stream",
     "text": [
      "Total:  0\n"
     ]
    }
   ],
   "source": [
    "printMbank()"
   ]
  },
  {
   "cell_type": "code",
   "execution_count": null,
   "metadata": {},
   "outputs": [
    {
     "name": "stdout",
     "output_type": "stream",
     "text": [
      "Altinay -> 1000\n",
      "Total:  1000\n"
     ]
    }
   ],
   "source": [
    "deposit('Altinay', 1000)\n",
    "printMbank()"
   ]
  },
  {
   "cell_type": "code",
   "execution_count": null,
   "metadata": {},
   "outputs": [
    {
     "name": "stdout",
     "output_type": "stream",
     "text": [
      "Altinay -> 1000\n",
      "Iskender -> 2000\n",
      "Total:  3000\n"
     ]
    }
   ],
   "source": [
    "deposit('Iskender', 2000)\n",
    "printMbank()"
   ]
  },
  {
   "cell_type": "code",
   "execution_count": null,
   "metadata": {},
   "outputs": [
    {
     "name": "stdout",
     "output_type": "stream",
     "text": [
      "Altinay -> 1000\n",
      "Iskender -> 2000\n",
      "Zaarylkan -> 5000\n",
      "Total:  8000\n"
     ]
    }
   ],
   "source": [
    "deposit('Zaarylkan', 5000)\n",
    "printMbank()"
   ]
  },
  {
   "cell_type": "code",
   "execution_count": null,
   "metadata": {},
   "outputs": [
    {
     "name": "stdout",
     "output_type": "stream",
     "text": [
      "True\n",
      "Altinay -> 1000\n",
      "Iskender -> 2000\n",
      "Zaarylkan -> 4000\n",
      "Total:  7000\n"
     ]
    }
   ],
   "source": [
    "print(snyat('Zaarylkan', 1000))\n",
    "printMbank()"
   ]
  },
  {
   "cell_type": "code",
   "execution_count": null,
   "metadata": {},
   "outputs": [
    {
     "name": "stdout",
     "output_type": "stream",
     "text": [
      "False\n",
      "Altinay -> 1000\n",
      "Iskender -> 2000\n",
      "Zaarylkan -> 4000\n",
      "Total:  7000\n"
     ]
    }
   ],
   "source": [
    "print(snyat('Zaarylkan', 5000))\n",
    "printMbank()"
   ]
  },
  {
   "cell_type": "code",
   "execution_count": null,
   "metadata": {},
   "outputs": [
    {
     "name": "stdout",
     "output_type": "stream",
     "text": [
      "True\n",
      "Altinay -> 1000\n",
      "Iskender -> 500\n",
      "Zaarylkan -> 5500\n",
      "Total:  7000\n"
     ]
    }
   ],
   "source": [
    "print(transfer('Iskender', 'Zaarylkan', 1500))\n",
    "printMbank()"
   ]
  },
  {
   "cell_type": "code",
   "execution_count": null,
   "metadata": {},
   "outputs": [
    {
     "name": "stdout",
     "output_type": "stream",
     "text": [
      "True\n",
      "Altinay -> 1000\n",
      "Iskender -> 500\n",
      "Zaarylkan -> 500\n",
      "Total:  2000\n"
     ]
    }
   ],
   "source": [
    "print(snyat('Zaarylkan', 5000))\n",
    "printMbank()"
   ]
  },
  {
   "cell_type": "code",
   "execution_count": null,
   "metadata": {},
   "outputs": [
    {
     "name": "stdout",
     "output_type": "stream",
     "text": [
      "Total:  1\n",
      "Starters\n",
      "\n",
      "{'id': 'S01', 'name': 'Garlic Bread', 'price': 3.5, 'stock': 10, 'available': True, 'veg': True}\n",
      "{'id': 'S02', 'name': 'Chicken Wings', 'price': 6.0, 'stock': 0, 'available': False, 'veg': False}\n",
      "Mains\n",
      "\n",
      "{'id': 'M01', 'name': 'Margherita Pizza', 'price': 8.99, 'stock': 5, 'available': True, 'veg': True}\n",
      "{'id': 'M02', 'name': 'Beef Burger', 'price': 9.99, 'stock': 2, 'available': True, 'veg': False}\n",
      "{'id': 'M03', 'name': 'Grilled Salmon', 'price': 12.5, 'stock': 1, 'available': True, 'veg': False}\n",
      "Desserts\n",
      "\n",
      "{'id': 'D01', 'name': 'Chocolate Cake', 'price': 4.75, 'stock': 3, 'available': True, 'veg': True}\n",
      "{'id': 'D02', 'name': 'Ice Cream', 'price': 3.25, 'stock': 6, 'available': True, 'veg': True}\n",
      "279.36\n",
      "********************\n",
      "Starters\n",
      "\n",
      "{'id': 'S01', 'name': 'Garlic Bread', 'price': 3.5, 'stock': 10, 'available': True, 'veg': True}\n",
      "{'id': 'S02', 'name': 'Chicken Wings', 'price': 6.0, 'stock': 0, 'available': False, 'veg': False}\n",
      "Mains\n",
      "\n",
      "{'id': 'M01', 'name': 'Margherita Pizza', 'price': 8.99, 'stock': 5, 'available': True, 'veg': True}\n",
      "{'id': 'M02', 'name': 'Beef Burger', 'price': 9.99, 'stock': 2, 'available': True, 'veg': False}\n",
      "{'id': 'M03', 'name': 'Grilled Salmon', 'price': 12.5, 'stock': 1, 'available': True, 'veg': False}\n",
      "Desserts\n",
      "\n",
      "{'id': 'D01', 'name': 'Chocolate Cake', 'price': 4.75, 'stock': 3, 'available': True, 'veg': True}\n",
      "{'id': 'D02', 'name': 'Ice Cream', 'price': 3.25, 'stock': 2, 'available': True, 'veg': True}\n"
     ]
    }
   ],
   "source": [
    "menu = {\n",
    "    \"Starters\": [\n",
    "        {\"id\": \"S01\", \"name\": \"Garlic Bread\", \"price\": 3.50, \"stock\": 10, \"available\": True, \"veg\": True},\n",
    "        {\"id\": \"S02\", \"name\": \"Chicken Wings\", \"price\": 6.00, \"stock\": 0, \"available\": False, \"veg\": False}\n",
    "    ],\n",
    "    \"Mains\": [\n",
    "        {\"id\": \"M01\", \"name\": \"Margherita Pizza\", \"price\": 8.99, \"stock\": 5, \"available\": True, \"veg\": True},\n",
    "        {\"id\": \"M02\", \"name\": \"Beef Burger\", \"price\": 9.99, \"stock\": 2, \"available\": True, \"veg\": False},\n",
    "        {\"id\": \"M03\", \"name\": \"Grilled Salmon\", \"price\": 12.50, \"stock\": 1, \"available\": True, \"veg\": False}\n",
    "    ],\n",
    "    \"Desserts\": [\n",
    "        {\"id\": \"D01\", \"name\": \"Chocolate Cake\", \"price\": 4.75, \"stock\": 3, \"available\": True, \"veg\": True},\n",
    "        {\"id\": \"D02\", \"name\": \"Ice Cream\", \"price\": 3.25, \"stock\": 6, \"available\": True, \"veg\": True}\n",
    "    ]\n",
    " }\n",
    "\n",
    "'''20. Подсчёт блюд без запаса\n",
    " count_out_of_stock(menu: dict) -> int — вернуть количество блюд, у которых stock\n",
    " == 0'''\n",
    "\n",
    "count = 0\n",
    "for section, arr in menu.items():\n",
    "    for d in arr:\n",
    "        if d[\"stock\"] == 0:\n",
    "            count += 1\n",
    "print('Total: ', count)\n",
    "\n",
    "#sum([1 if d['stock'] == 0 else 0 for s, arr in menu.items() for d in arr])\n",
    "\n",
    "\n",
    "''' 17. Оформить заказ (меняет остатки)\n",
    " place_order(menu: dict, order: list[tuple[str,int]]) -> float — если всё валидно\n",
    " — уменьшить stock и вернуть сумму; иначе -1.0 без изменений'''\n",
    "\n",
    "def prettyPrint(menu):\n",
    "    for section, arr in menu.items():\n",
    "        print(section)\n",
    "        print()\n",
    "        for d in arr:\n",
    "            print(d)\n",
    "\n",
    "\n",
    "def place_order(menu:dict, order):\n",
    "    total = 0.0\n",
    "    for item, count in order:\n",
    "        for section, arr in menu.items():\n",
    "            for d in arr:\n",
    "                if d['name'] == item and d['stock'] >= count:\n",
    "                    d['stock'] -= count\n",
    "                total += d['stock'] * d['price']\n",
    "    return total\n",
    "\n",
    "\n",
    "prettyPrint(menu)\n",
    "print(place_order(menu, [('Beef Burger', 3), ('Ice Cream', 4)]))\n",
    "print(\"*\"*20)\n",
    "prettyPrint(menu)\n",
    "    \n",
    "\n",
    "\n"
   ]
  },
  {
   "cell_type": "code",
   "execution_count": null,
   "metadata": {},
   "outputs": [
    {
     "ename": "ValueError",
     "evalue": "too many values to unpack (expected 2)",
     "output_type": "error",
     "traceback": [
      "\u001b[1;31m---------------------------------------------------------------------------\u001b[0m",
      "\u001b[1;31mValueError\u001b[0m                                Traceback (most recent call last)",
      "Cell \u001b[1;32mIn[92], line 1\u001b[0m\n\u001b[1;32m----> 1\u001b[0m \u001b[43mprettyPrint\u001b[49m\u001b[43m(\u001b[49m\u001b[43mmenu\u001b[49m\u001b[43m)\u001b[49m\n",
      "Cell \u001b[1;32mIn[91], line 36\u001b[0m, in \u001b[0;36mprettyPrint\u001b[1;34m(menu)\u001b[0m\n\u001b[0;32m     35\u001b[0m \u001b[38;5;28;01mdef\u001b[39;00m \u001b[38;5;21mprettyPrint\u001b[39m(menu):\n\u001b[1;32m---> 36\u001b[0m     \u001b[38;5;28;01mfor\u001b[39;00m section, arr \u001b[38;5;129;01min\u001b[39;00m menu:\n\u001b[0;32m     37\u001b[0m         \u001b[38;5;28mprint\u001b[39m(section)\n\u001b[0;32m     38\u001b[0m         \u001b[38;5;28mprint\u001b[39m()\n",
      "\u001b[1;31mValueError\u001b[0m: too many values to unpack (expected 2)"
     ]
    }
   ],
   "source": [
    "prettyPrint(menu)"
   ]
  },
  {
   "cell_type": "code",
   "execution_count": null,
   "metadata": {},
   "outputs": [
    {
     "name": "stdout",
     "output_type": "stream",
     "text": [
      "1200.0\n",
      "3183.9572461733064\n"
     ]
    }
   ],
   "source": [
    "bank = {\n",
    "    \"Checking\": [\n",
    "        {\"id\": \"C001\", \"holder\": \"Alice Kim\",   \"balance\": 1200.00, \"currency\": \"USD\"},\n",
    "        {\"id\": \"C002\", \"holder\": \"B. Lee\",      \"balance\":  -50.00, \"currency\": \"USD\"},\n",
    "        {\"id\": \"C003\", \"holder\": \"Carlos Diaz\", \"balance\":  500.00, \"currency\": \"KGS\"},\n",
    "        {\"id\": \"C004\", \"holder\": \"D. Singh\",    \"balance\": 3000.00, \"currency\": \"USD\"},\n",
    "        {\"id\": \"C005\", \"holder\": \"E. Toktogul\", \"balance\":15000.00, \"currency\": \"KGS\"}\n",
    "    ]\n",
    " }\n",
    "\n",
    "''' 17. Прогноз роста\n",
    " project_balance(bank: dict, account_id: str, months: int, monthly_rate: float)-> float | None — посчитать будущий баланс при помесячной капитализации;\n",
    " состояние не менять.\n",
    " '''\n",
    "\n",
    "def project_balance(bank, account_id, months, monthly_rate):\n",
    "    arr = bank['Checking']\n",
    "    balance = 0.0\n",
    "    for d in arr:\n",
    "        if d['id'] == account_id:\n",
    "            balance = d['balance']\n",
    " \n",
    "    print(balance)\n",
    "    return balance * (1 + monthly_rate) ** months\n",
    " \n",
    "print(project_balance(bank, 'C001', 20, 0.05))"
   ]
  },
  {
   "cell_type": "code",
   "execution_count": null,
   "metadata": {},
   "outputs": [],
   "source": [
    "{\"movie\": \"The        quantum         heist\"}\n",
    "{\"movie\": \"The Quantum Heist\"}"
   ]
  },
  {
   "cell_type": "code",
   "execution_count": null,
   "metadata": {},
   "outputs": [],
   "source": [
    "s = '''Aiperi Kydykbekova,18->devushka\n",
    "Ismailova Altynai,18->devushka\n",
    "Baitemirov Iskender,18->paren\n",
    "Osmonalieva Asylkna,17->devushka'''\n"
   ]
  },
  {
   "cell_type": "code",
   "execution_count": null,
   "metadata": {},
   "outputs": [
    {
     "data": {
      "text/plain": [
       "125"
      ]
     },
     "execution_count": 109,
     "metadata": {},
     "output_type": "execute_result"
    }
   ],
   "source": [
    "len(s)\n",
    "# difference ratio between average of boys and girls ages? "
   ]
  },
  {
   "cell_type": "code",
   "execution_count": null,
   "metadata": {},
   "outputs": [
    {
     "name": "stdout",
     "output_type": "stream",
     "text": [
      "17.666666666666668 18.0\n",
      "1.0188679245283019\n"
     ]
    }
   ],
   "source": [
    "boy_count, boy_sum = 0, 0\n",
    "girl_count, girl_sum = 0, 0\n",
    "\n",
    "for x in s.split('\\n'):\n",
    "    #print(x)\n",
    "    name, x2 = x.split(',')\n",
    "    age, gender = x2.split('->')\n",
    "    age = int(age)\n",
    "    if gender in [\"devushka\", 'female']:\n",
    "        girl_count +=1\n",
    "        girl_sum += age\n",
    "    else:\n",
    "        boy_count += 1\n",
    "        boy_sum += age\n",
    "\n",
    "avg_boy = boy_sum/boy_count\n",
    "avg_girl = girl_sum/girl_count\n",
    "\n",
    "print(avg_girl, avg_boy)\n",
    "print(avg_boy/avg_girl)"
   ]
  },
  {
   "cell_type": "code",
   "execution_count": null,
   "metadata": {},
   "outputs": [
    {
     "data": {
      "text/plain": [
       "'4. Поиск фильмов по префиксу\\n search_movies(cinema: dict, prefix: str, only_available: bool=False) ->\\n list[tuple[str,str]] — без учёта регистра; вернуть (id, movie) с опцией только\\n доступных'"
      ]
     },
     "execution_count": 113,
     "metadata": {},
     "output_type": "execute_result"
    }
   ],
   "source": [
    "cinema = {\n",
    "    \"Room\": [\n",
    "        {\"id\": \"R-1900-A10\", \"movie\": \"The Quantum Heist\", \"time\": \"2025-09-24 19:00\",\n",
    "         \"format\": \"2D\", \"price\": 6.50, \"seat\": \"A10\", \"booked\": False, \"customer\": None},\n",
    "\n",
    "        {\"id\": \"R-1900-A11\", \"movie\": \"The Quantum Heist\", \"time\": \"2025-09-24 19:00\",\n",
    "         \"format\": \"2D\", \"price\": 6.50, \"seat\": \"A11\", \"booked\": True,  \"customer\": \"Alice Kim\"},\n",
    "        \n",
    "        {\"id\": \"R-2100-B05\", \"movie\": \"Starlight Odyssey\", \"time\": \"2025-09-24 21:00\",\n",
    "         \"format\": \"3D\", \"price\": 8.00, \"seat\": \"B05\", \"booked\": False, \"customer\": None}\n",
    "    ]\n",
    " }\n",
    "\n",
    "'''1. Поиск фильмов по префиксу\n",
    " search_movies(cinema: dict, prefix: str, only_available: bool=False) ->\n",
    " list[tuple(str,str)] — без учёта регистра; вернуть (id, movie) с опцией только\n",
    " доступных\n",
    " \n",
    " 2. Дешёвые k билетов\n",
    " cheapest_k(cinema: dict, k: int) -> list[tuple[str, str, float]] — вернуть до k\n",
    " самых дешёвых доступных билетов (id, movie, price)\n",
    "\n",
    " 3. Найти подряд идущие места\n",
    " find_contiguous(cinema: dict, time: str, row: str, n: int) -> list[str] —\n",
    " вернуть n последовательных свободных мест в ряду row для заданного времени, иначе []\n",
    " \n",
    "\n",
    " '''"
   ]
  },
  {
   "cell_type": "code",
   "execution_count": 152,
   "metadata": {},
   "outputs": [
    {
     "name": "stdout",
     "output_type": "stream",
     "text": [
      "53\n",
      "38\n",
      "25\n"
     ]
    }
   ],
   "source": [
    "from random import randint\n",
    "for i in range(3):\n",
    "    print(randint(1,60))"
   ]
  },
  {
   "cell_type": "code",
   "execution_count": 149,
   "metadata": {},
   "outputs": [],
   "source": [
    "def find_contiguous(cinema, time, row, n):\n",
    "    arr = []\n",
    "    for v in cinema[\"Room\"]:\n",
    "        if v['time'] == time and row == v['seat'][:1] and v['booked'] == False:\n",
    "            mesto = int(v['seat'][1:])\n",
    "            arr.append(mesto)\n",
    "\n",
    "    for i in arr:\n",
    "        count = 0\n",
    "        for j in range(i, i+n):\n",
    "            if j in arr:\n",
    "                count += 1\n",
    "        if count == n:\n",
    "            print(i, i+n)\n",
    "\n",
    "        # count = True\n",
    "        # for j in range(i, i+n):\n",
    "        #     if j not in arr:\n",
    "        #         count = False\n",
    "        # print(i)"
   ]
  },
  {
   "cell_type": "code",
   "execution_count": 150,
   "metadata": {},
   "outputs": [],
   "source": [
    "\n",
    "bank = {\n",
    "    \"Checking\": [\n",
    "        {\"id\": \"C001\", \"holder\": \"Alice Kim\",   \"balance\": 1200.00, \"currency\": \"USD\"},\n",
    "        {\"id\": \"C002\", \"holder\": \"B. Lee\",      \"balance\":  -50.00, \"currency\": \"USD\"},\n",
    "        {\"id\": \"C003\", \"holder\": \"Carlos Diaz\", \"balance\":  500.00, \"currency\": \"KGS\"},\n",
    "        {\"id\": \"C004\", \"holder\": \"D. Singh\",    \"balance\": 3000.00, \"currency\": \"USD\"},\n",
    "        {\"id\": \"C005\", \"holder\": \"E. Toktogul\", \"balance\":15000.00, \"currency\": \"KGS\"}\n",
    "    ]\n",
    " }\n",
    "\n",
    " \n",
    " #1. Итоговый баланс (в валюте)\n",
    " #total_balance(bank: dict, currency: str, rates: dict[str, float]) -> float —\n",
    " #суммировать балансы, конвертировав в целевую валюту по rates.\n",
    "\n",
    "def total_balance(currency, rates):\n",
    "    total = 0\n",
    "    for d in bank['Checking']:\n",
    "        if d['currency'] == currency:\n",
    "            total += d['balance']\n",
    "        else:\n",
    "           total += d['balance'] * rates[d['currency']]\n",
    "    return total\n",
    "    \n",
    "\n",
    "# 2. Найти счёт по ID\n",
    "# find_account(bank: dict, account_id: str) -> dict | None — вернуть запись счёта\n",
    "# или None.\n",
    "\n",
    "#3. Подсчёт счетов\n",
    "#count_accounts(bank: dict) -> int — вернуть количество CLIENTS в Checking.\n",
    "\n",
    "#4. Перевод (одна валюта)\n",
    "#transfer(bank: dict, from_id: str, to_id: str, amount: float) -> bool —\n",
    "#перевести при совпадении валют и достаточном балансе\n",
    "\n",
    "#5. Средний баланс по валютам\n",
    "#avg_balance(bank: dict) -> dict[str, float] — вернуть средний баланс для каждой валюты.\n"
   ]
  },
  {
   "cell_type": "code",
   "execution_count": 151,
   "metadata": {},
   "outputs": [
    {
     "name": "stdout",
     "output_type": "stream",
     "text": [
      "{'Checking': [{'id': 'C001', 'holder': 'Alice Kim', 'balance': 1200.0, 'currency': 'USD'}, {'id': 'C002', 'holder': 'B. Lee', 'balance': -50.0, 'currency': 'USD'}, {'id': 'C003', 'holder': 'Carlos Diaz', 'balance': 500.0, 'currency': 'KGS'}, {'id': 'C004', 'holder': 'D. Singh', 'balance': 3000.0, 'currency': 'USD'}, {'id': 'C005', 'holder': 'E. Toktogul', 'balance': 15000.0, 'currency': 'KGS'}]}\n",
      "{'Checking': [{'id': 'C001', 'holder': 'Alice Kim', 'balance': 8888888, 'currency': 'USD'}, {'id': 'C002', 'holder': 'B. Lee', 'balance': -50.0, 'currency': 'USD'}, {'id': 'C003', 'holder': 'Carlos Diaz', 'balance': 500.0, 'currency': 'KGS'}, {'id': 'C004', 'holder': 'D. Singh', 'balance': 3000.0, 'currency': 'USD'}, {'id': 'C005', 'holder': 'E. Toktogul', 'balance': 9999999, 'currency': 'KGS'}]}\n"
     ]
    }
   ],
   "source": [
    "\n",
    "bank = {\n",
    "    \"Checking\": [\n",
    "        {\"id\": \"C001\", \"holder\": \"Alice Kim\",   \"balance\": 1200.00, \"currency\": \"USD\"},\n",
    "        {\"id\": \"C002\", \"holder\": \"B. Lee\",      \"balance\":  -50.00, \"currency\": \"USD\"},\n",
    "        {\"id\": \"C003\", \"holder\": \"Carlos Diaz\", \"balance\":  500.00, \"currency\": \"KGS\"},\n",
    "        {\"id\": \"C004\", \"holder\": \"D. Singh\",    \"balance\": 3000.00, \"currency\": \"USD\"},\n",
    "        {\"id\": \"C005\", \"holder\": \"E. Toktogul\", \"balance\":15000.00, \"currency\": \"KGS\"}\n",
    "    ]\n",
    " }\n",
    "\n",
    "\n",
    "p1, p2 = None, None\n",
    "\n",
    "for account in bank['Checking']:\n",
    "    if account['id'] == 'C001':\n",
    "        p1 = account\n",
    "    if account['id'] == 'C005':\n",
    "        p2 = account\n",
    "\n",
    "\n",
    "print(bank)\n",
    "\n",
    "p1['balance'] = 8888888\n",
    "p2['balance'] = 9999999\n",
    "\n",
    "print(bank)"
   ]
  },
  {
   "cell_type": "code",
   "execution_count": 159,
   "metadata": {},
   "outputs": [
    {
     "ename": "SyntaxError",
     "evalue": "incomplete input (2001583540.py, line 1)",
     "output_type": "error",
     "traceback": [
      "\u001b[1;36m  Cell \u001b[1;32mIn[159], line 1\u001b[1;36m\u001b[0m\n\u001b[1;33m    with open('bank.txt','r') as x:\u001b[0m\n\u001b[1;37m                                   ^\u001b[0m\n\u001b[1;31mSyntaxError\u001b[0m\u001b[1;31m:\u001b[0m incomplete input\n"
     ]
    }
   ],
   "source": [
    "with open('bank.txt','r') as x:\n",
    "    pass"
   ]
  },
  {
   "cell_type": "code",
   "execution_count": null,
   "metadata": {},
   "outputs": [],
   "source": [
    "x = open('bank.txt')\n",
    "# pass\n",
    "x.close()"
   ]
  },
  {
   "cell_type": "code",
   "execution_count": 156,
   "metadata": {},
   "outputs": [
    {
     "data": {
      "text/plain": [
       "<_io.TextIOWrapper name='bank.txt' mode='r' encoding='cp1252'>"
      ]
     },
     "execution_count": 156,
     "metadata": {},
     "output_type": "execute_result"
    }
   ],
   "source": [
    "x"
   ]
  },
  {
   "cell_type": "code",
   "execution_count": null,
   "metadata": {},
   "outputs": [],
   "source": [
    "def find_minbalance():\n",
    "    pass\n",
    "\n",
    "min_balance = find_minbalance()\n"
   ]
  },
  {
   "cell_type": "code",
   "execution_count": 189,
   "metadata": {},
   "outputs": [
    {
     "name": "stdout",
     "output_type": "stream",
     "text": [
      "id,referral,holder,balance,currency\n",
      "c01,,emil,1200,usd\n",
      "c02,,altinay,10000,som\n",
      "x03,c01,iskender,5000,usd\n",
      "x05,x03,zaarylkan,1000,euro\n",
      "z01,x05,kutman,10000,kzt\n"
     ]
    }
   ],
   "source": [
    "x = open('bank.txt')\n",
    "s = x.read()\n",
    "print(s)"
   ]
  },
  {
   "cell_type": "code",
   "execution_count": 190,
   "metadata": {},
   "outputs": [
    {
     "data": {
      "text/plain": [
       "156"
      ]
     },
     "execution_count": 190,
     "metadata": {},
     "output_type": "execute_result"
    }
   ],
   "source": [
    "len(s)"
   ]
  },
  {
   "cell_type": "code",
   "execution_count": 191,
   "metadata": {},
   "outputs": [
    {
     "data": {
      "text/plain": [
       "6"
      ]
     },
     "execution_count": 191,
     "metadata": {},
     "output_type": "execute_result"
    }
   ],
   "source": [
    "len(s.split('\\n'))"
   ]
  },
  {
   "cell_type": "code",
   "execution_count": 192,
   "metadata": {},
   "outputs": [
    {
     "name": "stdout",
     "output_type": "stream",
     "text": [
      "0 id,referral,holder,balance,currency\n",
      "1 c01,,emil,1200,usd\n",
      "2 c02,,altinay,10000,som\n",
      "3 x03,c01,iskender,5000,usd\n",
      "4 x05,x03,zaarylkan,1000,euro\n",
      "5 z01,x05,kutman,10000,kzt\n"
     ]
    }
   ],
   "source": [
    "for i, j in enumerate(s.split('\\n')):\n",
    "    print(i, j)"
   ]
  },
  {
   "cell_type": "code",
   "execution_count": 193,
   "metadata": {},
   "outputs": [
    {
     "name": "stdout",
     "output_type": "stream",
     "text": [
      "0 ['id', 'referral', 'holder', 'balance', 'currency']\n",
      "1 ['c01', '', 'emil', '1200', 'usd']\n",
      "2 ['c02', '', 'altinay', '10000', 'som']\n",
      "3 ['x03', 'c01', 'iskender', '5000', 'usd']\n",
      "4 ['x05', 'x03', 'zaarylkan', '1000', 'euro']\n",
      "5 ['z01', 'x05', 'kutman', '10000', 'kzt']\n"
     ]
    }
   ],
   "source": [
    "for i, j in enumerate(s.split('\\n')):\n",
    "    print(i, j.split(','))"
   ]
  },
  {
   "cell_type": "code",
   "execution_count": 194,
   "metadata": {},
   "outputs": [],
   "source": [
    "bank = [i.split(',') for i in s.split('\\n')]"
   ]
  },
  {
   "cell_type": "code",
   "execution_count": 195,
   "metadata": {},
   "outputs": [
    {
     "data": {
      "text/plain": [
       "[['id', 'referral', 'holder', 'balance', 'currency'],\n",
       " ['c01', '', 'emil', '1200', 'usd'],\n",
       " ['c02', '', 'altinay', '10000', 'som'],\n",
       " ['x03', 'c01', 'iskender', '5000', 'usd'],\n",
       " ['x05', 'x03', 'zaarylkan', '1000', 'euro'],\n",
       " ['z01', 'x05', 'kutman', '10000', 'kzt']]"
      ]
     },
     "execution_count": 195,
     "metadata": {},
     "output_type": "execute_result"
    }
   ],
   "source": [
    "bank"
   ]
  },
  {
   "cell_type": "code",
   "execution_count": 169,
   "metadata": {},
   "outputs": [
    {
     "name": "stdout",
     "output_type": "stream",
     "text": [
      "5\n"
     ]
    }
   ],
   "source": [
    "# total number of accounts\n",
    "print(len(bank)-1)"
   ]
  },
  {
   "cell_type": "code",
   "execution_count": 172,
   "metadata": {},
   "outputs": [
    {
     "data": {
      "text/plain": [
       "'id,holder,balance,currency\\nc01,emil,1200,usd\\nc02,altinay,10000,som\\nx03,iskender,5000,usd\\nx05,zaarylkan,1000,euro\\nz01,kutman,10000,kzt'"
      ]
     },
     "execution_count": 172,
     "metadata": {},
     "output_type": "execute_result"
    }
   ],
   "source": [
    "s"
   ]
  },
  {
   "cell_type": "code",
   "execution_count": 175,
   "metadata": {},
   "outputs": [
    {
     "name": "stdout",
     "output_type": "stream",
     "text": [
      "<class 'str'> 1 ,\n",
      "<class 'list'> 2 ['', '']\n"
     ]
    }
   ],
   "source": [
    "tmp = ','\n",
    "print(type(s), len(tmp), tmp)\n",
    "tmp2 = tmp.split(',')\n",
    "print(type(tmp2), len(tmp2), tmp2)"
   ]
  },
  {
   "cell_type": "code",
   "execution_count": 176,
   "metadata": {},
   "outputs": [],
   "source": [
    "def find_index(arr, target):\n",
    "    for i in range(len(arr)):\n",
    "        if arr[i] == target:\n",
    "            return i\n",
    "    return -1\n",
    "\n",
    "def find_index2(arr, target):\n",
    "    for i, j in enumerate(arr):\n",
    "        if j == target:\n",
    "            return i\n",
    "    return -1\n",
    "\n",
    "def find_index3(arr, target):\n",
    "    return arr.index(target)\n",
    "    # 0 points\n",
    "    "
   ]
  },
  {
   "cell_type": "code",
   "execution_count": 180,
   "metadata": {},
   "outputs": [],
   "source": [
    "balance_index = find_index(bank[0], 'balance')"
   ]
  },
  {
   "cell_type": "code",
   "execution_count": 182,
   "metadata": {},
   "outputs": [
    {
     "name": "stdout",
     "output_type": "stream",
     "text": [
      "total:  27200\n"
     ]
    }
   ],
   "source": [
    "total = 0\n",
    "for account in bank[1:]:\n",
    "    total += int(account[balance_index])\n",
    "print('total: ', total)"
   ]
  },
  {
   "cell_type": "code",
   "execution_count": 197,
   "metadata": {},
   "outputs": [
    {
     "name": "stdout",
     "output_type": "stream",
     "text": [
      "['x03', 'c01', 'iskender', '5000', 'usd']\n"
     ]
    }
   ],
   "source": [
    "# find account by id\n",
    "id_index = find_index(bank[0], 'id')\n",
    "for account in bank[1:]:\n",
    "    if account[id_index] == 'x03':\n",
    "        print(account)\n",
    "        break\n"
   ]
  },
  {
   "cell_type": "code",
   "execution_count": 201,
   "metadata": {},
   "outputs": [
    {
     "name": "stdout",
     "output_type": "stream",
     "text": [
      "holder = iskender\n",
      "balance = 5000\n",
      "currency = usd\n"
     ]
    }
   ],
   "source": [
    "id_index = find_index(bank[0], 'id')\n",
    "for id, referral, holder, balance, currency in bank[1:]:\n",
    "    if id == 'x03':\n",
    "        print(f'holder = {holder}\\nbalance = {balance}\\ncurrency = {currency}')"
   ]
  },
  {
   "cell_type": "code",
   "execution_count": 196,
   "metadata": {},
   "outputs": [
    {
     "name": "stdout",
     "output_type": "stream",
     "text": [
      "['x03', 'c01', 'iskender', '5000', 'usd']\n",
      "['x05', 'x03', 'zaarylkan', '1000', 'euro']\n"
     ]
    }
   ],
   "source": [
    "# bad solution\n",
    "for account in bank[1:]:\n",
    "    if 'x03' in account:\n",
    "        print(account)"
   ]
  },
  {
   "cell_type": "code",
   "execution_count": 202,
   "metadata": {},
   "outputs": [
    {
     "data": {
      "text/plain": [
       "[['id', 'referral', 'holder', 'balance', 'currency'],\n",
       " ['c01', '', 'emil', '1200', 'usd'],\n",
       " ['c02', '', 'altinay', '10000', 'som'],\n",
       " ['x03', 'c01', 'iskender', '5000', 'usd'],\n",
       " ['x05', 'x03', 'zaarylkan', '1000', 'euro'],\n",
       " ['z01', 'x05', 'kutman', '10000', 'kzt']]"
      ]
     },
     "execution_count": 202,
     "metadata": {},
     "output_type": "execute_result"
    }
   ],
   "source": [
    "arr = [1, 9, 0, 10, 20, 30, 4, 5, 8]\n",
    "find_index(arr, 200)\n",
    "bank"
   ]
  },
  {
   "cell_type": "code",
   "execution_count": 205,
   "metadata": {},
   "outputs": [
    {
     "data": {
      "text/plain": [
       "[['id', 'referral', 'holder', 'balance', 'currency'],\n",
       " ['c01', '', 'emil', '200', 'usd'],\n",
       " ['c02', '', 'altinay', '10000', 'som'],\n",
       " ['x03', 'c01', 'iskender', '6000', 'usd'],\n",
       " ['x05', 'x03', 'zaarylkan', '1000', 'euro'],\n",
       " ['z01', 'x05', 'kutman', '10000', 'kzt']]"
      ]
     },
     "execution_count": 205,
     "metadata": {},
     "output_type": "execute_result"
    }
   ],
   "source": [
    "from_id = 'x03'\n",
    "to_id = 'c01'\n",
    "amount = 1000\n",
    "\n",
    "id_index = find_index(bank[0], 'id')\n",
    "currency_index = find_index(bank[0], 'currency')\n",
    "balance_index = find_index(bank[0], 'balance')\n",
    "\n",
    "p1,p2 = None, None\n",
    "for i in range(1, len(bank)):\n",
    "    account = bank[i]\n",
    "    if account[id_index] == from_id:\n",
    "        p1 = account\n",
    "    if account[id_index] == to_id:\n",
    "        p2 = account\n",
    "\n",
    "if p1 and p2 and p1[currency_index] == p2[currency_index] and int(p1[balance_index]) >= amount:\n",
    "    p1[balance_index] = str( int(p1[balance_index]) + amount)\n",
    "    p2[balance_index] = str( int(p2[balance_index]) - amount)\n",
    "\n",
    "\n",
    "bank\n",
    "\n"
   ]
  },
  {
   "cell_type": "code",
   "execution_count": null,
   "metadata": {},
   "outputs": [],
   "source": [
    "# not good solution\n",
    "s = ''\n",
    "for account in bank:\n",
    "    for i in account:\n",
    "        s += i + ','\n",
    "    s += '\\n'\n",
    "\n",
    "with open('bank2.txt', 'w') as fid:\n",
    "    fid.write(s)\n"
   ]
  },
  {
   "cell_type": "code",
   "execution_count": 216,
   "metadata": {},
   "outputs": [],
   "source": [
    "# good solution\n",
    "s = []\n",
    "for account in bank:\n",
    "    s.append(','.join(account))\n",
    "result = '\\n'.join(s)\n",
    "\n",
    "with open('bank2.txt', 'w') as fid:\n",
    "    fid.write(result)\n"
   ]
  },
  {
   "cell_type": "code",
   "execution_count": null,
   "metadata": {},
   "outputs": [],
   "source": [
    "# karoche\n",
    "with open('bank3.txt', 'w') as fid:\n",
    "    fid.write('\\n'.join([','.join(i) for i in bank]))"
   ]
  },
  {
   "cell_type": "code",
   "execution_count": 206,
   "metadata": {},
   "outputs": [],
   "source": [
    "with open('emil.txt', 'w') as iskender:\n",
    "    iskender.write('emil\\nait\\nexam\\nmonday')\n",
    "\n"
   ]
  },
  {
   "cell_type": "code",
   "execution_count": 212,
   "metadata": {},
   "outputs": [
    {
     "name": "stdout",
     "output_type": "stream",
     "text": [
      "emil,ait,hi,hello\n",
      "emil\n",
      "ait\n",
      "hi\n",
      "hello\n"
     ]
    }
   ],
   "source": [
    "arr = ['emil', 'ait', 'hi', 'hello']\n",
    "print(','.join(arr))\n",
    "print('\\n'.join(arr))"
   ]
  },
  {
   "cell_type": "code",
   "execution_count": 218,
   "metadata": {},
   "outputs": [],
   "source": [
    "for i in range(100):\n",
    "    filename = f'bank/bank{i}.txt'\n",
    "    with open(filename, 'w') as fid:\n",
    "        fid.write(result)"
   ]
  },
  {
   "cell_type": "code",
   "execution_count": 224,
   "metadata": {},
   "outputs": [
    {
     "name": "stdout",
     "output_type": "stream",
     "text": [
      "****************   0\n",
      "****************   1\n",
      "def iskender(a, b, c = 100):\n",
      "    return a ** b - c\n",
      "\n",
      "def meerim(a):\n",
      "    return 'meerim' * a\n",
      "\n",
      "\n",
      "def mysum1(a):\n",
      "    return a ** 2\n",
      "****************   2\n",
      "****************   3\n",
      "id,referral,holder,balance,currency\n",
      "c01,,emil,1200,usd\n",
      "c02,,altinay,10000,som\n",
      "x03,c01,iskender,5000,usd\n",
      "x05,x03,zaarylkan,1000,euro\n",
      "z01,x05,kutman,10000,kzt\n",
      "****************   4\n",
      "id,referral,holder,balance,currency\n",
      "c01,,emil,200,usd\n",
      "c02,,altinay,10000,som\n",
      "x03,c01,iskender,6000,usd\n",
      "x05,x03,zaarylkan,1000,euro\n",
      "z01,x05,kutman,10000,kzt\n",
      "****************   5\n",
      "id,referral,holder,balance,currency\n",
      "c01,,emil,200,usd\n",
      "c02,,altinay,10000,som\n",
      "x03,c01,iskender,6000,usd\n",
      "x05,x03,zaarylkan,1000,euro\n",
      "z01,x05,kutman,10000,kzt\n",
      "****************   6\n",
      "****************   7\n",
      "emil\n",
      "ait\n",
      "exam\n",
      "monday\n",
      "****************   8\n",
      "from iskender import ogurets, pomidor\n",
      "\n",
      "arr = [9,2, 0, 1, 5, 7]\n",
      "\n",
      "print('result = ', ogurets(arr))\n",
      "print('pomidor = ', pomidor(arr))\n",
      "\n",
      "import iskender as isken1\n",
      "import iskender as isken2\n",
      "\n",
      "print('ait.ogurets = ', isken1.ogurets(arr))\n",
      "print('ait.pomidor = ', isken2.pomidor(arr))\n",
      "\n",
      "print('parameter = ', isken1.emil)\n",
      "\n",
      "\n",
      "import altinay\n",
      "\n",
      "print(altinay.iskender(10, 2, 50))\n",
      "print(altinay.meerim(4))\n",
      "\n",
      "from altinay import *\n",
      "\n",
      "#from altinay import iskender, meerim\n",
      "print('importing from altinay all function')\n",
      "print(iskender(10, 5))\n",
      "print(meerim(10))\n",
      "\n",
      "\n",
      "****************   9\n",
      "def ogurets(arr):\n",
      "    return 'AIT RESULT', max(arr), min(arr), sum(arr)\n",
      "\n",
      "def pomidor(arr):\n",
      "    return len(arr)\n",
      "\n",
      "\n",
      "emil = 'AIT'\n",
      "\n",
      "def mysum2(a):\n",
      "    return a ** 0.5\n",
      "\n",
      "\n",
      "****************   10\n",
      "ÿþ#\u0000 \u0000P\u0000L\u0000_\u00002\u00000\u00002\u00005\u0000F\u0000a\u0000l\u0000l\u0000\n",
      "\u0000\n",
      "\u0000\n",
      "****************   11\n"
     ]
    }
   ],
   "source": [
    "import os\n",
    "\n",
    "files = os.listdir()\n",
    "for i, filename in enumerate(files):\n",
    "    print('****************  ', i)\n",
    "    try:\n",
    "        with open(filename) as fid:\n",
    "            print(fid.read())\n",
    "    except:\n",
    "        pass"
   ]
  },
  {
   "cell_type": "code",
   "execution_count": 230,
   "metadata": {},
   "outputs": [
    {
     "name": "stdout",
     "output_type": "stream",
     "text": [
      "********** ['Business', '23B', False, None]\n"
     ]
    },
    {
     "data": {
      "text/plain": [
       "(True,\n",
       " [['First', '1A', 'True', 'Alice Kim'],\n",
       "  ['First', '1C', 'False', ''],\n",
       "  ['Business', '5A', 'True', 'B. Lee'],\n",
       "  ['Business', '5B', 'False', ''],\n",
       "  ['Business', '6C', 'True', 'Carlos Diaz'],\n",
       "  ['Economy', '12A', 'False', ''],\n",
       "  ['Economy', '12B', 'True', 'D. Singh'],\n",
       "  ['Economy', '13C', 'False', ''],\n",
       "  ['Economy', '14A', 'True', 'E. Toktogul'],\n",
       "  ['Economy', '14B', 'False', ''],\n",
       "  ['Business', '23B', False, None]])"
      ]
     },
     "execution_count": 230,
     "metadata": {},
     "output_type": "execute_result"
    }
   ],
   "source": [
    "'''1. add_seat(filename: str, klass: str, seat_id: str, occupied: bool=False, passenger: str|None=None) -> bool\n",
    "Добавить новое место в указанный класс.\n",
    "Если в этом классе уже существует место с таким seat_id, добавление запрещено.\n",
    "Возвращает True, если место успешно добавлено, иначе False.'''\n",
    "\n",
    "def find_index(arr, target):\n",
    "    for a, b in enumerate(arr):\n",
    "        if b == target:\n",
    "            return a\n",
    "    return -1\n",
    "\n",
    "\n",
    "def add_seat(filename, klass, seat_id, occupied = False, passanger = None):\n",
    "    with open(filename) as fid:\n",
    "        raw = fid.read()\n",
    "        all_data = [j.split(',') for j in raw.split('\\n')]\n",
    "        header = all_data[0]\n",
    "        data = all_data[1:]\n",
    "        seat_index = find_index(header, 'seat_id')\n",
    "        if seat_index >= 0:\n",
    "            for i in data:\n",
    "                if i[seat_index] == seat_id:\n",
    "                    return False\n",
    "                \n",
    "        new_data = [None]*len(header)\n",
    "        new_data[find_index(header, 'seat_id')] = seat_id\n",
    "        new_data[find_index(header, 'klass')] = klass\n",
    "        new_data[find_index(header, 'passanger')] = passanger\n",
    "        new_data[find_index(header, 'occupied')] = occupied\n",
    "        print('*'*10, new_data)\n",
    "        # new_data = [klass, seat_id, occupied, passanger]\n",
    "        data.append(new_data)\n",
    "        return True, data\n",
    "    \n",
    "add_seat('flight.txt', 'Business', '23B')\n",
    "\n"
   ]
  },
  {
   "cell_type": "code",
   "execution_count": null,
   "metadata": {},
   "outputs": [],
   "source": []
  },
  {
   "cell_type": "code",
   "execution_count": 235,
   "metadata": {},
   "outputs": [
    {
     "data": {
      "text/plain": [
       "(['1A', '1C', '5A', '5B', '6C', '12A', '12B', '13C', '14A', '14B'],\n",
       " ['12A'],\n",
       " [['First', '1A', 'True', 'Alice Kim'],\n",
       "  ['First', '1C', 'False', ''],\n",
       "  ['Business', '5A', 'True', 'B. Lee'],\n",
       "  ['Business', '5B', 'False', ''],\n",
       "  ['Business', '6C', 'True', 'Carlos Diaz'],\n",
       "  ['Economy', '12A', 'False', ''],\n",
       "  ['Economy', '12B', 'True', 'D. Singh'],\n",
       "  ['Economy', '13C', 'False', ''],\n",
       "  ['Economy', '14A', 'True', 'E. Toktogul'],\n",
       "  ['Economy', '14B', 'False', '']])"
      ]
     },
     "execution_count": 235,
     "metadata": {},
     "output_type": "execute_result"
    }
   ],
   "source": [
    "'''2. dedupe_class(filename: str, klass: str) -> list[str]\n",
    "Удалить дубликаты мест внутри одного класса.\n",
    "Возвращает список удалённых seat_id.'''\n",
    "\n",
    "def dedup_class(filename, klass):\n",
    "    unikalniy = []\n",
    "    duplikat = []\n",
    "    new_data = []\n",
    "    header, data = read_file(filename)\n",
    "    seat_index = find_index(header, 'seat_id')\n",
    "    for i in data:\n",
    "        if i[seat_index] in unikalniy:\n",
    "            duplikat.append(i[seat_index])\n",
    "        else:\n",
    "            unikalniy.append(i[seat_index])\n",
    "            new_data.append(i)\n",
    "\n",
    "    return unikalniy, duplikat, new_data\n",
    "\n",
    "dedup_class('flight.txt', 'business')"
   ]
  },
  {
   "cell_type": "code",
   "execution_count": 237,
   "metadata": {},
   "outputs": [
    {
     "data": {
      "text/plain": [
       "2"
      ]
     },
     "execution_count": 237,
     "metadata": {},
     "output_type": "execute_result"
    }
   ],
   "source": [
    "'''3. count_passengers_with_letter(filename: str, letter: str) -> int\n",
    "Подсчитать количество занятых мест, где имя пассажира содержит указанную букву.'''\n",
    "\n",
    "def count_passengers_with_letter(filename: str, letter: str):\n",
    "    header, data = read_file(filename)\n",
    "    index = find_index(header, 'passanger')\n",
    "    count = 0\n",
    "    for i in data:\n",
    "        if letter in i[index].lower():\n",
    "            count += 1\n",
    "    return count\n",
    "\n",
    "count_passengers_with_letter('flight.txt', 'a')"
   ]
  },
  {
   "cell_type": "code",
   "execution_count": 239,
   "metadata": {},
   "outputs": [
    {
     "name": "stdout",
     "output_type": "stream",
     "text": [
      "[['First', '1A', 'True', 'Alice Kim'], ['First', '1C', 'False', ''], ['Business', '5A', 'True', 'B. Lee'], ['Business', '5B', 'False', ''], ['Business', '6C', 'True', 'Carlos Diaz'], ['Economy', '12A', 'False', ''], ['Economy', '12B', 'True', 'D. Singh'], ['Economy', '13C', 'False', ''], ['Economy', '14A', 'True', 'E. Toktogul'], ['Economy', '14B', 'False', ''], ['Economy', '12A', 'False', '']]\n"
     ]
    },
    {
     "data": {
      "text/plain": [
       "(True,\n",
       " [['First', '1A', 'True', 'Alice Kim'],\n",
       "  ['First', '1C', 'False', ''],\n",
       "  ['Business', '5A', 'True', 'B. Lee'],\n",
       "  ['Business', '5B', 'False', ''],\n",
       "  ['Business', '6C', 'False', ''],\n",
       "  ['Economy', '12A', 'False', ''],\n",
       "  ['Economy', '12B', 'True', 'D. Singh'],\n",
       "  ['Economy', '13C', 'False', ''],\n",
       "  ['Economy', '14A', 'True', 'E. Toktogul'],\n",
       "  ['Economy', '14B', 'True', 'Carlos Diaz'],\n",
       "  ['Economy', '12A', 'False', '']])"
      ]
     },
     "execution_count": 239,
     "metadata": {},
     "output_type": "execute_result"
    }
   ],
   "source": [
    "'''4. reassign_passenger(filename: str, from_seat: str, to_seat: str) -> bool\n",
    "Пересадить пассажира с одного места на другое, если место свободно.\n",
    "После пересадки:\n",
    "* from_seat становится свободным (occupied=False, passenger='')\n",
    "* to_seat становится занятым тем же пассажиром.\n",
    " Возвращает True, если пересадка выполнена успешно.'''\n",
    "\n",
    "def reassign_passanger(filename, from_seat, to_seat):\n",
    "    header, data = read_file(filename)\n",
    "    print(data)\n",
    "    s_i = find_index(header, 'seat_id')\n",
    "    o_i = find_index(header, 'occupied')\n",
    "    p_i = find_index(header, 'passenger')\n",
    "    for i in data:\n",
    "        for j in data:\n",
    "            if i[s_i] == from_seat and j[s_i] == to_seat and j[o_i] == 'False':\n",
    "                j[p_i] = i[p_i]\n",
    "                j[o_i] = 'True'\n",
    "                i[p_i] = ''\n",
    "                i[o_i] = 'False'\n",
    "                return True, data\n",
    "    return False, data\n",
    "\n",
    "\n",
    "def reassign_passanger2(filename, from_seat, to_seat):\n",
    "    header, data = read_file(filename)\n",
    "    print(data)\n",
    "    s_i = find_index(header, 'seat_id')\n",
    "    o_i = find_index(header, 'occupied')\n",
    "    p_i = find_index(header, 'passenger')\n",
    "    \n",
    "    for i in data:\n",
    "        if i[s_i] == from_seat:\n",
    "            from_i = i\n",
    "        elif i[s_i] == to_seat:\n",
    "            to_i = i\n",
    "\n",
    "    if to_i[o_i] == 'False':\n",
    "        to_i[p_i] = from_i[p_i]\n",
    "        from_i[o_i] = 'True'\n",
    "        from_i[p_i] = ''\n",
    "        to_i[o_i] = 'False'\n",
    "\n",
    "    return False, data\n",
    "\n",
    "reassign_passanger('flight.txt', '6C', '14B')"
   ]
  },
  {
   "cell_type": "code",
   "execution_count": null,
   "metadata": {},
   "outputs": [],
   "source": []
  },
  {
   "cell_type": "code",
   "execution_count": 242,
   "metadata": {},
   "outputs": [
    {
     "data": {
      "text/plain": [
       "(False,\n",
       " [['First', '1A', 'True', 'Alice Kim'],\n",
       "  ['First', '1C', 'False', ''],\n",
       "  ['Business', '5A', 'True', 'B. Lee'],\n",
       "  ['Business', '5B', 'False', ''],\n",
       "  ['Business', '6C', 'True', 'Carlos Diaz'],\n",
       "  ['Economy', '12A', 'False', ''],\n",
       "  ['Economy', '12B', 'True', 'D. Singh'],\n",
       "  ['Economy', '13C', 'False', ''],\n",
       "  ['Economy', '14A', 'True', 'E. Toktogul'],\n",
       "  ['Economy', '14B', 'False', ''],\n",
       "  ['Economy', '12A', 'False', '']])"
      ]
     },
     "execution_count": 242,
     "metadata": {},
     "output_type": "execute_result"
    }
   ],
   "source": [
    "'''5. block_seat(filename: str, seat_id: str) -> bool\n",
    "Заблокировать место (установить occupied=True, при этом поле passenger остаётся пустым).\n",
    " Возвращает True, если операция выполнена успешно.'''\n",
    "\n",
    "def block_seat(filename, seat_id):\n",
    "    header, data = read_file(filename)\n",
    "    s_i = find_index(header, 'seat_id')\n",
    "    o_i = find_index(header, 'occupied')\n",
    "    p_i = find_index(header, 'passenger')\n",
    "    for i in data:\n",
    "        if i[s_i] == seat_id:\n",
    "            i[o_i] = 'True'\n",
    "            i[p_i] = ''\n",
    "            return True, data\n",
    "    return False, data\n",
    "\n",
    "block_seat('flight.txt', '16C')\n",
    "\n"
   ]
  },
  {
   "cell_type": "code",
   "execution_count": 245,
   "metadata": {},
   "outputs": [
    {
     "data": {
      "text/plain": [
       "(False,\n",
       " [['First', '1A', 'True', 'Alice Kim'],\n",
       "  ['First', '1C', 'False', ''],\n",
       "  ['Business', '5A', 'True', 'B. Lee'],\n",
       "  ['Business', '5B', 'False', ''],\n",
       "  ['Business', '6C', 'True', 'Carlos Diaz'],\n",
       "  ['Economy', '12A', 'False', ''],\n",
       "  ['Economy', '12B', 'True', 'D. Singh'],\n",
       "  ['Economy', '13C', 'False', ''],\n",
       "  ['Economy', '14A', 'True', 'E. Toktogul'],\n",
       "  ['Economy', '14B', 'False', ''],\n",
       "  ['Economy', '12A', 'False', '']])"
      ]
     },
     "execution_count": 245,
     "metadata": {},
     "output_type": "execute_result"
    }
   ],
   "source": [
    "'''1. remove_seat(filename: str, seat_id: str) -> bool\n",
    "Удалить место по его идентификатору seat_id (в любом классе).\n",
    " Возвращает True, если место найдено и удалено, иначе False.'''\n",
    "def read_file(filename):\n",
    "    with open(filename) as fid:\n",
    "        raw = fid.read()\n",
    "        all_data = [j.split(',') for j in raw.split('\\n')]\n",
    "        header = all_data[0]\n",
    "        data = all_data[1:]\n",
    "    return header, data\n",
    "\n",
    "def find_index(arr, target):\n",
    "    for a, b in enumerate(arr):\n",
    "        if b == target:\n",
    "            return a\n",
    "    return -1\n",
    "\n",
    "def remove_seat(filename: str, seat_id: str):\n",
    "    header, data = read_file(filename)\n",
    "    s_i = find_index(header, 'seat_id')\n",
    "    target = None\n",
    "    for i in data:\n",
    "        if i[s_i] == seat_id:\n",
    "            target = i\n",
    "    if target is not None:\n",
    "        data.remove(target)\n",
    "        return True, data\n",
    "    return False, data\n",
    "\n",
    "remove_seat('flight.txt', '16C')\n"
   ]
  },
  {
   "cell_type": "code",
   "execution_count": null,
   "metadata": {},
   "outputs": [],
   "source": [
    "'''2. seat_ids_starting_with(filename: str, prefix: str, only_available: bool=False) -> list[str]\n",
    "Найти все места, у которых seat_id начинается с заданного префикса (например, '1' → 1A, 1C).\n",
    " Если параметр only_available=True, возвращаются только свободные места.'''\n",
    "\n",
    "def seat_ids_starting_with(filename, prefix, only_available= False):\n",
    "    header, data = read_file(filename)\n",
    "    result = []\n",
    "    o_i = find_index('occupied')\n",
    "    s_i = find_index('seat_id')\n",
    "    for i in data:\n",
    "        if i[o_i] == str(only_available) and i[s_i].startswith(prefix): # i[s_i][:len(prefix)] == prefix\n",
    "            result.append(i[s_i])\n",
    "    return result\n"
   ]
  },
  {
   "cell_type": "code",
   "execution_count": null,
   "metadata": {},
   "outputs": [],
   "source": [
    "'''3. seats_in_row(filename: str, row: str) -> list[str]\n",
    "Вернуть все seat_id, относящиеся к заданному номеру ряда (например, '12' → ['12A', '12B']).\n",
    "\n",
    "4. upgrade_seat(filename: str, seat_id: str, to_class: str) -> bool\n",
    "Повысить класс пассажира — переместить его на свободное место в более высоком классе.\n",
    " Исходное место становится свободным.\n",
    " Возвращает True, если пересадка выполнена успешно.\n",
    "\n",
    "5. unblock_seat(filename: str, seat_id: str) -> bool\n",
    "Разблокировать место, установив occupied=False и очистив поле passenger, если необходимо.\n",
    " Возвращает True, если место было разблокировано.'''"
   ]
  },
  {
   "cell_type": "code",
   "execution_count": 250,
   "metadata": {},
   "outputs": [
    {
     "name": "stdout",
     "output_type": "stream",
     "text": [
      "['klass', 'seat_id', 'occupied', 'passenger']\n",
      "['First', '1A', 'True', 'Alice Kim']\n",
      "['First', '1C', 'False', '']\n",
      "['Business', '5A', 'True', 'B. Lee']\n",
      "['Business', '5B', 'False', '']\n",
      "['Business', '6C', 'True', 'Carlos Diaz']\n",
      "['Economy', '12A', 'False', '']\n",
      "['Economy', '12B', 'True', 'D. Singh']\n",
      "['Economy', '13C', 'False', '']\n",
      "['Economy', '14A', 'True', 'E. Toktogul']\n",
      "['Economy', '14B', 'False', '']\n",
      "['Economy', '12A', 'False', '']\n",
      "****************************************************************************************************\n",
      "['klass', 'seat_id', 'occupied', 'passenger']\n",
      "['First', '1A', 'True', 'Alice Kim']\n",
      "['First', '1C', 'False', '']\n",
      "['Business', '5A', 'True', 'B. Lee']\n",
      "['Business', '5B', 'False', '']\n",
      "['Business', '6C', 'True', 'Carlos Diaz']\n",
      "['Economy', '12A', 'False', '']\n",
      "['Economy', '12B', 'True', 'D. Singh']\n",
      "['Economy', '13C', 'False', '']\n",
      "['Economy', '14A', 'True', 'E. Toktogul']\n",
      "['Economy', '14B', 'False', '']\n",
      "['Economy', '12A', 'False', '']\n"
     ]
    }
   ],
   "source": [
    "import csv\n",
    "\n",
    "with open('flight.txt') as fid:\n",
    "    data = list(csv.reader(fid))\n",
    "    # data = [i.split(',') for i in data.read().split('\\n')]\n",
    "    \n",
    "    for i in data:\n",
    "        print(i)\n",
    "\n",
    "    print('*'*100)\n",
    "    for i in data:\n",
    "        print(i)\n",
    "\n",
    "with open('flight3.txt', 'w', newline='') as wid:\n",
    "    w = csv.writer(wid)\n",
    "    # w.writerows(data)\n",
    "    for i in data:\n",
    "        w.writerow(i)\n"
   ]
  },
  {
   "cell_type": "code",
   "execution_count": 251,
   "metadata": {},
   "outputs": [
    {
     "name": "stdout",
     "output_type": "stream",
     "text": [
      "{'klass': 'First', 'seat_id': '1A', 'occupied': 'True', 'passenger': 'Alice Kim'}\n",
      "{'klass': 'First', 'seat_id': '1C', 'occupied': 'False', 'passenger': ''}\n",
      "{'klass': 'Business', 'seat_id': '5A', 'occupied': 'True', 'passenger': 'B. Lee'}\n",
      "{'klass': 'Business', 'seat_id': '5B', 'occupied': 'False', 'passenger': ''}\n",
      "{'klass': 'Business', 'seat_id': '6C', 'occupied': 'True', 'passenger': 'Carlos Diaz'}\n",
      "{'klass': 'Economy', 'seat_id': '12A', 'occupied': 'False', 'passenger': ''}\n",
      "{'klass': 'Economy', 'seat_id': '12B', 'occupied': 'True', 'passenger': 'D. Singh'}\n",
      "{'klass': 'Economy', 'seat_id': '13C', 'occupied': 'False', 'passenger': ''}\n",
      "{'klass': 'Economy', 'seat_id': '14A', 'occupied': 'True', 'passenger': 'E. Toktogul'}\n",
      "{'klass': 'Economy', 'seat_id': '14B', 'occupied': 'False', 'passenger': ''}\n",
      "{'klass': 'Economy', 'seat_id': '12A', 'occupied': 'False', 'passenger': ''}\n"
     ]
    }
   ],
   "source": [
    "import csv\n",
    "\n",
    "with open('flight.txt') as fid:\n",
    "    data = csv.DictReader(fid)\n",
    "\n",
    "    for i in data:\n",
    "        print(i)"
   ]
  },
  {
   "cell_type": "code",
   "execution_count": 254,
   "metadata": {},
   "outputs": [],
   "source": [
    "'''5. block_seat(filename: str, seat_id: str) -> bool\n",
    "Заблокировать место (установить occupied=True, при этом поле passenger остаётся пустым).\n",
    " Возвращает True, если операция выполнена успешно.'''\n",
    "\n",
    "import csv\n",
    "import csv\n",
    "def block_seat(filename, seat_id):\n",
    "    with open('flight.txt') as fid:\n",
    "        data = list(csv.DictReader(fid))\n",
    "        for i in data:\n",
    "            if i['seat_id'] == seat_id:\n",
    "                i['occupied'] = 'True'\n",
    "                i['passenger'] = ''\n",
    "                return True, data\n",
    "    return False\n",
    "\n",
    "\n",
    "'''\n",
    "def block_seat(filename, seat_id):\n",
    "    header, data = read_file(filename)\n",
    "    s_i = find_index(header, 'seat_id')\n",
    "    o_i = find_index(header, 'occupied')\n",
    "    p_i = find_index(header, 'passenger')\n",
    "    for i in data:\n",
    "        if i[s_i] == seat_id:\n",
    "            i[o_i] = 'True'\n",
    "            i[p_i] = ''\n",
    "            return True, data\n",
    "    return False, data\n",
    "\n",
    "block_seat('flight.txt', '16C')\n",
    "'''\n",
    "\n",
    "result, data = block_seat('flight.txt', '6C')\n"
   ]
  },
  {
   "cell_type": "code",
   "execution_count": 255,
   "metadata": {},
   "outputs": [
    {
     "data": {
      "text/plain": [
       "[{'klass': 'First',\n",
       "  'seat_id': '1A',\n",
       "  'occupied': 'True',\n",
       "  'passenger': 'Alice Kim'},\n",
       " {'klass': 'First', 'seat_id': '1C', 'occupied': 'False', 'passenger': ''},\n",
       " {'klass': 'Business',\n",
       "  'seat_id': '5A',\n",
       "  'occupied': 'True',\n",
       "  'passenger': 'B. Lee'},\n",
       " {'klass': 'Business', 'seat_id': '5B', 'occupied': 'False', 'passenger': ''},\n",
       " {'klass': 'Business', 'seat_id': '6C', 'occupied': 'True', 'passenger': ''},\n",
       " {'klass': 'Economy', 'seat_id': '12A', 'occupied': 'False', 'passenger': ''},\n",
       " {'klass': 'Economy',\n",
       "  'seat_id': '12B',\n",
       "  'occupied': 'True',\n",
       "  'passenger': 'D. Singh'},\n",
       " {'klass': 'Economy', 'seat_id': '13C', 'occupied': 'False', 'passenger': ''},\n",
       " {'klass': 'Economy',\n",
       "  'seat_id': '14A',\n",
       "  'occupied': 'True',\n",
       "  'passenger': 'E. Toktogul'},\n",
       " {'klass': 'Economy', 'seat_id': '14B', 'occupied': 'False', 'passenger': ''},\n",
       " {'klass': 'Economy', 'seat_id': '12A', 'occupied': 'False', 'passenger': ''}]"
      ]
     },
     "execution_count": 255,
     "metadata": {},
     "output_type": "execute_result"
    }
   ],
   "source": [
    "data"
   ]
  },
  {
   "cell_type": "code",
   "execution_count": 261,
   "metadata": {},
   "outputs": [],
   "source": [
    "import csv\n",
    "with open('flight4.txt', 'w', newline='') as wid:\n",
    "    writer = csv.DictWriter(wid, fieldnames=data[0].keys())\n",
    "    writer.writeheader()\n",
    "    for i in data:\n",
    "        writer.writerow(i)"
   ]
  },
  {
   "cell_type": "code",
   "execution_count": null,
   "metadata": {},
   "outputs": [],
   "source": [
    "'''4. upgrade_seat(filename: str, seat_id: str, to_class: str) -> bool\n",
    "Повысить класс пассажира — переместить его на свободное место в более высоком классе.\n",
    " Исходное место становится свободным.\n",
    " Возвращает True, если пересадка выполнена успешно.'''\n",
    "\n",
    "import csv\n",
    "def upgrade_seat(filenae, seat_id, to_class):\n",
    "    with open(filename) as fid:\n",
    "        data = list(csv.DictReader(fid))\n",
    "        target = None\n",
    "        for i in data:\n",
    "            if i['seat_id'] == seat_id:\n",
    "                target = i  \n",
    "                break  \n",
    "        \n",
    "        to_target = None\n",
    "        for i in data:\n",
    "            if i['klass'] == to_class and i['occupied'] == 'False':\n",
    "                to_target = i\n",
    "                break\n",
    "        \n",
    "        if target and to_target:\n",
    "            to_target['passenger'] = target['passenger']\n",
    "            to_target['occupied'] = 'True'\n",
    "            target['passenger'] = ''\n",
    "            target['occupied'] = 'False'\n",
    "            return True\n",
    "    return False"
   ]
  },
  {
   "cell_type": "code",
   "execution_count": 266,
   "metadata": {},
   "outputs": [
    {
     "name": "stdout",
     "output_type": "stream",
     "text": [
      "None\n"
     ]
    }
   ],
   "source": [
    "def min_index(arr):\n",
    "    min = float('inf')\n",
    "    min_ind = None\n",
    "    for i, n in enumerate(arr):\n",
    "        if min > n:\n",
    "            min = n\n",
    "            min_ind = i\n",
    "    return min_ind\n",
    "arr = []\n",
    "print(min_index(arr))"
   ]
  },
  {
   "cell_type": "code",
   "execution_count": 270,
   "metadata": {},
   "outputs": [
    {
     "data": {
      "text/plain": [
       "24"
      ]
     },
     "execution_count": 270,
     "metadata": {},
     "output_type": "execute_result"
    }
   ],
   "source": [
    "def sum2(arr):\n",
    "    summ = 0\n",
    "    for i in range(len(arr)):\n",
    "        summ += arr[i]\n",
    "    return summ\n",
    "\n",
    "sum2([1,23, 24])"
   ]
  },
  {
   "cell_type": "code",
   "execution_count": 278,
   "metadata": {},
   "outputs": [
    {
     "name": "stdout",
     "output_type": "stream",
     "text": [
      "18740\n",
      "['Jamila', 'by', 'Chingiz', 'Aitmatov', 'Translated', 'by', 'Fainna', 'Glagoleva', 'Prepared', 'for', 'the', 'Internet', 'by', 'Iraj', 'Bashiri,', '2002', 'Once', 'again', 'I', 'find', 'myself', 'in', 'front', 'of', 'the', 'small', 'painting', 'in', 'a', 'simple', 'frame.', 'Tomorrow', 'morning', 'I', 'leave', 'for', 'the', 'village,', 'and', 'I', 'gaze', 'long', 'and', 'intently', 'at', 'the', 'canvas,', 'as', 'if', 'it', 'can', 'give', 'me', 'a', 'word', 'of', 'advice', 'for', 'the', 'journey', 'ahead.', 'It', 'has', 'never', 'been', 'exhibited.', 'Moreover,', 'when', 'relatives', 'from', 'home', 'come', 'to', 'visit,', 'I', 'make', 'sure', 'it', 'is', 'out', 'of', 'sight.', 'There', 'is', 'nothing', 'to', 'be', 'ashamed', 'of,', 'though', 'it', 'is', 'not', 'really', 'a', 'work', 'of', 'art.', 'It', 'is', 'as', 'plain', 'as', 'the', 'earth', 'depicted', 'in', 'it.', 'The', 'background', 'is', 'a', 'patch', 'of', 'bleak', 'autumn', 'sky', 'with', 'the', 'wind', 'chasing', 'fast-moving', 'skewbald', 'clouds', 'over', 'the', 'far', 'mountain', 'range.', 'The', 'russet', 'wormwood-covered', 'steppe,', 'a', 'road', 'black', 'and', 'damp', 'from', 'the', 'recent', 'rains,', 'and', 'the', 'dry', 'broken', 'bushes', 'of', 'needle', 'glass', 'crowding', 'at', 'the', 'roadside', 'form', 'the', 'foreground.', 'The', 'footprints', 'of', 'two', 'travellers', 'follow', 'a', 'washed-out', 'dirt', 'road.', 'Their', 'tracks', 'appear', 'ever', 'fainter', 'as', 'the', 'road', 'dwindles', 'in', 'the', 'distance.', 'It', 'seems', 'that', 'if', 'they', 'were', 'to', 'take', 'another', 'step,', 'they', 'would', 'disappear', 'behind', 'the', 'frame.', 'One', 'of', 'them....', 'However,', \"I'm\", 'forestalling', 'events.', 'It', 'all', 'happened', 'when', 'I', 'was', 'still', 'a', 'boy.', 'It', 'was', 'the', 'third', 'year', 'of', 'war.', 'Somewhere', 'far', 'away,', 'at', 'Kursk', 'and', 'Orel,', 'our', 'fathers', 'and', 'brothers', 'battled', 'the', 'enemy,', 'while', 'we,', 'lads', 'of', 'fifteen,', 'worked', 'on', 'the', 'collective', 'farm.', 'Our', 'skinny', 'young', 'shoulders', 'had', 'to', 'carry', 'the', 'full', 'brunt', 'of', 'a', 'grown', \"man's\", 'job.', 'Harvest', 'time', 'was', 'the', 'hardest', 'of', 'all.', 'We', 'were', 'away', 'from', 'home', 'for', 'weeks', 'on', 'end,', 'spending', 'our', 'days', 'and', 'nights', 'in', 'the', 'field,', 'at', 'the', 'threshing-floor,', 'or', 'on', 'the', 'road', 'to', 'the', 'railway', 'station,', 'delivering', 'the', 'grain.', 'Driving', 'my', 'empty', 'trap', 'back', 'from', 'the', 'station', 'on', 'one', 'such', 'scorching', 'day,', 'when', 'our', 'scythes', 'seemed', 'red-hot', 'from', 'reaping,', 'I', 'decided', 'to', 'stop', 'off', 'at', 'home.', 'At', 'the', 'very', 'end', 'of', 'the', 'street,', 'on', 'a', 'hillock', 'near', 'the', 'ford,', 'are', 'two', 'houses', 'with', 'a', 'stout', 'adobe', 'wall', 'around', 'them', 'and', 'tall', 'poplars', 'growing', 'beyond', 'the', 'wall.', 'These', 'are', 'our', 'houses.', 'For', 'many', 'years', 'our', 'families', 'have', 'lived', 'side', 'by', 'side.', 'I', 'was', 'from', 'the', 'Big', 'House.', 'I', 'had', 'two', 'brothers,', 'both', 'older', 'than', 'I,', 'both', 'bachelors,', 'both', 'away,', 'at', 'the', 'front,', 'and', 'there', 'had', 'been', 'no', 'word', 'from', 'either', 'for', 'it', 'long', 'time.', 'My', 'father', 'was', 'an', 'old', 'carpenter.', 'After,', 'saying', 'his', 'mourning', 'prayer', 'at', 'dawn', 'he', 'went', 'to', 'work', 'in', 'the', 'carpentry', 'shop', 'in', 'the', 'common', 'yard,', 'where', 'he', 'stayed', 'till', 'late', 'in', 'the', 'evening.', 'My', 'mother', 'and', 'little', 'sister', 'remained', 'at', 'home.', 'Our', 'close', 'relatives', 'lived', 'in', 'the', 'neighbouring', 'yard,', 'known', 'to', 'the', 'villagers', 'as', 'the', 'Small', 'House.', 'Our', 'great-grandfathers', 'or', 'great-great-', 'grandfathers', 'were', 'brothers,', 'but', 'I', 'call', 'them', 'close', 'relatives', 'because', 'we', 'lived', 'as', 'one', 'family.', 'It', 'had', 'been', 'so', 'since', 'the', 'time', 'our', 'people', 'had', 'been', 'nomads,', 'when', 'our', 'great-grandfathers', 'used', 'to', 'break', 'camp', 'and', 'round', 'up', 'their', 'cattle', 'together.', 'We', 'kept', 'this', 'tradition', 'alive.', 'When', 'our', 'village', 'was', 'collectivised,', 'our,', 'fathers', 'built', 'their', 'houses', 'side', 'by', 'side.', 'Actually,', 'we', 'were', 'all', 'fellowtribesmenâ€”', 'the', 'whole', 'of', 'Aralskaya', 'Street,', 'stretching', 'the', 'length', 'of', 'the', 'village', 'to', 'the', 'river,', 'was', 'inhabited', 'by', 'our', 'kinsfolk.', 'Soon', 'after', 'we', 'joined', 'the', 'collective', 'farm,', 'the', 'master', 'of', 'the', 'Small', 'House', 'died,', 'leaving', 'a', 'widow', 'and', 'two', 'small', 'sons.', 'According', 'to', 'the', 'old', 'custom', 'of', 'tribal', 'law', 'which', 'was', 'still', 'adhered', 'to', 'in', 'the', 'village', 'at', 'the', 'time,', 'it', 'was', 'forbidden', 'to', 'let', 'a', 'widow', 'who', 'had', 'sons', 'leave', 'the', 'tribe,', 'and', 'it', 'was', 'therefore', 'agreed', 'that', 'my', 'father', 'should', 'marry', 'her.', 'His', 'duty', 'to', 'the', 'spirits', 'of', 'his', 'ancestors', 'compelled', 'him', 'to', 'do', 'this,', 'for', 'he', 'was', 'the', 'deceased', \"man's\", 'closest', 'relative.', 'That', 'is', 'how', 'we', 'came', 'to', 'have', 'a', 'second', 'family.', 'The', 'Small', 'House', 'was', 'considered', 'an', 'independent', 'household', 'with', 'its', 'own', 'grounds', 'and', 'its', 'own', 'cattle,', 'but,', 'actually,', 'we', 'lived', 'together.', 'The', 'Small', 'House', 'had', 'also', 'sent', 'two', 'sons', 'off', 'to', 'war.', 'The', 'eldest,', 'Sadyk,', 'had', 'left', 'soon', 'after', 'he', 'married.', 'We', 'received', 'letters', 'from', 'them,', 'though', 'they', 'were', 'few', 'and', 'far', 'between.', 'Thus', 'there', 'remained', 'in', 'the', 'Small', 'House', 'the', 'mother,', 'whom', 'I', 'called', 'kichine', 'â€”', 'younger', 'motherâ€”', 'and', 'her', 'daughter-in-law,', \"Sadyk's\", 'wife.', 'Both', 'worked', 'on', 'the', 'collective', 'farm', 'from', 'morning', 'till', 'night.', 'My', 'younger', 'mother', 'was', 'kind,', 'complacent', 'and', 'mild-tempered;', 'she', 'kept', 'up', 'with', 'the', 'younger', 'women', 'in', 'everything,', 'be', 'it', 'in', 'digging', 'the', 'irrigation', 'ditches', 'or', 'in', 'watering', 'the', 'fields.', 'Fate', 'had', 'rewarded', 'her', 'with', 'a', 'hard-working', 'daughter-in-law.', 'Jamila', 'was', 'a', 'good', 'match', 'for', 'her', 'mother-in-law;', 'she', 'was', 'indefatigable', 'and', 'nimble,', 'though', 'of', 'a', 'very', 'different', 'temperament.', 'I', 'loved', 'Jamila', 'dearly.', 'And', 'she', 'loved', 'me.', 'We', 'were', 'great', 'friends,', 'yet', 'we', 'did', 'not', 'dare', 'call', 'each', 'other', 'by', 'our', 'first', 'names.', 'Had', 'we', 'been', 'from', 'different', 'families,', 'I', 'would', 'have', 'certainly', 'called', 'her', 'Jamila.', 'However,', 'since', 'she', 'was', 'the', 'wife', 'of', 'my', 'eldest', 'brother,', 'I', 'had', 'to', 'call', 'her', 'djene,', 'while', 'she,', 'in', 'turn,', 'called', 'me', 'kichine', 'bala', 'â€”', 'little', 'boyâ€”', 'though', 'I', 'was', 'far', 'from', 'little', 'and', 'there', 'was', 'a', 'very', 'small', 'difference', 'in', 'our', 'ages.', 'Such', 'was', 'the', 'custom', 'of', 'our', 'villages:', 'daughters-in-law', 'called', 'their', \"husband's\", 'younger', 'brothers', 'kichine', 'bala.', 'My', 'mother', 'managed', 'both', 'households.', 'My', 'little', 'sister,', 'a', 'funny', 'girl', 'with', 'braids', 'tied', 'with', 'strings,', 'helped', 'her.', 'I', 'shall', 'never', 'forget', 'how', 'hard', 'she', 'worked', 'during', 'those', 'difficult', 'years.', 'It', 'was', 'she', 'who', 'took', 'the', 'lambs', 'and', 'calves', 'of', 'both', 'houses', 'to', 'pasture;', 'it', 'was', 'she', 'who', 'gathered', 'dung', 'and', 'dry', 'branches,', 'to', 'always', 'have', 'a', 'supply', 'of', 'fuel', 'in', 'the', 'house.', 'It', 'was', 'she,', 'my', 'snub-nosed', 'little', 'sister,', 'who', 'brightened', 'my', \"mother's\", 'days', 'of', 'loneliness,', 'distracting', 'her', 'from', 'the', 'gloomy', 'thoughts', 'of', 'her', 'sons', 'who', 'were', 'missing', 'in', 'action.', 'Our', 'large', 'family', 'owed', 'the', 'prevailing', 'spirit', 'of', 'concord', 'and', 'plenty', 'to', 'my', \"mother's\", 'efforts.', 'She', 'was', 'the', 'full-fledged', 'mistress', 'of', 'both', 'houses,', 'the', 'keeper', 'of', 'the', 'home.', 'She', 'had', 'come', 'into', 'the', 'family', 'of', 'our', 'nomad']\n"
     ]
    }
   ],
   "source": [
    "with open('jamilia.txt') as fid:\n",
    "    r = fid.read().split()\n",
    "    print(len(r))\n"
   ]
  },
  {
   "cell_type": "code",
   "execution_count": 283,
   "metadata": {},
   "outputs": [
    {
     "name": "stdout",
     "output_type": "stream",
     "text": [
      "never-to-be-repeated\n"
     ]
    }
   ],
   "source": [
    "with open('jamilia.txt') as fid:\n",
    "    f = fid.read().split()\n",
    "    a = [-len(i.strip(',').strip('.')) for i in f]\n",
    "    min_i = min_index(a)\n",
    "    print(f[min_i])"
   ]
  },
  {
   "cell_type": "code",
   "execution_count": 285,
   "metadata": {},
   "outputs": [
    {
     "name": "stdout",
     "output_type": "stream",
     "text": [
      "[9, 7, 4, 11, 0, 3, 2]\n",
      "[-9, -7, -4, -11, 0, -3, -2]\n",
      "3\n"
     ]
    }
   ],
   "source": [
    "arr = [9, 7, 4, 11, 0, 3, 2]\n",
    "\n",
    "arr_n = [-i for i in arr]\n",
    "\n",
    "print(arr)\n",
    "print(arr_n)\n",
    "print(min_index(arr_n))"
   ]
  },
  {
   "cell_type": "code",
   "execution_count": 286,
   "metadata": {},
   "outputs": [
    {
     "name": "stdout",
     "output_type": "stream",
     "text": [
      "the 980\n"
     ]
    }
   ],
   "source": [
    "with open('jamilia.txt') as fid:\n",
    "    b = fid.read().split()\n",
    "    arr = [i.strip('.').strip(',') for i in b]\n",
    "\n",
    "    d = {}\n",
    "    for i in arr:\n",
    "        if i not in d:\n",
    "            d[i] = 0\n",
    "        d[i] += 1\n",
    "    \n",
    "    max_val = 0\n",
    "    max_word = ''\n",
    "    for k, v in d.items():\n",
    "        if max_val < v:\n",
    "            max_val = v\n",
    "            max_word = k\n",
    "    print(max_word, max_val)\n"
   ]
  },
  {
   "cell_type": "code",
   "execution_count": 301,
   "metadata": {},
   "outputs": [
    {
     "name": "stdout",
     "output_type": "stream",
     "text": [
      "(980, 'the')\n"
     ]
    }
   ],
   "source": [
    "from collections import defaultdict\n",
    "\n",
    "with open('jamilia.txt') as fid:\n",
    "    b = fid.read().split()\n",
    "    arr = [i.strip('.').strip(',') for i in b]\n",
    "\n",
    "    d = defaultdict(int)\n",
    "    for i in arr:\n",
    "        d[i] += 1\n",
    "    \n",
    "    b = list(d.items())\n",
    "    arr = [(v, k) for k, v in b]\n",
    "    print(sorted(arr)[-1])\n"
   ]
  },
  {
   "cell_type": "code",
   "execution_count": 309,
   "metadata": {},
   "outputs": [
    {
     "name": "stdout",
     "output_type": "stream",
     "text": [
      "[('the', 980), ('and', 561), ('to', 504), ('I', 419), ('of', 372)]\n"
     ]
    }
   ],
   "source": [
    "from collections import Counter\n",
    "\n",
    "with open('jamilia.txt') as fid:\n",
    "    b = fid.read().split()\n",
    "    arr = [i.strip('.').strip(',') for i in b]\n",
    "    c = Counter(arr)\n",
    "    print(c.most_common(5))\n"
   ]
  },
  {
   "cell_type": "code",
   "execution_count": 289,
   "metadata": {},
   "outputs": [
    {
     "name": "stdout",
     "output_type": "stream",
     "text": [
      "[]\n",
      "defaultdict(<class 'list'>, {10: []})\n"
     ]
    }
   ],
   "source": [
    "from collections import defaultdict\n",
    "\n",
    "d = defaultdict(list)\n",
    "\n",
    "print(d[10])\n",
    "print(d)"
   ]
  },
  {
   "cell_type": "code",
   "execution_count": null,
   "metadata": {},
   "outputs": [],
   "source": [
    "d = {}\n",
    "if i in d:\n",
    "    d[i].append(x)\n",
    "else:\n",
    "    d[i] = [x]\n",
    "\n",
    "\n",
    "d = defaultdict(list)\n",
    "d[i].append(x)"
   ]
  },
  {
   "cell_type": "code",
   "execution_count": 294,
   "metadata": {},
   "outputs": [
    {
     "name": "stdout",
     "output_type": "stream",
     "text": [
      "defaultdict(<class 'int'>, {})\n"
     ]
    },
    {
     "ename": "AttributeError",
     "evalue": "'int' object has no attribute 'append'",
     "output_type": "error",
     "traceback": [
      "\u001b[1;31m---------------------------------------------------------------------------\u001b[0m",
      "\u001b[1;31mAttributeError\u001b[0m                            Traceback (most recent call last)",
      "Cell \u001b[1;32mIn[294], line 4\u001b[0m\n\u001b[0;32m      1\u001b[0m d \u001b[38;5;241m=\u001b[39m defaultdict(\u001b[38;5;28mint\u001b[39m)\n\u001b[0;32m      2\u001b[0m \u001b[38;5;28mprint\u001b[39m(d)\n\u001b[1;32m----> 4\u001b[0m \u001b[43md\u001b[49m\u001b[43m[\u001b[49m\u001b[38;5;241;43m50\u001b[39;49m\u001b[43m]\u001b[49m\u001b[38;5;241;43m.\u001b[39;49m\u001b[43mappend\u001b[49m(\u001b[38;5;241m10\u001b[39m)\n\u001b[0;32m      5\u001b[0m \u001b[38;5;28mprint\u001b[39m(d)\n",
      "\u001b[1;31mAttributeError\u001b[0m: 'int' object has no attribute 'append'"
     ]
    }
   ],
   "source": [
    "d = defaultdict(int)\n",
    "print(d)\n",
    "\n",
    "d[50].append(10)\n",
    "print(d)"
   ]
  },
  {
   "cell_type": "code",
   "execution_count": 292,
   "metadata": {},
   "outputs": [
    {
     "name": "stdout",
     "output_type": "stream",
     "text": [
      "defaultdict(<class 'list'>, {50: [10, 20]})\n"
     ]
    }
   ],
   "source": [
    "d[50].append(20)\n",
    "print(d)"
   ]
  },
  {
   "cell_type": "code",
   "execution_count": 332,
   "metadata": {},
   "outputs": [
    {
     "name": "stdout",
     "output_type": "stream",
     "text": [
      "jamila \n",
      "\n",
      "by      chingiz aitmatov \n",
      "\n",
      "translated by fainna glagoleva \n",
      "\n",
      "prepared for the internet by ir\n",
      "****************************************************************************************************\n",
      "['a', 'b', 'c', 'd', 'e', 'f', 'g', 'h', 'i', 'j', 'k', 'l', 'm', 'n', 'o', 'p', 'q', 'r', 's', 't', 'u', 'v', 'w', 'x', 'y', 'z', 'A', 'B', 'C', 'D', 'E', 'F', 'G', 'H', 'I', 'J', 'K', 'L', 'M', 'N', 'O', 'P', 'Q', 'R', 'S', 'T', 'U', 'V', 'W']\n",
      "['k', 'q', 'w', 'y', 'o', 'c', 'L', 'O', 'V', 'j', 'p', 'U', 'i', 't', 'S', 'b', 'W', 'Q', 'B', 'x', 'g', 'K', 's', 'r', 'a', 'l', 'e', 'n', 'u', 'E', 'F', 'J', 'd', 'T', 'N', 'H', 'G', 'A', 'I', 'R', 'D', 'm', 'v', 'P', 'M', 'z', 'h', 'C', 'f']\n",
      "jkiVUk \n",
      "\n",
      "qa      wOVtLVl kVxikxSK \n",
      "\n",
      "xQktBUkxoy qa ckVttk LUkLSUoKk \n",
      "\n",
      "bQobkQoy cSQ xOo VtxoQtox qa VQ\n"
     ]
    }
   ],
   "source": [
    "with open('jamilia.txt') as fid:\n",
    "    r = fid.read().lower()\n",
    "    \n",
    "\n",
    "from random import shuffle\n",
    "print(r[:100])\n",
    "print('*'*100)\n",
    "original = list('abcdefghijklmnopqrstuvwxyzABCDEFGHIJKLMNOPQRSTUVW')\n",
    "secret = original.copy()\n",
    "shuffle(secret)\n",
    "\n",
    "d = {}\n",
    "\n",
    "print(original)\n",
    "print(secret)\n",
    "for k,v in zip(original,secret):\n",
    "    d[k] = v\n",
    "\n",
    "s = ''\n",
    "for i in r:\n",
    "    if i in d:\n",
    "        s += d[i]\n",
    "    else:\n",
    "        s += i\n",
    "\n",
    "print(s[:100])\n"
   ]
  },
  {
   "cell_type": "code",
   "execution_count": 333,
   "metadata": {},
   "outputs": [
    {
     "name": "stdout",
     "output_type": "stream",
     "text": [
      "{'a': 'k', 'b': 'q', 'c': 'w', 'd': 'y', 'e': 'o', 'f': 'c', 'g': 'L', 'h': 'O', 'i': 'V', 'j': 'j', 'k': 'p', 'l': 'U', 'm': 'i', 'n': 't', 'o': 'S', 'p': 'b', 'q': 'W', 'r': 'Q', 's': 'B', 't': 'x', 'u': 'g', 'v': 'K', 'w': 's', 'x': 'r', 'y': 'a', 'z': 'l', 'A': 'e', 'B': 'n', 'C': 'u', 'D': 'E', 'E': 'F', 'F': 'J', 'G': 'd', 'H': 'T', 'I': 'N', 'J': 'H', 'K': 'G', 'L': 'A', 'M': 'I', 'N': 'R', 'O': 'D', 'P': 'm', 'Q': 'v', 'R': 'P', 'S': 'M', 'T': 'z', 'U': 'h', 'V': 'C', 'W': 'f'}\n",
      "{'k': 'a', 'q': 'b', 'w': 'c', 'y': 'd', 'o': 'e', 'c': 'f', 'L': 'g', 'O': 'h', 'V': 'i', 'j': 'j', 'p': 'k', 'U': 'l', 'i': 'm', 't': 'n', 'S': 'o', 'b': 'p', 'W': 'q', 'Q': 'r', 'B': 's', 'x': 't', 'g': 'u', 'K': 'v', 's': 'w', 'r': 'x', 'a': 'y', 'l': 'z', 'e': 'A', 'n': 'B', 'u': 'C', 'E': 'D', 'F': 'E', 'J': 'F', 'd': 'G', 'T': 'H', 'N': 'I', 'H': 'J', 'G': 'K', 'A': 'L', 'I': 'M', 'R': 'N', 'D': 'O', 'm': 'P', 'v': 'Q', 'P': 'R', 'M': 'S', 'z': 'T', 'h': 'U', 'C': 'V', 'f': 'W'}\n"
     ]
    }
   ],
   "source": [
    "def encrypt(s, d):\n",
    "    result = ''\n",
    "    for i in s:\n",
    "        if i in d:\n",
    "            result += d[i]\n",
    "        else:\n",
    "            result += i\n",
    "    return result\n",
    "\n",
    "d2 = {v:k for k, v in d.items()}\n",
    "print(d)\n",
    "print(d2)"
   ]
  },
  {
   "cell_type": "code",
   "execution_count": 326,
   "metadata": {},
   "outputs": [
    {
     "name": "stdout",
     "output_type": "stream",
     "text": [
      "uqxqgti iq hbriq tpvba zdrzd o cjat ftiube\n"
     ]
    }
   ],
   "source": [
    "zasikrechenniy = encrypt('daragoy ya tebya ochen lublu v kino poydem', d)\n",
    "print(zasikrechenniy)"
   ]
  },
  {
   "cell_type": "code",
   "execution_count": 327,
   "metadata": {},
   "outputs": [
    {
     "data": {
      "text/plain": [
       "'daragoy ya tebya ochen lublu v kino poydem'"
      ]
     },
     "execution_count": 327,
     "metadata": {},
     "output_type": "execute_result"
    }
   ],
   "source": [
    "encrypt('uqxqgti iq hbriq tpvba zdrzd o cjat ftiube', d2)"
   ]
  },
  {
   "cell_type": "code",
   "execution_count": 335,
   "metadata": {},
   "outputs": [
    {
     "name": "stdout",
     "output_type": "stream",
     "text": [
      "yoc SLgQoxB(kQQ):\n",
      "    QoxgQt 'eNz PFMhAz', ikr(kQQ), iVt(kQQ), Bgi(kQQ)\n",
      "\n",
      "yoc bSiVySQ(kQQ):\n",
      "    QoxgQt Uot(kQQ)\n",
      "\n",
      "\n",
      "oiVU = 'eNz'\n",
      "\n",
      "yoc iaBgi2(k):\n",
      "    QoxgQt k ** 0.5\n",
      "\n",
      "\n"
     ]
    }
   ],
   "source": []
  },
  {
   "cell_type": "code",
   "execution_count": 336,
   "metadata": {},
   "outputs": [],
   "source": [
    "import os\n",
    "\n",
    "files = os.listdir()"
   ]
  },
  {
   "cell_type": "code",
   "execution_count": 337,
   "metadata": {},
   "outputs": [
    {
     "data": {
      "text/plain": [
       "['.git',\n",
       " 'altinay.py',\n",
       " 'bank.txt',\n",
       " 'bank2.txt',\n",
       " 'class.ipynb',\n",
       " 'example.py',\n",
       " 'flight.txt',\n",
       " 'flight2.txt',\n",
       " 'flight3.txt',\n",
       " 'flight4.txt',\n",
       " 'iskender.py',\n",
       " 'jamilia.txt',\n",
       " 'README.md',\n",
       " '__pycache__']"
      ]
     },
     "execution_count": 337,
     "metadata": {},
     "output_type": "execute_result"
    }
   ],
   "source": [
    "files"
   ]
  },
  {
   "cell_type": "code",
   "execution_count": 340,
   "metadata": {},
   "outputs": [
    {
     "name": "stdout",
     "output_type": "stream",
     "text": [
      "[73, 4, 54, 61, 73, 1, 26, 59, 62, 35, 83, 20, 4, 66, 62, 41, 9, 31, 95, 46, 5, 53, 17, 77, 45, 48, 53, 36, 86, 33, 58, 22, 87, 38, 84, 46, 17, 58, 98, 30, 56, 78, 48, 5, 74, 0, 30, 17, 24, 38, 68, 46, 98, 30, 40, 85, 70, 57, 55, 60, 8, 83, 74, 41, 64, 20, 28, 52, 30, 4, 4, 63, 38, 77, 84, 9, 68, 10, 19, 49, 72, 47, 76, 19, 14, 99, 98, 12, 56, 21, 24, 44, 55, 53, 57, 31, 87, 35, 18, 79]\n"
     ]
    }
   ],
   "source": [
    "import random\n",
    "\n",
    "random.seed(10)\n",
    "arr = [randint(0, 100) for _ in range(100)]\n",
    "print(arr)"
   ]
  },
  {
   "cell_type": "code",
   "execution_count": 341,
   "metadata": {},
   "outputs": [
    {
     "name": "stdout",
     "output_type": "stream",
     "text": [
      "[73, 4, 54, 61, 73, 1, 26, 59, 62, 35, 83, 20, 4, 66, 62, 41, 9, 31, 95, 46, 5, 53, 17, 77, 45, 48, 53, 36, 86, 33, 58, 22, 87, 38, 84, 46, 17, 58, 98, 30, 56, 78, 48, 5, 74, 0, 30, 17, 24, 38, 68, 46, 98, 30, 40, 85, 70, 57, 55, 60, 8, 83, 74, 41, 64, 20, 28, 52, 30, 4, 4, 63, 38, 77, 84, 9, 68, 10, 19, 49, 72, 47, 76, 19, 14, 99, 98, 12, 56, 21, 24, 44, 55, 53, 57, 31, 87, 35, 18, 79]\n"
     ]
    }
   ],
   "source": [
    "import random\n",
    "\n",
    "random.seed(10)\n",
    "arr = [randint(0, 100) for _ in range(100)]\n",
    "print(arr)"
   ]
  },
  {
   "cell_type": "code",
   "execution_count": 347,
   "metadata": {},
   "outputs": [
    {
     "data": {
      "text/plain": [
       "'N<Пуcwl\\neр1AxVtbюРpж3fdУп?qёЧ ьunrО)7цтh–Bхэ(=a6НC—об5Десvo>гфйF:д\\tшк/ач9_’|gз8ыщ]+s\"m[0TSВ‘,ияi4нл2мв.-'"
      ]
     },
     "execution_count": 347,
     "metadata": {},
     "output_type": "execute_result"
    }
   ],
   "source": [
    "with open('midterm.txt', encoding='utf-8') as fid:\n",
    "    x = set(list(fid.read()))\n",
    "\n",
    "''.join(x)"
   ]
  },
  {
   "cell_type": "code",
   "execution_count": null,
   "metadata": {},
   "outputs": [
    {
     "data": {
      "text/plain": [
       "66"
      ]
     },
     "execution_count": 349,
     "metadata": {},
     "output_type": "execute_result"
    }
   ],
   "source": []
  },
  {
   "cell_type": "code",
   "execution_count": 33,
   "metadata": {},
   "outputs": [
    {
     "name": "stdout",
     "output_type": "stream",
     "text": [
      "['=', 'П', 'l', 'v', 'й', 'щ', '2', 'з', '’', 'в', '—', 'f', '0', 'ж', '[', 'Д', 'и', '(', 'л', 'B', 'н', 'A', 'r', 'g', '|', 'T', 'х', '–', '.', 'с', '\\n', ' ', 'i', '\\t', '6', 'у', 'В', ')', 'Ч', 'm', 'п', 'p', 'b', 'ч', 'n', 'е', 'V', 'д', 'C', 'e', 'a', '+', '/', 'О', 'о', 'ё', '5', 'к', 'S', 'x', 'У', 'т', 'q', 'c', 'ы', '\"', '8', 'м', '3', 'ь', 'N', 'o', '7', 'ц', ',', '<', 'б', 'э', 'ш', 'г', 'а', 'Р', 'ю', 'u', 'р', ']', '?', 'F', 't', 'd', 'w', 'я', '4', '1', '_', 'ф', '>', ':', 's', 'Н', '‘', '9', 'h', '-']\n"
     ]
    }
   ],
   "source": [
    "with open('midterm_encrypted2.txt', 'r', encoding='utf-8') as fid:\n",
    "    x = list(set(list(fid.read())))\n",
    "print(x)"
   ]
  },
  {
   "cell_type": "code",
   "execution_count": null,
   "metadata": {},
   "outputs": [
    {
     "ename": "SyntaxError",
     "evalue": "expected 'except' or 'finally' block (1675674043.py, line 6)",
     "output_type": "error",
     "traceback": [
      "\u001b[1;36m  Cell \u001b[1;32mIn[71], line 6\u001b[1;36m\u001b[0m\n\u001b[1;33m    original = sorted(x)\u001b[0m\n\u001b[1;37m    ^\u001b[0m\n\u001b[1;31mSyntaxError\u001b[0m\u001b[1;31m:\u001b[0m expected 'except' or 'finally' block\n"
     ]
    }
   ],
   "source": [
    "try:\n",
    "    with open('midterm2.txt', 'r', encoding='utf-8') as fid:\n",
    "        txt = fid.read()\n",
    "        x = list(set(list(x)))\n",
    "except:\n",
    "    print('Sorry bro, file netu')\n",
    "\n",
    "\n",
    "original = sorted(x)\n",
    "znayem = ['[5]', '[3]', '[15]', 'Напишите', 'Реализуйте', 'CSV', 'Пример']\n",
    "\n",
    "def encrypt(s, d):\n",
    "    result = ''\n",
    "    for i in s:\n",
    "        if i in d:\n",
    "            result += d[i]\n",
    "        else:\n",
    "            result += i\n",
    "    return result\n",
    "\n",
    "\n",
    "def break_code(n, log=False):\n",
    "    import random\n",
    "    random.seed(n)\n",
    "    coding = original.copy()\n",
    "    random.shuffle(coding)\n",
    "    d = {v:k for k, v in zip(original, coding)}\n",
    "\n",
    "    s = encrypt(txt, d)\n",
    "\n",
    "    if log:\n",
    "        print(d)\n",
    "        print(s)\n",
    "        \n",
    "    for key in znayem:\n",
    "        if key not in s:\n",
    "            return False\n",
    "    return True\n",
    "\n",
    "for i in range(1):\n",
    "    if i % 10000 == 0:\n",
    "        print(i)\n",
    "\n",
    "    if break_code(i):\n",
    "        print('Found: ', i)\n",
    "\n",
    "\n",
    "\n",
    "\n"
   ]
  },
  {
   "cell_type": "code",
   "execution_count": null,
   "metadata": {},
   "outputs": [
    {
     "name": "stdout",
     "output_type": "stream",
     "text": [
      "[4, 14, 14, 5, 12]\n",
      "[11, 13, 16, 3, 17]\n",
      "[3, 2, 14, 8, 1]\n",
      "[20, 6, 10, 7, 9]\n",
      "[6, 5, 4, 6, 11]\n",
      "[11, 20, 13, 6, 12]\n",
      "[14, 17, 8, 12, 5]\n",
      "[20, 20, 3, 5, 0]\n",
      "[19, 12, 4, 18, 5]\n",
      "[6, 5, 0, 7, 14]\n",
      "[20, 12, 4, 19, 17]\n",
      "[1, 19, 7, 19, 16]\n",
      "[9, 18, 10, 16, 10]\n",
      "[17, 11, 15, 12, 1]\n",
      "[3, 9, 20, 13, 8]\n",
      "[7, 13, 16, 15, 18]\n",
      "[8, 4, 1, 18, 10]\n",
      "[5, 1, 8, 3, 1]\n",
      "[19, 7, 9, 16, 19]\n",
      "[6, 20, 18, 11, 10]\n"
     ]
    }
   ],
   "source": [
    "import random\n",
    "\n",
    "random.seed(100)\n",
    "for i in range(20):\n",
    "    print([random.randint(0, 20) for i in range(5)])"
   ]
  },
  {
   "cell_type": "code",
   "execution_count": 42,
   "metadata": {},
   "outputs": [
    {
     "name": "stdout",
     "output_type": "stream",
     "text": [
      "{'—': '\\t', '5': '\\n', 'N': ' ', 'c': '\"', 'В': '(', 'а': ')', 'О': '+', 'з': ',', 'f': '-', '2': '.', 'р': '/', '7': '0', 'н': '1', 'g': '2', 'T': '3', 'e': '4', 'ю': '5', 'л': '6', 'э': '7', 'v': '8', 'h': '9', 'w': ':', 'd': '<', 'ц': '=', '–': '>', 'п': '?', '.': 'A', '‘': 'B', '’': 'C', 'Н': 'F', 'u': 'N', '8': 'S', 'я': 'T', 'ё': 'V', 'П': '[', ':': ']', '\\n': '_', 't': 'a', 'т': 'b', 'o': 'c', '(': 'd', 'б': 'e', 's': 'f', '[': 'g', '|': 'h', 'V': 'i', '9': 'l', 'l': 'm', '0': 'n', '_': 'o', 'C': 'p', '6': 'q', 'с': 'r', 'е': 's', 'a': 't', 'ф': 'u', '=': 'v', ']': 'w', 'й': 'x', 'ы': '|', ',': 'В', ' ': 'Д', 'b': 'Н', 'S': 'О', 'у': 'П', 'A': 'Р', '?': 'У', '3': 'Ч', 'ж': 'а', 'У': 'б', 'i': 'в', 'x': 'г', 'p': 'д', 'щ': 'е', 'м': 'ж', 'и': 'з', '>': 'и', 'ш': 'й', 'Р': 'к', 'в': 'л', '\"': 'м', 'к': 'н', '+': 'о', 'r': 'п', 'х': 'р', 'ч': 'с', 'B': 'т', '4': 'у', ')': 'ф', '1': 'х', 'q': 'ц', 'ь': 'ч', '-': 'ш', 'F': 'щ', 'д': 'ы', 'n': 'ь', 'm': 'э', '\\t': 'ю', 'Ч': 'я', '<': 'ё', 'Д': '–', 'о': '—', '/': '‘', 'г': '’'}\n",
      "[5] count_above_threshold(numbers: list[int], threshold:int) -> int\n",
      " Напишите функцию, которая считает, сколько чисел в массиве больше threshold.\n",
      "\n",
      "\n",
      "[5] letter_grade(avg: int) -> str\n",
      "Реализуйте маппинг: A (90+), B (80–89), C (70–79), иначе — \"Failed\".\n",
      "\n",
      "\n",
      "[5] max_value_and_index(arr: list[int]) -> (int,int)\n",
      " Верните максимум значение и индекс этого значение в массива.\n",
      "\n",
      "\n",
      "[5] Дан список arr = [2, 3, 4, 5, 3, 6, 3]. Удалите все тройки из arr (в результате трёх не должно остаться). \n",
      "\n",
      "\n",
      "[3] Дан arr = [4, 2, 1, 6, 8, 9, 10]. Что выведет срез для: arr[-3:] (Напишите результат.)\n",
      "\n",
      "\n",
      "[3] Определите результат: \n",
      "[2, 0, 1, 4] < [3, 0] — True или False? Обоснуйте в 1–2 фразах.\n",
      "\n",
      "\n",
      "[3] Что выведет следующий код?\n",
      "a = [2, 4, 6]\n",
      "b = a\n",
      "a = a + [8]\n",
      "print(a)\n",
      "print(b)\n",
      "\n",
      "\n",
      "[3] Оцените выражение (укажите True/False)\n",
      " (False or True) and (True and False) and (True or False and False)\n",
      "\n",
      "\n",
      "[3] Что выведет следующий код?\n",
      "a = [1, 2, 3, 5]\n",
      "a.insert(1, 10)\n",
      "print(a)\n",
      "[5] Подсчёт слов в файле\n",
      "Напишите функцию file_word_count(path: str, word: str) -> inт, которая возвращает число сколько раз word в файле повторяется. \n",
      "\n",
      "\n",
      "[15] longest_word_in_file(filename: str, target_word: str) -> int\n",
      " Напишите функцию, которая по текстовому файлу находит самое длинное слово \n",
      "__________________________________________________________________________________________________________\n",
      "Пример CSV:\n",
      "\tName,grade,age\n",
      "\tAlice,85,20\n",
      "\tBob,92,22\n",
      "\tCharlie,78,21\n",
      "[15] max_row(filename: str, column_name: str) -> dict | None\n",
      "Прочитать CSV и найти всю строку, где значение в столбце column_name максимально. \n",
      "Пример: max_row(‘grades.csv’, ‘age’) должен вернуть ‘Bob,92,22’ так как 22 самый большой.  \n",
      "\n",
      "\n",
      "[15] calculate_column_average(filename: str, column_name: str) -> float\n",
      "Прочитать CSV, посчитать среднее значение по столбцу column_name. \n",
      "Пример: calculate_column_average(‘grades.csv’, ‘grade’)  должен вернуть 85 = (85+92+78)/3\n",
      "\n",
      "\n",
      "[15] unique_count(filename: str, column_name: str) -> int\n",
      "которая читает CSV-файл и возвращает количество уникальных значений в столбце column_name.\n"
     ]
    },
    {
     "data": {
      "text/plain": [
       "True"
      ]
     },
     "execution_count": 42,
     "metadata": {},
     "output_type": "execute_result"
    }
   ],
   "source": [
    "break_code(2025, True)"
   ]
  },
  {
   "cell_type": "code",
   "execution_count": null,
   "metadata": {},
   "outputs": [],
   "source": [
    "'''\n",
    "Выручка в диапазоне дат\n",
    " revenue_between(filename: str, start_date: str, end_date: str) -> float\n",
    " Даты в формате YYYY-MM-DD. Сумма cost для start_date ≤ date ≤ end_date. Если нет — 0.0.\n",
    "'''\n",
    "\n",
    "def revenue_between(filename, start_date, end_date):\n",
    "    with open(filename) as fid:\n",
    "        data = list(csv.DictReader(fid))\n",
    "        total = 0.0\n",
    "        for i in data:\n",
    "            if start_date <= i['date'] <= end_date:\n",
    "                total += float(i['cost'])\n",
    "    return total\n",
    "\n",
    "'''\n",
    "Кто покупал указанный товар\n",
    " buyers_of_item(filename: str, item: str) -> list[str]\n",
    "Вернуть уникальные имена клиентов кто купил этот товар, отсортированные по возрастанию. Если нет — [].\n",
    "'''\n",
    "def buyers_of_item(filename, item):\n",
    "    with open(filename) as fid:\n",
    "        data = list(csv.DictReader(fid))\n",
    "        clients = set()\n",
    "        for d in data:\n",
    "            if d['item'] == item:\n",
    "                clients.add(d['client'])\n",
    "    return sorted(clients)\n",
    "\n",
    "'''Средний чек по файлу\n",
    " avg_transaction_value(filename: str) -> float| None\n",
    " Среднее cost по всем строкам. Если нет данных — None. Готовые функции нельзя использовать.\n",
    " '''\n",
    "\n",
    "def avg_transaction_value(filename):\n",
    "    with open(filename) as fid:\n",
    "        data = list(csv.DictReader(fid))\n",
    "        return sum([float(d['cost']) for d in data])/len(data) \n",
    "    \n",
    "'''\n",
    "Первая и последняя покупка клиента\n",
    " client_purchase_span(filename: str, client: str) -> tuple[str, str] | None\n",
    " Сопоставление клиента вернуть (first_date, last_date). Если нет покупок — None.\n",
    " '''\n",
    "def client_purchase_span(filename, client):\n",
    "    with open(filename) as fid:\n",
    "        data = list(csv.DictReader(fid))\n",
    "        dates = sorted([d['date'] for d in data if d['client'] == client])\n",
    "        return dates[0], dates[-1]\n",
    "\n",
    "'''\n",
    "Топ-клиент месяца\n",
    " top_client_in_month(filename: str, year: int, month: int) -> tuple[str, float] | None\n",
    " Вернуть (client, total_spend) с максимальной тратой за месяц. Если нет — None.\n",
    "'''\n",
    "def top_client_in_month(filename, year, month):\n",
    "    with open(filename) as fid:\n",
    "        data = list(csv.DictReader(fid))\n",
    "        d = defaultdict(float)\n",
    "        \n",
    "        start_date = f'{year:04d}-{month:02d}-00'\n",
    "        end_date = f'{year:04d}-{month:02d}-32'\n",
    "\n",
    "        for i in data:\n",
    "            if start_date < i['date'] < end_date:\n",
    "                d[i['client']] += float(i['cost'])\n",
    "      \n",
    "        return max(d.items(),key=lambda x:x[1])"
   ]
  },
  {
   "cell_type": "code",
   "execution_count": 53,
   "metadata": {},
   "outputs": [
    {
     "data": {
      "text/plain": [
       "('e', 20)"
      ]
     },
     "execution_count": 53,
     "metadata": {},
     "output_type": "execute_result"
    }
   ],
   "source": [
    "x = [('a', 10), ('b', 20), ('e', 20), ('x', 5), ('x', 10)]\n",
    "\n",
    "def vtoroy_glavniy(x):\n",
    "    return (x[1], x[0])\n",
    "\n",
    "vtoroy = lambda ait: (ait[1], ait[0])\n",
    "\n",
    "max(x, key=vtoroy)"
   ]
  },
  {
   "cell_type": "code",
   "execution_count": 63,
   "metadata": {},
   "outputs": [
    {
     "data": {
      "text/plain": [
       "'58757664836'"
      ]
     },
     "execution_count": 63,
     "metadata": {},
     "output_type": "execute_result"
    }
   ],
   "source": [
    "x = 58757664836\n",
    "\n",
    "f'{x:08d}'"
   ]
  },
  {
   "cell_type": "code",
   "execution_count": 69,
   "metadata": {},
   "outputs": [
    {
     "data": {
      "text/plain": [
       "True"
      ]
     },
     "execution_count": 69,
     "metadata": {},
     "output_type": "execute_result"
    }
   ],
   "source": [
    "'2025-02-23' < '2025-02-28'"
   ]
  },
  {
   "cell_type": "code",
   "execution_count": 1,
   "metadata": {},
   "outputs": [
    {
     "name": "stdout",
     "output_type": "stream",
     "text": [
      "You entered  10 1.0\n",
      "Ostavim kak i est\n",
      "Vvedeno ne chislo\n",
      "Vvedeno ne chislo\n"
     ]
    },
    {
     "ename": "KeyboardInterrupt",
     "evalue": "Interrupted by user",
     "output_type": "error",
     "traceback": [
      "\u001b[1;31m---------------------------------------------------------------------------\u001b[0m",
      "\u001b[1;31mKeyboardInterrupt\u001b[0m                         Traceback (most recent call last)",
      "Cell \u001b[1;32mIn[1], line 3\u001b[0m\n\u001b[0;32m      1\u001b[0m \u001b[38;5;28;01mwhile\u001b[39;00m \u001b[38;5;28;01mTrue\u001b[39;00m:\n\u001b[0;32m      2\u001b[0m     \u001b[38;5;28;01mtry\u001b[39;00m:\n\u001b[1;32m----> 3\u001b[0m         x \u001b[38;5;241m=\u001b[39m \u001b[38;5;28;43minput\u001b[39;49m\u001b[43m(\u001b[49m\u001b[38;5;124;43m'\u001b[39;49m\u001b[38;5;124;43menter number:\u001b[39;49m\u001b[38;5;124;43m'\u001b[39;49m\u001b[43m)\u001b[49m\n\u001b[0;32m      4\u001b[0m         y \u001b[38;5;241m=\u001b[39m \u001b[38;5;28mint\u001b[39m(x)\n\u001b[0;32m      6\u001b[0m         \u001b[38;5;28mprint\u001b[39m(\u001b[38;5;124m'\u001b[39m\u001b[38;5;124mYou entered \u001b[39m\u001b[38;5;124m'\u001b[39m, x, \u001b[38;5;241m10\u001b[39m\u001b[38;5;241m/\u001b[39my)\n",
      "File \u001b[1;32m~\\AppData\\Local\\Packages\\PythonSoftwareFoundation.Python.3.11_qbz5n2kfra8p0\\LocalCache\\local-packages\\Python311\\site-packages\\ipykernel\\kernelbase.py:1282\u001b[0m, in \u001b[0;36mKernel.raw_input\u001b[1;34m(self, prompt)\u001b[0m\n\u001b[0;32m   1280\u001b[0m     msg \u001b[38;5;241m=\u001b[39m \u001b[38;5;124m\"\u001b[39m\u001b[38;5;124mraw_input was called, but this frontend does not support input requests.\u001b[39m\u001b[38;5;124m\"\u001b[39m\n\u001b[0;32m   1281\u001b[0m     \u001b[38;5;28;01mraise\u001b[39;00m StdinNotImplementedError(msg)\n\u001b[1;32m-> 1282\u001b[0m \u001b[38;5;28;01mreturn\u001b[39;00m \u001b[38;5;28;43mself\u001b[39;49m\u001b[38;5;241;43m.\u001b[39;49m\u001b[43m_input_request\u001b[49m\u001b[43m(\u001b[49m\n\u001b[0;32m   1283\u001b[0m \u001b[43m    \u001b[49m\u001b[38;5;28;43mstr\u001b[39;49m\u001b[43m(\u001b[49m\u001b[43mprompt\u001b[49m\u001b[43m)\u001b[49m\u001b[43m,\u001b[49m\n\u001b[0;32m   1284\u001b[0m \u001b[43m    \u001b[49m\u001b[38;5;28;43mself\u001b[39;49m\u001b[38;5;241;43m.\u001b[39;49m\u001b[43m_parent_ident\u001b[49m\u001b[43m[\u001b[49m\u001b[38;5;124;43m\"\u001b[39;49m\u001b[38;5;124;43mshell\u001b[39;49m\u001b[38;5;124;43m\"\u001b[39;49m\u001b[43m]\u001b[49m\u001b[43m,\u001b[49m\n\u001b[0;32m   1285\u001b[0m \u001b[43m    \u001b[49m\u001b[38;5;28;43mself\u001b[39;49m\u001b[38;5;241;43m.\u001b[39;49m\u001b[43mget_parent\u001b[49m\u001b[43m(\u001b[49m\u001b[38;5;124;43m\"\u001b[39;49m\u001b[38;5;124;43mshell\u001b[39;49m\u001b[38;5;124;43m\"\u001b[39;49m\u001b[43m)\u001b[49m\u001b[43m,\u001b[49m\n\u001b[0;32m   1286\u001b[0m \u001b[43m    \u001b[49m\u001b[43mpassword\u001b[49m\u001b[38;5;241;43m=\u001b[39;49m\u001b[38;5;28;43;01mFalse\u001b[39;49;00m\u001b[43m,\u001b[49m\n\u001b[0;32m   1287\u001b[0m \u001b[43m\u001b[49m\u001b[43m)\u001b[49m\n",
      "File \u001b[1;32m~\\AppData\\Local\\Packages\\PythonSoftwareFoundation.Python.3.11_qbz5n2kfra8p0\\LocalCache\\local-packages\\Python311\\site-packages\\ipykernel\\kernelbase.py:1325\u001b[0m, in \u001b[0;36mKernel._input_request\u001b[1;34m(self, prompt, ident, parent, password)\u001b[0m\n\u001b[0;32m   1322\u001b[0m \u001b[38;5;28;01mexcept\u001b[39;00m \u001b[38;5;167;01mKeyboardInterrupt\u001b[39;00m:\n\u001b[0;32m   1323\u001b[0m     \u001b[38;5;66;03m# re-raise KeyboardInterrupt, to truncate traceback\u001b[39;00m\n\u001b[0;32m   1324\u001b[0m     msg \u001b[38;5;241m=\u001b[39m \u001b[38;5;124m\"\u001b[39m\u001b[38;5;124mInterrupted by user\u001b[39m\u001b[38;5;124m\"\u001b[39m\n\u001b[1;32m-> 1325\u001b[0m     \u001b[38;5;28;01mraise\u001b[39;00m \u001b[38;5;167;01mKeyboardInterrupt\u001b[39;00m(msg) \u001b[38;5;28;01mfrom\u001b[39;00m \u001b[38;5;28;01mNone\u001b[39;00m\n\u001b[0;32m   1326\u001b[0m \u001b[38;5;28;01mexcept\u001b[39;00m \u001b[38;5;167;01mException\u001b[39;00m:\n\u001b[0;32m   1327\u001b[0m     \u001b[38;5;28mself\u001b[39m\u001b[38;5;241m.\u001b[39mlog\u001b[38;5;241m.\u001b[39mwarning(\u001b[38;5;124m\"\u001b[39m\u001b[38;5;124mInvalid Message:\u001b[39m\u001b[38;5;124m\"\u001b[39m, exc_info\u001b[38;5;241m=\u001b[39m\u001b[38;5;28;01mTrue\u001b[39;00m)\n",
      "\u001b[1;31mKeyboardInterrupt\u001b[0m: Interrupted by user"
     ]
    }
   ],
   "source": [
    "while True:\n",
    "    try:\n",
    "        x = input('enter number:')\n",
    "        y = int(x)\n",
    "\n",
    "        print('You entered ', x, 10/y)\n",
    "    except ZeroDivisionError:\n",
    "        print('Ostavim kak i est')\n",
    "    except ValueError:\n",
    "        print('Vvedeno ne chislo')"
   ]
  },
  {
   "cell_type": "code",
   "execution_count": 2,
   "metadata": {},
   "outputs": [
    {
     "ename": "ValueError",
     "evalue": "invalid literal for int() with base 10: 'emil'",
     "output_type": "error",
     "traceback": [
      "\u001b[1;31m---------------------------------------------------------------------------\u001b[0m",
      "\u001b[1;31mValueError\u001b[0m                                Traceback (most recent call last)",
      "Cell \u001b[1;32mIn[2], line 1\u001b[0m\n\u001b[1;32m----> 1\u001b[0m \u001b[38;5;28;43mint\u001b[39;49m\u001b[43m(\u001b[49m\u001b[38;5;124;43m'\u001b[39;49m\u001b[38;5;124;43memil\u001b[39;49m\u001b[38;5;124;43m'\u001b[39;49m\u001b[43m)\u001b[49m\n",
      "\u001b[1;31mValueError\u001b[0m: invalid literal for int() with base 10: 'emil'"
     ]
    }
   ],
   "source": [
    "int('emil')\n"
   ]
  },
  {
   "cell_type": "code",
   "execution_count": 8,
   "metadata": {},
   "outputs": [
    {
     "name": "stdout",
     "output_type": "stream",
     "text": [
      "bro ne srabotalo, poptrobuy chenibut\n"
     ]
    }
   ],
   "source": [
    "import csv\n",
    "try:\n",
    "    fid = open('inpu.csv', encoding='utf-8')\n",
    "    data = list(csv.DictReader(fid))\n",
    "    fid.close()\n",
    "    s = sum(float(d['cost']) for d in data)\n",
    "    print(s/len(data))\n",
    "except:\n",
    "    print('bro ne srabotalo, poptrobuy chenibut')\n"
   ]
  },
  {
   "cell_type": "code",
   "execution_count": 11,
   "metadata": {},
   "outputs": [
    {
     "ename": "ZeroDivisionError",
     "evalue": "division by zero",
     "output_type": "error",
     "traceback": [
      "\u001b[1;31m---------------------------------------------------------------------------\u001b[0m",
      "\u001b[1;31mZeroDivisionError\u001b[0m                         Traceback (most recent call last)",
      "Cell \u001b[1;32mIn[11], line 23\u001b[0m\n\u001b[0;32m     21\u001b[0m     f3()\n\u001b[0;32m     22\u001b[0m \u001b[38;5;28;01melif\u001b[39;00m x \u001b[38;5;241m==\u001b[39m \u001b[38;5;124m'\u001b[39m\u001b[38;5;124mfx\u001b[39m\u001b[38;5;124m'\u001b[39m:\n\u001b[1;32m---> 23\u001b[0m     \u001b[43mfx\u001b[49m\u001b[43m(\u001b[49m\u001b[43m)\u001b[49m\n\u001b[0;32m     24\u001b[0m \u001b[38;5;28;01melse\u001b[39;00m:\n\u001b[0;32m     25\u001b[0m     \u001b[38;5;28mprint\u001b[39m(\u001b[38;5;124m'\u001b[39m\u001b[38;5;124mnot found\u001b[39m\u001b[38;5;124m'\u001b[39m)\n",
      "Cell \u001b[1;32mIn[11], line 11\u001b[0m, in \u001b[0;36mfx\u001b[1;34m()\u001b[0m\n\u001b[0;32m     10\u001b[0m \u001b[38;5;28;01mdef\u001b[39;00m \u001b[38;5;21mfx\u001b[39m():\n\u001b[1;32m---> 11\u001b[0m     \u001b[38;5;28;01mreturn\u001b[39;00m \u001b[38;5;241;43m1000\u001b[39;49m\u001b[38;5;241;43m/\u001b[39;49m\u001b[38;5;241;43m0\u001b[39;49m\n",
      "\u001b[1;31mZeroDivisionError\u001b[0m: division by zero"
     ]
    }
   ],
   "source": [
    "def f1():\n",
    "    return 1\n",
    "\n",
    "def f2():\n",
    "    return 10\n",
    "\n",
    "def f3():\n",
    "    return 100\n",
    "\n",
    "def fx():\n",
    "    return 1000/0\n",
    "\n",
    "\n",
    "while True:\n",
    "    x = input('function: ')\n",
    "    if x == 'f1':\n",
    "        f1()\n",
    "    elif x == 'f2':\n",
    "        f2()\n",
    "    elif x == 'f3':\n",
    "        f3()\n",
    "    elif x == 'fx':\n",
    "        fx()\n",
    "    else:\n",
    "        print('not found')\n"
   ]
  },
  {
   "cell_type": "code",
   "execution_count": null,
   "metadata": {},
   "outputs": [
    {
     "name": "stdout",
     "output_type": "stream",
     "text": [
      "bro v file ne chisla\n"
     ]
    }
   ],
   "source": [
    "import csv\n",
    "try:\n",
    "    fid = open('input.csv', encoding='utf-8')\n",
    "    data = list(csv.DictReader(fid))\n",
    "    s = sum(float(d['cost']) for d in data)\n",
    "    print(s/len(data))\n",
    "except FileNotFoundError:\n",
    "    print('bro file netu, posmotri nazvanie')\n",
    "except ZeroDivisionError:\n",
    "    print('bro netu dannyh v file')\n",
    "except ValueError:\n",
    "    print('bro v file ne chisla')\n",
    "except Exception as e:\n",
    "    print('bro ne srabotalo, poptrobuy chenibut')\n",
    "    print(e)\n",
    "else:\n",
    "    print('successfull')\n",
    "finally:\n",
    "    print('vsegda vipolnyaetsya')\n"
   ]
  },
  {
   "cell_type": "code",
   "execution_count": null,
   "metadata": {},
   "outputs": [],
   "source": [
    "print('User info')"
   ]
  },
  {
   "cell_type": "code",
   "execution_count": 1,
   "metadata": {},
   "outputs": [],
   "source": [
    "x = \"\"\"100\n",
    "\n",
    "90\n",
    "0\n",
    "50\n",
    "0\n",
    "0\n",
    "80\n",
    "60\n",
    "95\n",
    "30\n",
    "80\n",
    "55\n",
    "50\n",
    "90\n",
    "60\n",
    "100\n",
    "60\n",
    "70\n",
    "10\n",
    "40\n",
    "100\n",
    "20\n",
    "\n",
    "40\n",
    "95\n",
    "80\n",
    "10\n",
    "40\n",
    "100\n",
    "0\n",
    "10\n",
    "100\n",
    "80\n",
    "50\n",
    "30\n",
    "40\n",
    "0\n",
    "80\n",
    "100\n",
    "95\n",
    "60\n",
    "40\n",
    "\n",
    "\n",
    "90\n",
    "90\n",
    "\n",
    "90\n",
    "40\n",
    "100\n",
    "0\n",
    "100\n",
    "\n",
    "\n",
    "100\n",
    "70\n",
    "\n",
    "40\n",
    "60\n",
    "100\n",
    "10\n",
    "80\n",
    "100\n",
    "\n",
    "85\n",
    "30\n",
    "95\n",
    "60\n",
    "25\"\"\".split()"
   ]
  },
  {
   "cell_type": "code",
   "execution_count": 5,
   "metadata": {},
   "outputs": [
    {
     "data": {
      "text/plain": [
       "21"
      ]
     },
     "execution_count": 5,
     "metadata": {},
     "output_type": "execute_result"
    }
   ],
   "source": [
    "len([i for i in [int(i) for i in x] if i > 80])"
   ]
  },
  {
   "cell_type": "code",
   "execution_count": 9,
   "metadata": {},
   "outputs": [],
   "source": [
    "d = {\n",
    "    \"0001\": {\"item\": \"sneakers\", \"price\": 80},\n",
    "    \"0002\": {\"item\": \"cola\", \"price\": 120},\n",
    "    \"0003\": {\"item\": \"bread borodinskiy\", \"price\": 60}\n",
    "}"
   ]
  },
  {
   "cell_type": "code",
   "execution_count": 12,
   "metadata": {},
   "outputs": [],
   "source": [
    "def lookup(shtrihcode):\n",
    "    item = d.get(shtrihcode, None)\n",
    "    try:\n",
    "        name = item[\"item\"]\n",
    "        price = item[\"price\"]\n",
    "        return f'{shtrihcode} : {name} -> {price}'\n",
    "    except:\n",
    "        return f'item with {shtrihcode} not found'"
   ]
  },
  {
   "cell_type": "code",
   "execution_count": 13,
   "metadata": {},
   "outputs": [
    {
     "data": {
      "text/plain": [
       "'0001 : sneakers -> 80'"
      ]
     },
     "execution_count": 13,
     "metadata": {},
     "output_type": "execute_result"
    }
   ],
   "source": [
    "lookup(\"0001\")"
   ]
  },
  {
   "cell_type": "code",
   "execution_count": 35,
   "metadata": {},
   "outputs": [],
   "source": [
    "d = {}\n",
    "kto = \"altinay\"\n",
    "message = \"salam kanday\"\n",
    "d[kto] = d.get(kto, []) + [message]"
   ]
  },
  {
   "cell_type": "code",
   "execution_count": 36,
   "metadata": {},
   "outputs": [
    {
     "name": "stdout",
     "output_type": "stream",
     "text": [
      "['salam kanday']\n",
      "['salam kanday', '******']\n"
     ]
    }
   ],
   "source": [
    "print(d[kto])\n",
    "message = \"******\"\n",
    "print(d.get(kto, []) + [message])\n",
    "\n"
   ]
  },
  {
   "cell_type": "code",
   "execution_count": 37,
   "metadata": {},
   "outputs": [],
   "source": [
    "kto = \"altinay\"\n",
    "message = \"salam kanday *******\"\n",
    "d[kto] = d.get(kto, []) + [message]\n"
   ]
  },
  {
   "cell_type": "code",
   "execution_count": 38,
   "metadata": {},
   "outputs": [
    {
     "data": {
      "text/plain": [
       "{'altinay': ['salam kanday', 'salam kanday *******']}"
      ]
     },
     "execution_count": 38,
     "metadata": {},
     "output_type": "execute_result"
    }
   ],
   "source": [
    "d"
   ]
  },
  {
   "cell_type": "code",
   "execution_count": 39,
   "metadata": {},
   "outputs": [],
   "source": [
    "if kto not in d:\n",
    "    d[kto] = []\n",
    "\n",
    "d[kto].append(message)"
   ]
  },
  {
   "cell_type": "code",
   "execution_count": null,
   "metadata": {},
   "outputs": [],
   "source": [
    "begaimd = {\n",
    "    \"altinay\": [\"iskender: salam kanday\", \"zaarylkan: ekzaman nachilsa\", \"\"], \n",
    "    \"iskender\": [],\n",
    "    \"zaarylkan\": [],\n",
    "    \"\": [\"bolgula tez\"]\n",
    "}"
   ]
  },
  {
   "cell_type": "code",
   "execution_count": null,
   "metadata": {},
   "outputs": [],
   "source": [
    "from collections import defaultdict\n",
    "from time import time\n",
    "\n",
    "d = defaultdict(int)\n",
    "cars_enter = defaultdict(list)\n",
    "cars_paid = defaultdict(list)\n",
    "\n",
    "rate = 3\n",
    "history = []\n",
    "\n",
    "def zaezd(id):\n",
    "    d[id] = time()\n",
    "    history.append(f'{time()} zaezd {id}')\n",
    "    cars_enter[id].append(time())\n",
    "\n",
    "def skolko(id):\n",
    "    now = time()\n",
    "    total = int( (now - d[id]) ) * rate\n",
    "    history.append(f'{time()} zapros skolko na {id}')\n",
    "\n",
    "    return total\n",
    "\n",
    "def platej(id, summa):\n",
    "    d[id] += summa/rate\n",
    "    history.append(f'{time()} platej za {id} na {summa} summu')\n",
    "    cars_paid[id].append(time())\n",
    "\n",
    "\n",
    "def is_paid(id):\n",
    "    if d[id] > time() -  15:\n",
    "        del d[id]\n",
    "        history.append(f'{time()} viezd {id}')\n",
    "        return True\n",
    "    else:\n",
    "        history.append(f'{time()} viezd {id} unsuccessful')\n",
    "        return False"
   ]
  },
  {
   "cell_type": "code",
   "execution_count": 83,
   "metadata": {},
   "outputs": [],
   "source": [
    "zaezd(\"01kg001aaa\")"
   ]
  },
  {
   "cell_type": "code",
   "execution_count": 84,
   "metadata": {},
   "outputs": [],
   "source": [
    "zaezd(\"02kg003bbb\")"
   ]
  },
  {
   "cell_type": "code",
   "execution_count": 85,
   "metadata": {},
   "outputs": [],
   "source": [
    "zaezd(\"03kg004ccc\")"
   ]
  },
  {
   "cell_type": "code",
   "execution_count": 86,
   "metadata": {},
   "outputs": [
    {
     "data": {
      "text/plain": [
       "defaultdict(int,\n",
       "            {'01kg001aaa': 1760525206.3795238,\n",
       "             '02kg003bbb': 1760525212.2897975,\n",
       "             '03kg004ccc': 1760525219.1830418})"
      ]
     },
     "execution_count": 86,
     "metadata": {},
     "output_type": "execute_result"
    }
   ],
   "source": [
    "d"
   ]
  },
  {
   "cell_type": "code",
   "execution_count": 87,
   "metadata": {},
   "outputs": [
    {
     "data": {
      "text/plain": [
       "36"
      ]
     },
     "execution_count": 87,
     "metadata": {},
     "output_type": "execute_result"
    }
   ],
   "source": [
    "skolko('02kg003bbb')"
   ]
  },
  {
   "cell_type": "code",
   "execution_count": 88,
   "metadata": {},
   "outputs": [],
   "source": [
    "platej('02kg003bbb', 36)"
   ]
  },
  {
   "cell_type": "code",
   "execution_count": 89,
   "metadata": {},
   "outputs": [
    {
     "data": {
      "text/plain": [
       "True"
      ]
     },
     "execution_count": 89,
     "metadata": {},
     "output_type": "execute_result"
    }
   ],
   "source": [
    "is_paid('02kg003bbb')"
   ]
  },
  {
   "cell_type": "code",
   "execution_count": 90,
   "metadata": {},
   "outputs": [
    {
     "data": {
      "text/plain": [
       "defaultdict(int,\n",
       "            {'01kg001aaa': 1760525206.3795238,\n",
       "             '03kg004ccc': 1760525219.1830418})"
      ]
     },
     "execution_count": 90,
     "metadata": {},
     "output_type": "execute_result"
    }
   ],
   "source": [
    "d"
   ]
  },
  {
   "cell_type": "code",
   "execution_count": 92,
   "metadata": {},
   "outputs": [
    {
     "data": {
      "text/plain": [
       "159"
      ]
     },
     "execution_count": 92,
     "metadata": {},
     "output_type": "execute_result"
    }
   ],
   "source": [
    "skolko('01kg001aaa')"
   ]
  },
  {
   "cell_type": "code",
   "execution_count": 93,
   "metadata": {},
   "outputs": [
    {
     "data": {
      "text/plain": [
       "['1760525206.3795238 zaezd 01kg001aaa',\n",
       " '1760525212.2897975 zaezd 02kg003bbb',\n",
       " '1760525219.1830418 zaezd 03kg004ccc',\n",
       " '1760525224.7673438 zapros skolko na 02kg003bbb',\n",
       " '1760525232.367274 platej za 02kg003bbb na 36 summu',\n",
       " '1760525237.068862 viezd 02kg003bbb',\n",
       " '1760525259.545822 zapros skolko na 01kg001aaa']"
      ]
     },
     "execution_count": 93,
     "metadata": {},
     "output_type": "execute_result"
    }
   ],
   "source": [
    "history"
   ]
  },
  {
   "cell_type": "code",
   "execution_count": 102,
   "metadata": {},
   "outputs": [],
   "source": [
    "def sozday():\n",
    "    return defaultdict(list)\n",
    "\n",
    "d = defaultdict(sozday)"
   ]
  },
  {
   "cell_type": "code",
   "execution_count": null,
   "metadata": {},
   "outputs": [],
   "source": [
    "d = defaultdict(lambda : defaultdict(list))"
   ]
  },
  {
   "cell_type": "code",
   "execution_count": 103,
   "metadata": {},
   "outputs": [
    {
     "data": {
      "text/plain": [
       "defaultdict(<function __main__.sozday()>,\n",
       "            {'emil': defaultdict(list, {'quiz': [100]})})"
      ]
     },
     "execution_count": 103,
     "metadata": {},
     "output_type": "execute_result"
    }
   ],
   "source": [
    "d['emil']['quiz'].append(100)\n",
    "d"
   ]
  },
  {
   "cell_type": "code",
   "execution_count": 104,
   "metadata": {},
   "outputs": [],
   "source": [
    "d = {\n",
    "    \"emil\": {\n",
    "        \"PL\": [('quiz1', 100), ('midterm', 20), ('final', 30)],\n",
    "        'CS': [('quiz1', 100), ('midterm', 20), ('final', 30)]\n",
    "    },\n",
    "    \"iskender\": {\n",
    "        \"PL\": [('quiz1', 100), ('midterm', 60), ('final', 30)],\n",
    "        'CS': [('quiz1', 80), ('midterm', 40), ('final', 30)]\n",
    "    }\n",
    "}"
   ]
  },
  {
   "cell_type": "code",
   "execution_count": 105,
   "metadata": {},
   "outputs": [],
   "source": [
    "grades = d['emil']\n",
    "result = []\n",
    "for course_name, list_of_grades in grades.items():\n",
    "    s = sum([i[1] for i in list_of_grades])\n",
    "    result.append( (course_name, s/len(list_of_grades)) )"
   ]
  },
  {
   "cell_type": "code",
   "execution_count": 106,
   "metadata": {},
   "outputs": [
    {
     "data": {
      "text/plain": [
       "[('PL', 50.0), ('CS', 50.0)]"
      ]
     },
     "execution_count": 106,
     "metadata": {},
     "output_type": "execute_result"
    }
   ],
   "source": [
    "result"
   ]
  },
  {
   "cell_type": "code",
   "execution_count": null,
   "metadata": {},
   "outputs": [
    {
     "name": "stdout",
     "output_type": "stream",
     "text": [
      "['Abdraliev Belek', '100', '100', '0', '100', '100', '30', '100', '100', '100']\n"
     ]
    }
   ],
   "source": [
    "import csv\n",
    "with open('ait25PL.csv') as fid:\n",
    "    reader = list(csv.reader(fid))\n"
   ]
  },
  {
   "cell_type": "code",
   "execution_count": 110,
   "metadata": {},
   "outputs": [
    {
     "name": "stdout",
     "output_type": "stream",
     "text": [
      "Abdraliev Belek\n",
      "Abdullaev Iigilik\n",
      "Aitmatov Baiel\n",
      "Asanbek uulu Chyngyz\n",
      "Asanov Iskender\n",
      "Ashiraliev Aman\n",
      "Askarov Arsen\n",
      "Bachtiyarov Eldiar\n",
      "Baitemirov Iskender\n",
      "Baitikov Adel\n",
      "Baktygulova Elina\n",
      "Bakytbekov Roman\n",
      "Bekbosunova Aisha\n",
      "Bekenova Aiana\n",
      "Bektemirov Ibrahimbek\n",
      "Berdibaeva Nurai\n",
      "Bolotbek uulu Erzhan\n",
      "Cherikova Aiana\n",
      "Dildebekova Nazima\n",
      "Dushobaev Vildan\n",
      "Duyshenov Kutman\n",
      "Dzhutankeeva Meerim\n",
      "Elchiev Jasir\n",
      "Eraliev Shergazy\n",
      "Erkibaev Nurbek\n",
      "Guljigitov Dayirbek\n",
      "Ismailova Altynai\n",
      "Kadyrakunova Adelya\n",
      "Kanatbekov Azho\n",
      "Karimova Aibiyke\n",
      "Kenzhetaev Diaz\n",
      "Kerimov Akbar\n",
      "Khusanbaeva Diliafruz\n",
      "Kim Jihyong\n",
      "Krasnov Ilhan\n",
      "Kubanychbekov Emir\n",
      "Kurmanova Begaiym\n",
      "Kuseinov Eldar\n",
      "Kuttugalieva Zarylkan\n",
      "Kydykbekova Aiperi\n",
      "Kydyraliev Janbolot\n",
      "Mamataliev Nurbolot\n",
      "Mamatzhanova Elenora\n",
      "Mamatzunduev Bekbol\n",
      "Muhazhidinov Marlen\n",
      "Nadirbekov Abdusamat\n",
      "Nazarbaev Nursultan\n",
      "Nuralieva Asel\n",
      "Omurbekova Mirana\n",
      "Ormushov Temirlan\n",
      "Orunbaev Baizhan\n",
      "Osmonalieva Asylkan\n",
      "Rakhmatyloo uulu Kasymbek\n",
      "Shukuraliev Nurdan\n",
      "Soltobekov Amin\n",
      "Sydgali uulu Zhanybek\n",
      "Taalaibekov Bayastan\n",
      "Tagaeva Adina\n",
      "Tagaeva Rahat\n",
      "Tashbai uulu Daniel\n",
      "Torokulov Aiman\n",
      "Volgin Daniel\n",
      "Zamirov Akylbek\n",
      "Zhanybekova Begimai\n",
      "Zhavdedova Nazik\n",
      "Zholdubaev Emil\n",
      "Zhoodonbek kyzy Zhaina\n",
      "Zhumaev Abdunur\n",
      "Zhyrgalbek uulu Erbol\n",
      "Ziyalieva Saadat\n"
     ]
    }
   ],
   "source": [
    "with open('ait25PL.csv') as fid:\n",
    "    reader = csv.reader(fid)\n",
    "    for i in reader:\n",
    "        print(i[0])"
   ]
  },
  {
   "cell_type": "code",
   "execution_count": null,
   "metadata": {},
   "outputs": [],
   "source": []
  }
 ],
 "metadata": {
  "kernelspec": {
   "display_name": "Python 3",
   "language": "python",
   "name": "python3"
  },
  "language_info": {
   "codemirror_mode": {
    "name": "ipython",
    "version": 3
   },
   "file_extension": ".py",
   "mimetype": "text/x-python",
   "name": "python",
   "nbconvert_exporter": "python",
   "pygments_lexer": "ipython3",
   "version": "3.11.9"
  }
 },
 "nbformat": 4,
 "nbformat_minor": 2
}
