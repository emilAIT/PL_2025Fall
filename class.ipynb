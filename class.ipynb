{
 "cells": [
  {
   "cell_type": "code",
   "execution_count": 1,
   "metadata": {},
   "outputs": [],
   "source": [
    "a = 10"
   ]
  },
  {
   "cell_type": "code",
   "execution_count": 3,
   "metadata": {},
   "outputs": [
    {
     "name": "stdout",
     "output_type": "stream",
     "text": [
      "a =  10\n"
     ]
    }
   ],
   "source": [
    "print('a = ', a)"
   ]
  },
  {
   "cell_type": "code",
   "execution_count": 4,
   "metadata": {},
   "outputs": [],
   "source": [
    "b = a"
   ]
  },
  {
   "cell_type": "code",
   "execution_count": 6,
   "metadata": {},
   "outputs": [
    {
     "name": "stdout",
     "output_type": "stream",
     "text": [
      "value of a is  10\n"
     ]
    }
   ],
   "source": [
    "a = 10\n",
    "b = a\n",
    "b = 20\n",
    "print('value of a is ', a)"
   ]
  },
  {
   "cell_type": "code",
   "execution_count": 7,
   "metadata": {},
   "outputs": [],
   "source": [
    "c = a + b"
   ]
  },
  {
   "cell_type": "code",
   "execution_count": 8,
   "metadata": {},
   "outputs": [
    {
     "name": "stdout",
     "output_type": "stream",
     "text": [
      "30\n"
     ]
    }
   ],
   "source": [
    "print(c)"
   ]
  },
  {
   "cell_type": "code",
   "execution_count": 9,
   "metadata": {},
   "outputs": [
    {
     "name": "stdout",
     "output_type": "stream",
     "text": [
      "30\n"
     ]
    }
   ],
   "source": [
    "c = 100\n",
    "print(a+b)"
   ]
  },
  {
   "cell_type": "code",
   "execution_count": 10,
   "metadata": {},
   "outputs": [
    {
     "data": {
      "text/plain": [
       "int"
      ]
     },
     "execution_count": 10,
     "metadata": {},
     "output_type": "execute_result"
    }
   ],
   "source": [
    "type(a)"
   ]
  },
  {
   "cell_type": "code",
   "execution_count": 11,
   "metadata": {},
   "outputs": [],
   "source": [
    "a = 'emil'"
   ]
  },
  {
   "cell_type": "code",
   "execution_count": 12,
   "metadata": {},
   "outputs": [
    {
     "name": "stdout",
     "output_type": "stream",
     "text": [
      "emil\n"
     ]
    }
   ],
   "source": [
    "print(a)"
   ]
  },
  {
   "cell_type": "code",
   "execution_count": 13,
   "metadata": {},
   "outputs": [
    {
     "data": {
      "text/plain": [
       "str"
      ]
     },
     "execution_count": 13,
     "metadata": {},
     "output_type": "execute_result"
    }
   ],
   "source": [
    "type(a)"
   ]
  },
  {
   "cell_type": "code",
   "execution_count": 14,
   "metadata": {},
   "outputs": [],
   "source": [
    "a = [10, 20]"
   ]
  },
  {
   "cell_type": "code",
   "execution_count": 15,
   "metadata": {},
   "outputs": [
    {
     "name": "stdout",
     "output_type": "stream",
     "text": [
      "[10, 20]\n"
     ]
    }
   ],
   "source": [
    "print(a)"
   ]
  },
  {
   "cell_type": "code",
   "execution_count": 19,
   "metadata": {},
   "outputs": [
    {
     "data": {
      "text/plain": [
       "30"
      ]
     },
     "execution_count": 19,
     "metadata": {},
     "output_type": "execute_result"
    }
   ],
   "source": [
    "a[1] + a[0]"
   ]
  },
  {
   "cell_type": "code",
   "execution_count": 20,
   "metadata": {},
   "outputs": [],
   "source": [
    "b = a"
   ]
  },
  {
   "cell_type": "code",
   "execution_count": 1,
   "metadata": {},
   "outputs": [
    {
     "ename": "TypeError",
     "evalue": "unsupported operand type(s) for +: 'int' and 'list'",
     "output_type": "error",
     "traceback": [
      "\u001b[1;31m---------------------------------------------------------------------------\u001b[0m",
      "\u001b[1;31mTypeError\u001b[0m                                 Traceback (most recent call last)",
      "Cell \u001b[1;32mIn[1], line 6\u001b[0m\n\u001b[0;32m      4\u001b[0m a \u001b[38;5;241m=\u001b[39m \u001b[38;5;241m50\u001b[39m\n\u001b[0;32m      5\u001b[0m c \u001b[38;5;241m=\u001b[39m b[\u001b[38;5;241m0\u001b[39m]\n\u001b[1;32m----> 6\u001b[0m \u001b[43mc\u001b[49m\u001b[43m \u001b[49m\u001b[38;5;241;43m+\u001b[39;49m\u001b[43m \u001b[49m\u001b[43mb\u001b[49m\n",
      "\u001b[1;31mTypeError\u001b[0m: unsupported operand type(s) for +: 'int' and 'list'"
     ]
    }
   ],
   "source": [
    "c = 100\n",
    "a = [10, 40, 70]\n",
    "b = a\n",
    "a = 50\n",
    "c = b[0]\n",
    "c + b"
   ]
  },
  {
   "cell_type": "code",
   "execution_count": null,
   "metadata": {},
   "outputs": [
    {
     "ename": "TypeError",
     "evalue": "'int' object is not iterable",
     "output_type": "error",
     "traceback": [
      "\u001b[1;31m---------------------------------------------------------------------------\u001b[0m",
      "\u001b[1;31mTypeError\u001b[0m                                 Traceback (most recent call last)",
      "Cell \u001b[1;32mIn[3], line 5\u001b[0m\n\u001b[0;32m      1\u001b[0m \u001b[38;5;28;01mdef\u001b[39;00m \u001b[38;5;21mmysum\u001b[39m(x, y):\n\u001b[0;32m      2\u001b[0m     \u001b[38;5;28;01mreturn\u001b[39;00m \u001b[38;5;28msum\u001b[39m([x] \u001b[38;5;241m+\u001b[39m y)\n\u001b[1;32m----> 5\u001b[0m \u001b[38;5;28;43msum\u001b[39;49m\u001b[43m(\u001b[49m\u001b[43mc\u001b[49m\u001b[43m,\u001b[49m\u001b[43m \u001b[49m\u001b[43mb\u001b[49m\u001b[43m)\u001b[49m\n",
      "\u001b[1;31mTypeError\u001b[0m: 'int' object is not iterable"
     ]
    }
   ],
   "source": [
    "def aitsum(x, y):\n",
    "    return sum([x] + y)\n",
    "\n",
    "\n",
    "aitsum(c, b)"
   ]
  },
  {
   "cell_type": "code",
   "execution_count": 5,
   "metadata": {},
   "outputs": [
    {
     "data": {
      "text/plain": [
       "[1, 2, 3, 5]"
      ]
     },
     "execution_count": 5,
     "metadata": {},
     "output_type": "execute_result"
    }
   ],
   "source": [
    "[1]+ [2, 3, 5]"
   ]
  },
  {
   "cell_type": "code",
   "execution_count": 6,
   "metadata": {},
   "outputs": [
    {
     "name": "stdout",
     "output_type": "stream",
     "text": [
      "9\n"
     ]
    }
   ],
   "source": [
    "a = [6, 7, 9, 8, 10]\n",
    "print(a[2])"
   ]
  },
  {
   "cell_type": "code",
   "execution_count": 7,
   "metadata": {},
   "outputs": [
    {
     "name": "stdout",
     "output_type": "stream",
     "text": [
      "[6, 7, 9, 100, 10]\n"
     ]
    }
   ],
   "source": [
    "a[3] = 100\n",
    "print(a)"
   ]
  },
  {
   "cell_type": "code",
   "execution_count": 10,
   "metadata": {},
   "outputs": [
    {
     "name": "stdout",
     "output_type": "stream",
     "text": [
      "[20] [1, 2, 3] [1, 2, 3]\n"
     ]
    }
   ],
   "source": [
    "a = [1, 2, 3]\n",
    "b = a\n",
    "c = b\n",
    "a = [20]\n",
    "print(a, b, c)"
   ]
  },
  {
   "cell_type": "code",
   "execution_count": 11,
   "metadata": {},
   "outputs": [
    {
     "data": {
      "text/plain": [
       "[20, 1, 2, 3, 1, 2, 3]"
      ]
     },
     "execution_count": 11,
     "metadata": {},
     "output_type": "execute_result"
    }
   ],
   "source": [
    "a + b + c"
   ]
  },
  {
   "cell_type": "code",
   "execution_count": 18,
   "metadata": {},
   "outputs": [
    {
     "data": {
      "text/plain": [
       "68"
      ]
     },
     "execution_count": 18,
     "metadata": {},
     "output_type": "execute_result"
    }
   ],
   "source": [
    "from random import shuffle\n",
    "\n",
    "s = '''Абдралиев Белек Маратович\n",
    "Абдуллаев Ийгилик Эльбурсович\n",
    "Айтматов Байэл Бактыбекович\n",
    "Асанбек уула Чынгыз\n",
    "Асанов Искендер Асанович\n",
    "Аскаров Арсен Анарбаевич\n",
    "Байтемиров Искендер Бекмуратович\n",
    "Баитиков Адел\n",
    "Бакытбеков Роман Талантович\n",
    "Бекбосунова Айша Болотовна\n",
    "Бекенова Аяна\n",
    "Бектемиров Ибрахимбек Максадбекович\n",
    "Бердибаева Нурай Нурбековна\n",
    "Болотбек уулу Эржан\n",
    "Волгин Даниэль Максимович\n",
    "Гулжигитов Дайырбек Мухаммедович\n",
    "Джутанкеева Мээрим Тамерлановна\n",
    "Душобаев Вилдан Гайратбекович\n",
    "Жавдедова Назик Рустамовна\n",
    "Жаныбекова Бегимай Жаныбековна\n",
    "Жолдубаев Эмил Аресович\n",
    "Жумаев Абдунур Нурбекович\n",
    "Жыргалбек уулу Эрбол\n",
    "Зиялиева Саадат Кадырбековна\n",
    "Исмаилова Алтынай Нурбековна\n",
    "Кадыракунова Аделя Эрнистовна\n",
    "Канатбеков Ажо Канатбекович\n",
    "Каримова Айбийке Азаматовна\n",
    "Керимов Акбар Айбекович\n",
    "Ким Жихён\n",
    "Краснов Ильхан Даниярович\n",
    "Кубанычбеков Эмир Арсланович\n",
    "Курманова Бегайым Курмановна\n",
    "Кусеинов Элдар Жээнбекович\n",
    "Куттугалиева Зарылкан Бекболотовна\n",
    "Кыдыкбекова Айпери Бахтияровна\n",
    "Кыдыралиев Жанболот Тойчуевич\n",
    "Маматалиев Нурболот \n",
    "Маматжанова Эленора Мирланбековна\n",
    "Маматзундуев Бекбол Назбекович\n",
    "Марсел\n",
    "Надирбеков Абдусамат\n",
    "Назарбаев Нурсултан Женишбекович\n",
    "Нуралиева Асель Акжоловна\n",
    "Омурбекова Мирана Азизбековна\n",
    "Ормушов Темирлан Арстанбекович\n",
    "Орунбаев Байжан Омурбекович\n",
    "Рахматылло уулу Касымбек Сухрабович\n",
    "Солтобеков Амин Бектурович\n",
    "Сыдгали уулу Жаныбек\n",
    "Таалайбеков Баястан Талайбекович\n",
    "Тагаева Рахат Арапшаевна\n",
    "Ташбай уулу Даниэл\n",
    "Торокулов Айман Талайбекович\n",
    "Хусанбаева Диляфруз Азимжоновна\n",
    "Шукуралиев Нурдан Даниярович\n",
    "Элчиев Ясир Жыргалбекович\n",
    "Эркибаев Нурбек Алмазович\n",
    "Калматов Азиз Кылычбекович\n",
    "Жапаров Шердос \n",
    "Аширалиев Аман\n",
    "Eldiyar\n",
    "Asylkan\n",
    "Kutman\n",
    "Diaz\n",
    "Shergazy\n",
    "Akylbek Zamirov\n",
    "'''\n",
    "s = s.split('\\n')\n",
    "len(s)"
   ]
  },
  {
   "cell_type": "code",
   "execution_count": 19,
   "metadata": {},
   "outputs": [
    {
     "name": "stdout",
     "output_type": "stream",
     "text": [
      "1 Жумаев Абдунур Нурбекович\n",
      "2 Надирбеков Абдусамат\n",
      "3 Нуралиева Асель Акжоловна\n",
      "4 Маматжанова Эленора Мирланбековна\n",
      "5 Тагаева Рахат Арапшаевна\n",
      "6 Жапаров Шердос \n",
      "7 Элчиев Ясир Жыргалбекович\n",
      "8 Кадыракунова Аделя Эрнистовна\n",
      "9 Марсел\n",
      "10 Байтемиров Искендер Бекмуратович\n",
      "11 Джутанкеева Мээрим Тамерлановна\n",
      "12 Душобаев Вилдан Гайратбекович\n",
      "13 Гулжигитов Дайырбек Мухаммедович\n",
      "14 Asylkan\n",
      "15 Омурбекова Мирана Азизбековна\n",
      "16 Бакытбеков Роман Талантович\n",
      "17 Akylbek Zamirov\n",
      "18 Маматалиев Нурболот \n",
      "19 Каримова Айбийке Азаматовна\n",
      "20 Жолдубаев Эмил Аресович\n",
      "21 Абдуллаев Ийгилик Эльбурсович\n",
      "22 Бектемиров Ибрахимбек Максадбекович\n",
      "23 Кыдыкбекова Айпери Бахтияровна\n",
      "24 Краснов Ильхан Даниярович\n",
      "25 Канатбеков Ажо Канатбекович\n",
      "26 Жыргалбек уулу Эрбол\n",
      "27 Аширалиев Аман\n",
      "28 Ормушов Темирлан Арстанбекович\n",
      "29 Kutman\n",
      "30 Исмаилова Алтынай Нурбековна\n",
      "31 Асанбек уула Чынгыз\n",
      "32 Куттугалиева Зарылкан Бекболотовна\n",
      "33 Shergazy\n",
      "34 Шукуралиев Нурдан Даниярович\n",
      "35 Маматзундуев Бекбол Назбекович\n",
      "36 Волгин Даниэль Максимович\n",
      "37 Сыдгали уулу Жаныбек\n",
      "38 Хусанбаева Диляфруз Азимжоновна\n",
      "39 Торокулов Айман Талайбекович\n",
      "40 Ташбай уулу Даниэл\n",
      "41 Бердибаева Нурай Нурбековна\n",
      "42 Diaz\n",
      "43 Жавдедова Назик Рустамовна\n",
      "44 Кыдыралиев Жанболот Тойчуевич\n",
      "45 Кубанычбеков Эмир Арсланович\n",
      "46 Орунбаев Байжан Омурбекович\n",
      "47 Таалайбеков Баястан Талайбекович\n",
      "48 Айтматов Байэл Бактыбекович\n",
      "49 Эркибаев Нурбек Алмазович\n",
      "50 Назарбаев Нурсултан Женишбекович\n",
      "51 Eldiyar\n",
      "52 Ким Жихён\n",
      "53 Баитиков Адел\n",
      "54 Керимов Акбар Айбекович\n",
      "55 Рахматылло уулу Касымбек Сухрабович\n",
      "56 Кусеинов Элдар Жээнбекович\n",
      "57 Калматов Азиз Кылычбекович\n",
      "58 Болотбек уулу Эржан\n",
      "59 Аскаров Арсен Анарбаевич\n",
      "60 Курманова Бегайым Курмановна\n",
      "61 Асанов Искендер Асанович\n",
      "62 Зиялиева Саадат Кадырбековна\n",
      "63 Бекенова Аяна\n",
      "64 Солтобеков Амин Бектурович\n",
      "65 Бекбосунова Айша Болотовна\n",
      "66 \n",
      "67 Жаныбекова Бегимай Жаныбековна\n",
      "68 Абдралиев Белек Маратович\n"
     ]
    }
   ],
   "source": [
    "shuffle(s)\n",
    "for i, name in enumerate(s):\n",
    "    print(i+1, name)"
   ]
  },
  {
   "cell_type": "code",
   "execution_count": null,
   "metadata": {},
   "outputs": [],
   "source": [
    "grade = 75\n",
    "\n",
    "if grade > 50:\n",
    "    print('you have passes this class')\n",
    "    print('congrats')\n",
    "    print('you dont need to take this class again')\n",
    "else:\n",
    "    "
   ]
  },
  {
   "cell_type": "code",
   "execution_count": 58,
   "metadata": {},
   "outputs": [
    {
     "name": "stdout",
     "output_type": "stream",
     "text": [
      "idem v park, stoimost = 250\n",
      "v kino ne idem\n",
      "v kafe ne idem\n",
      "kaldik =  250\n"
     ]
    }
   ],
   "source": [
    "pogoda = input('How is the weather outside: ')\n",
    "balance = 500\n",
    "\n",
    "if pogoda == 'rainy':\n",
    "    print('park ne idem')\n",
    "    print('idem v kino, sotimost = 500')\n",
    "    balance = balance - 500\n",
    "\n",
    "elif pogoda == 'sunny':\n",
    "    print('v kino ne idem')\n",
    "    print('v kafe idem, sotimost = 900')\n",
    "    balance = balance - 900\n",
    "\n",
    "elif pogoda == 'cloudy':\n",
    "    print('idem v park, stoimost = 250')\n",
    "    print('v kino ne idem')\n",
    "    print('v kafe ne idem')\n",
    "    balance = balance - 250\n",
    "\n",
    "else:\n",
    "    print('doma sidi dengi ne trat')\n",
    "\n",
    "print('kaldik = ', balance)"
   ]
  },
  {
   "cell_type": "code",
   "execution_count": 50,
   "metadata": {},
   "outputs": [
    {
     "name": "stdout",
     "output_type": "stream",
     "text": [
      "25 <class 'str'>\n"
     ]
    }
   ],
   "source": [
    "print(x, type(x))"
   ]
  },
  {
   "cell_type": "code",
   "execution_count": 51,
   "metadata": {},
   "outputs": [],
   "source": [
    "y = int(x)\n",
    "z = int(1.9999)"
   ]
  },
  {
   "cell_type": "code",
   "execution_count": 52,
   "metadata": {},
   "outputs": [
    {
     "data": {
      "text/plain": [
       "(int, str, 1, int)"
      ]
     },
     "execution_count": 52,
     "metadata": {},
     "output_type": "execute_result"
    }
   ],
   "source": [
    "type(y), type(x), z, type(z)"
   ]
  },
  {
   "cell_type": "code",
   "execution_count": 53,
   "metadata": {},
   "outputs": [],
   "source": [
    "from math import floor, ceil\n",
    "m = 1.99999\n",
    "m_priblijonniy = round(m)\n",
    "m_kichine = floor(m)\n",
    "m_chon = ceil(m)"
   ]
  },
  {
   "cell_type": "code",
   "execution_count": 54,
   "metadata": {},
   "outputs": [
    {
     "name": "stdout",
     "output_type": "stream",
     "text": [
      "1.99999 2 1 2\n"
     ]
    }
   ],
   "source": [
    "print(m, m_priblijonniy, m_kichine, m_chon)"
   ]
  },
  {
   "cell_type": "code",
   "execution_count": 55,
   "metadata": {},
   "outputs": [
    {
     "name": "stdout",
     "output_type": "stream",
     "text": [
      "tuura, x =  25\n"
     ]
    }
   ],
   "source": [
    "if int(x) == 25:\n",
    "    print(\"tuura, x = \", x)\n",
    "else:\n",
    "    print('tuura emes, x = ', x)"
   ]
  },
  {
   "cell_type": "code",
   "execution_count": 56,
   "metadata": {},
   "outputs": [
    {
     "ename": "ValueError",
     "evalue": "invalid literal for int() with base 10: 'k'",
     "output_type": "error",
     "traceback": [
      "\u001b[1;31m---------------------------------------------------------------------------\u001b[0m",
      "\u001b[1;31mValueError\u001b[0m                                Traceback (most recent call last)",
      "Cell \u001b[1;32mIn[56], line 1\u001b[0m\n\u001b[1;32m----> 1\u001b[0m x1 \u001b[38;5;241m=\u001b[39m \u001b[38;5;28;43mint\u001b[39;49m\u001b[43m(\u001b[49m\u001b[38;5;28;43minput\u001b[39;49m\u001b[43m(\u001b[49m\u001b[38;5;124;43m'\u001b[39;49m\u001b[38;5;124;43mznachenie\u001b[39;49m\u001b[38;5;124;43m'\u001b[39;49m\u001b[43m)\u001b[49m\u001b[43m)\u001b[49m\n\u001b[0;32m      2\u001b[0m \u001b[38;5;28mprint\u001b[39m(\u001b[38;5;28mtype\u001b[39m(x1), x1)\n",
      "\u001b[1;31mValueError\u001b[0m: invalid literal for int() with base 10: 'k'"
     ]
    }
   ],
   "source": [
    "x1 = int(input('znachenie'))\n",
    "print(type(x1), x1)"
   ]
  },
  {
   "cell_type": "code",
   "execution_count": 63,
   "metadata": {},
   "outputs": [
    {
     "name": "stdout",
     "output_type": "stream",
     "text": [
      "nurbolot = 800\n",
      "asel =  2000\n",
      "aibike =  1500\n",
      "mbank_kassa =  4300\n"
     ]
    }
   ],
   "source": [
    "nurbolot = 800\n",
    "aibike = 1500\n",
    "asel = 2000\n",
    "\n",
    "mbank_kassa = nurbolot + aibike + asel\n",
    "\n",
    "print('nurbolot =', nurbolot)\n",
    "print('asel = ', asel)\n",
    "print('aibike = ', aibike)\n",
    "print('mbank_kassa = ', mbank_kassa)"
   ]
  },
  {
   "cell_type": "code",
   "execution_count": 68,
   "metadata": {},
   "outputs": [
    {
     "ename": "ValueError",
     "evalue": "invalid literal for int() with base 10: 'emil'",
     "output_type": "error",
     "traceback": [
      "\u001b[1;31m---------------------------------------------------------------------------\u001b[0m",
      "\u001b[1;31mValueError\u001b[0m                                Traceback (most recent call last)",
      "Cell \u001b[1;32mIn[68], line 1\u001b[0m\n\u001b[1;32m----> 1\u001b[0m summa_perevod \u001b[38;5;241m=\u001b[39m \u001b[38;5;28;43mint\u001b[39;49m\u001b[43m(\u001b[49m\u001b[38;5;28;43minput\u001b[39;49m\u001b[43m(\u001b[49m\u001b[38;5;124;43m'\u001b[39;49m\u001b[38;5;124;43msumma perevoda:\u001b[39;49m\u001b[38;5;124;43m'\u001b[39;49m\u001b[43m)\u001b[49m\u001b[43m)\u001b[49m\n\u001b[0;32m      3\u001b[0m \u001b[38;5;28;01mif\u001b[39;00m \u001b[38;5;241m0\u001b[39m \u001b[38;5;241m<\u001b[39m\u001b[38;5;241m=\u001b[39m summa_perevod \u001b[38;5;241m<\u001b[39m\u001b[38;5;241m=\u001b[39m aibike:\n\u001b[0;32m      4\u001b[0m     aibike \u001b[38;5;241m=\u001b[39m aibike \u001b[38;5;241m-\u001b[39m summa_perevod\n",
      "\u001b[1;31mValueError\u001b[0m: invalid literal for int() with base 10: 'emil'"
     ]
    }
   ],
   "source": [
    "summa_perevod = int(input('summa perevoda:'))\n",
    "\n",
    "if 0 <= summa_perevod <= aibike:\n",
    "    aibike = aibike - summa_perevod\n",
    "    nurbolot = nurbolot + summa_perevod\n",
    "else:\n",
    "    print('ne dostachno sredstv')\n",
    "\n",
    "mbank_kassa = nurbolot + aibike + asel\n",
    "\n",
    "print('nurbolot =', nurbolot)\n",
    "print('asel = ', asel)\n",
    "print('aibike = ', aibike)\n",
    "print('mbank_kassa = ', mbank_kassa)"
   ]
  },
  {
   "cell_type": "code",
   "execution_count": 65,
   "metadata": {},
   "outputs": [
    {
     "name": "stdout",
     "output_type": "stream",
     "text": [
      "21\n",
      "19\n"
     ]
    }
   ],
   "source": [
    "from random import randint\n",
    "for i in range(2):\n",
    "    print(randint(1, 63))"
   ]
  },
  {
   "cell_type": "code",
   "execution_count": null,
   "metadata": {},
   "outputs": [
    {
     "data": {
      "text/plain": [
       "True"
      ]
     },
     "execution_count": 70,
     "metadata": {},
     "output_type": "execute_result"
    }
   ],
   "source": [
    "pogoda = 'sunny'\n",
    "pogoda == 'sunny' "
   ]
  },
  {
   "cell_type": "code",
   "execution_count": 75,
   "metadata": {},
   "outputs": [
    {
     "name": "stdout",
     "output_type": "stream",
     "text": [
      "incorrect\n"
     ]
    }
   ],
   "source": [
    "x = 10 \n",
    "y = 25\n",
    "\n",
    "if x*x - x*y + x*x*x/2 > y*y:\n",
    "    print('correct')\n",
    "else:\n",
    "    print('incorrect')"
   ]
  },
  {
   "cell_type": "code",
   "execution_count": 76,
   "metadata": {},
   "outputs": [
    {
     "data": {
      "text/plain": [
       "False"
      ]
     },
     "execution_count": 76,
     "metadata": {},
     "output_type": "execute_result"
    }
   ],
   "source": [
    "x*x - x*y + x*x*x/2 > y*y"
   ]
  },
  {
   "cell_type": "code",
   "execution_count": 77,
   "metadata": {},
   "outputs": [
    {
     "data": {
      "text/plain": [
       "True"
      ]
     },
     "execution_count": 77,
     "metadata": {},
     "output_type": "execute_result"
    }
   ],
   "source": [
    "True and True"
   ]
  },
  {
   "cell_type": "code",
   "execution_count": 78,
   "metadata": {},
   "outputs": [
    {
     "data": {
      "text/plain": [
       "False"
      ]
     },
     "execution_count": 78,
     "metadata": {},
     "output_type": "execute_result"
    }
   ],
   "source": [
    "True and False"
   ]
  },
  {
   "cell_type": "code",
   "execution_count": 79,
   "metadata": {},
   "outputs": [
    {
     "data": {
      "text/plain": [
       "False"
      ]
     },
     "execution_count": 79,
     "metadata": {},
     "output_type": "execute_result"
    }
   ],
   "source": [
    "False and True"
   ]
  },
  {
   "cell_type": "code",
   "execution_count": 80,
   "metadata": {},
   "outputs": [
    {
     "data": {
      "text/plain": [
       "False"
      ]
     },
     "execution_count": 80,
     "metadata": {},
     "output_type": "execute_result"
    }
   ],
   "source": [
    "False and False"
   ]
  },
  {
   "cell_type": "code",
   "execution_count": 81,
   "metadata": {},
   "outputs": [
    {
     "data": {
      "text/plain": [
       "True"
      ]
     },
     "execution_count": 81,
     "metadata": {},
     "output_type": "execute_result"
    }
   ],
   "source": [
    "True or True"
   ]
  },
  {
   "cell_type": "code",
   "execution_count": 82,
   "metadata": {},
   "outputs": [
    {
     "data": {
      "text/plain": [
       "True"
      ]
     },
     "execution_count": 82,
     "metadata": {},
     "output_type": "execute_result"
    }
   ],
   "source": [
    "True or False"
   ]
  },
  {
   "cell_type": "code",
   "execution_count": 83,
   "metadata": {},
   "outputs": [
    {
     "data": {
      "text/plain": [
       "True"
      ]
     },
     "execution_count": 83,
     "metadata": {},
     "output_type": "execute_result"
    }
   ],
   "source": [
    "False or True"
   ]
  },
  {
   "cell_type": "code",
   "execution_count": 84,
   "metadata": {},
   "outputs": [
    {
     "data": {
      "text/plain": [
       "False"
      ]
     },
     "execution_count": 84,
     "metadata": {},
     "output_type": "execute_result"
    }
   ],
   "source": [
    "False or False"
   ]
  },
  {
   "cell_type": "code",
   "execution_count": 88,
   "metadata": {},
   "outputs": [
    {
     "data": {
      "text/plain": [
       "True"
      ]
     },
     "execution_count": 88,
     "metadata": {},
     "output_type": "execute_result"
    }
   ],
   "source": [
    "((True and True) or False and True) and (False or True) and True"
   ]
  },
  {
   "cell_type": "code",
   "execution_count": 89,
   "metadata": {},
   "outputs": [
    {
     "name": "stdout",
     "output_type": "stream",
     "text": [
      "kino\n",
      "kino2\n",
      "pofig2\n"
     ]
    }
   ],
   "source": [
    "x = input('weather type')\n",
    "\n",
    "if x == 'sunny':\n",
    "    print('cafe')\n",
    "elif x == 'cloudy':\n",
    "    print('kino')\n",
    "elif x == 'rainy':\n",
    "    print('home')\n",
    "else:\n",
    "    print('pofig')\n",
    "\n",
    "\n",
    "if x == 'sunny':\n",
    "    print('cafe2')\n",
    "if x == 'cloudy':\n",
    "    print('kino2')\n",
    "if x == 'rainy':\n",
    "    print('home2')\n",
    "else:\n",
    "    print('pofig2')"
   ]
  },
  {
   "cell_type": "code",
   "execution_count": null,
   "metadata": {},
   "outputs": [],
   "source": []
  }
 ],
 "metadata": {
  "kernelspec": {
   "display_name": "Python 3",
   "language": "python",
   "name": "python3"
  },
  "language_info": {
   "codemirror_mode": {
    "name": "ipython",
    "version": 3
   },
   "file_extension": ".py",
   "mimetype": "text/x-python",
   "name": "python",
   "nbconvert_exporter": "python",
   "pygments_lexer": "ipython3",
   "version": "3.11.9"
  }
 },
 "nbformat": 4,
 "nbformat_minor": 2
}
